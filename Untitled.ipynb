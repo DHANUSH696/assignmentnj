{
 "cells": [
  {
   "cell_type": "code",
   "execution_count": 4,
   "id": "ec6dfef5",
   "metadata": {},
   "outputs": [
    {
     "name": "stdout",
     "output_type": "stream",
     "text": [
      "Enter boolean value:50\n"
     ]
    },
    {
     "data": {
      "text/plain": [
       "True"
      ]
     },
     "execution_count": 4,
     "metadata": {},
     "output_type": "execute_result"
    }
   ],
   "source": [
    "value=bool (input (\"Enter boolean value:\"))\n",
    "value"
   ]
  },
  {
   "cell_type": "code",
   "execution_count": 5,
   "id": "38b433ce",
   "metadata": {},
   "outputs": [
    {
     "name": "stdout",
     "output_type": "stream",
     "text": [
      "Enter your age:25\n"
     ]
    }
   ],
   "source": [
    "c=float(input('Enter your age:'))\n"
   ]
  },
  {
   "cell_type": "code",
   "execution_count": 13,
   "id": "81219d68",
   "metadata": {},
   "outputs": [
    {
     "name": "stdout",
     "output_type": "stream",
     "text": [
      "Today is date is 2023-11-07\n"
     ]
    }
   ],
   "source": [
    "from datetime import date\n",
    "# import datetime\n",
    "\n",
    "my_date = date(2023,10,31)\n",
    "my_date\n",
    "today1= date.today()\n",
    "print(\"Today is date is\",today1)"
   ]
  },
  {
   "cell_type": "code",
   "execution_count": 14,
   "id": "8a28020f",
   "metadata": {},
   "outputs": [
    {
     "name": "stdout",
     "output_type": "stream",
     "text": [
      "current year 2023\n",
      "current month 11\n",
      "current date 7\n"
     ]
    }
   ],
   "source": [
    "# get  Todays year, Month, and date\n",
    "\n",
    "print(\"current year\", today1.year)\n",
    "print(\"current month\",today1.month)\n",
    "print(\"current date\", today1.day)"
   ]
  },
  {
   "cell_type": "code",
   "execution_count": 15,
   "id": "32f172f0",
   "metadata": {},
   "outputs": [
    {
     "data": {
      "text/plain": [
       "datetime.datetime(2023, 11, 7, 15, 17, 43, 3791)"
      ]
     },
     "execution_count": 15,
     "metadata": {},
     "output_type": "execute_result"
    }
   ],
   "source": [
    "# Get\n",
    "from datetime import datetime as dt\n",
    "date1 = dt.now()\n",
    "date1"
   ]
  },
  {
   "cell_type": "code",
   "execution_count": 16,
   "id": "08c9c8dd",
   "metadata": {},
   "outputs": [
    {
     "name": "stdout",
     "output_type": "stream",
     "text": [
      "Entered time 07:08:45\n"
     ]
    }
   ],
   "source": [
    "from datetime import time\n",
    "my_time = time(7,8,45)\n",
    "print(\"Entered time\", my_time)"
   ]
  },
  {
   "cell_type": "code",
   "execution_count": 17,
   "id": "37274f92",
   "metadata": {},
   "outputs": [
    {
     "data": {
      "text/plain": [
       "datetime.date(2024, 5, 5)"
      ]
     },
     "execution_count": 17,
     "metadata": {},
     "output_type": "execute_result"
    }
   ],
   "source": [
    "#Timedelta function demonstration\n",
    "\n",
    "from datetime import date, timedelta\n",
    "current_date = date. today()\n",
    "future_date_after_2yrs= current_date + timedelta(days=180)\n",
    "future_date_after_2yrs"
   ]
  },
  {
   "cell_type": "code",
   "execution_count": 18,
   "id": "c0f14731",
   "metadata": {},
   "outputs": [
    {
     "name": "stdout",
     "output_type": "stream",
     "text": [
      "Enter your current age in years:19\n",
      " your age after 5000 days will be approximately 32.70 years.\n"
     ]
    }
   ],
   "source": [
    " from datetime import datetime\n",
    " #   \n",
    " current_age = float(input(\"Enter your current age in years:\"))\n",
    "age_after_5000_days = current_age + 5000 / 365\n",
    "print(f\" your age after 5000 days will be approximately {age_after_5000_days:.2f} years.\")"
   ]
  },
  {
   "cell_type": "code",
   "execution_count": 21,
   "id": "b7ca7633",
   "metadata": {},
   "outputs": [
    {
     "data": {
      "text/plain": [
       "list"
      ]
     },
     "execution_count": 21,
     "metadata": {},
     "output_type": "execute_result"
    }
   ],
   "source": [
    "#Task\n",
    "l1=[]\n",
    "type(l1)"
   ]
  },
  {
   "cell_type": "code",
   "execution_count": 22,
   "id": "64f91c60",
   "metadata": {},
   "outputs": [
    {
     "data": {
      "text/plain": [
       "[1, 2, 3, 4]"
      ]
     },
     "execution_count": 22,
     "metadata": {},
     "output_type": "execute_result"
    }
   ],
   "source": [
    "l2= ([1,2,3,4])\n",
    "l2"
   ]
  },
  {
   "cell_type": "code",
   "execution_count": 23,
   "id": "1614738d",
   "metadata": {},
   "outputs": [],
   "source": [
    "mylist=['one','two','three','four','five','six','seven','eight']"
   ]
  },
  {
   "cell_type": "code",
   "execution_count": 24,
   "id": "5c631f1d",
   "metadata": {},
   "outputs": [
    {
     "data": {
      "text/plain": [
       "['seven', 'six', 'five', 'four', 'three']"
      ]
     },
     "execution_count": 24,
     "metadata": {},
     "output_type": "execute_result"
    }
   ],
   "source": [
    "mylist[-2:-7:-1]"
   ]
  },
  {
   "cell_type": "code",
   "execution_count": 25,
   "id": "cf4eead1",
   "metadata": {},
   "outputs": [
    {
     "data": {
      "text/plain": [
       "['one', 'two', 'three', 'four', 'five', 'six', 'seven', 'eight', 'nine']"
      ]
     },
     "execution_count": 25,
     "metadata": {},
     "output_type": "execute_result"
    }
   ],
   "source": [
    "mylist.append('nine')\n",
    "mylist"
   ]
  },
  {
   "cell_type": "code",
   "execution_count": 26,
   "id": "67f9e3a8",
   "metadata": {},
   "outputs": [
    {
     "data": {
      "text/plain": [
       "['one', 'two', 'three', 'ten', 'four', 'five', 'six', 'seven', 'eight', 'nine']"
      ]
     },
     "execution_count": 26,
     "metadata": {},
     "output_type": "execute_result"
    }
   ],
   "source": [
    "mylist.insert(3,'ten')\n",
    "mylist"
   ]
  },
  {
   "cell_type": "code",
   "execution_count": 27,
   "id": "4c7e09bb",
   "metadata": {},
   "outputs": [
    {
     "data": {
      "text/plain": [
       "['one', 'two', 'three', 'ten', 'four', 'five', 'six', 'seven', 'eight', 'nine']"
      ]
     },
     "execution_count": 27,
     "metadata": {},
     "output_type": "execute_result"
    }
   ],
   "source": [
    "mylist"
   ]
  },
  {
   "cell_type": "code",
   "execution_count": 28,
   "id": "0943b59a",
   "metadata": {},
   "outputs": [
    {
     "data": {
      "text/plain": [
       "['one', 'two', 'three', 'ten', 'four', 'five', 'six', 'seven', 'eight', 'nine']"
      ]
     },
     "execution_count": 28,
     "metadata": {},
     "output_type": "execute_result"
    }
   ],
   "source": [
    "mylist"
   ]
  },
  {
   "cell_type": "code",
   "execution_count": 29,
   "id": "829a1ba4",
   "metadata": {},
   "outputs": [
    {
     "data": {
      "text/plain": [
       "['one', 'two', 'three', 'four', 'five', 'six', 'seven', 'eight', 'nine']"
      ]
     },
     "execution_count": 29,
     "metadata": {},
     "output_type": "execute_result"
    }
   ],
   "source": [
    "mylist.remove('ten')\n",
    "mylist"
   ]
  },
  {
   "cell_type": "code",
   "execution_count": 30,
   "id": "1f222d8e",
   "metadata": {},
   "outputs": [
    {
     "data": {
      "text/plain": [
       "'nine'"
      ]
     },
     "execution_count": 30,
     "metadata": {},
     "output_type": "execute_result"
    }
   ],
   "source": [
    "mylist.pop(8)"
   ]
  },
  {
   "cell_type": "code",
   "execution_count": 31,
   "id": "b4157fc2",
   "metadata": {},
   "outputs": [
    {
     "data": {
      "text/plain": [
       "[1, 2, 4]"
      ]
     },
     "execution_count": 31,
     "metadata": {},
     "output_type": "execute_result"
    }
   ],
   "source": [
    "mylist =[1,2,3,4]\n",
    "mylist\n",
    "del mylist [2]\n",
    "mylist"
   ]
  },
  {
   "cell_type": "code",
   "execution_count": 34,
   "id": "fb4f7691",
   "metadata": {},
   "outputs": [
    {
     "ename": "IndexError",
     "evalue": "list assignment index out of range",
     "output_type": "error",
     "traceback": [
      "\u001b[1;31m---------------------------------------------------------------------------\u001b[0m",
      "\u001b[1;31mIndexError\u001b[0m                                Traceback (most recent call last)",
      "Cell \u001b[1;32mIn[34], line 1\u001b[0m\n\u001b[1;32m----> 1\u001b[0m \u001b[38;5;28;01mdel\u001b[39;00m mylist[\u001b[38;5;241m2\u001b[39m]\n\u001b[0;32m      2\u001b[0m mylist\n",
      "\u001b[1;31mIndexError\u001b[0m: list assignment index out of range"
     ]
    }
   ],
   "source": [
    "del mylist[2]\n",
    "mylist"
   ]
  },
  {
   "cell_type": "code",
   "execution_count": 35,
   "id": "4b615220",
   "metadata": {},
   "outputs": [
    {
     "data": {
      "text/plain": [
       "[1, 2]"
      ]
     },
     "execution_count": 35,
     "metadata": {},
     "output_type": "execute_result"
    }
   ],
   "source": [
    "mylist"
   ]
  },
  {
   "cell_type": "code",
   "execution_count": 36,
   "id": "7c5533ef",
   "metadata": {},
   "outputs": [
    {
     "data": {
      "text/plain": [
       "[1, 2]"
      ]
     },
     "execution_count": 36,
     "metadata": {},
     "output_type": "execute_result"
    }
   ],
   "source": [
    "mylist"
   ]
  },
  {
   "cell_type": "code",
   "execution_count": 39,
   "id": "cd9554d8",
   "metadata": {},
   "outputs": [
    {
     "data": {
      "text/plain": [
       "[1, 2, 1, 2, 3]"
      ]
     },
     "execution_count": 39,
     "metadata": {},
     "output_type": "execute_result"
    }
   ],
   "source": [
    "mylist.extend([1,2,3])\n",
    "mylist"
   ]
  },
  {
   "cell_type": "code",
   "execution_count": null,
   "id": "556bfc10",
   "metadata": {},
   "outputs": [],
   "source": [
    "# simple while loop\n",
    "i=1\n",
    "\n",
    "while i<=6:\n",
    "    print ('while condition is true', i)\n",
    "    i=i+1 # ==> i = i+1"
   ]
  },
  {
   "cell_type": "code",
   "execution_count": null,
   "id": "263f3911",
   "metadata": {},
   "outputs": [],
   "source": [
    "# while loop with break.\n",
    "#It is used to stop loop even if while condition is true\n",
    "i=1\n",
    "while i<6:\n",
    "    print(i)\n",
    "    if i==3:\n",
    "        break  \n",
    "    i=1+1\n",
    "print(\"End of while\")\n"
   ]
  },
  {
   "cell_type": "code",
   "execution_count": 5,
   "id": "cdaf5bf7",
   "metadata": {},
   "outputs": [],
   "source": [
    "# while loop with continue statement.\n",
    "i=0\n",
    "while i<6:\n",
    "    i=i+1 # 1,2,3\n",
    "    if i==3:\n",
    "        continue # skip for 1,2\n",
    "        print(i) # skipped for i=3, 3==3\n",
    "        print('hi') # skipped for 3==3"
   ]
  },
  {
   "cell_type": "code",
   "execution_count": 21,
   "id": "b1964521",
   "metadata": {},
   "outputs": [
    {
     "name": "stdout",
     "output_type": "stream",
     "text": [
      "3\n",
      "4\n",
      "5\n",
      "while loop condition is false\n",
      "hi\n"
     ]
    }
   ],
   "source": [
    "# while loop with else statement.\n",
    "i=3\n",
    "while i<6:\n",
    "    print(i)\n",
    "    i+=1\n",
    "else:\n",
    "    print('while loop condition is false')\n",
    "print('hi')"
   ]
  },
  {
   "cell_type": "code",
   "execution_count": 18,
   "id": "d6622075",
   "metadata": {},
   "outputs": [
    {
     "name": "stdout",
     "output_type": "stream",
     "text": [
      "1 Data science\n",
      "2 Data science\n",
      "3 Data science\n"
     ]
    }
   ],
   "source": [
    "count = 0\n",
    "while (count <3):\n",
    "    count = count + 1\n",
    "    print(count,\"Data science\")"
   ]
  },
  {
   "cell_type": "code",
   "execution_count": 10,
   "id": "52dab019",
   "metadata": {},
   "outputs": [
    {
     "name": "stdout",
     "output_type": "stream",
     "text": [
      "1\n",
      "EVEN 3\n",
      "3\n",
      "EVEN 5\n",
      "5\n",
      "EVEN 7\n",
      "7\n",
      "EVEN 9\n",
      "9\n",
      "EVEN 11\n",
      "11\n",
      "EVEN 13\n",
      "13\n",
      "EVEN 15\n",
      "15\n",
      "EVEN 17\n",
      "17\n",
      "EVEN 19\n",
      "19\n",
      "EVEN 21\n",
      "count:\n"
     ]
    }
   ],
   "source": [
    "# Task: print 10 add numbers using while loop.\n",
    "#output: 1,3,5,7,9,11,13,15,17,19\n",
    "#1. counter=1, a number=1\n",
    "i=1\n",
    "n=1\n",
    "while i<=20:\n",
    "    print(i)\n",
    "    i+=2\n",
    "    n+=1\n",
    "    if i%2==0:\n",
    "        print(\"ODD:\",i)\n",
    "    else:\n",
    "        print(\"EVEN\",i)\n",
    "        \n",
    "print(\"count:\",)\n",
    "            \n",
    "    \n",
    "    \n",
    "    "
   ]
  },
  {
   "cell_type": "code",
   "execution_count": 8,
   "id": "bcfc2d47",
   "metadata": {},
   "outputs": [
    {
     "data": {
      "text/plain": [
       "13"
      ]
     },
     "execution_count": 8,
     "metadata": {},
     "output_type": "execute_result"
    }
   ],
   "source": [
    "lis = [1,2,3,4,5,6,7,8,9,0,12,34,55]\n",
    "len(lis)"
   ]
  },
  {
   "cell_type": "code",
   "execution_count": 9,
   "id": "52f55e72",
   "metadata": {},
   "outputs": [
    {
     "name": "stdout",
     "output_type": "stream",
     "text": [
      "3\n",
      "4\n",
      "5\n",
      "6\n",
      "7\n",
      "8\n",
      "9\n",
      "10\n",
      "11\n",
      "2\n",
      "14\n",
      "36\n",
      "57\n",
      "done with all the elements\n"
     ]
    }
   ],
   "source": [
    "for ele in lis:\n",
    "    d = ele+2\n",
    "    print(d)\n",
    "    \n",
    "print('done with all the elements')"
   ]
  },
  {
   "cell_type": "code",
   "execution_count": null,
   "id": "e588f453",
   "metadata": {},
   "outputs": [],
   "source": []
  }
 ],
 "metadata": {
  "kernelspec": {
   "display_name": "Python 3 (ipykernel)",
   "language": "python",
   "name": "python3"
  },
  "language_info": {
   "codemirror_mode": {
    "name": "ipython",
    "version": 3
   },
   "file_extension": ".py",
   "mimetype": "text/x-python",
   "name": "python",
   "nbconvert_exporter": "python",
   "pygments_lexer": "ipython3",
   "version": "3.11.5"
  }
 },
 "nbformat": 4,
 "nbformat_minor": 5
}
