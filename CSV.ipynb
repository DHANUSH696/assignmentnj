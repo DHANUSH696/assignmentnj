{
 "cells": [
  {
   "cell_type": "code",
   "execution_count": 2,
   "id": "e5ca5fd6",
   "metadata": {},
   "outputs": [
    {
     "name": "stdout",
     "output_type": "stream",
     "text": [
      "<class '_csv.writer'>\n",
      " Data has been written to studentfiles.csv\n"
     ]
    }
   ],
   "source": [
    "import csv\n",
    "fields=['Name','Branch','Year','CGPA']\n",
    "data=[ ['Nikhil','CS','3',9.0],\n",
    "        ['Sanchit','EC','4','8.5'],\n",
    "        ['Sagar','EC','3','8.6']\n",
    "       ]\n",
    "filename='studentfiles.csv'\n",
    "with open(filename,'w',newline='') as fd:\n",
    "    csvwriter_obj = csv.writer(fd)\n",
    "    print(type(csvwriter_obj))\n",
    "    csvwriter_obj.writerow(fields)  # column fields\n",
    "    csvwriter_obj.writerows(data) # adds records\n",
    "print(f' Data has been written to {filename}')"
   ]
  },
  {
   "cell_type": "code",
   "execution_count": 18,
   "id": "ed4a5eac",
   "metadata": {},
   "outputs": [
    {
     "name": "stdout",
     "output_type": "stream",
     "text": [
      "Hi_Python_Programming*"
     ]
    }
   ],
   "source": [
    "print('Hi','Python','Programming',end='*',sep='_')"
   ]
  },
  {
   "cell_type": "code",
   "execution_count": 1,
   "id": "f7b3d1f2",
   "metadata": {
    "scrolled": true
   },
   "outputs": [
    {
     "name": "stdout",
     "output_type": "stream",
     "text": [
      "Data has been written to Dict_sheet.csv successfully.\n"
     ]
    }
   ],
   "source": [
    "import csv\n",
    "\n",
    "data = [\n",
    "    {'branch': 'CS', 'CGPA': 9.0, 'Name': 'Nikhil', 'Year': 3},\n",
    "    {'branch': 'CS', 'CGPA': 8.0, 'Name': 'Sanchit', 'Year': 3},\n",
    "    {'branch': 'EC', 'CGPA': 8.5, 'Name': 'Sagar', 'Year': 4},\n",
    "]\n",
    "\n",
    "fields = ['branch', 'CGPA', 'Name', 'Year']\n",
    "filename = 'Dict_sheet.csv'\n",
    "\n",
    "with open(filename, 'w', newline='') as fd:\n",
    "    wo = csv.DictWriter(fd, fieldnames=fields)  \n",
    "    wo.writeheader()\n",
    "    wo.writerows(data)\n",
    "\n",
    "print(f'Data has been written to {filename} successfully.')\n"
   ]
  },
  {
   "cell_type": "code",
   "execution_count": 1,
   "id": "616e46e2",
   "metadata": {},
   "outputs": [
    {
     "name": "stdout",
     "output_type": "stream",
     "text": [
      "Invoice:\n",
      "Product         Quantity   Price      Total     \n",
      "Product1        2          10.99      21.98     \n",
      "Product2        1          5.99       5.99      \n",
      "Product3        3          8.5        25.5      \n",
      "\n",
      "Total Price: 53.47\n"
     ]
    }
   ],
   "source": [
    "import csv\n",
    "\n",
    "def calculate_total_price(quantity, price):\n",
    "    return quantity * price\n",
    "\n",
    "def print_invoice(products):\n",
    "    total_price = 0\n",
    "\n",
    "   \n",
    "    print(\"Invoice:\")\n",
    "    print(\"{:<15} {:<10} {:<10} {:<10}\".format(\"Product\", \"Quantity\", \"Price\", \"Total\"))\n",
    "\n",
    "   \n",
    "    for product in products:\n",
    "        product_name, quantity, price = product\n",
    "        total = calculate_total_price(quantity, price)\n",
    "        total_price += total\n",
    "        print(\"{:<15} {:<10} {:<10} {:<10}\".format(product_name, quantity, price, total))\n",
    "\n",
    "   \n",
    "    print(\"\\nTotal Price: {}\".format(total_price))\n",
    "\n",
    "\n",
    "products_data = [\n",
    "    (\"Product1\", 2, 10.99),\n",
    "    (\"Product2\", 1, 5.99),\n",
    "    (\"Product3\", 3, 8.50)\n",
    "]\n",
    "\n",
    "\n",
    "csv_file_path = \"invoice.csv\"\n",
    "with open(csv_file_path, mode='w', newline='') as file:\n",
    "    writer = csv.writer(file)\n",
    "\n",
    "    writer.writerow([\"Product\", \"Quantity\", \"Price\"])\n",
    "    \n",
    "    writer.writerows(products_data)\n",
    "\n",
    "print_invoice(products_data)"
   ]
  },
  {
   "cell_type": "code",
   "execution_count": null,
   "id": "ed9bc907",
   "metadata": {},
   "outputs": [],
   "source": [
    "!pip install tensorflow"
   ]
  },
  {
   "cell_type": "code",
   "execution_count": 2,
   "id": "add6ce38",
   "metadata": {},
   "outputs": [
    {
     "name": "stdout",
     "output_type": "stream",
     "text": [
      "Package                       Version\n",
      "----------------------------- ---------------\n",
      "aiobotocore                   2.5.0\n",
      "aiofiles                      22.1.0\n",
      "aiohttp                       3.8.5\n",
      "aioitertools                  0.7.1\n",
      "aiosignal                     1.2.0\n",
      "aiosqlite                     0.18.0\n",
      "alabaster                     0.7.12\n",
      "anaconda-anon-usage           0.4.2\n",
      "anaconda-catalogs             0.2.0\n",
      "anaconda-client               1.12.1\n",
      "anaconda-cloud-auth           0.1.3\n",
      "anaconda-navigator            2.5.0\n",
      "anaconda-project              0.11.1\n",
      "anyio                         3.5.0\n",
      "appdirs                       1.4.4\n",
      "argon2-cffi                   21.3.0\n",
      "argon2-cffi-bindings          21.2.0\n",
      "arrow                         1.2.3\n",
      "astroid                       2.14.2\n",
      "astropy                       5.1\n",
      "asttokens                     2.0.5\n",
      "async-timeout                 4.0.2\n",
      "atomicwrites                  1.4.0\n",
      "attrs                         22.1.0\n",
      "Automat                       20.2.0\n",
      "autopep8                      1.6.0\n",
      "Babel                         2.11.0\n",
      "backcall                      0.2.0\n",
      "backports.functools-lru-cache 1.6.4\n",
      "backports.tempfile            1.0\n",
      "backports.weakref             1.0.post1\n",
      "bcrypt                        3.2.0\n",
      "beautifulsoup4                4.12.2\n",
      "binaryornot                   0.4.4\n",
      "black                         0.0\n",
      "bleach                        4.1.0\n",
      "bokeh                         3.2.1\n",
      "boltons                       23.0.0\n",
      "botocore                      1.29.76\n",
      "Bottleneck                    1.3.5\n",
      "brotlipy                      0.7.0\n",
      "certifi                       2023.7.22\n",
      "cffi                          1.15.1\n",
      "chardet                       4.0.0\n",
      "charset-normalizer            2.0.4\n",
      "click                         8.0.4\n",
      "cloudpickle                   2.2.1\n",
      "clyent                        1.2.2\n",
      "colorama                      0.4.6\n",
      "colorcet                      3.0.1\n",
      "comm                          0.1.2\n",
      "conda                         23.7.4\n",
      "conda-build                   3.26.1\n",
      "conda-content-trust           0.2.0\n",
      "conda_index                   0.3.0\n",
      "conda-libmamba-solver         23.7.0\n",
      "conda-pack                    0.6.0\n",
      "conda-package-handling        2.2.0\n",
      "conda_package_streaming       0.9.0\n",
      "conda-repo-cli                1.0.75\n",
      "conda-token                   0.4.0\n",
      "conda-verify                  3.4.2\n",
      "constantly                    15.1.0\n",
      "contourpy                     1.0.5\n",
      "cookiecutter                  1.7.3\n",
      "cryptography                  41.0.3\n",
      "cssselect                     1.1.0\n",
      "cycler                        0.11.0\n",
      "cytoolz                       0.12.0\n",
      "daal4py                       2023.1.1\n",
      "dask                          2023.6.0\n",
      "datasets                      2.12.0\n",
      "datashader                    0.15.2\n",
      "datashape                     0.5.4\n",
      "debugpy                       1.6.7\n",
      "decorator                     5.1.1\n",
      "defusedxml                    0.7.1\n",
      "diff-match-patch              20200713\n",
      "dill                          0.3.6\n",
      "distributed                   2023.6.0\n",
      "docstring-to-markdown         0.11\n",
      "docutils                      0.18.1\n",
      "entrypoints                   0.4\n",
      "et-xmlfile                    1.1.0\n",
      "executing                     0.8.3\n",
      "fastjsonschema                2.16.2\n",
      "filelock                      3.9.0\n",
      "flake8                        6.0.0\n",
      "Flask                         2.2.2\n",
      "fonttools                     4.25.0\n",
      "frozenlist                    1.3.3\n",
      "fsspec                        2023.4.0\n",
      "future                        0.18.3\n",
      "gensim                        4.3.0\n",
      "glob2                         0.7\n",
      "greenlet                      2.0.1\n",
      "h5py                          3.9.0\n",
      "HeapDict                      1.0.1\n",
      "holoviews                     1.17.1\n",
      "huggingface-hub               0.15.1\n",
      "hvplot                        0.8.4\n",
      "hyperlink                     21.0.0\n",
      "idna                          3.4\n",
      "imagecodecs                   2023.1.23\n",
      "imageio                       2.26.0\n",
      "imagesize                     1.4.1\n",
      "imbalanced-learn              0.10.1\n",
      "importlib-metadata            6.0.0\n",
      "incremental                   21.3.0\n",
      "inflection                    0.5.1\n",
      "iniconfig                     1.1.1\n",
      "intake                        0.6.8\n",
      "intervaltree                  3.1.0\n",
      "ipykernel                     6.25.0\n",
      "ipython                       8.15.0\n",
      "ipython-genutils              0.2.0\n",
      "ipywidgets                    8.0.4\n",
      "isort                         5.9.3\n",
      "itemadapter                   0.3.0\n",
      "itemloaders                   1.0.4\n",
      "itsdangerous                  2.0.1\n",
      "jaraco.classes                3.2.1\n",
      "jedi                          0.18.1\n",
      "jellyfish                     1.0.1\n",
      "Jinja2                        3.1.2\n",
      "jinja2-time                   0.2.0\n",
      "jmespath                      0.10.0\n",
      "joblib                        1.2.0\n",
      "json5                         0.9.6\n",
      "jsonpatch                     1.32\n",
      "jsonpointer                   2.1\n",
      "jsonschema                    4.17.3\n",
      "jupyter                       1.0.0\n",
      "jupyter_client                7.4.9\n",
      "jupyter-console               6.6.3\n",
      "jupyter_core                  5.3.0\n",
      "jupyter-events                0.6.3\n",
      "jupyter-server                1.23.4\n",
      "jupyter_server_fileid         0.9.0\n",
      "jupyter_server_ydoc           0.8.0\n",
      "jupyter-ydoc                  0.2.4\n",
      "jupyterlab                    3.6.3\n",
      "jupyterlab-pygments           0.1.2\n",
      "jupyterlab_server             2.22.0\n",
      "jupyterlab-widgets            3.0.5\n",
      "kaleido                       0.2.1\n",
      "keyring                       23.13.1\n",
      "kiwisolver                    1.4.4\n",
      "lazy_loader                   0.2\n",
      "lazy-object-proxy             1.6.0\n",
      "libarchive-c                  2.9\n",
      "libmambapy                    1.5.1\n",
      "linkify-it-py                 2.0.0\n",
      "llvmlite                      0.40.0\n",
      "lmdb                          1.4.1\n",
      "locket                        1.0.0\n",
      "lxml                          4.9.3\n",
      "lz4                           4.3.2\n",
      "Markdown                      3.4.1\n",
      "markdown-it-py                2.2.0\n",
      "MarkupSafe                    2.1.1\n",
      "matplotlib                    3.7.2\n",
      "matplotlib-inline             0.1.6\n",
      "mccabe                        0.7.0\n",
      "mdit-py-plugins               0.3.0\n",
      "mdurl                         0.1.0\n",
      "menuinst                      1.4.19\n",
      "mistune                       0.8.4\n",
      "mkl-fft                       1.3.8\n",
      "mkl-random                    1.2.4\n",
      "mkl-service                   2.4.0\n",
      "more-itertools                8.12.0\n",
      "mpmath                        1.3.0\n",
      "msgpack                       1.0.3\n",
      "multidict                     6.0.2\n",
      "multipledispatch              0.6.0\n",
      "multiprocess                  0.70.14\n",
      "munkres                       1.1.4\n",
      "mypy-extensions               1.0.0\n",
      "navigator-updater             0.4.0\n",
      "nbclassic                     0.5.5\n",
      "nbclient                      0.5.13\n",
      "nbconvert                     6.5.4\n",
      "nbformat                      5.9.2\n",
      "nest-asyncio                  1.5.6\n",
      "networkx                      3.1\n",
      "nltk                          3.8.1\n",
      "notebook                      6.5.4\n",
      "notebook_shim                 0.2.2\n",
      "numba                         0.57.1\n",
      "numexpr                       2.8.4\n",
      "numpy                         1.24.3\n",
      "numpydoc                      1.5.0\n",
      "openpyxl                      3.0.10\n",
      "packaging                     23.1\n",
      "pandas                        2.0.3\n",
      "pandocfilters                 1.5.0\n",
      "panel                         1.2.3\n",
      "param                         1.13.0\n",
      "paramiko                      2.8.1\n",
      "parsel                        1.6.0\n",
      "parso                         0.8.3\n",
      "partd                         1.4.0\n",
      "pathlib                       1.0.1\n",
      "pathspec                      0.10.3\n",
      "patsy                         0.5.3\n",
      "pep8                          1.7.1\n",
      "pexpect                       4.8.0\n",
      "pickleshare                   0.7.5\n",
      "Pillow                        9.4.0\n",
      "pip                           23.2.1\n",
      "pkce                          1.0.3\n",
      "pkginfo                       1.9.6\n",
      "platformdirs                  3.10.0\n",
      "plotly                        5.9.0\n",
      "pluggy                        1.0.0\n",
      "ply                           3.11\n",
      "poyo                          0.5.0\n",
      "prometheus-client             0.14.1\n",
      "prompt-toolkit                3.0.36\n",
      "Protego                       0.1.16\n",
      "psutil                        5.9.0\n",
      "ptyprocess                    0.7.0\n",
      "pure-eval                     0.2.2\n",
      "py-cpuinfo                    8.0.0\n",
      "pyarrow                       11.0.0\n",
      "pyasn1                        0.4.8\n",
      "pyasn1-modules                0.2.8\n",
      "pycodestyle                   2.10.0\n",
      "pycosat                       0.6.4\n",
      "pycparser                     2.21\n",
      "pyct                          0.5.0\n",
      "pycurl                        7.45.2\n",
      "pydantic                      1.10.8\n",
      "PyDispatcher                  2.0.5\n",
      "pydocstyle                    6.3.0\n",
      "pyerfa                        2.0.0\n",
      "pyflakes                      3.0.1\n",
      "Pygments                      2.15.1\n",
      "PyJWT                         2.4.0\n",
      "pylint                        2.16.2\n",
      "pylint-venv                   2.3.0\n",
      "pyls-spyder                   0.4.0\n",
      "PyNaCl                        1.5.0\n",
      "pyodbc                        4.0.34\n",
      "pyOpenSSL                     23.2.0\n",
      "pyparsing                     3.0.9\n",
      "PyQt5                         5.15.7\n",
      "PyQt5-sip                     12.11.0\n",
      "PyQtWebEngine                 5.15.4\n",
      "pyrsistent                    0.18.0\n",
      "PySocks                       1.7.1\n",
      "pytest                        7.4.0\n",
      "python-dateutil               2.8.2\n",
      "python-dotenv                 0.21.0\n",
      "python-json-logger            2.0.7\n",
      "python-lsp-black              1.2.1\n",
      "python-lsp-jsonrpc            1.0.0\n",
      "python-lsp-server             1.7.2\n",
      "python-slugify                5.0.2\n",
      "python-snappy                 0.6.1\n",
      "pytoolconfig                  1.2.5\n",
      "pytz                          2023.3.post1\n",
      "pyviz-comms                   2.3.0\n",
      "PyWavelets                    1.4.1\n",
      "pywin32                       305.1\n",
      "pywin32-ctypes                0.2.0\n",
      "pywinpty                      2.0.10\n",
      "PyYAML                        6.0\n",
      "pyzmq                         23.2.0\n",
      "QDarkStyle                    3.0.2\n",
      "qstylizer                     0.2.2\n",
      "QtAwesome                     1.2.2\n",
      "qtconsole                     5.4.2\n",
      "QtPy                          2.2.0\n",
      "queuelib                      1.5.0\n",
      "regex                         2022.7.9\n",
      "requests                      2.31.0\n",
      "requests-file                 1.5.1\n",
      "requests-toolbelt             1.0.0\n",
      "responses                     0.13.3\n",
      "rfc3339-validator             0.1.4\n",
      "rfc3986-validator             0.1.1\n",
      "rope                          1.7.0\n",
      "Rtree                         1.0.1\n",
      "ruamel.yaml                   0.17.21\n",
      "ruamel-yaml-conda             0.17.21\n",
      "s3fs                          2023.4.0\n",
      "safetensors                   0.3.2\n",
      "scikit-image                  0.20.0\n",
      "scikit-learn                  1.3.0\n",
      "scikit-learn-intelex          20230426.121932\n",
      "scipy                         1.11.1\n",
      "Scrapy                        2.8.0\n",
      "seaborn                       0.12.2\n",
      "Send2Trash                    1.8.0\n",
      "service-identity              18.1.0\n",
      "setuptools                    68.0.0\n",
      "sip                           6.6.2\n",
      "six                           1.16.0\n",
      "smart-open                    5.2.1\n",
      "sniffio                       1.2.0\n",
      "snowballstemmer               2.2.0\n",
      "sortedcontainers              2.4.0\n",
      "soupsieve                     2.4\n",
      "Sphinx                        5.0.2\n",
      "sphinxcontrib-applehelp       1.0.2\n",
      "sphinxcontrib-devhelp         1.0.2\n",
      "sphinxcontrib-htmlhelp        2.0.0\n",
      "sphinxcontrib-jsmath          1.0.1\n",
      "sphinxcontrib-qthelp          1.0.3\n",
      "sphinxcontrib-serializinghtml 1.1.5\n",
      "spyder                        5.4.3\n",
      "spyder-kernels                2.4.4\n",
      "SQLAlchemy                    1.4.39\n",
      "stack-data                    0.2.0\n",
      "statsmodels                   0.14.0\n",
      "sympy                         1.11.1\n",
      "tables                        3.8.0\n",
      "tabulate                      0.8.10\n",
      "TBB                           0.2\n",
      "tblib                         1.7.0\n",
      "tenacity                      8.2.2\n",
      "terminado                     0.17.1\n",
      "text-unidecode                1.3\n",
      "textdistance                  4.2.1\n",
      "threadpoolctl                 2.2.0\n",
      "three-merge                   0.1.1\n",
      "tifffile                      2023.4.12\n",
      "tinycss2                      1.2.1\n",
      "tldextract                    3.2.0\n",
      "tokenizers                    0.13.2\n",
      "toml                          0.10.2\n",
      "tomlkit                       0.11.1\n",
      "toolz                         0.12.0\n",
      "tornado                       6.3.2\n",
      "tqdm                          4.65.0\n",
      "traitlets                     5.7.1\n",
      "transformers                  4.32.1\n",
      "Twisted                       22.10.0\n",
      "twisted-iocpsupport           1.0.2\n",
      "typing_extensions             4.7.1\n",
      "tzdata                        2023.3\n",
      "uc-micro-py                   1.0.1\n",
      "ujson                         5.4.0\n",
      "Unidecode                     1.2.0\n",
      "urllib3                       1.26.16\n",
      "w3lib                         1.21.0\n",
      "watchdog                      2.1.6\n",
      "wcwidth                       0.2.5\n",
      "webencodings                  0.5.1\n",
      "websocket-client              0.58.0\n",
      "Werkzeug                      2.2.3\n",
      "whatthepatch                  1.0.2\n",
      "wheel                         0.38.4\n",
      "widgetsnbextension            4.0.5\n",
      "win-inet-pton                 1.1.0\n",
      "wrapt                         1.14.1\n",
      "xarray                        2023.6.0\n",
      "xlwings                       0.29.1\n",
      "xxhash                        2.0.2\n",
      "xyzservices                   2022.9.0\n",
      "y-py                          0.5.9\n",
      "yapf                          0.31.0\n",
      "yarl                          1.8.1\n",
      "ypy-websocket                 0.8.2\n",
      "zict                          2.2.0\n",
      "zipp                          3.11.0\n",
      "zope.interface                5.4.0\n",
      "zstandard                     0.19.0\n"
     ]
    }
   ],
   "source": [
    "!pip list"
   ]
  },
  {
   "cell_type": "code",
   "execution_count": 3,
   "id": "0c10ab91",
   "metadata": {},
   "outputs": [
    {
     "name": "stdout",
     "output_type": "stream",
     "text": [
      "Requirement already satisfied: matplotlib in c:\\users\\dhanu\\anaconda3\\lib\\site-packages (3.7.2)\n",
      "Requirement already satisfied: contourpy>=1.0.1 in c:\\users\\dhanu\\anaconda3\\lib\\site-packages (from matplotlib) (1.0.5)\n",
      "Requirement already satisfied: cycler>=0.10 in c:\\users\\dhanu\\anaconda3\\lib\\site-packages (from matplotlib) (0.11.0)\n",
      "Requirement already satisfied: fonttools>=4.22.0 in c:\\users\\dhanu\\anaconda3\\lib\\site-packages (from matplotlib) (4.25.0)\n",
      "Requirement already satisfied: kiwisolver>=1.0.1 in c:\\users\\dhanu\\anaconda3\\lib\\site-packages (from matplotlib) (1.4.4)\n",
      "Requirement already satisfied: numpy>=1.20 in c:\\users\\dhanu\\anaconda3\\lib\\site-packages (from matplotlib) (1.24.3)\n",
      "Requirement already satisfied: packaging>=20.0 in c:\\users\\dhanu\\anaconda3\\lib\\site-packages (from matplotlib) (23.1)\n",
      "Requirement already satisfied: pillow>=6.2.0 in c:\\users\\dhanu\\anaconda3\\lib\\site-packages (from matplotlib) (9.4.0)\n",
      "Requirement already satisfied: pyparsing<3.1,>=2.3.1 in c:\\users\\dhanu\\anaconda3\\lib\\site-packages (from matplotlib) (3.0.9)\n",
      "Requirement already satisfied: python-dateutil>=2.7 in c:\\users\\dhanu\\anaconda3\\lib\\site-packages (from matplotlib) (2.8.2)\n",
      "Requirement already satisfied: six>=1.5 in c:\\users\\dhanu\\anaconda3\\lib\\site-packages (from python-dateutil>=2.7->matplotlib) (1.16.0)\n"
     ]
    }
   ],
   "source": [
    "!pip install matplotlib"
   ]
  },
  {
   "cell_type": "code",
   "execution_count": 4,
   "id": "946e30cf",
   "metadata": {},
   "outputs": [
    {
     "name": "stdout",
     "output_type": "stream",
     "text": [
      "Requirement already satisfied: pandas in c:\\users\\dhanu\\anaconda3\\lib\\site-packages (2.0.3)\n",
      "Requirement already satisfied: python-dateutil>=2.8.2 in c:\\users\\dhanu\\anaconda3\\lib\\site-packages (from pandas) (2.8.2)\n",
      "Requirement already satisfied: pytz>=2020.1 in c:\\users\\dhanu\\anaconda3\\lib\\site-packages (from pandas) (2023.3.post1)\n",
      "Requirement already satisfied: tzdata>=2022.1 in c:\\users\\dhanu\\anaconda3\\lib\\site-packages (from pandas) (2023.3)\n",
      "Requirement already satisfied: numpy>=1.21.0 in c:\\users\\dhanu\\anaconda3\\lib\\site-packages (from pandas) (1.24.3)\n",
      "Requirement already satisfied: six>=1.5 in c:\\users\\dhanu\\anaconda3\\lib\\site-packages (from python-dateutil>=2.8.2->pandas) (1.16.0)\n"
     ]
    }
   ],
   "source": [
    "!pip install pandas"
   ]
  },
  {
   "cell_type": "code",
   "execution_count": 2,
   "id": "a2a4b512",
   "metadata": {},
   "outputs": [
    {
     "name": "stdout",
     "output_type": "stream",
     "text": [
      "4.0\n"
     ]
    },
    {
     "ename": "NameError",
     "evalue": "name 'sin' is not defined",
     "output_type": "error",
     "traceback": [
      "\u001b[1;31m---------------------------------------------------------------------------\u001b[0m",
      "\u001b[1;31mNameError\u001b[0m                                 Traceback (most recent call last)",
      "Cell \u001b[1;32mIn[2], line 4\u001b[0m\n\u001b[0;32m      2\u001b[0m A \u001b[38;5;241m=\u001b[39m \u001b[38;5;241m16\u001b[39m\n\u001b[0;32m      3\u001b[0m \u001b[38;5;28mprint\u001b[39m(math\u001b[38;5;241m.\u001b[39msqrt(A))\n\u001b[1;32m----> 4\u001b[0m \u001b[38;5;28mprint\u001b[39m(sin(\u001b[38;5;241m8\u001b[39m))\n",
      "\u001b[1;31mNameError\u001b[0m: name 'sin' is not defined"
     ]
    }
   ],
   "source": [
    "import math\n",
    "A = 16\n",
    "print(math.sqrt(A))\n",
    "print(sin(8))"
   ]
  },
  {
   "cell_type": "code",
   "execution_count": 12,
   "id": "da5b145a-bce8-49c5-9d1a-248510051c49",
   "metadata": {},
   "outputs": [
    {
     "data": {
      "image/png": "[encoded data removed]",
      "text/plain": [
       "<Figure size 640x480 with 4 Axes>"
      ]
     },
     "metadata": {},
     "output_type": "display_data"
    }
   ],
   "source": [
    "import pandas as pd\n",
    "import matplotlib.pyplot as plt\n",
    "\n",
    "data=[['E001','M',34,123,'NORMAL',0],\n",
    "      ['E002','F',40,123,'OVERWEIGHT',40],\n",
    "      ['E003','F',37,123,'OBESITY',69],\n",
    "      ['E004','M',30,123,'UNDERWEIGHT',89],\n",
    "      ['E005','F',44,117,'UNDERWEIGHT',83],\n",
    "      ['E006','M',36,121,'NORMAL',80]\n",
    "     ]\n",
    "df=pd.DataFrame(data,columns=['EMPID','Gender','AGE','Sales','BMI','Income'])\n",
    "df.hist()\n",
    "plt.show()"
   ]
  },
  {
   "cell_type": "code",
   "execution_count": 13,
   "id": "78b38253-d4ff-4948-955c-ab60c88aef6f",
   "metadata": {},
   "outputs": [
    {
     "data": {
      "image/png": "[encoded data removed]",
      "text/plain": [
       "<Figure size 640x480 with 1 Axes>"
      ]
     },
     "metadata": {},
     "output_type": "display_data"
    }
   ],
   "source": [
    "df.plot.bar()\n",
    "\n",
    "plt.bar(df['AGE'], df['Sales'])\n",
    "plt.xlabel(\"AGE\")\n",
    "plt.ylabel(\"Sales\")\n",
    "plt.show()"
   ]
  },
  {
   "cell_type": "code",
   "execution_count": 19,
   "id": "8fcfe8ad-33da-4106-978c-dc4eee7a81fd",
   "metadata": {},
   "outputs": [
    {
     "ename": "KeyError",
     "evalue": "'AGE'",
     "output_type": "error",
     "traceback": [
      "\u001b[1;31m---------------------------------------------------------------------------\u001b[0m",
      "\u001b[1;31mKeyError\u001b[0m                                  Traceback (most recent call last)",
      "File \u001b[1;32m~\\anaconda3\\Lib\\site-packages\\pandas\\core\\indexes\\base.py:3790\u001b[0m, in \u001b[0;36mIndex.get_loc\u001b[1;34m(self, key)\u001b[0m\n\u001b[0;32m   3789\u001b[0m \u001b[38;5;28;01mtry\u001b[39;00m:\n\u001b[1;32m-> 3790\u001b[0m     \u001b[38;5;28;01mreturn\u001b[39;00m \u001b[38;5;28mself\u001b[39m\u001b[38;5;241m.\u001b[39m_engine\u001b[38;5;241m.\u001b[39mget_loc(casted_key)\n\u001b[0;32m   3791\u001b[0m \u001b[38;5;28;01mexcept\u001b[39;00m \u001b[38;5;167;01mKeyError\u001b[39;00m \u001b[38;5;28;01mas\u001b[39;00m err:\n",
      "File \u001b[1;32mindex.pyx:152\u001b[0m, in \u001b[0;36mpandas._libs.index.IndexEngine.get_loc\u001b[1;34m()\u001b[0m\n",
      "File \u001b[1;32mindex.pyx:181\u001b[0m, in \u001b[0;36mpandas._libs.index.IndexEngine.get_loc\u001b[1;34m()\u001b[0m\n",
      "File \u001b[1;32mpandas\\_libs\\hashtable_class_helper.pxi:7080\u001b[0m, in \u001b[0;36mpandas._libs.hashtable.PyObjectHashTable.get_item\u001b[1;34m()\u001b[0m\n",
      "File \u001b[1;32mpandas\\_libs\\hashtable_class_helper.pxi:7088\u001b[0m, in \u001b[0;36mpandas._libs.hashtable.PyObjectHashTable.get_item\u001b[1;34m()\u001b[0m\n",
      "\u001b[1;31mKeyError\u001b[0m: 'AGE'",
      "\nThe above exception was the direct cause of the following exception:\n",
      "\u001b[1;31mKeyError\u001b[0m                                  Traceback (most recent call last)",
      "Cell \u001b[1;32mIn[19], line 4\u001b[0m\n\u001b[0;32m      1\u001b[0m \u001b[38;5;28;01mimport\u001b[39;00m \u001b[38;5;21;01mmatplotlib\u001b[39;00m\u001b[38;5;21;01m.\u001b[39;00m\u001b[38;5;21;01mpyplot\u001b[39;00m \u001b[38;5;28;01mas\u001b[39;00m \u001b[38;5;21;01mplt\u001b[39;00m\n\u001b[0;32m      3\u001b[0m \u001b[38;5;66;03m# Assuming df is your DataFrame with a column 'Age'\u001b[39;00m\n\u001b[1;32m----> 4\u001b[0m plt\u001b[38;5;241m.\u001b[39mpie(df[\u001b[38;5;124m'\u001b[39m\u001b[38;5;124mAGE\u001b[39m\u001b[38;5;124m'\u001b[39m], labels\u001b[38;5;241m=\u001b[39m[\u001b[38;5;124m'\u001b[39m\u001b[38;5;124mEMP1\u001b[39m\u001b[38;5;124m'\u001b[39m, \u001b[38;5;124m'\u001b[39m\u001b[38;5;124mEMP2\u001b[39m\u001b[38;5;124m'\u001b[39m, \u001b[38;5;124m'\u001b[39m\u001b[38;5;124mEMP3\u001b[39m\u001b[38;5;124m'\u001b[39m, \u001b[38;5;124m'\u001b[39m\u001b[38;5;124mEMP4\u001b[39m\u001b[38;5;124m'\u001b[39m, \u001b[38;5;124m'\u001b[39m\u001b[38;5;124mEMP5\u001b[39m\u001b[38;5;124m'\u001b[39m,\u001b[38;5;124m'\u001b[39m\u001b[38;5;124mEMP6\u001b[39m\u001b[38;5;124m'\u001b[39m], autopct\u001b[38;5;241m=\u001b[39m\u001b[38;5;124m'\u001b[39m\u001b[38;5;132;01m%1.1f\u001b[39;00m\u001b[38;5;132;01m%%\u001b[39;00m\u001b[38;5;124m'\u001b[39m, shadow\u001b[38;5;241m=\u001b[39m\u001b[38;5;28;01mTrue\u001b[39;00m)\n\u001b[0;32m      5\u001b[0m plt\u001b[38;5;241m.\u001b[39mshow()\n",
      "File \u001b[1;32m~\\anaconda3\\Lib\\site-packages\\pandas\\core\\frame.py:3896\u001b[0m, in \u001b[0;36mDataFrame.__getitem__\u001b[1;34m(self, key)\u001b[0m\n\u001b[0;32m   3894\u001b[0m \u001b[38;5;28;01mif\u001b[39;00m \u001b[38;5;28mself\u001b[39m\u001b[38;5;241m.\u001b[39mcolumns\u001b[38;5;241m.\u001b[39mnlevels \u001b[38;5;241m>\u001b[39m \u001b[38;5;241m1\u001b[39m:\n\u001b[0;32m   3895\u001b[0m     \u001b[38;5;28;01mreturn\u001b[39;00m \u001b[38;5;28mself\u001b[39m\u001b[38;5;241m.\u001b[39m_getitem_multilevel(key)\n\u001b[1;32m-> 3896\u001b[0m indexer \u001b[38;5;241m=\u001b[39m \u001b[38;5;28mself\u001b[39m\u001b[38;5;241m.\u001b[39mcolumns\u001b[38;5;241m.\u001b[39mget_loc(key)\n\u001b[0;32m   3897\u001b[0m \u001b[38;5;28;01mif\u001b[39;00m is_integer(indexer):\n\u001b[0;32m   3898\u001b[0m     indexer \u001b[38;5;241m=\u001b[39m [indexer]\n",
      "File \u001b[1;32m~\\anaconda3\\Lib\\site-packages\\pandas\\core\\indexes\\base.py:3797\u001b[0m, in \u001b[0;36mIndex.get_loc\u001b[1;34m(self, key)\u001b[0m\n\u001b[0;32m   3792\u001b[0m     \u001b[38;5;28;01mif\u001b[39;00m \u001b[38;5;28misinstance\u001b[39m(casted_key, \u001b[38;5;28mslice\u001b[39m) \u001b[38;5;129;01mor\u001b[39;00m (\n\u001b[0;32m   3793\u001b[0m         \u001b[38;5;28misinstance\u001b[39m(casted_key, abc\u001b[38;5;241m.\u001b[39mIterable)\n\u001b[0;32m   3794\u001b[0m         \u001b[38;5;129;01mand\u001b[39;00m \u001b[38;5;28many\u001b[39m(\u001b[38;5;28misinstance\u001b[39m(x, \u001b[38;5;28mslice\u001b[39m) \u001b[38;5;28;01mfor\u001b[39;00m x \u001b[38;5;129;01min\u001b[39;00m casted_key)\n\u001b[0;32m   3795\u001b[0m     ):\n\u001b[0;32m   3796\u001b[0m         \u001b[38;5;28;01mraise\u001b[39;00m InvalidIndexError(key)\n\u001b[1;32m-> 3797\u001b[0m     \u001b[38;5;28;01mraise\u001b[39;00m \u001b[38;5;167;01mKeyError\u001b[39;00m(key) \u001b[38;5;28;01mfrom\u001b[39;00m \u001b[38;5;21;01merr\u001b[39;00m\n\u001b[0;32m   3798\u001b[0m \u001b[38;5;28;01mexcept\u001b[39;00m \u001b[38;5;167;01mTypeError\u001b[39;00m:\n\u001b[0;32m   3799\u001b[0m     \u001b[38;5;66;03m# If we have a listlike key, _check_indexing_error will raise\u001b[39;00m\n\u001b[0;32m   3800\u001b[0m     \u001b[38;5;66;03m#  InvalidIndexError. Otherwise we fall through and re-raise\u001b[39;00m\n\u001b[0;32m   3801\u001b[0m     \u001b[38;5;66;03m#  the TypeError.\u001b[39;00m\n\u001b[0;32m   3802\u001b[0m     \u001b[38;5;28mself\u001b[39m\u001b[38;5;241m.\u001b[39m_check_indexing_error(key)\n",
      "\u001b[1;31mKeyError\u001b[0m: 'AGE'"
     ]
    }
   ],
   "source": [
    "import matplotlib.pyplot as plt\n",
    "\n",
    "# Assuming df is your DataFrame with a column 'Age'\n",
    "plt.pie(df['AGE'], labels=['EMP1', 'EMP2', 'EMP3', 'EMP4', 'EMP5','EMP6'], autopct='%1.1f%%', shadow=True)\n",
    "plt.show()"
   ]
  },
  {
   "cell_type": "code",
   "execution_count": null,
   "id": "f1f1b2ee-2d8a-412e-8432-7939f9157aa5",
   "metadata": {},
   "outputs": [],
   "source": [
    "## imporing libraries\n",
    "import pandas as pd\n",
    "import numpy as np\n",
    "import matplotlib.pyplot as plt\n",
    "%matplotlib inline"
   ]
  },
  {
   "cell_type": "code",
   "execution_count": 20,
   "id": "c434dd42-8068-4cbb-9927-3c36255e924b",
   "metadata": {},
   "outputs": [
    {
     "data": {
      "text/plain": [
       "array([ 3.63548292e+04,  1.11675201e+04,  3.80440888e+04,  4.53345679e+04,\n",
       "        3.12015235e+04,  5.31519372e+04,  1.33931620e+04,  6.33017945e+03,\n",
       "       -1.68080373e+03,  4.74406647e+04,  3.48154848e+04,  2.41662299e+04,\n",
       "        2.91995294e+04,  8.11766429e+03,  6.16862797e+04,  2.69383177e+04,\n",
       "        2.66409219e+04,  3.58864994e+04,  3.22151385e+04,  2.83582604e+04,\n",
       "        1.31428832e+04,  3.20720254e+04,  5.32303674e+04,  4.51813007e+04,\n",
       "        4.88977994e+04,  1.73317649e+04,  1.01559277e+04,  2.31131962e+04,\n",
       "        2.58358737e+04,  4.14128728e+04, -3.86969446e+02,  4.79432548e+04,\n",
       "        2.26298815e+04,  1.85967840e+04,  9.81843437e+03,  1.77149922e+02,\n",
       "        3.73475588e+04,  2.60997695e+04,  5.65058650e+03,  5.57381842e+03,\n",
       "        1.99632295e+04,  5.00353229e+04,  2.11061297e+04,  2.45285570e+03,\n",
       "        2.13138540e+04,  2.09091465e+04, -1.54532996e+04,  2.41855770e+04,\n",
       "        2.15359820e+04,  3.54430955e+04,  5.27343414e+04,  4.18984754e+04,\n",
       "        2.09666696e+04,  8.40211137e+03,  6.36003970e+04,  2.58882765e+04,\n",
       "        2.52089394e+04,  2.46381237e+04,  2.79712714e+04,  2.28345938e+04,\n",
       "        1.63950699e+04,  1.67971159e+04,  2.45087009e+04,  1.68486284e+04,\n",
       "        1.43073133e+04,  2.65964534e+04,  2.11753417e+04,  4.75598948e+04,\n",
       "       -1.47645471e+04,  4.13726028e+04,  4.36912779e+04, -6.10085349e+03,\n",
       "        1.98596861e+04,  1.94283870e+04,  3.88732458e+03,  1.33327497e+04,\n",
       "        8.34136232e+03,  5.12840567e+04,  3.90351759e+04,  4.40733264e+04,\n",
       "        3.58250810e+04,  8.06422343e+03,  1.71321960e+04,  3.23406184e+04,\n",
       "        6.66808287e+03,  3.56949765e+04,  2.13951190e+04,  1.93776879e+04,\n",
       "        3.56643995e+04,  3.16639497e+04,  1.95855075e+04,  4.23899471e+04,\n",
       "        8.78405009e+03,  3.42390341e+04,  3.38965189e+04,  2.03568034e+04,\n",
       "        2.98919953e+04,  6.23329635e+03,  3.88604053e+04,  2.22264680e+04,\n",
       "        1.71591547e+04,  4.07351384e+04,  1.44348446e+04,  3.87308055e+03,\n",
       "        1.65056240e+03,  3.40901493e+04,  5.79355971e+03,  5.13219127e+04,\n",
       "       -6.22894112e+03,  5.04468455e+04,  2.81652620e+04,  2.35493033e+04,\n",
       "        1.68262137e+04,  3.09870417e+04,  2.44354795e+04,  4.15495282e+04,\n",
       "        2.67134147e+04,  2.72545264e+04,  1.95458168e+04,  2.41458156e+04,\n",
       "        2.96170265e+04, -6.52525890e+02,  4.77721867e+03,  3.61489614e+04,\n",
       "        2.75629816e+04,  2.22402500e+04,  2.52765090e+04,  3.02137256e+04,\n",
       "        1.69036048e+04,  1.33254291e+04,  2.79376788e+04,  1.03244083e+04,\n",
       "        3.11237913e+04, -5.38754064e+02,  4.04373346e+04,  3.20889622e+04,\n",
       "        2.88404460e+04,  3.97403648e+04,  4.99821167e+04,  4.02155510e+04,\n",
       "       -2.61311347e+03,  5.80634550e+03,  1.56277213e+04,  2.53913658e+04,\n",
       "        3.27648853e+04,  1.41138428e+04,  2.78015015e+04,  1.36692560e+04,\n",
       "        1.58272330e+04,  3.90008355e+03,  1.11515013e+04,  4.72473092e+03,\n",
       "        1.03619012e+04,  4.08046269e+04,  1.07590167e+04,  6.44857310e+04,\n",
       "        3.23997685e+04,  2.77725419e+04,  1.21246333e+04,  3.55046482e+04,\n",
       "        1.63654326e+04,  2.68301472e+04,  6.34012681e+04,  2.35591015e+04,\n",
       "        4.22390999e+04,  1.44523536e+04,  2.44751726e+04,  5.15620095e+04,\n",
       "        1.55954941e+04,  5.21867284e+04,  3.56162790e+04,  1.65629984e+04,\n",
       "        3.44861161e+04,  3.95883167e+04,  3.43271494e+04,  1.44662920e+03,\n",
       "        1.40929424e+04,  2.12872205e+04,  2.38834986e+04,  3.43100815e+04,\n",
       "        2.76655150e+04,  4.96983462e+03,  3.07029678e+04,  3.41587862e+04,\n",
       "        3.33968567e+04,  4.12117109e+04,  3.75088323e+04,  3.18877012e+04,\n",
       "        2.39475143e+04,  8.55859973e+01,  3.14442733e+04,  2.81153153e+04,\n",
       "        2.90736826e+04,  5.84877136e+03,  8.78415189e+03,  4.07972928e+04,\n",
       "        2.44066727e+04,  3.52225105e+04,  2.54247756e+04,  2.54463421e+04,\n",
       "        3.90742571e+04,  1.72593291e+04,  2.64418117e+04,  1.80658707e+04,\n",
       "        1.84825566e+04,  2.03624181e+04,  2.83320066e+04,  1.78187707e+04,\n",
       "        4.38363419e+04,  1.15808905e+04,  2.21969253e+04,  1.84040341e+04,\n",
       "        4.67046683e+04,  2.79483216e+04,  4.04776681e+04,  2.71659440e+03,\n",
       "        2.90057540e+04,  3.83444619e+04,  2.62342598e+04,  4.09822056e+04,\n",
       "        1.72406732e+04,  4.61402116e+04,  5.94834719e+04,  1.95574216e+04,\n",
       "        1.83174622e+04,  4.68007672e+04,  4.86935822e+04,  1.71570996e+04,\n",
       "        1.86971977e+04,  2.07732309e+04,  4.83324233e+03,  1.12202208e+04,\n",
       "        9.93788850e+03,  1.34830365e+04,  2.44797267e+04,  2.85132210e+04,\n",
       "        4.82575074e+04,  1.00246894e+04,  3.97648360e+04,  2.17901673e+04,\n",
       "        2.42580444e+04,  3.51222924e+04,  8.15916968e+03,  3.07361462e+04,\n",
       "        2.74967831e+04,  3.23867690e+04,  2.93375297e+04,  6.18295021e+04,\n",
       "        1.54339002e+04,  1.70350457e+04,  1.56528921e+04,  1.66678432e+04,\n",
       "        1.54391931e+04,  4.28352480e+04,  4.63075637e+04,  1.64388056e+04,\n",
       "        1.25146664e+04,  3.20712333e+04,  1.67166543e+04,  3.44939773e+04,\n",
       "        2.80438453e+04,  2.26383828e+03,  4.82125780e+04,  5.19381651e+04,\n",
       "        1.58081696e+04,  1.91844766e+04,  2.92879809e+04,  3.00168518e+04,\n",
       "        3.48781641e+04,  5.51530681e+04,  2.23457916e+04,  1.30255413e+04,\n",
       "        4.31021158e+03,  1.40360494e+04,  2.45030954e+04,  5.19183680e+04,\n",
       "        1.72358305e+04,  2.83568193e+04,  2.47536566e+04,  4.28258991e+04,\n",
       "        6.29039864e+04,  1.70369684e+04,  1.76584084e+04,  4.06624132e+04,\n",
       "        3.52283723e+04,  5.27006099e+04,  3.37589228e+04,  1.96106186e+04,\n",
       "        3.38598225e+04,  4.16305537e+04,  3.73072327e+04,  3.26091105e+04,\n",
       "        4.10001203e+04,  4.25394339e+04,  4.57323849e+04,  3.47306483e+04,\n",
       "        2.24932288e+04,  2.72007053e+04,  4.30976345e+04,  1.27459649e+04,\n",
       "        3.05300996e+04,  1.90999178e+04,  2.54311723e+04,  4.41767779e+04,\n",
       "        2.78664860e+04,  2.56965482e+04,  4.60215789e+03,  3.61938035e+04,\n",
       "        3.46822627e+04,  5.74488208e+04,  2.03833265e+04,  2.82872549e+04,\n",
       "        2.87407553e+04,  4.86617992e+04,  2.35705670e+04,  2.91853229e+04,\n",
       "        3.41184476e+04,  2.77991368e+04,  1.83034958e+04,  2.79113499e+04,\n",
       "        4.11044762e+04,  9.60227051e+03,  2.69945451e+04,  1.44981878e+04,\n",
       "        4.29256994e+04,  2.15219643e+03,  1.66161723e+04,  3.06581781e+04,\n",
       "        4.84828604e+04,  2.40137461e+04,  1.66720071e+04,  5.32173560e+04,\n",
       "        3.27979149e+03, -7.98208935e+03,  3.16002168e+04,  1.74691866e+04,\n",
       "        9.68150774e+03,  3.56253467e+04,  2.86570107e+04,  1.65388205e+04,\n",
       "        5.79543402e+03,  3.80868599e+04,  3.47530177e+04,  2.35123620e+04,\n",
       "        5.26995549e+04,  8.94872851e+03,  2.11712244e+03,  1.46213790e+04,\n",
       "        2.43162098e+04,  2.86500917e+04,  2.13814591e+04,  3.02808309e+04,\n",
       "        6.22690864e+03,  4.66564691e+04,  2.37677323e+04,  4.17594375e+04,\n",
       "        3.01408802e+04,  3.18512983e+04,  3.35465092e+04,  3.17156284e+04,\n",
       "        3.46408414e+04,  4.49372880e+04,  2.79478175e+04,  3.56350564e+04,\n",
       "        2.36539646e+04,  4.66017582e+04,  1.48541155e+04,  5.20141065e+04,\n",
       "        2.43976307e+04,  3.53837347e+03,  2.69215662e+04,  1.47842251e+04,\n",
       "        3.76096532e+04,  1.52106403e+04,  1.83072485e+04, -3.34311096e+03,\n",
       "        1.82154052e+04, -1.13581899e+04,  1.24145765e+03,  3.64062198e+04,\n",
       "        3.67870024e+04,  3.13818634e+04,  1.04953579e+04,  2.42843297e+04,\n",
       "        2.49459619e+04,  7.62452966e+03,  4.75509745e+04,  3.81604344e+04,\n",
       "        2.16855374e+04,  2.54032876e+04,  2.81257421e+04, -5.62602303e+03,\n",
       "        2.12923393e+04,  1.47702363e+04,  9.97569985e+03,  2.07834956e+04,\n",
       "        5.19652979e+04,  3.46126429e+04,  1.64323152e+04,  3.35887417e+04,\n",
       "        4.59903315e+04,  3.88695052e+04,  2.58944555e+04,  1.52959483e+04,\n",
       "        3.54733497e+04,  3.09022808e+04,  3.84278983e+04,  3.45275770e+04,\n",
       "        4.07432907e+04,  1.69714718e+04,  4.47609110e+04,  2.79639941e+04,\n",
       "        5.61289131e+04,  1.46621827e+04,  5.10394570e+04,  2.79686618e+04,\n",
       "        1.52287299e+04,  1.77417125e+04,  2.01947904e+04,  3.13624892e+04,\n",
       "        3.28425323e+04,  1.63944999e+04,  2.46346811e+04,  5.71340554e+04,\n",
       "        5.09131476e+04,  3.15448550e+04,  2.55700522e+04,  2.68004699e+04,\n",
       "        3.42027696e+04,  9.65811152e+03,  2.11393519e+04, -2.87611082e+01,\n",
       "        3.09883468e+04,  3.47079391e+04,  1.77522031e+04,  4.86098014e+04,\n",
       "        6.61351505e+03,  3.03437680e+03,  2.83667773e+04,  4.07064745e+04,\n",
       "        5.02589154e+04,  1.81167361e+04,  4.11802125e+04,  2.44223730e+04,\n",
       "        2.24105905e+04,  3.82548991e+04,  3.47848432e+04,  1.35411765e+03,\n",
       "        4.71481052e+04,  4.57013703e+04,  1.56165595e+04,  3.09370530e+04,\n",
       "        3.24104528e+04,  2.89101065e+04,  1.67454227e+04,  1.49256495e+04,\n",
       "        2.46166889e+04,  4.25909353e+04,  3.31540023e+04,  1.94407850e+04,\n",
       "        3.65754807e+04, -1.77281393e+04,  4.22314855e+04, -1.09570668e+03,\n",
       "        1.95633859e+04,  8.20495158e+03,  5.57977786e+03,  4.24124018e+04,\n",
       "        1.79844820e+04,  3.01975582e+04,  2.42961913e+04,  3.21556124e+04,\n",
       "        2.61523284e+04,  5.75511664e+03,  3.99440023e+04,  1.75936513e+04,\n",
       "        1.65127152e+03,  1.85782726e+04,  4.75113969e+04,  3.77533261e+04,\n",
       "        1.97702180e+04,  1.97611344e+04,  2.01754742e+04,  5.61512198e+04,\n",
       "        3.07290318e+04,  3.14506247e+04,  4.04542518e+04,  2.85818374e+04,\n",
       "        2.11143678e+04,  2.20547523e+04,  2.39259811e+04,  2.44416665e+04,\n",
       "        3.59144432e+04,  2.57791883e+04,  3.59896012e+04,  2.37892513e+04,\n",
       "        2.61795279e+04, -4.97301027e+03,  3.87449151e+04,  3.01973271e+04,\n",
       "        3.99701516e+04, -1.84438307e+04,  5.63256206e+04,  2.29061556e+04,\n",
       "        4.16227423e+04,  9.40141109e+03,  3.41916086e+04,  9.19876655e+03,\n",
       "        1.56434656e+04,  5.37104703e+04,  2.21397640e+04,  2.82614931e+04,\n",
       "        3.80510160e+04,  3.24352283e+04,  2.72562836e+04,  3.04744150e+04,\n",
       "        6.10512338e+04,  2.41357180e+04,  2.80164857e+04,  4.07598159e+04,\n",
       "        4.15828890e+04,  4.28054546e+04,  3.45809533e+04,  7.85492631e+03,\n",
       "        4.95014730e+04,  7.80481910e+03,  2.95395320e+04,  1.36858622e+04,\n",
       "        2.40379248e+04,  2.99314362e+04,  2.98203582e+04,  3.13288113e+04,\n",
       "        4.92056690e+04,  3.18030145e+04,  2.13376505e+04,  3.94613075e+04,\n",
       "        4.28420573e+04,  6.58588277e+03,  3.39610010e+04,  3.55175911e+04,\n",
       "        2.05365474e+04,  4.56356022e+04,  2.27491662e+04,  2.68836468e+04,\n",
       "        2.24039226e+04,  2.52336857e+04,  8.55587370e+03,  3.39923676e+03,\n",
       "        4.89175759e+04,  1.22955798e+04,  1.01291148e+04, -7.30085170e+03,\n",
       "        1.54155738e+04,  5.15365310e+03,  4.96302274e+04,  4.01472563e+04,\n",
       "        1.46777448e+04,  5.87865371e+04,  3.97264823e+04,  2.01275292e+04,\n",
       "       -1.24910857e+04,  5.93641386e+04,  4.15641300e+03,  3.19018796e+02,\n",
       "        4.03385565e+04,  6.15962861e+04,  4.57640923e+04,  3.34586368e+04,\n",
       "        3.39213151e+04,  3.78012334e+04,  3.63839288e+04,  2.92178714e+04,\n",
       "        2.65630166e+04,  2.40611031e+04,  1.36905312e+04,  2.07898738e+04,\n",
       "       -3.94352213e+02,  2.35249056e+04,  1.01711334e+04,  8.44616024e+03,\n",
       "        2.76984123e+04,  4.58800343e+04,  3.87747491e+04,  1.44249095e+03,\n",
       "        1.01555780e+04,  3.91115678e+04,  1.02626891e+04,  2.16305028e+04,\n",
       "        3.32507815e+04,  1.04748332e+04,  2.65806326e+04,  4.98961758e+03,\n",
       "        1.59794853e+04,  2.97967290e+04,  1.10509400e+03,  3.16071211e+04,\n",
       "        2.47054330e+04,  3.32873493e+04,  2.83587120e+04,  4.54621064e+04,\n",
       "        2.68783675e+04,  1.85589169e+04,  2.68344625e+04,  3.31494704e+04,\n",
       "        2.57329011e+04,  2.56088754e+04,  1.44701247e+04,  1.50564862e+04,\n",
       "        3.96092092e+03,  5.12436511e+04,  6.34205147e+03,  1.46064220e+04,\n",
       "        1.42238910e+04,  3.84238657e+04,  2.05757548e+04,  4.37161311e+04,\n",
       "        1.48976406e+04,  2.91849124e+04,  1.24697942e+04,  5.71772369e+04,\n",
       "        7.18602371e+03,  2.96473107e+04,  3.45066532e+04,  3.12069865e+04,\n",
       "        2.22206851e+04,  2.30526895e+04,  2.56571721e+04,  2.27949700e+04,\n",
       "        3.94581868e+04,  5.81578450e+04,  1.66376232e+04,  4.45295531e+03,\n",
       "        2.36757693e+04,  6.36956401e+04,  1.29448815e+04,  4.95867521e+04,\n",
       "        5.01655122e+04,  1.66961764e+04,  3.35347462e+04,  4.94259493e+04,\n",
       "        1.93130839e+04,  2.19462946e+04,  1.62747863e+04,  9.77864904e+03,\n",
       "        1.52608368e+04,  6.64089600e+03,  2.55112520e+04,  1.34504015e+04,\n",
       "        2.85067887e+04,  1.66156531e+03,  2.99632035e+04,  3.75029344e+04,\n",
       "       -4.90603464e+03,  3.06108485e+04,  4.34150349e+04,  6.85538472e+03,\n",
       "        5.00885858e+04,  3.12852851e+04,  1.44248222e+04,  2.41634638e+04,\n",
       "        3.33749037e+04,  2.61400809e+04,  3.30813399e+04,  1.11898961e+04,\n",
       "        2.75404124e+04,  3.79428255e+03,  2.33316091e+04,  1.14413854e+04,\n",
       "        1.39670509e+04,  4.35413976e+04,  4.13696518e+04,  3.41370718e+04,\n",
       "        8.61530853e+03,  2.02538733e+04,  4.31964655e+04,  2.71257537e+04,\n",
       "        5.97899431e+04,  3.08997676e+04,  2.78807367e+04,  2.03632530e+04,\n",
       "        2.70031136e+04,  2.27129525e+04,  3.56216302e+04,  3.93505348e+04,\n",
       "        1.32101581e+04,  5.03150570e+03, -2.54308060e+03,  3.26198699e+04,\n",
       "        8.44950091e+03, -7.29335889e+03,  3.08286791e+04,  6.23949928e+04,\n",
       "        2.49089363e+04,  3.75773616e+04,  2.62274404e+04,  2.35166552e+04,\n",
       "        3.87861472e+04,  2.06458818e+04,  2.90108847e+04,  2.98254671e+04,\n",
       "        1.49786432e+04,  3.98806352e+04,  2.23756036e+04,  1.36638226e+04,\n",
       "        3.30476477e+04,  1.15229803e+04,  2.54227174e+04,  2.48632151e+04,\n",
       "        4.12884335e+04,  3.21204735e+04,  2.46245956e+04,  3.72664945e+04,\n",
       "        4.58531132e+04,  3.33671546e+04,  2.51552893e+04,  5.32245651e+03,\n",
       "        9.02329505e+03,  2.04216294e+04,  1.58573170e+04,  2.21954305e+04,\n",
       "        2.58497489e+04,  3.29453913e+04,  2.39425183e+04,  3.22975247e+04,\n",
       "        2.59671162e+04, -4.63199850e+03,  1.09099691e+04,  2.28386867e+04,\n",
       "        6.85457886e+03,  3.39989309e+04,  4.79612625e+04,  4.32814278e+04,\n",
       "        2.17983569e+04,  4.73608921e+04,  2.72300119e+04,  1.99437104e+04,\n",
       "        1.57989600e+04,  2.04629547e+04,  1.91773477e+04,  2.75562433e+04,\n",
       "        2.74086097e+04,  2.50456903e+04,  3.15540725e+04,  4.28596941e+04,\n",
       "        3.92433120e+04,  2.72653047e+03, -1.33088170e+04,  3.90147987e+04,\n",
       "        4.49681952e+03,  2.16285190e+04,  7.44830461e+03, -2.02970656e+03,\n",
       "        3.31219409e+04,  3.63873274e+04,  1.63523440e+04, -1.38656344e+04,\n",
       "        1.68063333e+04,  3.08770601e+04,  2.81632647e+03,  2.77503988e+04,\n",
       "        2.47703523e+04,  3.36893725e+04,  2.67937055e+04,  1.04039659e+04,\n",
       "        4.29485725e+04,  2.26220564e+04,  2.45904319e+04,  1.10009806e+04,\n",
       "        1.83507662e+04,  1.17279593e+04,  2.24058091e+04,  5.06756272e+04,\n",
       "        4.42148286e+03,  7.96579032e+02,  4.70675549e+04,  2.18601448e+04,\n",
       "        1.49639089e+04,  4.05985703e+04,  1.59157669e+04,  5.23901457e+04,\n",
       "        3.51688881e+04,  1.76813289e+04,  5.73596232e+04,  1.59142762e+04,\n",
       "        3.61314306e+04,  2.94893887e+04,  4.45261193e+04,  4.84226680e+04,\n",
       "        2.54800622e+04,  1.36987319e+04,  3.18995821e+04,  1.48342695e+04,\n",
       "        5.52008087e+04,  2.70480300e+04,  1.95201767e+04,  2.77702046e+04,\n",
       "        4.79310566e+03,  1.04257894e+04,  4.30062086e+04,  1.51465858e+04,\n",
       "        9.29633526e+03,  3.30497913e+04,  4.27855623e+04,  3.57842997e+04,\n",
       "        3.99407153e+04,  1.36480737e+04,  3.67284000e+03,  4.75200048e+04,\n",
       "        2.01598024e+04,  2.12375048e+04,  4.49229121e+04,  3.33434501e+04,\n",
       "        3.18383166e+04,  5.74750352e+04,  1.53472265e+04,  3.89176019e+04,\n",
       "        2.58551969e+04,  2.90288842e+04,  4.79270264e+04,  3.26175363e+04,\n",
       "        3.30744412e+04,  4.10876101e+04,  1.95257091e+04,  1.24118550e+04,\n",
       "        9.32786209e+03, -4.49534884e+03,  5.58431069e+04,  8.45187451e+03,\n",
       "        2.16811956e+04,  2.08478005e+04,  2.96111005e+04,  3.72360582e+04,\n",
       "        3.79071023e+04,  1.62538384e+04,  2.24931743e+04,  2.92386993e+04,\n",
       "        2.12696331e+04,  4.91101836e+04,  3.23646243e+04,  3.60231668e+04,\n",
       "        3.49432190e+04,  4.26021079e+04,  2.77153234e+04,  5.54752078e+03,\n",
       "        3.09953193e+04,  1.52296466e+04,  1.70707498e+04,  3.37954603e+04,\n",
       "        4.35742461e+04,  2.53190737e+04,  2.96324952e+04,  5.05332242e+04,\n",
       "        2.86112977e+04,  6.40252467e+04,  3.34826447e+04, -1.41144139e+03,\n",
       "        3.63001243e+04,  3.07173758e+04,  4.43462913e+04,  3.50977203e+04,\n",
       "        2.29231602e+04,  6.63552646e+03,  2.18646511e+04,  1.22421932e+04,\n",
       "        1.62921483e+04,  3.38286761e+04,  5.00485676e+04,  3.09200729e+04,\n",
       "        7.06175407e+03,  3.16690400e+04,  4.29494723e+04,  1.58532564e+04,\n",
       "        2.29897425e+04,  2.52203229e+04,  1.32265253e+04,  3.47242065e+04,\n",
       "        2.31857778e+04,  3.12929867e+04,  1.16876173e+04,  1.84381255e+04,\n",
       "        3.58357204e+04,  1.94075027e+04,  5.09044578e+04,  1.90054572e+04,\n",
       "        2.83702709e+04,  3.89888625e+04,  3.72451401e+03, -1.41213218e+03,\n",
       "        2.11515528e+03,  4.39387616e+04,  1.67221278e+04,  6.33729893e+04,\n",
       "        1.65362860e+04,  2.77682695e+04,  4.81316493e+04,  5.50913933e+04,\n",
       "        5.59225536e+04,  4.31254935e+04,  4.03609379e+04,  3.38879042e+04,\n",
       "        3.66754161e+04,  1.67322143e+04,  1.27270167e+04,  2.49493831e+04,\n",
       "        2.24472307e+04,  1.82015793e+04,  3.54458117e+04,  3.93295781e+04,\n",
       "        2.63261033e+04,  4.71629512e+04,  7.87466329e+03,  2.20951081e+04,\n",
       "        1.42476652e+04, -2.99804926e+03,  2.37597897e+04,  2.31737874e+04,\n",
       "        4.77017461e+04,  3.44621753e+04,  9.63719764e+03,  5.28113885e+04,\n",
       "        4.33155054e+04,  3.37314656e+04,  2.16027385e+04,  1.06084114e+04,\n",
       "        1.94168984e+04,  4.13312293e+04,  5.32687946e+04,  4.81486529e+04,\n",
       "        1.76672587e+04,  8.20573850e+03,  2.71132937e+04, -1.52659048e+03,\n",
       "        2.98475157e+04,  2.27859612e+04,  1.80094525e+04,  1.07945399e+03,\n",
       "        3.27040016e+04,  1.70094874e+04,  7.45124746e+03, -1.80839332e+04,\n",
       "        2.45872764e+04,  5.15837740e+04,  4.99188882e+04,  1.81435562e+04,\n",
       "        1.59668191e+04,  3.20316138e+04,  1.00242184e+04,  2.95268785e+04,\n",
       "        3.64912042e+04,  4.34039984e+04,  2.34976889e+04,  2.19448937e+04,\n",
       "        1.18302612e+04,  1.25967947e+04,  2.16028166e+04,  3.05104826e+04,\n",
       "        3.87037694e+04,  1.29523157e+04,  4.73903285e+04,  2.09331460e+04,\n",
       "        2.46794906e+04,  1.37918248e+04, -1.13636039e+04,  3.82606809e+04,\n",
       "        3.60526585e+04,  2.07800866e+04,  2.60048608e+04,  3.27390883e+04,\n",
       "        1.56181215e+03,  1.70642098e+04,  3.69139702e+04,  6.18565865e+03,\n",
       "        2.94033690e+04,  4.65127293e+03,  3.19964497e+04,  2.44653778e+04,\n",
       "        7.73022761e+02,  4.24710903e+04,  1.39811263e+04,  1.28462134e+04,\n",
       "        2.80085380e+04,  4.22295602e+04,  9.76267272e+03,  2.59251977e+04,\n",
       "        3.14322475e+04,  3.53965841e+04,  2.76466233e+04,  1.94945824e+04,\n",
       "        1.25861467e+04,  2.62921582e+04,  8.91791482e+03, -1.88202573e+04,\n",
       "        3.15483971e+04,  3.85590226e+04, -1.04439865e+04,  9.85403943e+03,\n",
       "        3.42873139e+04,  5.58624320e+04,  2.53119056e+04,  1.40799559e+04])"
      ]
     },
     "execution_count": 20,
     "metadata": {},
     "output_type": "execute_result"
    }
   ],
   "source": [
    "## generating a random variable\n",
    "exp=np.random.normal(25000,15000,1000) # (mean,std, dev, no. of data points)\n",
    "exp"
   ]
  },
  {
   "cell_type": "code",
   "execution_count": null,
   "id": "60b4ac3c-7e0d-4407-bd73-b6d05050791e",
   "metadata": {},
   "outputs": [],
   "source": []
  },
  {
   "cell_type": "code",
   "execution_count": 21,
   "id": "ac34b955-3c68-49fb-a169-36644e3af1c8",
   "metadata": {},
   "outputs": [
    {
     "data": {
      "image/png": "[encoded data removed]",
      "text/plain": [
       "<Figure size 640x480 with 1 Axes>"
      ]
     },
     "metadata": {},
     "output_type": "display_data"
    }
   ],
   "source": [
    "## plotting the randomly generated exp\n",
    "plt.hist(exp)\n",
    "plt.show()"
   ]
  },
  {
   "cell_type": "code",
   "execution_count": null,
   "id": "13344c41-5bda-4e3f-94e4-9eed50f19791",
   "metadata": {},
   "outputs": [],
   "source": []
  },
  {
   "cell_type": "code",
   "execution_count": 22,
   "id": "116d227b-480c-442f-81ef-8490df23d9be",
   "metadata": {},
   "outputs": [
    {
     "data": {
      "image/png": "[encoded data removed]",
      "text/plain": [
       "<Figure size 640x480 with 1 Axes>"
      ]
     },
     "metadata": {},
     "output_type": "display_data"
    }
   ],
   "source": [
    "## plotting the randomly generated exp\n",
    "plt.hist(exp)\n",
    "plt.show()"
   ]
  },
  {
   "cell_type": "code",
   "execution_count": 23,
   "id": "abff87a0-fa16-4f37-a1fa-d0b4b84e25c1",
   "metadata": {},
   "outputs": [
    {
     "data": {
      "image/png": "[encoded data removed]",
      "text/plain": [
       "<Figure size 640x480 with 1 Axes>"
      ]
     },
     "metadata": {},
     "output_type": "display_data"
    }
   ],
   "source": [
    "import warnings\n",
    "warnings.filterwarnings('ignore')\n",
    "import seaborn as sns\n",
    "sns.distplot(exp)\n",
    "plt.show()"
   ]
  },
  {
   "cell_type": "code",
   "execution_count": 24,
   "id": "e8835cd9-cc3e-4f39-92f9-50d0e0967833",
   "metadata": {},
   "outputs": [
    {
     "data": {
      "text/plain": [
       "26076.568021529427"
      ]
     },
     "execution_count": 24,
     "metadata": {},
     "output_type": "execute_result"
    }
   ],
   "source": [
    "## calculating mean\n",
    "np.mean(exp)"
   ]
  },
  {
   "cell_type": "code",
   "execution_count": 25,
   "id": "b9f11ee2-3431-4d67-b15e-fc78680f9a4b",
   "metadata": {},
   "outputs": [
    {
     "data": {
      "text/plain": [
       "25909.826648261092"
      ]
     },
     "execution_count": 25,
     "metadata": {},
     "output_type": "execute_result"
    }
   ],
   "source": [
    "## calculating median\n",
    "np.median(exp)"
   ]
  },
  {
   "cell_type": "code",
   "execution_count": 26,
   "id": "4235c9b0-9049-412c-a42c-e9cefcce1a79",
   "metadata": {},
   "outputs": [],
   "source": [
    "## adding one huge point,outlier\n",
    "exp=np.append(exp,[100000])"
   ]
  },
  {
   "cell_type": "code",
   "execution_count": 27,
   "id": "a9f28da6-fd9d-45b1-b906-fbdd6b4625f2",
   "metadata": {},
   "outputs": [
    {
     "data": {
      "text/plain": [
       "<Axes: ylabel='Density'>"
      ]
     },
     "execution_count": 27,
     "metadata": {},
     "output_type": "execute_result"
    },
    {
     "data": {
      "image/png": "[encoded data removed]",
      "text/plain": [
       "<Figure size 640x480 with 1 Axes>"
      ]
     },
     "metadata": {},
     "output_type": "display_data"
    }
   ],
   "source": [
    "import seaborn as sns\n",
    "sns.distplot(exp)"
   ]
  },
  {
   "cell_type": "code",
   "execution_count": 28,
   "id": "30cec44b-2eb4-4975-9c40-33d6769cf445",
   "metadata": {},
   "outputs": [
    {
     "data": {
      "text/plain": [
       "26150.417603925503"
      ]
     },
     "execution_count": 28,
     "metadata": {},
     "output_type": "execute_result"
    }
   ],
   "source": [
    "np.mean(exp)"
   ]
  },
  {
   "cell_type": "code",
   "execution_count": 29,
   "id": "778fa0ac-edf0-4eae-8bda-842bf65796e7",
   "metadata": {},
   "outputs": [
    {
     "data": {
      "text/plain": [
       "25925.197747719576"
      ]
     },
     "execution_count": 29,
     "metadata": {},
     "output_type": "execute_result"
    }
   ],
   "source": [
    "np.median(exp)"
   ]
  },
  {
   "cell_type": "code",
   "execution_count": 30,
   "id": "1af1086a-d479-4e9a-8cb2-61f2f10e762a",
   "metadata": {},
   "outputs": [],
   "source": [
    "exp=np.random.randint(15,high=50,size=200)"
   ]
  },
  {
   "cell_type": "code",
   "execution_count": 31,
   "id": "329da0ad-cd82-4863-a1b9-3aadb14f81aa",
   "metadata": {},
   "outputs": [
    {
     "data": {
      "text/plain": [
       "array([24, 49, 46, 21, 35, 34, 40, 18, 36, 29, 35, 29, 36, 42, 28, 41, 42,\n",
       "       40, 16, 39, 17, 22, 47, 49, 20, 37, 39, 33, 19, 25, 26, 24, 22, 38,\n",
       "       42, 35, 22, 23, 29, 32, 34, 20, 26, 16, 21, 30, 17, 17, 41, 47, 42,\n",
       "       15, 22, 46, 18, 44, 20, 33, 46, 23, 26, 25, 30, 15, 35, 44, 27, 48,\n",
       "       18, 42, 45, 41, 19, 39, 17, 47, 18, 39, 34, 48, 40, 19, 49, 42, 43,\n",
       "       23, 20, 33, 25, 16, 23, 35, 38, 48, 36, 17, 26, 42, 44, 40, 35, 42,\n",
       "       40, 47, 35, 49, 48, 32, 25, 37, 36, 31, 19, 25, 44, 29, 41, 49, 47,\n",
       "       34, 30, 48, 16, 49, 42, 20, 23, 34, 15, 22, 37, 17, 18, 39, 29, 35,\n",
       "       49, 28, 26, 31, 23, 49, 27, 29, 32, 47, 20, 41, 37, 41, 48, 28, 22,\n",
       "       49, 33, 44, 28, 34, 39, 38, 28, 40, 37, 36, 33, 17, 33, 23, 42, 34,\n",
       "       21, 28, 23, 33, 28, 31, 44, 23, 47, 39, 28, 25, 49, 28, 44, 18, 18,\n",
       "       42, 22, 16, 36, 30, 43, 44, 26, 49, 25, 35, 35, 19])"
      ]
     },
     "execution_count": 31,
     "metadata": {},
     "output_type": "execute_result"
    }
   ],
   "source": [
    "exp"
   ]
  },
  {
   "cell_type": "code",
   "execution_count": 32,
   "id": "f3a9aacf-dff2-4a38-8351-5cbb6bfd0585",
   "metadata": {},
   "outputs": [],
   "source": [
    "from scipy import stats"
   ]
  },
  {
   "cell_type": "code",
   "execution_count": 33,
   "id": "06f2b026-7dea-4a5d-a6c2-bd0b7bd1c0e2",
   "metadata": {},
   "outputs": [
    {
     "data": {
      "text/plain": [
       "ModeResult(mode=42, count=11)"
      ]
     },
     "execution_count": 33,
     "metadata": {},
     "output_type": "execute_result"
    }
   ],
   "source": [
    "stats.mode(exp)"
   ]
  },
  {
   "cell_type": "code",
   "execution_count": 34,
   "id": "a548d2ea-b8f7-4819-aec0-d254988ada94",
   "metadata": {},
   "outputs": [
    {
     "data": {
      "text/plain": [
       "<Axes: ylabel='Density'>"
      ]
     },
     "execution_count": 34,
     "metadata": {},
     "output_type": "execute_result"
    },
    {
     "data": {
      "image/png": "[encoded data removed]",
      "text/plain": [
       "<Figure size 640x480 with 1 Axes>"
      ]
     },
     "metadata": {},
     "output_type": "display_data"
    }
   ],
   "source": [
    "import seaborn as sns\n",
    "sns.distplot(exp)"
   ]
  },
  {
   "cell_type": "code",
   "execution_count": 35,
   "id": "743e4f22-f88c-40d3-abc9-46ad4e6b8294",
   "metadata": {},
   "outputs": [],
   "source": [
    "data=[346,47,56,2,36,39,75,79,88,89,91,92,93,96,97,101,105,112,115]"
   ]
  },
  {
   "cell_type": "code",
   "execution_count": 36,
   "id": "809dc103-11c3-452c-a54b-1bf9c51cf12d",
   "metadata": {},
   "outputs": [],
   "source": [
    "IQR= stats.iqr(data,interpolation='midpoint')"
   ]
  },
  {
   "cell_type": "code",
   "execution_count": 37,
   "id": "8de94a3d-a1ef-4ac9-8442-2ae4017632e2",
   "metadata": {},
   "outputs": [
    {
     "data": {
      "text/plain": [
       "346"
      ]
     },
     "execution_count": 37,
     "metadata": {},
     "output_type": "execute_result"
    }
   ],
   "source": [
    "max(data)"
   ]
  },
  {
   "cell_type": "code",
   "execution_count": 38,
   "id": "b25d15e4-b058-4c0a-8235-557a9153f25e",
   "metadata": {},
   "outputs": [],
   "source": [
    "IQR= stats.iqr(data,interpolation='midpoint')"
   ]
  },
  {
   "cell_type": "code",
   "execution_count": 54,
   "id": "a3c960c4-1ff3-4c7b-bd52-460175448797",
   "metadata": {},
   "outputs": [
    {
     "data": {
      "text/plain": [
       "33.5"
      ]
     },
     "execution_count": 54,
     "metadata": {},
     "output_type": "execute_result"
    }
   ],
   "source": [
    "IQR"
   ]
  },
  {
   "cell_type": "code",
   "execution_count": 55,
   "id": "5c0e6b59-0b7a-4349-b420-4d602845a700",
   "metadata": {},
   "outputs": [
    {
     "data": {
      "image/png": "[encoded data removed]",
      "text/plain": [
       "<Figure size 640x480 with 1 Axes>"
      ]
     },
     "metadata": {},
     "output_type": "display_data"
    },
    {
     "data": {
      "image/png": "[encoded data removed]",
      "text/plain": [
       "<Figure size 640x480 with 1 Axes>"
      ]
     },
     "metadata": {},
     "output_type": "display_data"
    }
   ],
   "source": [
    "import matplotlib.pyplot as plt\n",
    "import numpy as np\n",
    "\n",
    "# Example data\n",
    "data = np.random.randn(100)\n",
    "\n",
    "# Identify outliers using Interquartile Range (IQR)\n",
    "q1 = np.percentile(data, 25)\n",
    "q3 = np.percentile(data, 75)\n",
    "iqr = q3 - q1\n",
    "lower_bound = q1 - 1.5 * iqr\n",
    "upper_bound = q3 + 1.5 * iqr\n",
    "\n",
    "outliers = []\n",
    "for point in data:\n",
    "    if point < lower_bound or point > upper_bound:\n",
    "        outliers.append(point)\n",
    "\n",
    "# Visualize outliers with box plot\n",
    "plt.boxplot(data)\n",
    "plt.scatter(np.arange(len(outliers)), outliers, color='red')\n",
    "plt.xlabel(\"Data points\")\n",
    "plt.ylabel(\"Values\")\n",
    "plt.title(\"Box plot with outliers identified in red\")\n",
    "plt.show()\n",
    "\n",
    "# Alternatively, visualize outliers with scatter plot\n",
    "plt.scatter(data, np.arange(len(data)))\n",
    "plt.axhline(y=lower_bound, color='red', linestyle='--', label='Lower bound')\n",
    "plt.axhline(y=upper_bound, color='red', linestyle='--', label='Upper bound')\n",
    "plt.scatter(outliers, np.arange(len(outliers)), color='red', label='Outliers')\n",
    "plt.legend()\n",
    "plt.xlabel(\"Values\")\n",
    "plt.ylabel(\"Data points\")\n",
    "plt.title(\"Scatter plot with outliers identified in red\")\n",
    "plt.show()"
   ]
  },
  {
   "cell_type": "code",
   "execution_count": 58,
   "id": "daabde4e-d088-4e7a-9ae3-7f182438e74d",
   "metadata": {},
   "outputs": [
    {
     "data": {
      "image/png": "[encoded data removed]",
      "text/plain": [
       "<Figure size 1000x800 with 2 Axes>"
      ]
     },
     "metadata": {},
     "output_type": "display_data"
    }
   ],
   "source": [
    "import numpy as np\n",
    "import pandas as pd\n",
    "import matplotlib.pyplot as plt\n",
    "\n",
    "# Sample data\n",
    "data = pd.DataFrame({\n",
    "    \"feature1\": np.random.randn(100),\n",
    "    \"feature2\": np.random.randn(100),\n",
    "    \"feature3\": np.random.randn(100),\n",
    "})\n",
    "\n",
    "# Compute the correlation matrix\n",
    "correlation_matrix = data.corr()\n",
    "\n",
    "# Create the heatmap\n",
    "plt.figure(figsize=(10, 8))\n",
    "ax = plt.axes() \n",
    "cax = ax.matshow(correlation_matrix, cmap=\"coolwarm\")\n",
    "\n",
    "# Add colorbar\n",
    "plt.colorbar(cax)\n",
    "\n",
    "# Add labels for each cell\n",
    "for (i, j), z in np.ndenumerate(correlation_matrix):\n",
    "    ax.text(j, i, \"{:0.2f}\".format(z), ha=\"center\", va=\"center\", fontsize=8)\n",
    "\n",
    "# Add axis labels and title\n",
    "plt.xlabel(\"Features\")\n",
    "plt.ylabel(\"Features\")\n",
    "plt.title(\"Correlation Matrix\")\n",
    "\n",
    "# Rotate x-axis labels for better readability\n",
    "plt.xticks(rotation=45)\n",
    "\n",
    "# Show the plot\n",
    "plt.tight_layout()\n",
    "plt.show()  "
   ]
  },
  {
   "cell_type": "code",
   "execution_count": 1,
   "id": "6740a4f1-4b53-4287-84b8-f879f5f6ea6a",
   "metadata": {},
   "outputs": [
    {
     "name": "stdout",
     "output_type": "stream",
     "text": [
      "Requirement already satisfied: numpy in c:\\users\\dhanu\\anaconda3\\lib\\site-packages (1.25.2)\n",
      "Collecting numpy\n",
      "  Obtaining dependency information for numpy from https://files.pythonhosted.org/packages/da/3c/3ff05c2855eee52588f489a4e607e4a61699a0742aa03ccf641c77f9eb0a/numpy-1.26.2-cp311-cp311-win_amd64.whl.metadata\n",
      "  Using cached numpy-1.26.2-cp311-cp311-win_amd64.whl.metadata (61 kB)\n",
      "Using cached numpy-1.26.2-cp311-cp311-win_amd64.whl (15.8 MB)\n",
      "Installing collected packages: numpy\n",
      "  Attempting uninstall: numpy\n",
      "    Found existing installation: numpy 1.25.2\n",
      "    Uninstalling numpy-1.25.2:\n",
      "      Successfully uninstalled numpy-1.25.2\n",
      "Successfully installed numpy-1.26.2\n",
      "Note: you may need to restart the kernel to use updated packages.\n"
     ]
    },
    {
     "name": "stderr",
     "output_type": "stream",
     "text": [
      "ERROR: pip's dependency resolver does not currently take into account all the packages that are installed. This behaviour is the source of the following dependency conflicts.\n",
      "gensim 4.3.0 requires FuzzyTM>=0.4.0, which is not installed.\n",
      "tables 3.8.0 requires blosc2~=2.0.0, which is not installed.\n",
      "tables 3.8.0 requires cython>=0.29.21, which is not installed.\n",
      "transformers 2.1.1 requires sentencepiece, which is not installed.\n",
      "numba 0.58.0 requires numpy<1.26,>=1.21, but you have numpy 1.26.2 which is incompatible.\n"
     ]
    }
   ],
   "source": [
    " pip install --upgrade numpy"
   ]
  },
  {
   "cell_type": "code",
   "execution_count": 3,
   "id": "ff89dec8-2df3-4cc5-9562-55fb2d0fc51e",
   "metadata": {},
   "outputs": [
    {
     "name": "stdout",
     "output_type": "stream",
     "text": [
      "Package                       Version\n",
      "----------------------------- ---------------\n",
      "absl-py                       2.0.0\n",
      "aiobotocore                   2.5.0\n",
      "aiohttp                       3.9.0\n",
      "aioitertools                  0.7.1\n",
      "aiosignal                     1.2.0\n",
      "alabaster                     0.7.12\n",
      "altgraph                      0.17.4\n",
      "anaconda-anon-usage           0.4.2\n",
      "anaconda-catalogs             0.2.0\n",
      "anaconda-client               1.12.1\n",
      "anaconda-project              0.11.1\n",
      "anyio                         3.5.0\n",
      "appdirs                       1.4.4\n",
      "archspec                      0.2.1\n",
      "argon2-cffi                   21.3.0\n",
      "argon2-cffi-bindings          21.2.0\n",
      "arrow                         1.2.3\n",
      "astroid                       2.14.2\n",
      "astropy                       5.3.4\n",
      "asttokens                     2.0.5\n",
      "astunparse                    1.6.3\n",
      "async-lru                     2.0.4\n",
      "atomicwrites                  1.4.0\n",
      "attrs                         23.1.0\n",
      "Automat                       20.2.0\n",
      "autopep8                      1.6.0\n",
      "Babel                         2.11.0\n",
      "backcall                      0.2.0\n",
      "backports.functools-lru-cache 1.6.4\n",
      "backports.tempfile            1.0\n",
      "backports.weakref             1.0.post1\n",
      "bcrypt                        3.2.0\n",
      "beautifulsoup4                4.12.2\n",
      "binaryornot                   0.4.4\n",
      "black                         23.11.0\n",
      "bleach                        4.1.0\n",
      "bokeh                         3.3.0\n",
      "boltons                       23.0.0\n",
      "boto3                         1.26.76\n",
      "botocore                      1.29.76\n",
      "Bottleneck                    1.3.5\n",
      "Brotli                        1.0.9\n",
      "cachetools                    5.3.2\n",
      "certifi                       2023.11.17\n",
      "cffi                          1.16.0\n",
      "chardet                       4.0.0\n",
      "charset-normalizer            2.0.4\n",
      "click                         8.1.7\n",
      "cloudpickle                   2.2.1\n",
      "clyent                        1.2.2\n",
      "colorama                      0.4.6\n",
      "colorcet                      3.0.1\n",
      "comm                          0.1.2\n",
      "conda                         23.10.0\n",
      "conda-build                   3.26.1\n",
      "conda-content-trust           0.2.0\n",
      "conda_index                   0.3.0\n",
      "conda-libmamba-solver         23.11.1\n",
      "conda-pack                    0.6.0\n",
      "conda-package-handling        2.2.0\n",
      "conda_package_streaming       0.9.0\n",
      "conda-token                   0.4.0\n",
      "conda-verify                  3.4.2\n",
      "constantly                    15.1.0\n",
      "contourpy                     1.2.0\n",
      "cookiecutter                  2.5.0\n",
      "cryptography                  41.0.3\n",
      "cssselect                     1.1.0\n",
      "cycler                        0.11.0\n",
      "cytoolz                       0.12.0\n",
      "daal4py                       2023.1.1\n",
      "dask                          2023.6.0\n",
      "datashader                    0.16.0\n",
      "debugpy                       1.6.7\n",
      "decorator                     5.1.1\n",
      "defusedxml                    0.7.1\n",
      "diff-match-patch              20200713\n",
      "dill                          0.3.7\n",
      "distributed                   2023.6.0\n",
      "docstring-to-markdown         0.11\n",
      "docutils                      0.18.1\n",
      "entrypoints                   0.4\n",
      "et-xmlfile                    1.1.0\n",
      "executing                     0.8.3\n",
      "fastjsonschema                2.16.2\n",
      "filelock                      3.13.1\n",
      "flake8                        6.0.0\n",
      "Flask                         2.2.2\n",
      "flatbuffers                   23.5.26\n",
      "fonttools                     4.25.0\n",
      "frozenlist                    1.4.0\n",
      "fsspec                        2023.4.0\n",
      "future                        0.18.3\n",
      "gast                          0.5.4\n",
      "gensim                        4.3.0\n",
      "glob2                         0.7\n",
      "google-auth                   2.23.4\n",
      "google-auth-oauthlib          1.1.0\n",
      "google-pasta                  0.2.0\n",
      "greenlet                      2.0.1\n",
      "grpcio                        1.59.3\n",
      "h5py                          3.9.0\n",
      "HeapDict                      1.0.1\n",
      "holoviews                     1.18.1\n",
      "hvplot                        0.9.0\n",
      "hyperlink                     21.0.0\n",
      "idna                          3.4\n",
      "imagecodecs                   2023.1.23\n",
      "imageio                       2.31.4\n",
      "imagesize                     1.4.1\n",
      "imbalanced-learn              0.11.0\n",
      "importlib-metadata            6.0.0\n",
      "incremental                   21.3.0\n",
      "inflection                    0.5.1\n",
      "iniconfig                     1.1.1\n",
      "intake                        0.6.8\n",
      "intervaltree                  3.1.0\n",
      "ipykernel                     6.25.0\n",
      "ipython                       8.15.0\n",
      "ipython-genutils              0.2.0\n",
      "ipywidgets                    8.0.4\n",
      "isort                         5.9.3\n",
      "itemadapter                   0.3.0\n",
      "itemloaders                   1.0.4\n",
      "itsdangerous                  2.0.1\n",
      "jaraco.classes                3.2.1\n",
      "jedi                          0.18.1\n",
      "jellyfish                     1.0.1\n",
      "Jinja2                        3.1.2\n",
      "jmespath                      1.0.1\n",
      "joblib                        1.2.0\n",
      "json5                         0.9.6\n",
      "jsonpatch                     1.32\n",
      "jsonpointer                   2.1\n",
      "jsonschema                    4.19.2\n",
      "jsonschema-specifications     2023.7.1\n",
      "jupyter                       1.0.0\n",
      "jupyter_client                8.6.0\n",
      "jupyter-console               6.6.3\n",
      "jupyter_core                  5.5.0\n",
      "jupyter-events                0.8.0\n",
      "jupyter-lsp                   2.2.0\n",
      "jupyter_server                2.10.0\n",
      "jupyter_server_terminals      0.4.4\n",
      "jupyterlab                    4.0.8\n",
      "jupyterlab-pygments           0.1.2\n",
      "jupyterlab_server             2.25.1\n",
      "jupyterlab-widgets            3.0.9\n",
      "kaleido                       0.2.1\n",
      "keras                         2.15.0\n",
      "keyring                       23.13.1\n",
      "kiwisolver                    1.4.4\n",
      "lazy_loader                   0.3\n",
      "lazy-object-proxy             1.6.0\n",
      "libarchive-c                  2.9\n",
      "libclang                      16.0.6\n",
      "libmambapy                    1.5.3\n",
      "linkify-it-py                 2.0.0\n",
      "llvmlite                      0.41.0\n",
      "lmdb                          1.4.1\n",
      "locket                        1.0.0\n",
      "lxml                          4.9.3\n",
      "lz4                           4.3.2\n",
      "Markdown                      3.4.1\n",
      "markdown-it-py                2.2.0\n",
      "MarkupSafe                    2.1.1\n",
      "matplotlib                    3.8.0\n",
      "matplotlib-inline             0.1.6\n",
      "mccabe                        0.7.0\n",
      "mdit-py-plugins               0.3.0\n",
      "mdurl                         0.1.0\n",
      "menuinst                      1.4.19\n",
      "mistune                       2.0.4\n",
      "mkl-fft                       1.3.8\n",
      "mkl-random                    1.2.4\n",
      "mkl-service                   2.4.0\n",
      "ml-dtypes                     0.2.0\n",
      "more-itertools                10.1.0\n",
      "mpmath                        1.3.0\n",
      "msgpack                       1.0.3\n",
      "multidict                     6.0.4\n",
      "multipledispatch              0.6.0\n",
      "munkres                       1.1.4\n",
      "mypy-extensions               1.0.0\n",
      "nbclient                      0.8.0\n",
      "nbconvert                     7.10.0\n",
      "nbformat                      5.9.2\n",
      "nest-asyncio                  1.5.6\n",
      "networkx                      3.1\n",
      "nltk                          3.8.1\n",
      "notebook                      7.0.6\n",
      "notebook_shim                 0.2.3\n",
      "numba                         0.58.0\n",
      "numexpr                       2.8.7\n",
      "numpy                         1.26.2\n",
      "numpydoc                      1.5.0\n",
      "oauthlib                      3.2.2\n",
      "openpyxl                      3.0.10\n",
      "opt-einsum                    3.3.0\n",
      "overrides                     7.4.0\n",
      "packaging                     23.1\n",
      "pandas                        2.1.1\n",
      "pandocfilters                 1.5.0\n",
      "panel                         1.3.1\n",
      "param                         2.0.1\n",
      "paramiko                      2.8.1\n",
      "parsel                        1.6.0\n",
      "parso                         0.8.3\n",
      "partd                         1.4.1\n",
      "pathspec                      0.10.3\n",
      "patsy                         0.5.3\n",
      "pefile                        2023.2.7\n",
      "pep8                          1.7.1\n",
      "pexpect                       4.8.0\n",
      "pickleshare                   0.7.5\n",
      "Pillow                        10.0.1\n",
      "pip                           23.2.1\n",
      "pkginfo                       1.9.6\n",
      "platformdirs                  3.10.0\n",
      "plotly                        5.9.0\n",
      "pluggy                        1.0.0\n",
      "ply                           3.11\n",
      "prometheus-client             0.14.1\n",
      "prompt-toolkit                3.0.36\n",
      "Protego                       0.1.16\n",
      "protobuf                      4.23.4\n",
      "psutil                        5.9.0\n",
      "ptyprocess                    0.7.0\n",
      "pure-eval                     0.2.2\n",
      "py                            1.11.0\n",
      "py-cpuinfo                    9.0.0\n",
      "pyarrow                       11.0.0\n",
      "pyasn1                        0.4.8\n",
      "pyasn1-modules                0.2.8\n",
      "pycodestyle                   2.10.0\n",
      "pycosat                       0.6.6\n",
      "pycparser                     2.21\n",
      "pyct                          0.5.0\n",
      "pycurl                        7.45.2\n",
      "PyDispatcher                  2.0.5\n",
      "pydocstyle                    6.3.0\n",
      "pyerfa                        2.0.0\n",
      "pyflakes                      3.0.1\n",
      "Pygments                      2.15.1\n",
      "pyinstaller                   6.2.0\n",
      "pyinstaller-hooks-contrib     2023.10\n",
      "pylint                        2.16.2\n",
      "pylint-venv                   2.3.0\n",
      "pyls-spyder                   0.4.0\n",
      "PyNaCl                        1.5.0\n",
      "pyodbc                        4.0.39\n",
      "pyOpenSSL                     23.2.0\n",
      "pyparsing                     3.0.9\n",
      "PyQt5                         5.15.10\n",
      "PyQt5-sip                     12.13.0\n",
      "PyQtWebEngine                 5.15.6\n",
      "PySocks                       1.7.1\n",
      "pytest                        7.4.0\n",
      "python-dateutil               2.8.2\n",
      "python-json-logger            2.0.7\n",
      "python-lsp-black              1.2.1\n",
      "python-lsp-jsonrpc            1.0.0\n",
      "python-lsp-server             1.7.2\n",
      "python-slugify                5.0.2\n",
      "python-snappy                 0.6.1\n",
      "pytoolconfig                  1.2.5\n",
      "pytz                          2023.3.post1\n",
      "pyviz-comms                   2.3.0\n",
      "PyWavelets                    1.4.1\n",
      "pywin32                       305.1\n",
      "pywin32-ctypes                0.2.2\n",
      "pywinpty                      2.0.10\n",
      "PyYAML                        6.0.1\n",
      "pyzmq                         25.1.0\n",
      "QDarkStyle                    3.0.2\n",
      "qstylizer                     0.2.2\n",
      "QtAwesome                     1.2.2\n",
      "qtconsole                     5.4.2\n",
      "QtPy                          2.4.1\n",
      "queuelib                      1.6.2\n",
      "referencing                   0.30.2\n",
      "regex                         2023.10.3\n",
      "requests                      2.31.0\n",
      "requests-file                 1.5.1\n",
      "requests-oauthlib             1.3.1\n",
      "requests-toolbelt             1.0.0\n",
      "rfc3339-validator             0.1.4\n",
      "rfc3986-validator             0.1.1\n",
      "rich                          13.3.5\n",
      "rope                          1.7.0\n",
      "rpds-py                       0.10.6\n",
      "rsa                           4.9\n",
      "Rtree                         1.0.1\n",
      "ruamel.yaml                   0.17.21\n",
      "ruamel-yaml-conda             0.17.21\n",
      "s3fs                          2023.4.0\n",
      "s3transfer                    0.6.0\n",
      "sacremoses                    0.0.43\n",
      "scikit-image                  0.20.0\n",
      "scikit-learn                  1.2.2\n",
      "scikit-learn-intelex          20230426.121932\n",
      "scipy                         1.11.3\n",
      "Scrapy                        2.8.0\n",
      "seaborn                       0.12.2\n",
      "Send2Trash                    1.8.2\n",
      "service-identity              18.1.0\n",
      "setuptools                    68.0.0\n",
      "sip                           6.7.12\n",
      "six                           1.16.0\n",
      "smart-open                    5.2.1\n",
      "sniffio                       1.2.0\n",
      "snowballstemmer               2.2.0\n",
      "sortedcontainers              2.4.0\n",
      "soupsieve                     2.5\n",
      "Sphinx                        5.0.2\n",
      "sphinxcontrib-applehelp       1.0.2\n",
      "sphinxcontrib-devhelp         1.0.2\n",
      "sphinxcontrib-htmlhelp        2.0.0\n",
      "sphinxcontrib-jsmath          1.0.1\n",
      "sphinxcontrib-qthelp          1.0.3\n",
      "sphinxcontrib-serializinghtml 1.1.5\n",
      "spyder                        5.4.3\n",
      "spyder-kernels                2.4.4\n",
      "SQLAlchemy                    2.0.21\n",
      "stack-data                    0.2.0\n",
      "statsmodels                   0.14.0\n",
      "sympy                         1.11.1\n",
      "tables                        3.8.0\n",
      "tabulate                      0.8.10\n",
      "TBB                           0.2\n",
      "tblib                         1.7.0\n",
      "tenacity                      8.2.2\n",
      "tensorboard                   2.15.1\n",
      "tensorboard-data-server       0.7.2\n",
      "tensorflow                    2.15.0\n",
      "tensorflow-estimator          2.15.0\n",
      "tensorflow-intel              2.15.0\n",
      "tensorflow-io-gcs-filesystem  0.31.0\n",
      "termcolor                     2.3.0\n",
      "terminado                     0.17.1\n",
      "text-unidecode                1.3\n",
      "textdistance                  4.2.1\n",
      "threadpoolctl                 2.2.0\n",
      "three-merge                   0.1.1\n",
      "tifffile                      2023.4.12\n",
      "tinycss2                      1.2.1\n",
      "tldextract                    3.2.0\n",
      "toml                          0.10.2\n",
      "tomlkit                       0.11.1\n",
      "toolz                         0.12.0\n",
      "tornado                       6.3.3\n",
      "tqdm                          4.65.0\n",
      "traitlets                     5.7.1\n",
      "transformers                  2.1.1\n",
      "truststore                    0.8.0\n",
      "Twisted                       22.10.0\n",
      "twisted-iocpsupport           1.0.2\n",
      "typing_extensions             4.7.1\n",
      "tzdata                        2023.3\n",
      "uc-micro-py                   1.0.1\n",
      "ujson                         5.4.0\n",
      "Unidecode                     1.2.0\n",
      "urllib3                       1.26.18\n",
      "w3lib                         1.21.0\n",
      "watchdog                      2.1.6\n",
      "wcwidth                       0.2.5\n",
      "webencodings                  0.5.1\n",
      "websocket-client              0.58.0\n",
      "Werkzeug                      2.2.3\n",
      "whatthepatch                  1.0.2\n",
      "wheel                         0.38.4\n",
      "widgetsnbextension            4.0.5\n",
      "win-inet-pton                 1.1.0\n",
      "wrapt                         1.14.1\n",
      "xarray                        2023.6.0\n",
      "xlwings                       0.29.1\n",
      "xyzservices                   2022.9.0\n",
      "yapf                          0.31.0\n",
      "yarl                          1.9.3\n",
      "zict                          3.0.0\n",
      "zipp                          3.11.0\n",
      "zope.interface                5.4.0\n",
      "zstandard                     0.19.0\n",
      "Note: you may need to restart the kernel to use updated packages.\n"
     ]
    }
   ],
   "source": [
    "pip list"
   ]
  },
  {
   "cell_type": "code",
   "execution_count": 1,
   "id": "b97feafd-f38d-42a9-a059-67311fb3edd6",
   "metadata": {},
   "outputs": [
    {
     "name": "stdout",
     "output_type": "stream",
     "text": [
      "Requirement already satisfied: numpy in c:\\users\\dhanu\\anaconda3\\lib\\site-packages (1.26.2)\n",
      "Note: you may need to restart the kernel to use updated packages.\n"
     ]
    }
   ],
   "source": [
    "pip install --upgrade numpy"
   ]
  },
  {
   "cell_type": "code",
   "execution_count": 4,
   "id": "2c4df289-2d85-43d8-897c-82dfc7a87d40",
   "metadata": {},
   "outputs": [
    {
     "name": "stdout",
     "output_type": "stream",
     "text": [
      "Requirement already satisfied: statsmodels in c:\\users\\dhanu\\anaconda3\\lib\\site-packages (0.14.0)\n",
      "Requirement already satisfied: numpy>=1.18 in c:\\users\\dhanu\\anaconda3\\lib\\site-packages (from statsmodels) (1.26.2)\n",
      "Requirement already satisfied: scipy!=1.9.2,>=1.4 in c:\\users\\dhanu\\anaconda3\\lib\\site-packages (from statsmodels) (1.11.3)\n",
      "Requirement already satisfied: pandas>=1.0 in c:\\users\\dhanu\\anaconda3\\lib\\site-packages (from statsmodels) (2.1.1)\n",
      "Requirement already satisfied: patsy>=0.5.2 in c:\\users\\dhanu\\anaconda3\\lib\\site-packages (from statsmodels) (0.5.3)\n",
      "Requirement already satisfied: packaging>=21.3 in c:\\users\\dhanu\\anaconda3\\lib\\site-packages (from statsmodels) (23.1)\n",
      "Requirement already satisfied: python-dateutil>=2.8.2 in c:\\users\\dhanu\\anaconda3\\lib\\site-packages (from pandas>=1.0->statsmodels) (2.8.2)\n",
      "Requirement already satisfied: pytz>=2020.1 in c:\\users\\dhanu\\anaconda3\\lib\\site-packages (from pandas>=1.0->statsmodels) (2023.3.post1)\n",
      "Requirement already satisfied: tzdata>=2022.1 in c:\\users\\dhanu\\anaconda3\\lib\\site-packages (from pandas>=1.0->statsmodels) (2023.3)\n",
      "Requirement already satisfied: six in c:\\users\\dhanu\\anaconda3\\lib\\site-packages (from patsy>=0.5.2->statsmodels) (1.16.0)\n"
     ]
    }
   ],
   "source": [
    "!pip install statsmodels"
   ]
  },
  {
   "cell_type": "code",
   "execution_count": 5,
   "id": "54db34e4-aff3-43f6-b70a-e5eaaa2f3772",
   "metadata": {},
   "outputs": [
    {
     "data": {
      "image/png": "[encoded data removed]",
      "text/plain": [
       "<Figure size 640x480 with 1 Axes>"
      ]
     },
     "metadata": {},
     "output_type": "display_data"
    },
    {
     "data": {
      "image/png": "[encoded data removed]",
      "text/plain": [
       "<Figure size 640x480 with 1 Axes>"
      ]
     },
     "metadata": {},
     "output_type": "display_data"
    }
   ],
   "source": [
    "import numpy as np\n",
    "import statsmodels.api as sm\n",
    "import pylab as py\n",
    "import warnings\n",
    "warnings.filterwarnings(\"ignore\")\n",
    "\n",
    "data_points=np.random.normal(0,1,100)\n",
    "\n",
    "data=np.random.randint(0,100,1000)\n",
    "\n",
    "sm.qqplot(data_points,line=\"45\")\n",
    "sm.qqplot(data, line=\"45\")\n",
    "py.show()"
   ]
  },
  {
   "cell_type": "code",
   "execution_count": 8,
   "id": "80bc6d51-584f-482d-8338-2cdeda26e60b",
   "metadata": {},
   "outputs": [
    {
     "name": "stdout",
     "output_type": "stream",
     "text": [
      "Requirement already satisfied: statsmodels in c:\\users\\dhanu\\anaconda3\\lib\\site-packages (0.14.0)\n",
      "Requirement already satisfied: numpy>=1.18 in c:\\users\\dhanu\\anaconda3\\lib\\site-packages (from statsmodels) (1.26.2)\n",
      "Requirement already satisfied: scipy!=1.9.2,>=1.4 in c:\\users\\dhanu\\anaconda3\\lib\\site-packages (from statsmodels) (1.11.3)\n",
      "Requirement already satisfied: pandas>=1.0 in c:\\users\\dhanu\\anaconda3\\lib\\site-packages (from statsmodels) (2.1.1)\n",
      "Requirement already satisfied: patsy>=0.5.2 in c:\\users\\dhanu\\anaconda3\\lib\\site-packages (from statsmodels) (0.5.3)\n",
      "Requirement already satisfied: packaging>=21.3 in c:\\users\\dhanu\\anaconda3\\lib\\site-packages (from statsmodels) (23.1)\n",
      "Requirement already satisfied: python-dateutil>=2.8.2 in c:\\users\\dhanu\\anaconda3\\lib\\site-packages (from pandas>=1.0->statsmodels) (2.8.2)\n",
      "Requirement already satisfied: pytz>=2020.1 in c:\\users\\dhanu\\anaconda3\\lib\\site-packages (from pandas>=1.0->statsmodels) (2023.3.post1)\n",
      "Requirement already satisfied: tzdata>=2022.1 in c:\\users\\dhanu\\anaconda3\\lib\\site-packages (from pandas>=1.0->statsmodels) (2023.3)\n",
      "Requirement already satisfied: six in c:\\users\\dhanu\\anaconda3\\lib\\site-packages (from patsy>=0.5.2->statsmodels) (1.16.0)\n"
     ]
    }
   ],
   "source": [
    "!pip install statsmodels"
   ]
  },
  {
   "cell_type": "code",
   "execution_count": null,
   "id": "8ac662d7-2fca-4767-a9a2-409c1bfcbb6e",
   "metadata": {},
   "outputs": [],
   "source": []
  },
  {
   "cell_type": "code",
   "execution_count": 9,
   "id": "ddf0741d-ea7f-4a97-8afc-2aed37081482",
   "metadata": {},
   "outputs": [
    {
     "name": "stdout",
     "output_type": "stream",
     "text": [
      "Requirement already satisfied: numpy in c:\\users\\dhanu\\anaconda3\\lib\\site-packages (1.26.2)\n",
      "Note: you may need to restart the kernel to use updated packages.\n"
     ]
    }
   ],
   "source": [
    "pip install --upgrade numpy"
   ]
  },
  {
   "cell_type": "code",
   "execution_count": 34,
   "id": "93093c5e-7a8e-4924-a014-9bc08dc51bd1",
   "metadata": {},
   "outputs": [],
   "source": [
    "import matplotlib.pyplot as plt\n",
    "import seaborn as sns  # visualization package\n",
    "import pandas as pd\n",
    "import numpy as np\n"
   ]
  },
  {
   "cell_type": "code",
   "execution_count": 35,
   "id": "232164e8-5a12-4967-ae67-f0726d857559",
   "metadata": {},
   "outputs": [
    {
     "data": {
      "text/plain": [
       "['anagrams',\n",
       " 'anscombe',\n",
       " 'attention',\n",
       " 'brain_networks',\n",
       " 'car_crashes',\n",
       " 'diamonds',\n",
       " 'dots',\n",
       " 'dowjones',\n",
       " 'exercise',\n",
       " 'flights',\n",
       " 'fmri',\n",
       " 'geyser',\n",
       " 'glue',\n",
       " 'healthexp',\n",
       " 'iris',\n",
       " 'mpg',\n",
       " 'penguins',\n",
       " 'planets',\n",
       " 'seaice',\n",
       " 'taxis',\n",
       " 'tips',\n",
       " 'titanic']"
      ]
     },
     "execution_count": 35,
     "metadata": {},
     "output_type": "execute_result"
    }
   ],
   "source": [
    "# getting the builtin datasets of seaborn.\n",
    "sns.get_dataset_names()"
   ]
  },
  {
   "cell_type": "code",
   "execution_count": 37,
   "id": "f7d8bdac-5a72-4f35-8375-d30bf91a140d",
   "metadata": {},
   "outputs": [
    {
     "data": {
      "text/html": [
       "<div>\n",
       "<style scoped>\n",
       "    .dataframe tbody tr th:only-of-type {\n",
       "        vertical-align: middle;\n",
       "    }\n",
       "\n",
       "    .dataframe tbody tr th {\n",
       "        vertical-align: top;\n",
       "    }\n",
       "\n",
       "    .dataframe thead th {\n",
       "        text-align: right;\n",
       "    }\n",
       "</style>\n",
       "<table border=\"1\" class=\"dataframe\">\n",
       "  <thead>\n",
       "    <tr style=\"text-align: right;\">\n",
       "      <th></th>\n",
       "      <th>sepal_length</th>\n",
       "      <th>sepal_width</th>\n",
       "      <th>petal_length</th>\n",
       "      <th>petal_width</th>\n",
       "      <th>species</th>\n",
       "    </tr>\n",
       "  </thead>\n",
       "  <tbody>\n",
       "    <tr>\n",
       "      <th>0</th>\n",
       "      <td>5.1</td>\n",
       "      <td>3.5</td>\n",
       "      <td>1.4</td>\n",
       "      <td>0.2</td>\n",
       "      <td>setosa</td>\n",
       "    </tr>\n",
       "    <tr>\n",
       "      <th>1</th>\n",
       "      <td>4.9</td>\n",
       "      <td>3.0</td>\n",
       "      <td>1.4</td>\n",
       "      <td>0.2</td>\n",
       "      <td>setosa</td>\n",
       "    </tr>\n",
       "    <tr>\n",
       "      <th>2</th>\n",
       "      <td>4.7</td>\n",
       "      <td>3.2</td>\n",
       "      <td>1.3</td>\n",
       "      <td>0.2</td>\n",
       "      <td>setosa</td>\n",
       "    </tr>\n",
       "    <tr>\n",
       "      <th>3</th>\n",
       "      <td>4.6</td>\n",
       "      <td>3.1</td>\n",
       "      <td>1.5</td>\n",
       "      <td>0.2</td>\n",
       "      <td>setosa</td>\n",
       "    </tr>\n",
       "    <tr>\n",
       "      <th>4</th>\n",
       "      <td>5.0</td>\n",
       "      <td>3.6</td>\n",
       "      <td>1.4</td>\n",
       "      <td>0.2</td>\n",
       "      <td>setosa</td>\n",
       "    </tr>\n",
       "    <tr>\n",
       "      <th>...</th>\n",
       "      <td>...</td>\n",
       "      <td>...</td>\n",
       "      <td>...</td>\n",
       "      <td>...</td>\n",
       "      <td>...</td>\n",
       "    </tr>\n",
       "    <tr>\n",
       "      <th>145</th>\n",
       "      <td>6.7</td>\n",
       "      <td>3.0</td>\n",
       "      <td>5.2</td>\n",
       "      <td>2.3</td>\n",
       "      <td>virginica</td>\n",
       "    </tr>\n",
       "    <tr>\n",
       "      <th>146</th>\n",
       "      <td>6.3</td>\n",
       "      <td>2.5</td>\n",
       "      <td>5.0</td>\n",
       "      <td>1.9</td>\n",
       "      <td>virginica</td>\n",
       "    </tr>\n",
       "    <tr>\n",
       "      <th>147</th>\n",
       "      <td>6.5</td>\n",
       "      <td>3.0</td>\n",
       "      <td>5.2</td>\n",
       "      <td>2.0</td>\n",
       "      <td>virginica</td>\n",
       "    </tr>\n",
       "    <tr>\n",
       "      <th>148</th>\n",
       "      <td>6.2</td>\n",
       "      <td>3.4</td>\n",
       "      <td>5.4</td>\n",
       "      <td>2.3</td>\n",
       "      <td>virginica</td>\n",
       "    </tr>\n",
       "    <tr>\n",
       "      <th>149</th>\n",
       "      <td>5.9</td>\n",
       "      <td>3.0</td>\n",
       "      <td>5.1</td>\n",
       "      <td>1.8</td>\n",
       "      <td>virginica</td>\n",
       "    </tr>\n",
       "  </tbody>\n",
       "</table>\n",
       "<p>150 rows × 5 columns</p>\n",
       "</div>"
      ],
      "text/plain": [
       "     sepal_length  sepal_width  petal_length  petal_width    species\n",
       "0             5.1          3.5           1.4          0.2     setosa\n",
       "1             4.9          3.0           1.4          0.2     setosa\n",
       "2             4.7          3.2           1.3          0.2     setosa\n",
       "3             4.6          3.1           1.5          0.2     setosa\n",
       "4             5.0          3.6           1.4          0.2     setosa\n",
       "..            ...          ...           ...          ...        ...\n",
       "145           6.7          3.0           5.2          2.3  virginica\n",
       "146           6.3          2.5           5.0          1.9  virginica\n",
       "147           6.5          3.0           5.2          2.0  virginica\n",
       "148           6.2          3.4           5.4          2.3  virginica\n",
       "149           5.9          3.0           5.1          1.8  virginica\n",
       "\n",
       "[150 rows x 5 columns]"
      ]
     },
     "execution_count": 37,
     "metadata": {},
     "output_type": "execute_result"
    }
   ],
   "source": [
    "# loading dataset\n",
    "df= sns.load_dataset(\"iris\")\n",
    "df"
   ]
  },
  {
   "cell_type": "code",
   "execution_count": 38,
   "id": "d14e9395-da77-4ef7-bf7a-6de56317c38a",
   "metadata": {},
   "outputs": [],
   "source": [
    "from sklearn.preprocessing import LabelEncoder"
   ]
  },
  {
   "cell_type": "code",
   "execution_count": 39,
   "id": "2c7dd7c9-6739-449b-bf2b-c0e9acc62f64",
   "metadata": {},
   "outputs": [
    {
     "ename": "ValueError",
     "evalue": "could not convert string to float: 'setosa'",
     "output_type": "error",
     "traceback": [
      "\u001b[1;31m---------------------------------------------------------------------------\u001b[0m",
      "\u001b[1;31mValueError\u001b[0m                                Traceback (most recent call last)",
      "Cell \u001b[1;32mIn[39], line 2\u001b[0m\n\u001b[0;32m      1\u001b[0m e\u001b[38;5;241m=\u001b[39mLabelEncoder()\n\u001b[1;32m----> 2\u001b[0m tc \u001b[38;5;241m=\u001b[39m df\u001b[38;5;241m.\u001b[39mcorr()\n\u001b[0;32m      3\u001b[0m tc\n",
      "File \u001b[1;32m~\\anaconda3\\Lib\\site-packages\\pandas\\core\\frame.py:10707\u001b[0m, in \u001b[0;36mDataFrame.corr\u001b[1;34m(self, method, min_periods, numeric_only)\u001b[0m\n\u001b[0;32m  10705\u001b[0m cols \u001b[38;5;241m=\u001b[39m data\u001b[38;5;241m.\u001b[39mcolumns\n\u001b[0;32m  10706\u001b[0m idx \u001b[38;5;241m=\u001b[39m cols\u001b[38;5;241m.\u001b[39mcopy()\n\u001b[1;32m> 10707\u001b[0m mat \u001b[38;5;241m=\u001b[39m data\u001b[38;5;241m.\u001b[39mto_numpy(dtype\u001b[38;5;241m=\u001b[39m\u001b[38;5;28mfloat\u001b[39m, na_value\u001b[38;5;241m=\u001b[39mnp\u001b[38;5;241m.\u001b[39mnan, copy\u001b[38;5;241m=\u001b[39m\u001b[38;5;28;01mFalse\u001b[39;00m)\n\u001b[0;32m  10709\u001b[0m \u001b[38;5;28;01mif\u001b[39;00m method \u001b[38;5;241m==\u001b[39m \u001b[38;5;124m\"\u001b[39m\u001b[38;5;124mpearson\u001b[39m\u001b[38;5;124m\"\u001b[39m:\n\u001b[0;32m  10710\u001b[0m     correl \u001b[38;5;241m=\u001b[39m libalgos\u001b[38;5;241m.\u001b[39mnancorr(mat, minp\u001b[38;5;241m=\u001b[39mmin_periods)\n",
      "File \u001b[1;32m~\\anaconda3\\Lib\\site-packages\\pandas\\core\\frame.py:1892\u001b[0m, in \u001b[0;36mDataFrame.to_numpy\u001b[1;34m(self, dtype, copy, na_value)\u001b[0m\n\u001b[0;32m   1890\u001b[0m \u001b[38;5;28;01mif\u001b[39;00m dtype \u001b[38;5;129;01mis\u001b[39;00m \u001b[38;5;129;01mnot\u001b[39;00m \u001b[38;5;28;01mNone\u001b[39;00m:\n\u001b[0;32m   1891\u001b[0m     dtype \u001b[38;5;241m=\u001b[39m np\u001b[38;5;241m.\u001b[39mdtype(dtype)\n\u001b[1;32m-> 1892\u001b[0m result \u001b[38;5;241m=\u001b[39m \u001b[38;5;28mself\u001b[39m\u001b[38;5;241m.\u001b[39m_mgr\u001b[38;5;241m.\u001b[39mas_array(dtype\u001b[38;5;241m=\u001b[39mdtype, copy\u001b[38;5;241m=\u001b[39mcopy, na_value\u001b[38;5;241m=\u001b[39mna_value)\n\u001b[0;32m   1893\u001b[0m \u001b[38;5;28;01mif\u001b[39;00m result\u001b[38;5;241m.\u001b[39mdtype \u001b[38;5;129;01mis\u001b[39;00m \u001b[38;5;129;01mnot\u001b[39;00m dtype:\n\u001b[0;32m   1894\u001b[0m     result \u001b[38;5;241m=\u001b[39m np\u001b[38;5;241m.\u001b[39marray(result, dtype\u001b[38;5;241m=\u001b[39mdtype, copy\u001b[38;5;241m=\u001b[39m\u001b[38;5;28;01mFalse\u001b[39;00m)\n",
      "File \u001b[1;32m~\\anaconda3\\Lib\\site-packages\\pandas\\core\\internals\\managers.py:1656\u001b[0m, in \u001b[0;36mBlockManager.as_array\u001b[1;34m(self, dtype, copy, na_value)\u001b[0m\n\u001b[0;32m   1654\u001b[0m         arr\u001b[38;5;241m.\u001b[39mflags\u001b[38;5;241m.\u001b[39mwriteable \u001b[38;5;241m=\u001b[39m \u001b[38;5;28;01mFalse\u001b[39;00m\n\u001b[0;32m   1655\u001b[0m \u001b[38;5;28;01melse\u001b[39;00m:\n\u001b[1;32m-> 1656\u001b[0m     arr \u001b[38;5;241m=\u001b[39m \u001b[38;5;28mself\u001b[39m\u001b[38;5;241m.\u001b[39m_interleave(dtype\u001b[38;5;241m=\u001b[39mdtype, na_value\u001b[38;5;241m=\u001b[39mna_value)\n\u001b[0;32m   1657\u001b[0m     \u001b[38;5;66;03m# The underlying data was copied within _interleave, so no need\u001b[39;00m\n\u001b[0;32m   1658\u001b[0m     \u001b[38;5;66;03m# to further copy if copy=True or setting na_value\u001b[39;00m\n\u001b[0;32m   1660\u001b[0m \u001b[38;5;28;01mif\u001b[39;00m na_value \u001b[38;5;129;01mis\u001b[39;00m lib\u001b[38;5;241m.\u001b[39mno_default:\n",
      "File \u001b[1;32m~\\anaconda3\\Lib\\site-packages\\pandas\\core\\internals\\managers.py:1715\u001b[0m, in \u001b[0;36mBlockManager._interleave\u001b[1;34m(self, dtype, na_value)\u001b[0m\n\u001b[0;32m   1713\u001b[0m     \u001b[38;5;28;01melse\u001b[39;00m:\n\u001b[0;32m   1714\u001b[0m         arr \u001b[38;5;241m=\u001b[39m blk\u001b[38;5;241m.\u001b[39mget_values(dtype)\n\u001b[1;32m-> 1715\u001b[0m     result[rl\u001b[38;5;241m.\u001b[39mindexer] \u001b[38;5;241m=\u001b[39m arr\n\u001b[0;32m   1716\u001b[0m     itemmask[rl\u001b[38;5;241m.\u001b[39mindexer] \u001b[38;5;241m=\u001b[39m \u001b[38;5;241m1\u001b[39m\n\u001b[0;32m   1718\u001b[0m \u001b[38;5;28;01mif\u001b[39;00m \u001b[38;5;129;01mnot\u001b[39;00m itemmask\u001b[38;5;241m.\u001b[39mall():\n",
      "\u001b[1;31mValueError\u001b[0m: could not convert string to float: 'setosa'"
     ]
    }
   ],
   "source": [
    "e=LabelEncoder()\n",
    "tc = df.corr()\n",
    "tc"
   ]
  },
  {
   "cell_type": "code",
   "execution_count": null,
   "id": "063596b2-0cc7-4890-894c-48ea53795ec2",
   "metadata": {},
   "outputs": [],
   "source": [
    "e=LabelEncoder()\n",
    "df= sns.load_dataset(\"iris\")\n",
    "df\n"
   ]
  },
  {
   "cell_type": "code",
   "execution_count": 41,
   "id": "43af2e2c-2836-4106-8c61-9fbd0189b400",
   "metadata": {},
   "outputs": [
    {
     "data": {
      "image/png": "[encoded data removed]",
      "text/plain": [
       "<Figure size 640x480 with 2 Axes>"
      ]
     },
     "metadata": {},
     "output_type": "display_data"
    }
   ],
   "source": [
    "sns.heatmap(tc, annot=True)\n",
    "plt.show()"
   ]
  },
  {
   "cell_type": "code",
   "execution_count": 6,
   "id": "24fd9c99-e72d-4baf-b465-3b04b1d2152a",
   "metadata": {},
   "outputs": [
    {
     "data": {
      "image/png": "[encoded data removed]",
      "text/plain": [
       "<Figure size 640x480 with 2 Axes>"
      ]
     },
     "metadata": {},
     "output_type": "display_data"
    }
   ],
   "source": [
    "import pandas as pd\n",
    "import seaborn as sns\n",
    "import matplotlib.pyplot as plt\n",
    "import numpy as np\n",
    "\n",
    "# Sample data\n",
    "np.random.seed(10)\n",
    "data = np.random.randn(10, 5)\n",
    "df = pd.DataFrame(data, columns=list('ABCDE'))\n",
    "\n",
    "# Calculate correlation matrix\n",
    "corr_matrix = df.corr(method=\"pearson\")\n",
    "\n",
    "# Create heatmap with Seaborn\n",
    "sns.heatmap(corr_matrix, annot=True, cmap=\"coolwarm\")\n",
    "\n",
    "# Customize the plot\n",
    "plt.title(\"Correlation Matrix - Sample Data\")\n",
    "plt.xlabel(\"Variable\")\n",
    "plt.ylabel(\"Variable\")\n",
    "plt.xticks(rotation=45, ha=\"right\")\n",
    "plt.yticks(rotation=45)\n",
    "\n",
    "# Show the plot\n",
    "plt.show()"
   ]
  },
  {
   "cell_type": "code",
   "execution_count": null,
   "id": "d499d528-1721-4ce9-91b0-a107acc5cb9b",
   "metadata": {},
   "outputs": [],
   "source": []
  }
 ],
 "metadata": {
  "kernelspec": {
   "display_name": "Python 3 (ipykernel)",
   "language": "python",
   "name": "python3"
  },
  "language_info": {
   "codemirror_mode": {
    "name": "ipython",
    "version": 3
   },
   "file_extension": ".py",
   "mimetype": "text/x-python",
   "name": "python",
   "nbconvert_exporter": "python",
   "pygments_lexer": "ipython3",
   "version": "3.11.5"
  }
 },
 "nbformat": 4,
 "nbformat_minor": 5
}
