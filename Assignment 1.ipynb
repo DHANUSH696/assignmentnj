{
 "cells": [
  {
   "cell_type": "code",
   "execution_count": 1,
   "id": "242448f8",
   "metadata": {},
   "outputs": [
    {
     "data": {
      "text/plain": [
       "6"
      ]
     },
     "execution_count": 1,
     "metadata": {},
     "output_type": "execute_result"
    }
   ],
   "source": [
    "# Comments in Python begin with # (hash) and are ignored by the interpreter\n",
    "2+4  # Addition"
   ]
  },
  {
   "cell_type": "code",
   "execution_count": 3,
   "id": "f21c214e",
   "metadata": {},
   "outputs": [
    {
     "data": {
      "text/plain": [
       "8"
      ]
     },
     "execution_count": 3,
     "metadata": {},
     "output_type": "execute_result"
    }
   ],
   "source": [
    "2*4  # Multiplication"
   ]
  },
  {
   "cell_type": "code",
   "execution_count": 4,
   "id": "fb4825bb",
   "metadata": {},
   "outputs": [
    {
     "data": {
      "text/plain": [
       "16"
      ]
     },
     "execution_count": 4,
     "metadata": {},
     "output_type": "execute_result"
    }
   ],
   "source": [
    "2**4  # 2 raised to power 4"
   ]
  },
  {
   "cell_type": "code",
   "execution_count": 5,
   "id": "ed18d205",
   "metadata": {},
   "outputs": [
    {
     "data": {
      "text/plain": [
       "0.5"
      ]
     },
     "execution_count": 5,
     "metadata": {},
     "output_type": "execute_result"
    }
   ],
   "source": [
    "2/4  # 2 divided by 4"
   ]
  },
  {
   "cell_type": "code",
   "execution_count": 6,
   "id": "c94b9f54",
   "metadata": {},
   "outputs": [
    {
     "data": {
      "text/plain": [
       "9"
      ]
     },
     "execution_count": 6,
     "metadata": {},
     "output_type": "execute_result"
    }
   ],
   "source": [
    "# ---ON IDLE---\n",
    "2+3+4"
   ]
  },
  {
   "cell_type": "code",
   "execution_count": 9,
   "id": "3f0cad3c",
   "metadata": {},
   "outputs": [
    {
     "name": "stdout",
     "output_type": "stream",
     "text": [
      "['mango', 'grape', 'apple']\n"
     ]
    }
   ],
   "source": [
    "# ---ON IDLE---\n",
    "fruit = ['mango', 'grape','apple']\n",
    "print(fruit)"
   ]
  },
  {
   "cell_type": "code",
   "execution_count": 10,
   "id": "b736f48d",
   "metadata": {},
   "outputs": [
    {
     "name": "stdout",
     "output_type": "stream",
     "text": [
      "('a', 'b', 'c', 'd')\n"
     ]
    }
   ],
   "source": [
    "alphabet = ('a', 'b', 'c', 'd')      # Tuple of alphabet\n",
    "print(alphabet)"
   ]
  },
  {
   "cell_type": "code",
   "execution_count": 11,
   "id": "24cd8804",
   "metadata": {},
   "outputs": [
    {
     "name": "stdout",
     "output_type": "stream",
     "text": [
      "{'slim', 'fat', 'tall', 'short'}\n"
     ]
    }
   ],
   "source": [
    "opposites = { 'tall','short','fat','slim',}  # Dictionary of opposites    \n",
    "print(opposites)"
   ]
  },
  {
   "cell_type": "code",
   "execution_count": 12,
   "id": "0e62525b",
   "metadata": {},
   "outputs": [
    {
     "name": "stdout",
     "output_type": "stream",
     "text": [
      "11\n"
     ]
    }
   ],
   "source": [
    "# ---ON IDLE---\n",
    "a=5;b=6;print(a+b)"
   ]
  },
  {
   "cell_type": "code",
   "execution_count": 13,
   "id": "fa186768",
   "metadata": {},
   "outputs": [
    {
     "data": {
      "text/plain": [
       "['False',\n",
       " 'None',\n",
       " 'True',\n",
       " 'and',\n",
       " 'as',\n",
       " 'assert',\n",
       " 'async',\n",
       " 'await',\n",
       " 'break',\n",
       " 'class',\n",
       " 'continue',\n",
       " 'def',\n",
       " 'del',\n",
       " 'elif',\n",
       " 'else',\n",
       " 'except',\n",
       " 'finally',\n",
       " 'for',\n",
       " 'from',\n",
       " 'global',\n",
       " 'if',\n",
       " 'import',\n",
       " 'in',\n",
       " 'is',\n",
       " 'lambda',\n",
       " 'nonlocal',\n",
       " 'not',\n",
       " 'or',\n",
       " 'pass',\n",
       " 'raise',\n",
       " 'return',\n",
       " 'try',\n",
       " 'while',\n",
       " 'with',\n",
       " 'yield']"
      ]
     },
     "execution_count": 13,
     "metadata": {},
     "output_type": "execute_result"
    }
   ],
   "source": [
    "# ---ON IDLE---\n",
    "# To see list of all keywords, type the following two commands\n",
    "import keyword     # FIRST Command. Imports module keyword\n",
    "keyword.kwlist     # SECOND Command"
   ]
  },
  {
   "cell_type": "code",
   "execution_count": 14,
   "id": "57229a6d",
   "metadata": {},
   "outputs": [
    {
     "name": "stdout",
     "output_type": "stream",
     "text": [
      "2\n",
      "3\n"
     ]
    }
   ],
   "source": [
    "# ---ON IDLE---  \n",
    "x = 2  # x \"points\" to 2\n",
    "y = x  # Now y also \"points\" to 2\n",
    "y = 3  # Now y \"points\" to 3\n",
    "print(x)\n",
    "print(y)"
   ]
  },
  {
   "cell_type": "code",
   "execution_count": 16,
   "id": "1473fa96",
   "metadata": {},
   "outputs": [
    {
     "data": {
      "text/plain": [
       "str"
      ]
     },
     "execution_count": 16,
     "metadata": {},
     "output_type": "execute_result"
    }
   ],
   "source": [
    "# ---ON IDLE---  \n",
    "x = 'abc'\n",
    "type(x)    # type() function is used to get type of an object"
   ]
  },
  {
   "cell_type": "code",
   "execution_count": 17,
   "id": "5b116eb6",
   "metadata": {},
   "outputs": [
    {
     "data": {
      "text/plain": [
       "int"
      ]
     },
     "execution_count": 17,
     "metadata": {},
     "output_type": "execute_result"
    }
   ],
   "source": [
    " x=5\n",
    "type(x)"
   ]
  },
  {
   "cell_type": "code",
   "execution_count": 18,
   "id": "b4b1a541",
   "metadata": {},
   "outputs": [
    {
     "data": {
      "text/plain": [
       "1846074686384"
      ]
     },
     "execution_count": 18,
     "metadata": {},
     "output_type": "execute_result"
    }
   ],
   "source": [
    "# ---ON IDLE---  \n",
    "myFloat = 78.11\n",
    "id(myFloat)"
   ]
  },
  {
   "cell_type": "code",
   "execution_count": 19,
   "id": "214f0483",
   "metadata": {},
   "outputs": [
    {
     "data": {
      "text/plain": [
       "78"
      ]
     },
     "execution_count": 19,
     "metadata": {},
     "output_type": "execute_result"
    }
   ],
   "source": [
    "myInt = int(myFloat)    # int() is a casting function \n",
    "myInt                    # myInt will now point to value 78"
   ]
  },
  {
   "cell_type": "code",
   "execution_count": 20,
   "id": "c3fa4a98",
   "metadata": {},
   "outputs": [
    {
     "data": {
      "text/plain": [
       "140713677069512"
      ]
     },
     "execution_count": 20,
     "metadata": {},
     "output_type": "execute_result"
    }
   ],
   "source": [
    "id(myInt)\n"
   ]
  },
  {
   "cell_type": "code",
   "execution_count": 21,
   "id": "aa7877b9",
   "metadata": {},
   "outputs": [
    {
     "data": {
      "text/plain": [
       "140713677069512"
      ]
     },
     "execution_count": 21,
     "metadata": {},
     "output_type": "execute_result"
    }
   ],
   "source": [
    "id(78)"
   ]
  },
  {
   "cell_type": "code",
   "execution_count": null,
   "id": "ad2e2ee0",
   "metadata": {},
   "outputs": [],
   "source": []
  }
 ],
 "metadata": {
  "kernelspec": {
   "display_name": "Python 3 (ipykernel)",
   "language": "python",
   "name": "python3"
  },
  "language_info": {
   "codemirror_mode": {
    "name": "ipython",
    "version": 3
   },
   "file_extension": ".py",
   "mimetype": "text/x-python",
   "name": "python",
   "nbconvert_exporter": "python",
   "pygments_lexer": "ipython3",
   "version": "3.11.5"
  }
 },
 "nbformat": 4,
 "nbformat_minor": 5
}
