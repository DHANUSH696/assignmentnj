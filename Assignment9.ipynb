{
 "cells": [
  {
   "cell_type": "code",
   "execution_count": 6,
   "id": "c9f691d1-072d-43bd-892e-b0df77dff323",
   "metadata": {},
   "outputs": [
    {
     "name": "stdout",
     "output_type": "stream",
     "text": [
      "Car Info: 2022 Toyota Camry in Silver\n"
     ]
    }
   ],
   "source": [
    "class Car:\n",
    "    def __init__(self, brand, model, year, color):\n",
    "        self.brand = brand\n",
    "        self.model = model\n",
    "        self.year = year\n",
    "        self.color = color\n",
    "    \n",
    "    def print_info(self):\n",
    "        print(f'Car Info: {self.year} {self.brand} {self.model} in {self.color}')\n",
    "\n",
    "\n",
    "   \n",
    "# Creating instances and calling print_info method for each class\n",
    "car = Car('Toyota', 'Camry', 2022, 'Silver')\n",
    "car.print_info()"
   ]
  },
  {
   "cell_type": "code",
   "execution_count": 2,
   "id": "f10436e6-6dc6-4a3a-89a1-eec5a7adadc2",
   "metadata": {},
   "outputs": [
    {
     "name": "stdout",
     "output_type": "stream",
     "text": [
      "Smartphone Info: Samsung Galaxy S21 - 128GB, 6.2\" screen\n"
     ]
    }
   ],
   "source": [
    "class Smartphone:\n",
    "    def __init__(self, brand, model, storage, screen_size):\n",
    "        self.brand = brand\n",
    "        self.model = model\n",
    "        self.storage = storage\n",
    "        self.screen_size = screen_size\n",
    "    \n",
    "    def print_info(self):\n",
    "        print(f'Smartphone Info: {self.brand} {self.model} - {self.storage}GB, {self.screen_size}\" screen')\n",
    "\n",
    "phone = Smartphone('Samsung', 'Galaxy S21', 128, 6.2)\n",
    "phone.print_info()"
   ]
  },
  {
   "cell_type": "code",
   "execution_count": 3,
   "id": "44308c56-ee76-44d6-b9d9-6a577c4edbe9",
   "metadata": {},
   "outputs": [
    {
     "name": "stdout",
     "output_type": "stream",
     "text": [
      "Book Info: \"The Great Gatsby\" by F. Scott Fitzgerald, 180 pages, Classic\n"
     ]
    }
   ],
   "source": [
    "class Book:\n",
    "    def __init__(self, title, author, genre, pages):\n",
    "        self.title = title\n",
    "        self.author = author\n",
    "        self.genre = genre\n",
    "        self.pages = pages\n",
    "    \n",
    "    def print_info(self):\n",
    "        print(f'Book Info: \"{self.title}\" by {self.author}, {self.pages} pages, {self.genre}')\n",
    "\n",
    "book = Book('The Great Gatsby', 'F. Scott Fitzgerald', 'Classic', 180)\n",
    "book.print_info()"
   ]
  },
  {
   "cell_type": "code",
   "execution_count": 4,
   "id": "acc5c237-cf90-49ec-9baf-cb0692f56831",
   "metadata": {},
   "outputs": [
    {
     "name": "stdout",
     "output_type": "stream",
     "text": [
      "Coffee Shop Info: Starbucks in Downtown - Rating: 4.5, with WiFi\n"
     ]
    }
   ],
   "source": [
    "class CoffeeShop:\n",
    "    def __init__(self, name, location, rating, wifi_available):\n",
    "        self.name = name\n",
    "        self.location = location\n",
    "        self.rating = rating\n",
    "        self.wifi_available = wifi_available\n",
    "    \n",
    "    def print_info(self):\n",
    "        wifi_status = 'with WiFi' if self.wifi_available else 'without WiFi'\n",
    "        print(f'Coffee Shop Info: {self.name} in {self.location} - Rating: {self.rating}, {wifi_status}')\n",
    "\n",
    "\n",
    "coffee_shop = CoffeeShop('Starbucks', 'Downtown', 4.5, True)\n",
    "coffee_shop.print_info()"
   ]
  },
  {
   "cell_type": "code",
   "execution_count": 5,
   "id": "59fe5222-8476-45f0-aa47-9e2d25f007c2",
   "metadata": {},
   "outputs": [
    {
     "name": "stdout",
     "output_type": "stream",
     "text": [
      "Dog Info: Buddy - 3 years old Golden Golden Retriever dog\n"
     ]
    }
   ],
   "source": [
    "class Dog:\n",
    "    def __init__(self, name, breed, age, color):\n",
    "        self.name = name\n",
    "        self.breed = breed\n",
    "        self.age = age\n",
    "        self.color = color\n",
    "    \n",
    "    def print_info(self):\n",
    "        print(f'Dog Info: {self.name} - {self.age} years old {self.color} {self.breed} dog')\n",
    "\n",
    "dog = Dog('Buddy', 'Golden Retriever', 3, 'Golden')\n",
    "dog.print_info()"
   ]
  },
  {
   "cell_type": "code",
   "execution_count": 16,
   "id": "3412b777-b3dc-43d0-a487-631ab91d831d",
   "metadata": {},
   "outputs": [
    {
     "name": "stdout",
     "output_type": "stream",
     "text": [
      "Python World\n"
     ]
    }
   ],
   "source": [
    "class Base:\n",
    "    def __init__(self):\n",
    "        self.a =\"Python World\"\n",
    "        self.__c=\"Python World\"\n",
    "\n",
    "class Derived(Base):\n",
    "    def __init__(self):\n",
    "        Base.__init__(self)\n",
    "        print(\"calling private number of base3 class:\")\n",
    "        print(self.__c)\n",
    "obj1 = Base()\n",
    "print(obj1.a)"
   ]
  },
  {
   "cell_type": "code",
   "execution_count": null,
   "id": "78089549-9853-495d-975b-1a52efaa7861",
   "metadata": {},
   "outputs": [],
   "source": []
  }
 ],
 "metadata": {
  "kernelspec": {
   "display_name": "Python 3 (ipykernel)",
   "language": "python",
   "name": "python3"
  },
  "language_info": {
   "codemirror_mode": {
    "name": "ipython",
    "version": 3
   },
   "file_extension": ".py",
   "mimetype": "text/x-python",
   "name": "python",
   "nbconvert_exporter": "python",
   "pygments_lexer": "ipython3",
   "version": "3.11.5"
  }
 },
 "nbformat": 4,
 "nbformat_minor": 5
}
