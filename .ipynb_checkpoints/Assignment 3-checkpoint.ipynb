{
 "cells": [
  {
   "cell_type": "code",
   "execution_count": 1,
   "id": "7dbfa447",
   "metadata": {},
   "outputs": [
    {
     "data": {
      "text/plain": [
       "30"
      ]
     },
     "execution_count": 1,
     "metadata": {},
     "output_type": "execute_result"
    }
   ],
   "source": [
    "# program to add two numbers\n",
    "\n",
    "a=10\n",
    "b=20\n",
    "sum=a+b\n",
    "sum"
   ]
  },
  {
   "cell_type": "code",
   "execution_count": 2,
   "id": "a7993a8c",
   "metadata": {},
   "outputs": [
    {
     "data": {
      "text/plain": [
       "2.23606797749979"
      ]
     },
     "execution_count": 2,
     "metadata": {},
     "output_type": "execute_result"
    }
   ],
   "source": [
    "# program to find the square root\n",
    "\n",
    "a=5\n",
    "sq= 5**0.5\n",
    "sq"
   ]
  },
  {
   "cell_type": "code",
   "execution_count": 3,
   "id": "34246e61",
   "metadata": {},
   "outputs": [
    {
     "name": "stdout",
     "output_type": "stream",
     "text": [
      "Enter the value for base = 20\n",
      "enter the value for height = 6\n",
      "the area of triangle with base 20.0 height 6.0 is 60.0\n"
     ]
    }
   ],
   "source": [
    "# program to calculate the Area of triangle\n",
    "\n",
    "b=float(input(\"Enter the value for base = \"))\n",
    "h=float(input(\"enter the value for height = \"))\n",
    "area=0.5*b*h\n",
    "print(\"the area of triangle with base\",b,\"height\",h,'is',area)"
   ]
  },
  {
   "cell_type": "code",
   "execution_count": 4,
   "id": "f36e3b6c",
   "metadata": {},
   "outputs": [
    {
     "name": "stdout",
     "output_type": "stream",
     "text": [
      "Enter the value for principle = 246\n",
      "Enter the value for duration = 12\n",
      "Enter the value for rate = 9\n",
      "simple interest 265.68 principle 246.0 for the duration 12.0 for the rate 9.0\n"
     ]
    }
   ],
   "source": [
    "# program for simple intrest\n",
    "\n",
    "p=float(input(\"Enter the value for principle = \"))\n",
    "t=float(input(\"Enter the value for duration = \"))\n",
    "r=float(input(\"Enter the value for rate = \"))\n",
    "si=p*t*r/100\n",
    "print(\"simple interest\",si,\"principle\",p,\"for the duration\",t,\"for the rate\",r,)"
   ]
  },
  {
   "cell_type": "code",
   "execution_count": 6,
   "id": "d771ac17",
   "metadata": {},
   "outputs": [
    {
     "name": "stdout",
     "output_type": "stream",
     "text": [
      "Enter the value for principle = 469\n",
      "Enter the value for rate = 11\n",
      "Enter the value for time = 2\n",
      "Enter the value for duration = 14\n",
      "compound interest with principle 469.0 rate 11.0 period 2.0 time 14.0 is 84889.0\n"
     ]
    }
   ],
   "source": [
    "# program for compound interest\n",
    "\n",
    "p=float(input(\"Enter the value for principle = \"))\n",
    "r=float(input(\"Enter the value for rate = \"))\n",
    "n=float(input(\"Enter the value for time = \"))\n",
    "t=float(input(\"Enter the value for duration = \"))\n",
    "ci=p*(1+r/n)*n*t-p\n",
    "print(\"compound interest with principle\",p,\"rate\",r,\"period\",n,\"time\",t,'is',ci)"
   ]
  },
  {
   "cell_type": "code",
   "execution_count": null,
   "id": "f06b9160",
   "metadata": {},
   "outputs": [],
   "source": []
  }
 ],
 "metadata": {
  "kernelspec": {
   "display_name": "Python 3 (ipykernel)",
   "language": "python",
   "name": "python3"
  },
  "language_info": {
   "codemirror_mode": {
    "name": "ipython",
    "version": 3
   },
   "file_extension": ".py",
   "mimetype": "text/x-python",
   "name": "python",
   "nbconvert_exporter": "python",
   "pygments_lexer": "ipython3",
   "version": "3.11.5"
  }
 },
 "nbformat": 4,
 "nbformat_minor": 5
}
