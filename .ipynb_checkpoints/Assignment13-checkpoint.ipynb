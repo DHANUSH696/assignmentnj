{
 "cells": [
  {
   "cell_type": "code",
   "execution_count": 3,
   "id": "d4292f4a-b004-4fbf-97bd-2eb79376a1c7",
   "metadata": {},
   "outputs": [
    {
     "ename": "NameError",
     "evalue": "name 'Day' is not defined",
     "output_type": "error",
     "traceback": [
      "\u001b[1;31m---------------------------------------------------------------------------\u001b[0m",
      "\u001b[1;31mNameError\u001b[0m                                 Traceback (most recent call last)",
      "Cell \u001b[1;32mIn[3], line 1\u001b[0m\n\u001b[1;32m----> 1\u001b[0m Day,Food,Transportation,Entertainment,Utilities\n\u001b[0;32m      2\u001b[0m Monday,\u001b[38;5;241m30\u001b[39m,\u001b[38;5;241m15\u001b[39m,\u001b[38;5;241m10\u001b[39m,\u001b[38;5;241m20\u001b[39m\n\u001b[0;32m      3\u001b[0m Tuesday,\u001b[38;5;241m25\u001b[39m,\u001b[38;5;241m18\u001b[39m,\u001b[38;5;241m15\u001b[39m,\u001b[38;5;241m22\u001b[39m\n",
      "\u001b[1;31mNameError\u001b[0m: name 'Day' is not defined"
     ]
    }
   ],
   "source": [
    "Day,Food,Transportation,Entertainment,Utilities\n",
    "Monday,30,15,10,20\n",
    "Tuesday,25,18,15,22\n",
    "Wednesday,35,20,12,18\n",
    "Thursday,28,22,18,25\n",
    "Friday,32,25,20,15\n",
    "Saturday,40,30,25,30\n",
    "Sunday,45,28,30,35\n",
    "\n",
    "import pandas as pd\n",
    "import matplotlib.pyplot as plt\n",
    "\n",
    "# Load the dataset\n",
    "df = pd.read_csv('expenses.csv')\n",
    "\n",
    "# Pie chart for a specific day (e.g., Wednesday)\n",
    "labels = df.columns[1:]\n",
    "values = df.loc[df['Day'] == 'Wednesday', labels].values.flatten()\n",
    "\n",
    "plt.figure(figsize=(8, 8))\n",
    "plt.pie(values, labels=labels, autopct='%1.1f%%', startangle=90)\n",
    "plt.title('Expenses Distribution on Wednesday')\n",
    "plt.show()\n",
    "\n",
    "# Column chart for total expenses per category\n",
    "totals = df[labels].sum()\n",
    "\n",
    "plt.figure(figsize=(10, 6))\n",
    "totals.plot(kind='bar', color='skyblue')\n",
    "plt.title('Total Expenses per Category')\n",
    "plt.xlabel('Expense Categories')\n",
    "plt.ylabel('Total Expense')\n",
    "plt.xticks(rotation=45)\n",
    "plt.show()\n",
    "\n",
    "# Histogram for Food expenses distribution\n",
    "plt.figure(figsize=(8, 6))\n",
    "plt.hist(df['Food'], bins=10, color='salmon', edgecolor='black')\n",
    "plt.title('Food Expenses Distribution')\n",
    "plt.xlabel('Food Expenses')\n",
    "plt.ylabel('Frequency')\n",
    "plt.show()\n",
    "\n",
    "# Scatter chart for Entertainment and Utilities expenses\n",
    "plt.figure(figsize=(8, 6))\n",
    "plt.scatter(df['Entertainment'], df['Utilities'], color='green', alpha=0.7) \n",
    "plt.title('Scatter Plot: Entertainment vs Utilities Expenses')\n",
    "plt.xlabel('Entertainment Expenses')\n",
    "plt.ylabel('Utilities Expenses')\n",
    "plt.show()\n",
    "\n",
    "# Boxplot for Transportation expenses\n",
    "plt.figure(figsize=(8, 6)) \n",
    "plt.boxplot(df['Transportation'], vert=False)\n",
    "plt.title('Boxplot of Transportation Expenses')\n",
    "plt.xlabel('Transportation Expenses')\n",
    "plt.show()\n"
   ]
  },
  {
   "cell_type": "code",
   "execution_count": null,
   "id": "1961824a-cb34-45c0-a599-4bc0acdefc57",
   "metadata": {},
   "outputs": [],
   "source": []
  }
 ],
 "metadata": {
  "kernelspec": {
   "display_name": "Python 3 (ipykernel)",
   "language": "python",
   "name": "python3"
  },
  "language_info": {
   "codemirror_mode": {
    "name": "ipython",
    "version": 3
   },
   "file_extension": ".py",
   "mimetype": "text/x-python",
   "name": "python",
   "nbconvert_exporter": "python",
   "pygments_lexer": "ipython3",
   "version": "3.11.5"
  }
 },
 "nbformat": 4,
 "nbformat_minor": 5
}
