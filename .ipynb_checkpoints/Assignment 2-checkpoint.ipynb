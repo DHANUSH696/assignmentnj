{
 "cells": [
  {
   "cell_type": "code",
   "execution_count": 1,
   "id": "670f4f3c",
   "metadata": {},
   "outputs": [
    {
     "name": "stdout",
     "output_type": "stream",
     "text": [
      "Enter user name: XYZ\n",
      "Enter user age: 23\n",
      "Enter user email : abc@xyz.com\n",
      "My name is XYZ and i am 23 years old and My Professional email ID is abc@xyz.com\n"
     ]
    }
   ],
   "source": [
    "# get 1 user information\n",
    "\n",
    "# Enter user information\n",
    "user_name = (input(\"Enter user name: \"))\n",
    "user_age  = (input(\"Enter user age: \"))\n",
    "user_email        = (input(\"Enter user email : \"))\n",
    "print(\"My name is\", user_name, \"and i am\", user_age, \"years old\", \"and\", \"My Professional email ID is\", user_email)"
   ]
  },
  {
   "cell_type": "code",
   "execution_count": null,
   "id": "f51a5760",
   "metadata": {},
   "outputs": [],
   "source": []
  }
 ],
 "metadata": {
  "kernelspec": {
   "display_name": "Python 3 (ipykernel)",
   "language": "python",
   "name": "python3"
  },
  "language_info": {
   "codemirror_mode": {
    "name": "ipython",
    "version": 3
   },
   "file_extension": ".py",
   "mimetype": "text/x-python",
   "name": "python",
   "nbconvert_exporter": "python",
   "pygments_lexer": "ipython3",
   "version": "3.11.5"
  }
 },
 "nbformat": 4,
 "nbformat_minor": 5
}
