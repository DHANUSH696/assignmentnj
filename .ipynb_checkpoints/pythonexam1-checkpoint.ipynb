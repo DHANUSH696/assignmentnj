{
 "cells": [
  {
   "cell_type": "code",
   "execution_count": 2,
   "id": "7c54a3d0-b776-4e74-a282-64618ab17d20",
   "metadata": {},
   "outputs": [
    {
     "name": "stdout",
     "output_type": "stream",
     "text": [
      "0\n",
      "1\n",
      "2\n"
     ]
    }
   ],
   "source": [
    "for i in range(5):\n",
    "    if i == 3:\n",
    "        break\n",
    "    print(i)\n"
   ]
  },
  {
   "cell_type": "code",
   "execution_count": 4,
   "id": "08d83ba2-f7e3-496c-bd8e-14d1499ee3b3",
   "metadata": {},
   "outputs": [
    {
     "name": "stdout",
     "output_type": "stream",
     "text": [
      "Hello, Alice!\n",
      "Hello, Bob!\n"
     ]
    }
   ],
   "source": [
    "def greet(name):\n",
    "    \"\"\"This function greets the user.\"\"\"\n",
    "    print(f\"Hello, {name}!\")\n",
    "\n",
    "greet(\"Alice\")\n",
    "greet(\"Bob\")\n"
   ]
  },
  {
   "cell_type": "code",
   "execution_count": 9,
   "id": "bfb3831f-3a9c-4c51-acf1-ddaee5d03687",
   "metadata": {},
   "outputs": [],
   "source": [
    "def my_function(parameter1, parameter2):\n",
    "    my_function(value1, value2)\n"
   ]
  },
  {
   "cell_type": "code",
   "execution_count": 12,
   "id": "1b406301-fbd4-474c-ab86-800f9a335d93",
   "metadata": {},
   "outputs": [
    {
     "name": "stdout",
     "output_type": "stream",
     "text": [
      "1\n",
      "hello\n",
      "1\n",
      "2\n",
      "3\n",
      "hello\n",
      "4\n",
      "5\n"
     ]
    }
   ],
   "source": [
    "my_tuple = (1, 2, 3, 'hello', 4, 5)\n",
    "\n",
    "print(my_tuple[0])  \n",
    "print(my_tuple[3])  \n",
    "\n",
    "for element in my_tuple:\n",
    "    print(element)\n",
    "\n",
    "single_element_tuple = (42,)  \n",
    "\n",
    "empty_tuple = ()\n"
   ]
  },
  {
   "cell_type": "code",
   "execution_count": 17,
   "id": "892c44c7-3c01-40fb-9c9b-925e12c16b07",
   "metadata": {},
   "outputs": [
    {
     "name": "stdout",
     "output_type": "stream",
     "text": [
      "{'name': 'John', 'age': 30, 'city': 'New York'}\n"
     ]
    }
   ],
   "source": [
    "def lists_to_dict(keys, values):\n",
    "    if len(keys) == len(values):\n",
    "        result_dict = dict(zip(keys, values))\n",
    "        return result_dict\n",
    "    else:\n",
    "        print(\"Error: Lists must have the same length.\")\n",
    "        return None\n",
    "keys_list = ['name', 'age', 'city']\n",
    "values_list = ['John', 30, 'New York']\n",
    "\n",
    "result_dict = {keys_list[i]: values_list[i] for i in range(len(keys_list))}\n",
    "print(result_dict)\n",
    "\n",
    "\n",
    "        \n"
   ]
  },
  {
   "cell_type": "code",
   "execution_count": 31,
   "id": "de13c728-f414-422d-afb5-10aa1307909f",
   "metadata": {},
   "outputs": [
    {
     "name": "stdin",
     "output_type": "stream",
     "text": [
      "Enter the first number:  169\n",
      "Enter the second number:  45\n",
      "Enter the third number:  469\n"
     ]
    },
    {
     "name": "stdout",
     "output_type": "stream",
     "text": [
      "The largest number is: 469.0\n"
     ]
    }
   ],
   "source": [
    "def find_largest(num1, num2, num3):\n",
    "    \"\"\"\n",
    "    Find the largest of three numbers.\n",
    "\n",
    "    Parameters:\n",
    "    - num1: First number\n",
    "    - num2: Second number\n",
    "    - num3: Third number\n",
    "\n",
    "    Returns:\n",
    "    - The largest number among the three.\n",
    "    \"\"\"\n",
    "    largest = max(num1, num2, num3)\n",
    "    return largest\n",
    "\n",
    "# Example usag\n",
    "number1 = float(input(\"Enter the first number: \"))\n",
    "number2 = float(input(\"Enter the second number: \"))\n",
    "number3 = float(input(\"Enter the third number: \"))\n",
    "\n",
    "largest_number = find_largest(number1, number2, number3)\n",
    "print(f\"The largest number is: {largest_number}\")\n"
   ]
  },
  {
   "cell_type": "code",
   "execution_count": 34,
   "id": "bd865c51-7a49-46fc-80b6-7c75ea299109",
   "metadata": {},
   "outputs": [
    {
     "name": "stdout",
     "output_type": "stream",
     "text": [
      "Simple Interest: 2400.0\n"
     ]
    }
   ],
   "source": [
    "def calculate_simple_interest(principal, rate, time):\n",
    "    # Simple Interest formula: SI = (P * R * T) / 100\n",
    "    simple_interest = (principal * rate * time) / 100\n",
    "    return simple_interest\n",
    "\n",
    "\n",
    "principal_amount = 7500\n",
    "rate_of_interest = 8 \n",
    "time_in_years = 4\n",
    "\n",
    "simple_interest_result = calculate_simple_interest(principal_amount, rate_of_interest, time_in_years)\n",
    "print(f\"Simple Interest: {simple_interest_result}\")\n"
   ]
  },
  {
   "cell_type": "code",
   "execution_count": null,
   "id": "a45d3eb1-9719-47fe-9754-9501ef2673e0",
   "metadata": {},
   "outputs": [],
   "source": [
    ". "
   ]
  }
 ],
 "metadata": {
  "kernelspec": {
   "display_name": "Python 3 (ipykernel)",
   "language": "python",
   "name": "python3"
  },
  "language_info": {
   "codemirror_mode": {
    "name": "ipython",
    "version": 3
   },
   "file_extension": ".py",
   "mimetype": "text/x-python",
   "name": "python",
   "nbconvert_exporter": "python",
   "pygments_lexer": "ipython3",
   "version": "3.11.5"
  }
 },
 "nbformat": 4,
 "nbformat_minor": 5
}
