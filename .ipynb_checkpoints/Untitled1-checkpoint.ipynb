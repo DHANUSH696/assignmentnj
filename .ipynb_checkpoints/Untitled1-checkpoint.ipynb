{
 "cells": [
  {
   "cell_type": "code",
   "execution_count": 30,
   "id": "d42b9562",
   "metadata": {},
   "outputs": [],
   "source": [
    "def area_of_circle(r):\n",
    "    area=3.14*r*r\n",
    "    print(area)\n",
    "    "
   ]
  },
  {
   "cell_type": "code",
   "execution_count": 31,
   "id": "3abb3ab7",
   "metadata": {},
   "outputs": [
    {
     "name": "stdout",
     "output_type": "stream",
     "text": [
      "12.56\n"
     ]
    }
   ],
   "source": [
    "area_of_circle(2)"
   ]
  },
  {
   "cell_type": "code",
   "execution_count": 32,
   "id": "d846a1dd",
   "metadata": {},
   "outputs": [
    {
     "name": "stdout",
     "output_type": "stream",
     "text": [
      "50.24\n"
     ]
    }
   ],
   "source": [
    "area_of_circle(4)"
   ]
  },
  {
   "cell_type": "code",
   "execution_count": 33,
   "id": "f3073ea1",
   "metadata": {},
   "outputs": [],
   "source": [
    "def rectangle(l,b):\n",
    "    area=l*b\n",
    "    return area"
   ]
  },
  {
   "cell_type": "code",
   "execution_count": 37,
   "id": "2eb6a9d8",
   "metadata": {},
   "outputs": [
    {
     "name": "stdout",
     "output_type": "stream",
     "text": [
      "Area of rectangle is  3\n"
     ]
    }
   ],
   "source": [
    "a=rectangle(3,1)\n",
    "print(\"Area of rectangle is \",a)"
   ]
  },
  {
   "cell_type": "code",
   "execution_count": 38,
   "id": "b7ac1fae",
   "metadata": {},
   "outputs": [],
   "source": [
    "def squareofnum():\n",
    "    '''square function :- This function will return the square of a number'''\n",
    "    a= int(input(\"enter a number: \"))\n",
    "    return a**2"
   ]
  },
  {
   "cell_type": "code",
   "execution_count": 43,
   "id": "648b26d0",
   "metadata": {},
   "outputs": [
    {
     "name": "stdout",
     "output_type": "stream",
     "text": [
      "enter a number: 2\n"
     ]
    },
    {
     "data": {
      "text/plain": [
       "4"
      ]
     },
     "execution_count": 43,
     "metadata": {},
     "output_type": "execute_result"
    }
   ],
   "source": [
    "squareofnum()"
   ]
  },
  {
   "cell_type": "code",
   "execution_count": 44,
   "id": "ae76925d",
   "metadata": {},
   "outputs": [
    {
     "data": {
      "text/plain": [
       "'square function :- This function will return the square of a number'"
      ]
     },
     "execution_count": 44,
     "metadata": {},
     "output_type": "execute_result"
    }
   ],
   "source": [
    "squareofnum.__doc__"
   ]
  },
  {
   "cell_type": "code",
   "execution_count": 49,
   "id": "bea9301e",
   "metadata": {},
   "outputs": [
    {
     "name": "stdout",
     "output_type": "stream",
     "text": [
      "enter the 1st number:36\n",
      "enter the 2st number:33\n",
      "the sum of two numbers are: 69\n"
     ]
    }
   ],
   "source": [
    "def sum():     \n",
    "    a=int(input(\"enter the 1st number:\"))    \n",
    "    b=int(input(\"enter the 2st number:\"))     \n",
    "    return a+b     \n",
    "print('the sum of two numbers are:',sum())"
   ]
  },
  {
   "cell_type": "code",
   "execution_count": 57,
   "id": "9d803412",
   "metadata": {},
   "outputs": [
    {
     "name": "stdout",
     "output_type": "stream",
     "text": [
      "a=10\n",
      "b=20\n"
     ]
    },
    {
     "ename": "NameError",
     "evalue": "name 'sum_of_two_numbers' is not defined",
     "output_type": "error",
     "traceback": [
      "\u001b[1;31m---------------------------------------------------------------------------\u001b[0m",
      "\u001b[1;31mNameError\u001b[0m                                 Traceback (most recent call last)",
      "Cell \u001b[1;32mIn[57], line 8\u001b[0m\n\u001b[0;32m      6\u001b[0m a\u001b[38;5;241m=\u001b[39m\u001b[38;5;28mfloat\u001b[39m(\u001b[38;5;28minput\u001b[39m(\u001b[38;5;124m\"\u001b[39m\u001b[38;5;124ma=\u001b[39m\u001b[38;5;124m\"\u001b[39m))\n\u001b[0;32m      7\u001b[0m b\u001b[38;5;241m=\u001b[39m\u001b[38;5;28mfloat\u001b[39m(\u001b[38;5;28minput\u001b[39m(\u001b[38;5;124m\"\u001b[39m\u001b[38;5;124mb=\u001b[39m\u001b[38;5;124m\"\u001b[39m))\n\u001b[1;32m----> 8\u001b[0m sum_of_two_numbers(a,b)\n\u001b[0;32m      9\u001b[0m \u001b[38;5;28mprint\u001b[39m(\u001b[38;5;124m\"\u001b[39m\u001b[38;5;124msum of\u001b[39m\u001b[38;5;124m\"\u001b[39m,a, \u001b[38;5;124m'\u001b[39m\u001b[38;5;124mand\u001b[39m\u001b[38;5;124m'\u001b[39m,b, \u001b[38;5;124m'\u001b[39m\u001b[38;5;124mis\u001b[39m\u001b[38;5;124m'\u001b[39m, Returned_value)\n",
      "\u001b[1;31mNameError\u001b[0m: name 'sum_of_two_numbers' is not defined"
     ]
    }
   ],
   "source": [
    "def Sum_of_two_nummbers(a,b):\n",
    "    print(a)\n",
    "    print(b)\n",
    "    ans=a+b\n",
    "    return ans\n",
    "a=float(input(\"a=\"))\n",
    "b=float(input(\"b=\"))\n",
    "sum_of_two_numbers(a,b)\n",
    "print(\"sum of\",a, 'and',b, 'is', Returned_value)"
   ]
  },
  {
   "cell_type": "code",
   "execution_count": 76,
   "id": "71abca23",
   "metadata": {},
   "outputs": [
    {
     "name": "stdout",
     "output_type": "stream",
     "text": [
      "11  is odd\n",
      "13  is odd\n",
      "15  is odd\n",
      "17  is odd\n",
      "19  is odd\n",
      "[11, 13, 15, 17, 19]\n"
     ]
    }
   ],
   "source": [
    "# print odd number between 10 to 20 using function.\n",
    "def odd():\n",
    "    L1=[]\n",
    "    for i in range(11,21,2):\n",
    "        if i%2 != 0:\n",
    "            L1.append(i)\n",
    "        print(i,\" is odd\")\n",
    "    print(L1)\n",
    "\n",
    "odd()"
   ]
  },
  {
   "cell_type": "code",
   "execution_count": null,
   "id": "a935a8a3",
   "metadata": {},
   "outputs": [],
   "source": []
  }
 ],
 "metadata": {
  "kernelspec": {
   "display_name": "Python 3 (ipykernel)",
   "language": "python",
   "name": "python3"
  },
  "language_info": {
   "codemirror_mode": {
    "name": "ipython",
    "version": 3
   },
   "file_extension": ".py",
   "mimetype": "text/x-python",
   "name": "python",
   "nbconvert_exporter": "python",
   "pygments_lexer": "ipython3",
   "version": "3.11.5"
  }
 },
 "nbformat": 4,
 "nbformat_minor": 5
}
