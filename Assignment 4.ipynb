{
 "cells": [
  {
   "cell_type": "code",
   "execution_count": 1,
   "id": "3a839b4c",
   "metadata": {},
   "outputs": [
    {
     "name": "stdout",
     "output_type": "stream",
     "text": [
      "Enter the first string: hello python \n",
      "Enter the second string: hello world \n",
      "Concatenated String:  hello python hello world \n"
     ]
    }
   ],
   "source": [
    "# string creation and concatenation:\n",
    "\n",
    "string1 = input(\"Enter the first string: \")\n",
    "string2 = input(\"Enter the second string: \")\n",
    "concatenated_string = string1 + string2\n",
    "print(\"Concatenated String: \", concatenated_string)\n",
    "\n",
    "import random\n",
    "import string"
   ]
  },
  {
   "cell_type": "code",
   "execution_count": 2,
   "id": "b46cd988",
   "metadata": {},
   "outputs": [
    {
     "name": "stdout",
     "output_type": "stream",
     "text": [
      "Enter a string: hello python \n",
      "Reversed String:  nohtyp olleh\n"
     ]
    }
   ],
   "source": [
    "# Write a program to reverse a given string\n",
    "\n",
    "input_string = input(\"Enter a string: \")\n",
    "reversed_string = input_string[::-1]\n",
    "print(\"Reversed String:\", reversed_string)"
   ]
  },
  {
   "cell_type": "code",
   "execution_count": 12,
   "id": "87e668c1",
   "metadata": {},
   "outputs": [
    {
     "name": "stdout",
     "output_type": "stream",
     "text": [
      "Enter a string: HELLO PYTHON\n",
      "String without vowels: HLL PYTHN\n"
     ]
    }
   ],
   "source": [
    "input_string = input(\"Enter a string: \")\n",
    "\n",
    "\n",
    "without_vowels = ''.join([char for char in input_string if char.lower() not in 'aeiou'])\n",
    "\n",
    "\n",
    "print(\"String without vowels:\", without_vowels)"
   ]
  },
  {
   "cell_type": "code",
   "execution_count": 13,
   "id": "f0ffef21",
   "metadata": {},
   "outputs": [
    {
     "name": "stdout",
     "output_type": "stream",
     "text": [
      "Enter a sentence: hello python\n",
      "Formatted Sentence: Hello Python\n"
     ]
    }
   ],
   "source": [
    "# Create a program to convert the first letter of each word in a sentence to uppercase.\n",
    "\n",
    "input_sentence = input(\"Enter a sentence: \")\n",
    "formatted_sentence = ' '.join(word.capitalize() for word in input_sentence.split())\n",
    "print(\"Formatted Sentence:\", formatted_sentence)"
   ]
  },
  {
   "cell_type": "code",
   "execution_count": 16,
   "id": "4de0f7aa",
   "metadata": {},
   "outputs": [
    {
     "name": "stdout",
     "output_type": "stream",
     "text": [
      "Enter a sentence: python\n",
      "Enter a word to search: y\n",
      "The word is present in the sentence.\n"
     ]
    }
   ],
   "source": [
    "# Write a program to check if a specific word is present in a given sentence\n",
    "\n",
    "sentence = input(\"Enter a sentence: \")\n",
    "word = input(\"Enter a word to search: \")\n",
    "if word in sentence:\n",
    "    print(\"The word is present in the sentence.\")\n",
    "else:\n",
    "    print(\"The word is not present in the sentence.\")"
   ]
  },
  {
   "cell_type": "code",
   "execution_count": 17,
   "id": "a83c6a2c",
   "metadata": {},
   "outputs": [
    {
     "name": "stdout",
     "output_type": "stream",
     "text": [
      "Enter a string: hello python\n",
      "Enter a character to count: l\n",
      "The character 'l' appears 2 times in the string.\n"
     ]
    }
   ],
   "source": [
    "# Design a program to count the number of occurrences of a specific character in a string.\n",
    "\n",
    "input_string = input(\"Enter a string: \")\n",
    "char_to_count = input(\"Enter a character to count: \")\n",
    "count = input_string.count(char_to_count)\n",
    "print(f\"The character '{char_to_count}' appears {count} times in the string.\")"
   ]
  },
  {
   "cell_type": "code",
   "execution_count": 18,
   "id": "7a7edc38",
   "metadata": {},
   "outputs": [
    {
     "name": "stdout",
     "output_type": "stream",
     "text": [
      "Enter a string: hello python\n",
      "Enter a substring to find: t\n",
      "The substring 't' first appears at index 8.\n"
     ]
    }
   ],
   "source": [
    "# Create a program to find the index of the first occurrence of a specific substring in a given string\n",
    "\n",
    "input_string = input(\"Enter a string: \")\n",
    "substring = input(\"Enter a substring to find: \")\n",
    "if substring in input_string:\n",
    "    index = input_string.find(substring)\n",
    "    print(f\"The substring '{substring}' first appears at index {index}.\")\n",
    "else:\n",
    "    print(f\"The substring '{substring}' is not found in the string.\")"
   ]
  },
  {
   "cell_type": "code",
   "execution_count": 19,
   "id": "1aa19a94",
   "metadata": {},
   "outputs": [
    {
     "name": "stdout",
     "output_type": "stream",
     "text": [
      "Enter a string: hello python\n",
      "First Three Characters: hel\n",
      "Last Three Characters: hon\n"
     ]
    }
   ],
   "source": [
    "# Write a program to extract the first three and last three characters from a given string.\n",
    "\n",
    "input_string = input(\"Enter a string: \")\n",
    "if len(input_string) < 3:\n",
    "    print(\"String is too short.\")\n",
    "else:\n",
    "    first_three = input_string[:3]\n",
    "    last_three = input_string[-3:]\n",
    "    print(f\"First Three Characters: {first_three}\")\n",
    "    print(f\"Last Three Characters: {last_three}\")"
   ]
  },
  {
   "cell_type": "code",
   "execution_count": 20,
   "id": "93b15f99",
   "metadata": {},
   "outputs": [
    {
     "name": "stdout",
     "output_type": "stream",
     "text": [
      "Enter a decimal number: 84\n",
      "Formatted Number: 84.00\n"
     ]
    }
   ],
   "source": [
    "# Design a program to format a decimal number to display exactly two decimal places.\n",
    "\n",
    "decimal_number = float(input(\"Enter a decimal number: \"))\n",
    "formatted_number = \"{:.2f}\".format(decimal_number)\n",
    "print(\"Formatted Number:\", formatted_number)"
   ]
  },
  {
   "cell_type": "code",
   "execution_count": 21,
   "id": "c247f284",
   "metadata": {},
   "outputs": [
    {
     "name": "stdout",
     "output_type": "stream",
     "text": [
      "Enter your name: dhanush\n",
      "Enter your age: 19\n",
      "Hello, dhanush! You are 19 years old.\n"
     ]
    }
   ],
   "source": [
    "# Create a program that takes a user's name and age as input and prints a message using string formatting.\n",
    "\n",
    "name = input(\"Enter your name: \")\n",
    "age = int(input(\"Enter your age: \"))\n",
    "message = \"Hello, {}! You are {} years old.\".format(name, age)\n",
    "print(message)"
   ]
  },
  {
   "cell_type": "code",
   "execution_count": 22,
   "id": "fa71e34b",
   "metadata": {},
   "outputs": [
    {
     "name": "stdout",
     "output_type": "stream",
     "text": [
      "Enter a string: hello python\n",
      "The string is not a palindrome.\n"
     ]
    }
   ],
   "source": [
    "# Write a program to check if a given string is a palindrome.\n",
    "\n",
    "input_string = input(\"Enter a string: \")\n",
    "if input_string == input_string[::-1]:\n",
    "    print(\"The string is a palindrome.\")\n",
    "else:\n",
    "    print(\"The string is not a palindrome.\")"
   ]
  },
  {
   "cell_type": "code",
   "execution_count": 23,
   "id": "c2be91e2",
   "metadata": {},
   "outputs": [
    {
     "name": "stdout",
     "output_type": "stream",
     "text": [
      "Enter a sentence: hello python\n",
      "Words in the sentence: ['hello', 'python']\n"
     ]
    }
   ],
   "source": [
    "# Write a program to split a sentence into words using the split() function.\n",
    "\n",
    "input_sentence = input(\"Enter a sentence: \")\n",
    "words = input_sentence.split()\n",
    "print(\"Words in the sentence:\", words)"
   ]
  },
  {
   "cell_type": "code",
   "execution_count": 24,
   "id": "fbe3ea71",
   "metadata": {},
   "outputs": [
    {
     "name": "stdout",
     "output_type": "stream",
     "text": [
      "Concatenated Sentence: This is a list of words.\n"
     ]
    }
   ],
   "source": [
    "# Design a program to concatenate a list of strings into a sentence using the join() function.\n",
    "\n",
    "words = [\"This\", \"is\", \"a\", \"list\", \"of\", \"words.\"]\n",
    "sentence = ' '.join(words)\n",
    "print(\"Concatenated Sentence:\", sentence)"
   ]
  },
  {
   "cell_type": "code",
   "execution_count": 25,
   "id": "e85128f2",
   "metadata": {},
   "outputs": [
    {
     "name": "stdout",
     "output_type": "stream",
     "text": [
      "Enter a sentence: hello python\n",
      "Enter the word to replace: he\n",
      "Enter the replacement word: hi\n",
      "Replaced Sentence: hillo python\n"
     ]
    }
   ],
   "source": [
    "# Create a program to replace a specific word in a sentence with another word using the replace() function.\n",
    "\n",
    "input_sentence = input(\"Enter a sentence: \")\n",
    "old_word = input(\"Enter the word to replace: \")\n",
    "new_word = input(\"Enter the replacement word: \")\n",
    "replaced_sentence = input_sentence.replace(old_word, new_word)\n",
    "print(\"Replaced Sentence:\", replaced_sentence)"
   ]
  },
  {
   "cell_type": "code",
   "execution_count": 26,
   "id": "b5e9331a",
   "metadata": {},
   "outputs": [
    {
     "name": "stdout",
     "output_type": "stream",
     "text": [
      "F0PVvNIjuE\n"
     ]
    }
   ],
   "source": [
    "# Create a program to generate a random string of a specific length\n",
    "\n",
    "import random\n",
    "import string\n",
    "\n",
    "def generate_random_string(length):\n",
    "    characters = string.ascii_letters + string.digits  # You can modify this to include special characters if needed\n",
    "    random_string = ''.join(random.choice(characters) for _ in range(length))\n",
    "    return random_string\n",
    "\n",
    "# Specify the length of the random string you want\n",
    "length = 10  # Change this to your desired length\n",
    "\n",
    "# Call the function to generate a random string\n",
    "random_str = generate_random_string(length)\n",
    "print(random_str)"
   ]
  },
  {
   "cell_type": "code",
   "execution_count": null,
   "id": "850ba87c",
   "metadata": {},
   "outputs": [],
   "source": []
  }
 ],
 "metadata": {
  "kernelspec": {
   "display_name": "Python 3 (ipykernel)",
   "language": "python",
   "name": "python3"
  },
  "language_info": {
   "codemirror_mode": {
    "name": "ipython",
    "version": 3
   },
   "file_extension": ".py",
   "mimetype": "text/x-python",
   "name": "python",
   "nbconvert_exporter": "python",
   "pygments_lexer": "ipython3",
   "version": "3.11.5"
  }
 },
 "nbformat": 4,
 "nbformat_minor": 5
}
