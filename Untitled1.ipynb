{
 "cells": [
  {
   "cell_type": "code",
   "execution_count": 7,
   "id": "861722cf-53ac-4016-91c2-961ce93d5d72",
   "metadata": {},
   "outputs": [
    {
     "data": {
      "text/plain": [
       "10"
      ]
     },
     "execution_count": 7,
     "metadata": {},
     "output_type": "execute_result"
    }
   ],
   "source": [
    "class Myclass:\n",
    "    a=10\n",
    "    b=20\n",
    "sum =Myclass.a \n"
   ]
  },
  {
   "cell_type": "code",
   "execution_count": 8,
   "id": "54e0ec5e-33d0-4e6c-8e93-f594f1a69560",
   "metadata": {},
   "outputs": [
    {
     "data": {
      "text/plain": [
       "30"
      ]
     },
     "execution_count": 8,
     "metadata": {},
     "output_type": "execute_result"
    }
   ],
   "source": [
    "class Myclass:\n",
    "    a=10\n",
    "    b=20\n",
    "sum =Myclass.a +Myclass.b\n",
    "sum"
   ]
  },
  {
   "cell_type": "code",
   "execution_count": 30,
   "id": "e7d928a1-392c-49a8-be3e-15fb847901e4",
   "metadata": {},
   "outputs": [
    {
     "name": "stdout",
     "output_type": "stream",
     "text": [
      "mammal\n",
      "i'm a mammal\n",
      "i'm a dog\n"
     ]
    }
   ],
   "source": [
    "class Dog:\n",
    "    attr1= \"mammal\"\n",
    "    attr2= \"dog\"\n",
    "    \n",
    "    def fun(self):\n",
    "        print(\"i'm a\", self.attr1)\n",
    "        print(\"i'm a\", self.attr2)\n",
    "obj1= Dog()\n",
    "\n",
    "print(obj1.attr1)\n",
    "obj1.fun()\n"
   ]
  },
  {
   "cell_type": "code",
   "execution_count": 32,
   "id": "e0638fcc-174a-4922-9b51-bc9311f4f350",
   "metadata": {},
   "outputs": [],
   "source": [
    "class Myclass:\n",
    "    a=0\n",
    "    b=0\n",
    "    def sum(self,c,d):\n",
    "        a=c\n",
    "        b=d"
   ]
  },
  {
   "cell_type": "code",
   "execution_count": 33,
   "id": "e8cd4159-5d23-4086-8354-3c62b1006a18",
   "metadata": {},
   "outputs": [],
   "source": [
    "class Myclass:\n",
    "    a=0\n",
    "    b=0\n",
    "    def sum(self,c,d):\n",
    "        self.a=a\n",
    "        self.b=b\n",
    "      "
   ]
  },
  {
   "cell_type": "code",
   "execution_count": 52,
   "id": "180aff0a-a665-49e4-a7a9-b44819180ae4",
   "metadata": {},
   "outputs": [
    {
     "ename": "AttributeError",
     "evalue": "'Myvehicle' object has no attribute 'carMaker'",
     "output_type": "error",
     "traceback": [
      "\u001b[1;31m---------------------------------------------------------------------------\u001b[0m",
      "\u001b[1;31mAttributeError\u001b[0m                            Traceback (most recent call last)",
      "Cell \u001b[1;32mIn[52], line 18\u001b[0m\n\u001b[0;32m     15\u001b[0m car\u001b[38;5;241m.\u001b[39mseating_capacity\u001b[38;5;241m=\u001b[39m\u001b[38;5;241m5\u001b[39m\n\u001b[0;32m     16\u001b[0m car\u001b[38;5;241m.\u001b[39mnumber_of_wheels\u001b[38;5;241m=\u001b[39m\u001b[38;5;241m4\u001b[39m\n\u001b[1;32m---> 18\u001b[0m car\u001b[38;5;241m.\u001b[39mcarMaker()\n",
      "\u001b[1;31mAttributeError\u001b[0m: 'Myvehicle' object has no attribute 'carMaker'"
     ]
    }
   ],
   "source": [
    "class Myvehicle:\n",
    "    #attr\n",
    "    car_name=''\n",
    "    car_color=''\n",
    "    seating_capacity=''\n",
    "    number_of_wheels=0\n",
    "\n",
    "    def VehicleMaker(self):\n",
    "        print(f' You have created a CAR MAKER \\nYou have created a car whose name is {self.car_name}, has {car_color}')\n",
    "        print(f' with seating capacity of {seating_capacity} having {number_of_wheels} wheels.')\n",
    "\n",
    "car=Myvehicle()\n",
    "car.car_name='Volkswagen'\n",
    "car.car_color='matte black'\n",
    "car.seating_capacity=5\n",
    "car.number_of_wheels=4\n",
    "\n",
    "car.carMaker()\n"
   ]
  },
  {
   "cell_type": "code",
   "execution_count": 5,
   "id": "cd1baf54-c397-4cba-bd09-3d70ce3fc575",
   "metadata": {},
   "outputs": [
    {
     "ename": "NameError",
     "evalue": "name 'Home' is not defined",
     "output_type": "error",
     "traceback": [
      "\u001b[1;31m---------------------------------------------------------------------------\u001b[0m",
      "\u001b[1;31mNameError\u001b[0m                                 Traceback (most recent call last)",
      "Cell \u001b[1;32mIn[5], line 1\u001b[0m\n\u001b[1;32m----> 1\u001b[0m \u001b[38;5;28;01mclass\u001b[39;00m \u001b[38;5;21;01mHome\u001b[39;00m:\n\u001b[0;32m      2\u001b[0m     landsize\u001b[38;5;241m=\u001b[39m\u001b[38;5;241m0\u001b[39m\n\u001b[0;32m      3\u001b[0m     number_of_floors\u001b[38;5;241m=\u001b[39m\u001b[38;5;241m0\u001b[39m\n",
      "Cell \u001b[1;32mIn[5], line 15\u001b[0m, in \u001b[0;36mHome\u001b[1;34m()\u001b[0m\n\u001b[0;32m     13\u001b[0m     \u001b[38;5;28mprint\u001b[39m(\u001b[38;5;124mf\u001b[39m\u001b[38;5;124m'\u001b[39m\u001b[38;5;124mhaving \u001b[39m\u001b[38;5;132;01m{\u001b[39;00m\u001b[38;5;28mself\u001b[39m\u001b[38;5;241m.\u001b[39mnumber_of_floors\u001b[38;5;132;01m}\u001b[39;00m\u001b[38;5;124m floors and it is \u001b[39m\u001b[38;5;132;01m{\u001b[39;00m\u001b[38;5;28mself\u001b[39m\u001b[38;5;241m.\u001b[39mfurnished\u001b[38;5;132;01m}\u001b[39;00m\u001b[38;5;124m'\u001b[39m)\n\u001b[0;32m     14\u001b[0m \u001b[38;5;66;03m#create object\u001b[39;00m\n\u001b[1;32m---> 15\u001b[0m my_home\u001b[38;5;241m=\u001b[39mHome()\n\u001b[0;32m     16\u001b[0m \u001b[38;5;66;03m#object initialization\u001b[39;00m\n\u001b[0;32m     17\u001b[0m my_home\u001b[38;5;241m.\u001b[39mKnowMyHome(\u001b[38;5;241m1200\u001b[39m,\u001b[38;5;241m2\u001b[39m,\u001b[38;5;124m'\u001b[39m\u001b[38;5;124mFully Furnished\u001b[39m\u001b[38;5;124m'\u001b[39m,\u001b[38;5;124m'\u001b[39m\u001b[38;5;124mRented\u001b[39m\u001b[38;5;124m'\u001b[39m,\u001b[38;5;241m2\u001b[39m)\n",
      "\u001b[1;31mNameError\u001b[0m: name 'Home' is not defined"
     ]
    }
   ],
   "source": [
    "class Home:\n",
    "    landsize=0\n",
    "    number_of_floors=0\n",
    "    furnished=''\n",
    "    ownership=''\n",
    "    bedrooms=0\n",
    "    def KnowMyHome(self,LS,NOF,FR,OW,BD):\n",
    "        self.landsize=LS\n",
    "        self.furnished=FR\n",
    "        self.ownership=OW\n",
    "        self.bedroome=BD\n",
    "        print(f'It is a {self.bedrooms} BHK {self.ownership} house & is of {self.landsize}sqft area,')\n",
    "        print(f'having {self.number_of_floors} floors and it is {self.furnished}')\n",
    "    #create object\n",
    "    my_home=Home()\n",
    "    #object initialization\n",
    "    my_home.KnowMyHome(1200,2,'Fully Furnished','Rented',2)"
   ]
  },
  {
   "cell_type": "code",
   "execution_count": 15,
   "id": "7040657e-88c0-430f-8b9b-cb8819ca1670",
   "metadata": {},
   "outputs": [
    {
     "name": "stdout",
     "output_type": "stream",
     "text": [
      "It is a 2 BHK Rented house & is of 1200 sqft area,\n",
      "having 2 floors and it is Fully Furnished\n"
     ]
    }
   ],
   "source": [
    "class Home: \n",
    "    landsize=0  \n",
    "    number_of_floors=0   \n",
    "    furnished=''   \n",
    "    ownership=''   \n",
    "    bedrooms=0   \n",
    "    def knowMyHome(self,LS,NOF,FR,OW,BD):  \n",
    "        self.landsize=LS     \n",
    "        self.number_of_floors=NOF \n",
    "        self.furnished=FR     \n",
    "        self.ownership=OW     \n",
    "        self.bedrooms=BD    \n",
    "        print(f'It is a {self.bedrooms} BHK {self.ownership} house & is of {self.landsize} sqft area,')  \n",
    "        print(f'having {self.number_of_floors} floors and it is {self.furnished}') \n",
    "#create object\n",
    "my_home=Home()\n",
    "#object initialization\n",
    "my_home.knowMyHome(1200,2,'Fully Furnished','Rented',2)"
   ]
  },
  {
   "cell_type": "code",
   "execution_count": 7,
   "id": "d975afac-6a90-4550-90b6-ec625cf16771",
   "metadata": {},
   "outputs": [],
   "source": [
    "#polymorphism"
   ]
  },
  {
   "cell_type": "code",
   "execution_count": 8,
   "id": "e88f277c-b511-4abc-81b8-ffedaca5d6f9",
   "metadata": {},
   "outputs": [
    {
     "name": "stdout",
     "output_type": "stream",
     "text": [
      "6\n",
      "5\n"
     ]
    }
   ],
   "source": [
    "def findlen_string():\n",
    "    print(len(\"Python\"))\n",
    "\n",
    "def findlen_list():\n",
    "    print(len([10,20,30,40,50]))\n",
    "\n",
    "findlen_string()\n",
    "findlen_list()"
   ]
  },
  {
   "cell_type": "code",
   "execution_count": 28,
   "id": "b9e9fec1-70a1-46d7-97ab-6f98927b4f6f",
   "metadata": {},
   "outputs": [],
   "source": [
    "#Encapsulation\n"
   ]
  },
  {
   "cell_type": "code",
   "execution_count": 32,
   "id": "b21842fb-f587-44ba-9ea4-a0e7136d6526",
   "metadata": {},
   "outputs": [
    {
     "ename": "SyntaxError",
     "evalue": "invalid syntax (3168057457.py, line 2)",
     "output_type": "error",
     "traceback": [
      "\u001b[1;36m  Cell \u001b[1;32mIn[32], line 2\u001b[1;36m\u001b[0m\n\u001b[1;33m    def__init__(self):\u001b[0m\n\u001b[1;37m                     ^\u001b[0m\n\u001b[1;31mSyntaxError\u001b[0m\u001b[1;31m:\u001b[0m invalid syntax\n"
     ]
    }
   ],
   "source": [
    "class Base:\n",
    "   def__init__(self):\n",
    "    self.a =\" Python World \"\n",
    "    self.__c =\" Python World \""
   ]
  },
  {
   "cell_type": "code",
   "execution_count": null,
   "id": "f6e429a4-245a-4e85-9c42-5a7540ccfca5",
   "metadata": {},
   "outputs": [],
   "source": []
  }
 ],
 "metadata": {
  "kernelspec": {
   "display_name": "Python 3 (ipykernel)",
   "language": "python",
   "name": "python3"
  },
  "language_info": {
   "codemirror_mode": {
    "name": "ipython",
    "version": 3
   },
   "file_extension": ".py",
   "mimetype": "text/x-python",
   "name": "python",
   "nbconvert_exporter": "python",
   "pygments_lexer": "ipython3",
   "version": "3.11.5"
  }
 },
 "nbformat": 4,
 "nbformat_minor": 5
}
