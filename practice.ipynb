{
 "cells": [
  {
   "cell_type": "code",
   "execution_count": 2,
   "id": "28d7d4a7",
   "metadata": {},
   "outputs": [
    {
     "name": "stdout",
     "output_type": "stream",
     "text": [
      "The maximum element of the list is: 14\n"
     ]
    }
   ],
   "source": [
    "from functools import reduce\n",
    "\n",
    "lis = [14, 3, 5, 6, 2]\n",
    "print(\"The maximum element of the list is:\", end=\" \")\n",
    "print(reduce(lambda a, b: a if a > b else b, lis))\n"
   ]
  },
  {
   "cell_type": "code",
   "execution_count": 5,
   "id": "dcf7dda1",
   "metadata": {},
   "outputs": [],
   "source": [
    "def check_odd_even(number):\n",
    "    if number % 2 == 0:\n",
    "        return \"Even\"\n",
    "    else:\n",
    "        return \"Odd\"\n"
   ]
  },
  {
   "cell_type": "code",
   "execution_count": 8,
   "id": "dadaea51",
   "metadata": {},
   "outputs": [
    {
     "name": "stdin",
     "output_type": "stream",
     "text": [
      "Enter a number:  11\n"
     ]
    },
    {
     "name": "stdout",
     "output_type": "stream",
     "text": [
      "Prime\n"
     ]
    }
   ],
   "source": [
    "def prime(n):\n",
    "    if n > 1:\n",
    "        for i in range(2, int(n/2) + 1):\n",
    "            if n % i == 0:\n",
    "                return 'Not prime'\n",
    "                break\n",
    "        else:\n",
    "            return 'Prime'\n",
    "    else:\n",
    "        return 'Not prime'\n",
    "\n",
    "n = int(input(\"Enter a number: \"))\n",
    "result = prime(n)\n",
    "print(result)\n",
    "\n",
    "                       "
   ]
  },
  {
   "cell_type": "code",
   "execution_count": 11,
   "id": "e07c942c",
   "metadata": {},
   "outputs": [
    {
     "name": "stdin",
     "output_type": "stream",
     "text": [
      "Enter numbers:  40\n"
     ]
    },
    {
     "name": "stdout",
     "output_type": "stream",
     "text": [
      "Product = 40\n"
     ]
    }
   ],
   "source": [
    "def cal_product(numbers):\n",
    "    prod = 1\n",
    "    for n in numbers:\n",
    "        prod *= n\n",
    "    return prod\n",
    "\n",
    "numbers = input(\"Enter numbers: \")\n",
    "numbers = list(map(int, numbers.split()))  \n",
    "res = cal_product(numbers)\n",
    "print(\"Product =\", res)\n"
   ]
  },
  {
   "cell_type": "code",
   "execution_count": 14,
   "id": "e0cad02f",
   "metadata": {},
   "outputs": [],
   "source": [
    "def prime(n):\n",
    "    if n > 1:\n",
    "        for i in range(2, int(n/2)):\n",
    "            \n",
    "            pass\n"
   ]
  },
  {
   "cell_type": "code",
   "execution_count": 16,
   "id": "f68fb670",
   "metadata": {},
   "outputs": [
    {
     "name": "stdout",
     "output_type": "stream",
     "text": [
      "Prime numbers between 11 and 30: [11, 13, 17, 19, 23, 29]\n"
     ]
    }
   ],
   "source": [
    "def is_prime(n):\n",
    "    if n < 2:\n",
    "        return False\n",
    "    for i in range(2, int(n**0.5) + 1):\n",
    "        if n % i == 0:\n",
    "            return False\n",
    "    return True\n",
    "\n",
    "start = 11\n",
    "end = 30\n",
    "prime = [num for num in range(start, end + 1) if is_prime(num)]\n",
    "print(\"Prime numbers between {} and {}: {}\".format(start, end, prime))\n"
   ]
  },
  {
   "cell_type": "code",
   "execution_count": null,
   "id": "0e5a487f",
   "metadata": {},
   "outputs": [],
   "source": [
    "num = range(11, 31) prime_numbers = list(filter(lambda x: all(x % i != 0 for i in range(2, int(x**0.5) + 1)), num)) print(\" Prime numbers from numbers 11 to 30 are\" ,prime_numbers)"
   ]
  },
  {
   "cell_type": "code",
   "execution_count": 3,
   "id": "00df326f",
   "metadata": {},
   "outputs": [
    {
     "ename": "SyntaxError",
     "evalue": "invalid non-printable character U+00A0 (83515156.py, line 11)",
     "output_type": "error",
     "traceback": [
      "\u001b[1;36m  Cell \u001b[1;32mIn[3], line 11\u001b[1;36m\u001b[0m\n\u001b[1;33m    print(\"Prime numbers between {} and {}: {}\".format(start, end, prime))\u001b[0m\n\u001b[1;37m                                                                  ^\u001b[0m\n\u001b[1;31mSyntaxError\u001b[0m\u001b[1;31m:\u001b[0m invalid non-printable character U+00A0\n"
     ]
    }
   ],
   "source": [
    "def is_prime(n):\n",
    "    if n < 2:\n",
    "        return False\n",
    "    for i in range(2, int(n**0.5) + 1):\n",
    "        if n % i == 0:\n",
    "            return False\n",
    "    return True\n",
    "start = 11\n",
    "end = 30\n",
    "prime=[num for num in range(start, end + 1) if is_prime(num)]\n",
    "print(\"Prime numbers between {} and {}: {}\".format(start, end, prime))"
   ]
  },
  {
   "cell_type": "code",
   "execution_count": 4,
   "id": "9321414d",
   "metadata": {},
   "outputs": [
    {
     "name": "stdout",
     "output_type": "stream",
     "text": [
      "[11, 13, 17, 19, 23, 29]\n"
     ]
    }
   ],
   "source": [
    "primes = [num for num in range(11, 31) if all(num % i != 0 for i in range(2, int(num**0.5) + 1)) and num > 1]\n",
    "\n",
    "print(primes)"
   ]
  },
  {
   "cell_type": "code",
   "execution_count": 19,
   "id": "dc558ee6",
   "metadata": {},
   "outputs": [
    {
     "ename": "IndentationError",
     "evalue": "unindent does not match any outer indentation level (<tokenize>, line 7)",
     "output_type": "error",
     "traceback": [
      "\u001b[1;36m  File \u001b[1;32m<tokenize>:7\u001b[1;36m\u001b[0m\n\u001b[1;33m    print(x)\u001b[0m\n\u001b[1;37m    ^\u001b[0m\n\u001b[1;31mIndentationError\u001b[0m\u001b[1;31m:\u001b[0m unindent does not match any outer indentation level\n"
     ]
    }
   ],
   "source": [
    "x = \"Global scope\"\n",
    "a=10\n",
    "def outer_func():\n",
    "    x=\"Enclosing scope\"\n",
    "    def inner_func():\n",
    "         x=\"Local scope\"\n",
    "        print(x)\n",
    "        \n",
    "        \n",
    "         a=10\n",
    "    inner_func()\n",
    "    print(a)\n",
    "outer_func()\n",
    "\n"
   ]
  },
  {
   "cell_type": "code",
   "execution_count": 21,
   "id": "70f4648d",
   "metadata": {},
   "outputs": [
    {
     "name": "stdout",
     "output_type": "stream",
     "text": [
      "alpha\n",
      "beta\n",
      "gamma\n"
     ]
    }
   ],
   "source": [
    "mytuple= (\"alpha\",\"beta\",\"gamma\")\n",
    "myit=iter(mytuple)\n",
    "\n",
    "print(next(myit))\n",
    "print(next(myit))\n",
    "print(next(myit))"
   ]
  },
  {
   "cell_type": "code",
   "execution_count": 22,
   "id": "45da6201",
   "metadata": {},
   "outputs": [
    {
     "name": "stdout",
     "output_type": "stream",
     "text": [
      "alpha\n",
      "beta\n",
      "gamma\n"
     ]
    }
   ],
   "source": [
    "tuple=(\"alpha\",\"beta\",\"gamma\")\n",
    "for x in mytuple:\n",
    "    print(x)"
   ]
  },
  {
   "cell_type": "code",
   "execution_count": null,
   "id": "d2d8750b",
   "metadata": {},
   "outputs": [],
   "source": [
    "mystr=\"banana\"\n",
    "\n",
    "for x in mystr:\n",
    "    print(x)"
   ]
  },
  {
   "cell_type": "code",
   "execution_count": null,
   "id": "3b30c6ee",
   "metadata": {},
   "outputs": [],
   "source": [
    "def gen():\n",
    "    yield \"ordered food\"\n",
    "    yield  \"order accepted\"\n",
    "    yield \"order prepraing\"\n",
    "    yield \"order has been picked\"\n",
    "    yield \"order is on the way\"\n",
    "    yield \"food has been delivred\"\n",
    "    \n",
    "    \n",
    "\n",
    "print(next(gen()))\n",
    "\n",
    "\n",
    "   "
   ]
  },
  {
   "cell_type": "code",
   "execution_count": 1,
   "id": "6f0c4685",
   "metadata": {},
   "outputs": [
    {
     "name": "stdout",
     "output_type": "stream",
     "text": [
      "1\n",
      "2\n",
      "3\n"
     ]
    }
   ],
   "source": [
    "def gen(): # Generators\n",
    "    yield 1\n",
    "    yield 2\n",
    "    yield 3\n",
    "    \n",
    "for i in gen():\n",
    "    print(i)"
   ]
  },
  {
   "cell_type": "code",
   "execution_count": 2,
   "id": "5266bd9c",
   "metadata": {},
   "outputs": [
    {
     "name": "stdout",
     "output_type": "stream",
     "text": [
      "True\n",
      "False\n",
      "True\n"
     ]
    }
   ],
   "source": [
    "def gen(): # Generators\n",
    "    yield True\n",
    "    yield False\n",
    "    yield True\n",
    "for t_val in gen():\n",
    "    print(t_val)"
   ]
  },
  {
   "cell_type": "code",
   "execution_count": 8,
   "id": "1c04f4f9",
   "metadata": {},
   "outputs": [
    {
     "ename": "NameError",
     "evalue": "name 'generator' is not defined",
     "output_type": "error",
     "traceback": [
      "\u001b[1;31m---------------------------------------------------------------------------\u001b[0m",
      "\u001b[1;31mNameError\u001b[0m                                 Traceback (most recent call last)",
      "Cell \u001b[1;32mIn[8], line 6\u001b[0m\n\u001b[0;32m      3\u001b[0m     \u001b[38;5;28;01myield\u001b[39;00m  \u001b[38;5;124m'\u001b[39m\u001b[38;5;124mSecond string\u001b[39m\u001b[38;5;124m'\u001b[39m\n\u001b[0;32m      4\u001b[0m     \u001b[38;5;28;01myield\u001b[39;00m  \u001b[38;5;124m'\u001b[39m\u001b[38;5;124mThird string\u001b[39m\u001b[38;5;124m'\u001b[39m\n\u001b[1;32m----> 6\u001b[0m obj  \u001b[38;5;241m=\u001b[39m  generator()\n\u001b[0;32m      7\u001b[0m \u001b[38;5;28mprint\u001b[39m(obj\u001b[38;5;241m.\u001b[39m\u001b[38;5;21m__next__\u001b[39m())\n\u001b[0;32m      8\u001b[0m \u001b[38;5;28mprint\u001b[39m(\u001b[38;5;124m'\u001b[39m\u001b[38;5;124mcalling next\u001b[39m\u001b[38;5;124m'\u001b[39m)\n",
      "\u001b[1;31mNameError\u001b[0m: name 'generator' is not defined"
     ]
    }
   ],
   "source": [
    "def gen(): # Generators\n",
    "    yield 'First string'\n",
    "    yield  'Second string'\n",
    "    yield  'Third string'\n",
    "    \n",
    "obj  =  generator()\n",
    "print(obj.__next__())\n",
    "print('calling next')\n",
    "print(obj.__next__())"
   ]
  },
  {
   "cell_type": "code",
   "execution_count": 10,
   "id": "4fe2522d",
   "metadata": {},
   "outputs": [],
   "source": [
    "def generator():\n",
    "    yield \"search for the product\"  \n",
    "    yield \"see rating and review of the product\"  \n",
    "    yield \"see delivery date and if there is any delivery charges\"  \n",
    "    yield \"next head for the order button\"   \n",
    "    yield \"check the delivery address\"  \n",
    "    yield \"head for payment option\"    \n",
    "    yield \"pay the order payment\"   \n",
    "    yield \"order has booked with estimated delivery date\"     \n",
    "    for label in generator():     print(\"ordered status:\",label)    "
   ]
  },
  {
   "cell_type": "code",
   "execution_count": 13,
   "id": "26813763",
   "metadata": {},
   "outputs": [
    {
     "name": "stdout",
     "output_type": "stream",
     "text": [
      "{('hemant', 1), (False, 3), ('sagar', 4)}\n"
     ]
    }
   ],
   "source": [
    "name = [\"sagar\",\"hemant\",\"yusuf\"<\"pushpa\"]\n",
    "roll_no = [4,1,3,2]\n",
    "#using zip() to map values\n",
    "mapped  =zip(name,roll_no)\n",
    "print(set(mapped))\n"
   ]
  },
  {
   "cell_type": "code",
   "execution_count": 35,
   "id": "986841c5",
   "metadata": {
    "scrolled": true
   },
   "outputs": [
    {
     "name": "stdout",
     "output_type": "stream",
     "text": [
      "<class 'list'>\n",
      "sagar has been assigned roll number: 4\n",
      "hemant has been assigned roll number: 1\n",
      "pushpa has been assigned roll number: 3\n",
      "pushpa has been assigned roll number: 10\n"
     ]
    }
   ],
   "source": [
    "name=['sagar', 'hemant', 'pushpa','pushpa']\n",
    "roll_no=[4,1,3,10]\n",
    "\n",
    "mapped=list(zip (roll_no,name))\n",
    "print(type(mapped))\\\n",
    "\n",
    "for item in mapped:\n",
    "    i=list(item)\n",
    "    print(\"{} has been assigned roll number: {}\".format(i[1],i[0]))\n",
    "    "
   ]
  },
  {
   "cell_type": "code",
   "execution_count": 10,
   "id": "96e683b0",
   "metadata": {},
   "outputs": [
    {
     "ename": "NameError",
     "evalue": "name 'l1' is not defined",
     "output_type": "error",
     "traceback": [
      "\u001b[1;31m---------------------------------------------------------------------------\u001b[0m",
      "\u001b[1;31mNameError\u001b[0m                                 Traceback (most recent call last)",
      "Cell \u001b[1;32mIn[10], line 4\u001b[0m\n\u001b[0;32m      1\u001b[0m L1\u001b[38;5;241m=\u001b[39m[\u001b[38;5;124m\"\u001b[39m\u001b[38;5;124meat\u001b[39m\u001b[38;5;124m\"\u001b[39m,\u001b[38;5;124m\"\u001b[39m\u001b[38;5;124msleep\u001b[39m\u001b[38;5;124m\"\u001b[39m,\u001b[38;5;124m\"\u001b[39m\u001b[38;5;124mrepeat\u001b[39m\u001b[38;5;124m\"\u001b[39m]\n\u001b[0;32m      2\u001b[0m s1\u001b[38;5;241m=\u001b[39m\u001b[38;5;124m\"\u001b[39m\u001b[38;5;124mpython\u001b[39m\u001b[38;5;124m\"\u001b[39m\n\u001b[1;32m----> 4\u001b[0m obj1\u001b[38;5;241m=\u001b[39m\u001b[38;5;28menumerate\u001b[39m(l1)\n\u001b[0;32m      5\u001b[0m obj\u001b[38;5;241m=\u001b[39m\u001b[38;5;28menumerate\u001b[39m(s1)\n",
      "\u001b[1;31mNameError\u001b[0m: name 'l1' is not defined"
     ]
    }
   ],
   "source": [
    "L1=[\"eat\",\"sleep\",\"repeat\"]\n",
    "s1=\"python\"\n",
    "\n",
    "obj1=enumerate(l1)\n",
    "obj=enumerate(s1)\n"
   ]
  },
  {
   "cell_type": "code",
   "execution_count": 39,
   "id": "611321c8",
   "metadata": {},
   "outputs": [
    {
     "name": "stdout",
     "output_type": "stream",
     "text": [
      "type of object:  <class 'enumerate'>\n",
      "[(0, 'A'), (1, 'B'), (2, 'C')]\n",
      "{0: 'p', 1: 'y', 2: 't', 3: 'h', 4: 'o', 5: 'n'}\n"
     ]
    }
   ],
   "source": [
    "L1=['A','B','C']\n",
    "\n",
    "obj1=enumerate(L1)\n",
    "print(\"type of object: \",type(obj1))\n",
    "print(list(obj1))\n",
    "\n",
    "s1=\"python\"\n",
    "\n",
    "obj2=enumerate(s1)\n",
    "print(dict(obj2))"
   ]
  },
  {
   "cell_type": "code",
   "execution_count": 7,
   "id": "d546016d",
   "metadata": {},
   "outputs": [
    {
     "ename": "SyntaxError",
     "evalue": "expected ':' (2576552135.py, line 2)",
     "output_type": "error",
     "traceback": [
      "\u001b[1;36m  Cell \u001b[1;32mIn[7], line 2\u001b[1;36m\u001b[0m\n\u001b[1;33m    if 'A'in 'Apple'\u001b[0m\n\u001b[1;37m                    ^\u001b[0m\n\u001b[1;31mSyntaxError\u001b[0m\u001b[1;31m:\u001b[0m expected ':'\n"
     ]
    }
   ],
   "source": [
    "s1=\"python\"\n",
    "if 'A'in 'Apple'"
   ]
  },
  {
   "cell_type": "code",
   "execution_count": 43,
   "id": "f8c536cb",
   "metadata": {},
   "outputs": [
    {
     "name": "stdout",
     "output_type": "stream",
     "text": [
      "a found in apple\n"
     ]
    }
   ],
   "source": [
    "if 'a' in 'apple':\n",
    "    print('a found in apple')"
   ]
  },
  {
   "cell_type": "code",
   "execution_count": 60,
   "id": "575e28f3",
   "metadata": {},
   "outputs": [
    {
     "ename": "IndentationError",
     "evalue": "unindent does not match any outer indentation level (<tokenize>, line 5)",
     "output_type": "error",
     "traceback": [
      "\u001b[1;36m  File \u001b[1;32m<tokenize>:5\u001b[1;36m\u001b[0m\n\u001b[1;33m    if 'a' in fruit :\u001b[0m\n\u001b[1;37m    ^\u001b[0m\n\u001b[1;31mIndentationError\u001b[0m\u001b[1;31m:\u001b[0m unindent does not match any outer indentation level\n"
     ]
    }
   ],
   "source": [
    "fruites=['banana','orange','apple','kiwi','lime']\n",
    "filtered=[]\n",
    "for fruit in fruits:\n",
    "         print(fruit)\n",
    "    if 'a' in fruit :\n",
    "            filtered.append(fruit)\n",
    "print(filtered)"
   ]
  },
  {
   "cell_type": "code",
   "execution_count": 61,
   "id": "57c0c8b0",
   "metadata": {},
   "outputs": [
    {
     "name": "stdout",
     "output_type": "stream",
     "text": [
      "Apple\n",
      "Mango\n",
      "Avocado\n"
     ]
    }
   ],
   "source": [
    "fruits = [ \"Apple\", \"Mango\", \"Avocado\",\"kiwi\"] \n",
    "filtered = [i for i in fruits if 'a' in i.lower()] \n",
    "for i in filtered:     \n",
    "    print(i)"
   ]
  },
  {
   "cell_type": "code",
   "execution_count": 62,
   "id": "acab7b7f",
   "metadata": {},
   "outputs": [
    {
     "name": "stdout",
     "output_type": "stream",
     "text": [
      "['Apple', 'Mango', 'Avocado', 'kiwi']\n"
     ]
    }
   ],
   "source": [
    "print(fruits)"
   ]
  },
  {
   "cell_type": "code",
   "execution_count": null,
   "id": "1dad783a",
   "metadata": {},
   "outputs": [],
   "source": [
    "     [ for fruit in fruits if 'a' in fruit ]   "
   ]
  },
  {
   "cell_type": "code",
   "execution_count": 4,
   "id": "0b139b1f",
   "metadata": {},
   "outputs": [],
   "source": [
    "fruits= ['banana','orange','apple','kiwi','lime']\n"
   ]
  },
  {
   "cell_type": "code",
   "execution_count": 75,
   "id": "7fb60a7f",
   "metadata": {},
   "outputs": [
    {
     "name": "stdout",
     "output_type": "stream",
     "text": [
      "[0, 2, 4, 6, 8]\n"
     ]
    }
   ],
   "source": [
    "l1=[i*2  for i in range(0,5)]  \n",
    "print(l1)"
   ]
  },
  {
   "cell_type": "code",
   "execution_count": 3,
   "id": "1d03bda2",
   "metadata": {},
   "outputs": [
    {
     "name": "stdout",
     "output_type": "stream",
     "text": [
      "<class 'list'>\n"
     ]
    }
   ],
   "source": [
    "fruits= ['banana','orange','apple','kiwi','lime'] \n",
    "\n",
    "filtered = [fruit    for fruit in fruits   if 'a' in fruit ]\n",
    "print(type(filtered))"
   ]
  },
  {
   "cell_type": "code",
   "execution_count": null,
   "id": "32ac9326",
   "metadata": {},
   "outputs": [],
   "source": []
  },
  {
   "cell_type": "code",
   "execution_count": 5,
   "id": "20358a5c",
   "metadata": {},
   "outputs": [
    {
     "ename": "FileNotFoundError",
     "evalue": "[Errno 2] No such file or directory: 'C:\\\\abcasdfghjkl/MyFile1.txt'",
     "output_type": "error",
     "traceback": [
      "\u001b[1;31m---------------------------------------------------------------------------\u001b[0m",
      "\u001b[1;31mFileNotFoundError\u001b[0m                         Traceback (most recent call last)",
      "Cell \u001b[1;32mIn[5], line 1\u001b[0m\n\u001b[1;32m----> 1\u001b[0m file1\u001b[38;5;241m=\u001b[39m\u001b[38;5;28mopen\u001b[39m(\u001b[38;5;124mr\u001b[39m\u001b[38;5;124m\"\u001b[39m\u001b[38;5;124mC:\u001b[39m\u001b[38;5;124m\\\u001b[39m\u001b[38;5;124mabcasdfghjkl/MyFile1.txt\u001b[39m\u001b[38;5;124m\"\u001b[39m,\u001b[38;5;124m\"\u001b[39m\u001b[38;5;124mw+\u001b[39m\u001b[38;5;124m\"\u001b[39m)\n",
      "File \u001b[1;32m~\\anaconda3\\Lib\\site-packages\\IPython\\core\\interactiveshell.py:286\u001b[0m, in \u001b[0;36m_modified_open\u001b[1;34m(file, *args, **kwargs)\u001b[0m\n\u001b[0;32m    279\u001b[0m \u001b[38;5;28;01mif\u001b[39;00m file \u001b[38;5;129;01min\u001b[39;00m {\u001b[38;5;241m0\u001b[39m, \u001b[38;5;241m1\u001b[39m, \u001b[38;5;241m2\u001b[39m}:\n\u001b[0;32m    280\u001b[0m     \u001b[38;5;28;01mraise\u001b[39;00m \u001b[38;5;167;01mValueError\u001b[39;00m(\n\u001b[0;32m    281\u001b[0m         \u001b[38;5;124mf\u001b[39m\u001b[38;5;124m\"\u001b[39m\u001b[38;5;124mIPython won\u001b[39m\u001b[38;5;124m'\u001b[39m\u001b[38;5;124mt let you open fd=\u001b[39m\u001b[38;5;132;01m{\u001b[39;00mfile\u001b[38;5;132;01m}\u001b[39;00m\u001b[38;5;124m by default \u001b[39m\u001b[38;5;124m\"\u001b[39m\n\u001b[0;32m    282\u001b[0m         \u001b[38;5;124m\"\u001b[39m\u001b[38;5;124mas it is likely to crash IPython. If you know what you are doing, \u001b[39m\u001b[38;5;124m\"\u001b[39m\n\u001b[0;32m    283\u001b[0m         \u001b[38;5;124m\"\u001b[39m\u001b[38;5;124myou can use builtins\u001b[39m\u001b[38;5;124m'\u001b[39m\u001b[38;5;124m open.\u001b[39m\u001b[38;5;124m\"\u001b[39m\n\u001b[0;32m    284\u001b[0m     )\n\u001b[1;32m--> 286\u001b[0m \u001b[38;5;28;01mreturn\u001b[39;00m io_open(file, \u001b[38;5;241m*\u001b[39margs, \u001b[38;5;241m*\u001b[39m\u001b[38;5;241m*\u001b[39mkwargs)\n",
      "\u001b[1;31mFileNotFoundError\u001b[0m: [Errno 2] No such file or directory: 'C:\\\\abcasdfghjkl/MyFile1.txt'"
     ]
    }
   ],
   "source": [
    "file1=open(r\"C:\\abcasdfghjkl/MyFile1.txt\",\"w+\")"
   ]
  },
  {
   "cell_type": "code",
   "execution_count": 11,
   "id": "57dac11b",
   "metadata": {},
   "outputs": [],
   "source": [
    "file1= open(r\"C:\\abcasdfghjkl;/MyFile1.txt\",\"w+\")"
   ]
  },
  {
   "cell_type": "code",
   "execution_count": 12,
   "id": "5e13559b",
   "metadata": {},
   "outputs": [
    {
     "data": {
      "text/plain": [
       "6"
      ]
     },
     "execution_count": 12,
     "metadata": {},
     "output_type": "execute_result"
    }
   ],
   "source": [
    "file1.write(\"myname\")"
   ]
  },
  {
   "cell_type": "code",
   "execution_count": 16,
   "id": "819443ab",
   "metadata": {},
   "outputs": [
    {
     "ename": "FileNotFoundError",
     "evalue": "[Errno 2] No such file or directory: '1/a myfile5.txt'",
     "output_type": "error",
     "traceback": [
      "\u001b[1;31m---------------------------------------------------------------------------\u001b[0m",
      "\u001b[1;31mFileNotFoundError\u001b[0m                         Traceback (most recent call last)",
      "Cell \u001b[1;32mIn[16], line 1\u001b[0m\n\u001b[1;32m----> 1\u001b[0m file1\u001b[38;5;241m=\u001b[39m\u001b[38;5;28mopen\u001b[39m(\u001b[38;5;124m'\u001b[39m\u001b[38;5;124m1/a myfile5.txt\u001b[39m\u001b[38;5;124m'\u001b[39m,\u001b[38;5;124m'\u001b[39m\u001b[38;5;124mw\u001b[39m\u001b[38;5;124m'\u001b[39m)\n\u001b[0;32m      2\u001b[0m file1\u001b[38;5;241m.\u001b[39mwrite(\u001b[38;5;124m\"\u001b[39m\u001b[38;5;124mnew file content written\u001b[39m\u001b[38;5;124m\"\u001b[39m)\n\u001b[0;32m      3\u001b[0m file1\u001b[38;5;241m.\u001b[39mclose()\n",
      "File \u001b[1;32m~\\anaconda3\\Lib\\site-packages\\IPython\\core\\interactiveshell.py:286\u001b[0m, in \u001b[0;36m_modified_open\u001b[1;34m(file, *args, **kwargs)\u001b[0m\n\u001b[0;32m    279\u001b[0m \u001b[38;5;28;01mif\u001b[39;00m file \u001b[38;5;129;01min\u001b[39;00m {\u001b[38;5;241m0\u001b[39m, \u001b[38;5;241m1\u001b[39m, \u001b[38;5;241m2\u001b[39m}:\n\u001b[0;32m    280\u001b[0m     \u001b[38;5;28;01mraise\u001b[39;00m \u001b[38;5;167;01mValueError\u001b[39;00m(\n\u001b[0;32m    281\u001b[0m         \u001b[38;5;124mf\u001b[39m\u001b[38;5;124m\"\u001b[39m\u001b[38;5;124mIPython won\u001b[39m\u001b[38;5;124m'\u001b[39m\u001b[38;5;124mt let you open fd=\u001b[39m\u001b[38;5;132;01m{\u001b[39;00mfile\u001b[38;5;132;01m}\u001b[39;00m\u001b[38;5;124m by default \u001b[39m\u001b[38;5;124m\"\u001b[39m\n\u001b[0;32m    282\u001b[0m         \u001b[38;5;124m\"\u001b[39m\u001b[38;5;124mas it is likely to crash IPython. If you know what you are doing, \u001b[39m\u001b[38;5;124m\"\u001b[39m\n\u001b[0;32m    283\u001b[0m         \u001b[38;5;124m\"\u001b[39m\u001b[38;5;124myou can use builtins\u001b[39m\u001b[38;5;124m'\u001b[39m\u001b[38;5;124m open.\u001b[39m\u001b[38;5;124m\"\u001b[39m\n\u001b[0;32m    284\u001b[0m     )\n\u001b[1;32m--> 286\u001b[0m \u001b[38;5;28;01mreturn\u001b[39;00m io_open(file, \u001b[38;5;241m*\u001b[39margs, \u001b[38;5;241m*\u001b[39m\u001b[38;5;241m*\u001b[39mkwargs)\n",
      "\u001b[1;31mFileNotFoundError\u001b[0m: [Errno 2] No such file or directory: '1/a myfile5.txt'"
     ]
    }
   ],
   "source": [
    "file1=open('1/a myfile5.txt','w')\n",
    "file1.write(\"new file content written\")\n",
    "file1.close()"
   ]
  },
  {
   "cell_type": "code",
   "execution_count": 1,
   "id": "7e01d453",
   "metadata": {},
   "outputs": [
    {
     "ename": "SyntaxError",
     "evalue": "invalid syntax. Perhaps you forgot a comma? (889763433.py, line 1)",
     "output_type": "error",
     "traceback": [
      "\u001b[1;36m  Cell \u001b[1;32mIn[1], line 1\u001b[1;36m\u001b[0m\n\u001b[1;33m    file1=open('1'/amyfile5.txt',''w')\u001b[0m\n\u001b[1;37m               ^\u001b[0m\n\u001b[1;31mSyntaxError\u001b[0m\u001b[1;31m:\u001b[0m invalid syntax. Perhaps you forgot a comma?\n"
     ]
    }
   ],
   "source": [
    "file1=open('1'/amyfile5.txt',''w')\n",
    "file1.write"
   ]
  },
  {
   "cell_type": "code",
   "execution_count": 2,
   "id": "dc05c668",
   "metadata": {},
   "outputs": [
    {
     "ename": "SyntaxError",
     "evalue": "unterminated string literal (detected at line 1) (1413664737.py, line 1)",
     "output_type": "error",
     "traceback": [
      "\u001b[1;36m  Cell \u001b[1;32mIn[2], line 1\u001b[1;36m\u001b[0m\n\u001b[1;33m    file3=open(r'c:/users/keonics/documments/abc.txt,'r')\u001b[0m\n\u001b[1;37m                                                      ^\u001b[0m\n\u001b[1;31mSyntaxError\u001b[0m\u001b[1;31m:\u001b[0m unterminated string literal (detected at line 1)\n"
     ]
    }
   ],
   "source": [
    "file3=open(r'c:/users/keonics/documments/abc.txt,'r')"
   ]
  },
  {
   "cell_type": "code",
   "execution_count": 7,
   "id": "9158ad00",
   "metadata": {},
   "outputs": [
    {
     "ename": "SyntaxError",
     "evalue": "unterminated string literal (detected at line 1) (2689226379.py, line 1)",
     "output_type": "error",
     "traceback": [
      "\u001b[1;36m  Cell \u001b[1;32mIn[7], line 1\u001b[1;36m\u001b[0m\n\u001b[1;33m    file2=open(r'D':/ myfile4.txt','w')\u001b[0m\n\u001b[1;37m                                     ^\u001b[0m\n\u001b[1;31mSyntaxError\u001b[0m\u001b[1;31m:\u001b[0m unterminated string literal (detected at line 1)\n"
     ]
    }
   ],
   "source": [
    "file2=open(r'D':/ myfile4.txt','w')\n",
    "file2.write(\"helloo python\")\n",
    "file2.close()\n",
    "\n",
    "\n",
    "file2=open(r'D:/myfile4.txt','w')\n",
    "str1=file2.read()\n",
    "print(str1)\n",
    "file2.close()"
   ]
  },
  {
   "cell_type": "code",
   "execution_count": 10,
   "id": "8fe1109e",
   "metadata": {},
   "outputs": [],
   "source": [
    "file4=open('myfile1234.txt', 'w')\n",
    "file4.write(\"python 3.11\")\n",
    "file4.close()"
   ]
  },
  {
   "cell_type": "code",
   "execution_count": 12,
   "id": "f9aed7f7",
   "metadata": {},
   "outputs": [
    {
     "name": "stdout",
     "output_type": "stream",
     "text": [
      "python\n"
     ]
    }
   ],
   "source": [
    "file4=open('myfile1234.txt','r')\n",
    "\n",
    "string_from_file=file4.read(6)\n",
    "print(string_from_file)\n",
    "\n",
    "file4.close()"
   ]
  },
  {
   "cell_type": "code",
   "execution_count": 14,
   "id": "bf0d506e",
   "metadata": {},
   "outputs": [
    {
     "name": "stdout",
     "output_type": "stream",
     "text": [
      "python 3.11\n"
     ]
    }
   ],
   "source": [
    "file4=open('myfile1234.txt','r')\n",
    "\n",
    "string_from_file=file4.readlines()\n",
    "print(string_from_file[0])\n",
    "\n",
    "file4.close()"
   ]
  },
  {
   "cell_type": "code",
   "execution_count": 18,
   "id": "c43d2e20",
   "metadata": {},
   "outputs": [
    {
     "name": "stdout",
     "output_type": "stream",
     "text": [
      "python 3.11\n"
     ]
    }
   ],
   "source": [
    "file4=open('myfile1234.txt','r')\n",
    "\n",
    "paragraph=file4.readlines()\n",
    "for  line in paragraph:\n",
    "    print(line)\n",
    "    \n",
    "\n",
    "file4.close()"
   ]
  },
  {
   "cell_type": "code",
   "execution_count": 24,
   "id": "0c20942c",
   "metadata": {},
   "outputs": [
    {
     "name": "stdout",
     "output_type": "stream",
     "text": [
      "python 3.11\n",
      "\n",
      "on 3.11\n",
      "\n"
     ]
    }
   ],
   "source": [
    "file1=open('myfile1234.txt','r')\n",
    "print(file1.readline())\n",
    "file1.seek(4)\n",
    "print(file1.readline())\n",
    "file1.close()"
   ]
  },
  {
   "cell_type": "code",
   "execution_count": 25,
   "id": "54e6dcdc",
   "metadata": {},
   "outputs": [
    {
     "name": "stdout",
     "output_type": "stream",
     "text": [
      "Value: 1, portal: 5.33\n"
     ]
    }
   ],
   "source": [
    "print(\"Value:%2d, portal:%5.2f\"%(1, 05.333))"
   ]
  },
  {
   "cell_type": "code",
   "execution_count": 29,
   "id": "22c887b5",
   "metadata": {},
   "outputs": [
    {
     "name": "stdout",
     "output_type": "stream",
     "text": [
      " Rs. 100 , pi value 3000.142\n"
     ]
    }
   ],
   "source": [
    "print(\" Rs. %d , pi value %5.3f\"%(100,3000.142))"
   ]
  },
  {
   "cell_type": "code",
   "execution_count": 34,
   "id": "77fa2342",
   "metadata": {
    "scrolled": true
   },
   "outputs": [
    {
     "name": "stdout",
     "output_type": "stream",
     "text": [
      "     31\n"
     ]
    }
   ],
   "source": [
    "print(\"%7.2o\"%(25))"
   ]
  },
  {
   "cell_type": "code",
   "execution_count": 35,
   "id": "c54a91de",
   "metadata": {},
   "outputs": [
    {
     "name": "stdout",
     "output_type": "stream",
     "text": [
      "     10\n"
     ]
    }
   ],
   "source": [
    "print(\"%7.2o\"%(8))"
   ]
  },
  {
   "cell_type": "code",
   "execution_count": 47,
   "id": "3c0eb0ca",
   "metadata": {},
   "outputs": [
    {
     "name": "stdout",
     "output_type": "stream",
     "text": [
      "  2E+03\n"
     ]
    }
   ],
   "source": [
    "print(\"%7.0E\"%2000)z"
   ]
  },
  {
   "cell_type": "code",
   "execution_count": 6,
   "id": "836c2cb6",
   "metadata": {},
   "outputs": [
    {
     "name": "stdout",
     "output_type": "stream",
     "text": [
      "second element=2\n",
      "an error\n"
     ]
    }
   ],
   "source": [
    "a=[1,2,3]\n",
    "try:\n",
    "    print(\"second element=%d\"%(a[1]))\n",
    "          \n",
    "    print(\"Fourth Element =%d\"%(a[3]))\n",
    "except:\n",
    "    print(\"an error\")\n",
    "          "
   ]
  },
  {
   "cell_type": "code",
   "execution_count": 8,
   "id": "c81b495f",
   "metadata": {},
   "outputs": [
    {
     "name": "stdout",
     "output_type": "stream",
     "text": [
      "second element=2\n",
      "error occured at index 3\n"
     ]
    }
   ],
   "source": [
    "a=[1,2,3]\n",
    "try:\n",
    "    print(\"second element=%d\"%(a[1]))\n",
    "          \n",
    "    print(\"Fourth Element =%d\"%(a[3]))\n",
    "except IndexError:\n",
    "    print(\"error occured at index 3\")\n",
    "except ValueError:\n",
    "    print(\"value error occured \")\n",
    "          "
   ]
  },
  {
   "cell_type": "code",
   "execution_count": 9,
   "id": "682d87f8",
   "metadata": {},
   "outputs": [
    {
     "name": "stdout",
     "output_type": "stream",
     "text": [
      "second element=2\n",
      "error occured at index 3\n"
     ]
    }
   ],
   "source": [
    "a=[1,2,3]\n",
    "try:\n",
    "    print(\"second element=%d\"%(a[1]))\n",
    "          \n",
    "    print(\"Fourth Element =%d\"%(a[3]))\n",
    "except IndexError:\n",
    "    print(\"error occured at index 3\")\n",
    "except ValueError:\n",
    "    print(\"value error occured \")\n",
    "except typeerror:\n",
    "    print(\"typeerror occured\")\n",
    "          \n",
    "   \n",
    "          "
   ]
  },
  {
   "cell_type": "code",
   "execution_count": 14,
   "id": "68719caf",
   "metadata": {},
   "outputs": [
    {
     "name": "stdout",
     "output_type": "stream",
     "text": [
      "Exception occurred\n"
     ]
    }
   ],
   "source": [
    "a=10\n",
    "b=[1,2,3]\n",
    "try:\n",
    "    a=c\n",
    "    print(\"%d\"%(b[3]))\n",
    "except NameError:\n",
    "    print(\"Exception occurred\")\n",
    "    "
   ]
  },
  {
   "cell_type": "code",
   "execution_count": 18,
   "id": "d6d7897a",
   "metadata": {},
   "outputs": [
    {
     "name": "stdout",
     "output_type": "stream",
     "text": [
      "Exception occured: IndexError\n"
     ]
    }
   ],
   "source": [
    "a=10\n",
    "b=[1,2,3]\n",
    "try:\n",
    "    a=c\n",
    "    print(\"%d\"%(b[3]))\n",
    "except NameError:\n",
    "    print(\"Exception occured: IndexError\")\n",
    "except:\n",
    "    print(\"Exception occurred: Generic\")\n",
    "    "
   ]
  },
  {
   "cell_type": "code",
   "execution_count": 21,
   "id": "77d4a5ff",
   "metadata": {},
   "outputs": [
    {
     "name": "stdout",
     "output_type": "stream",
     "text": [
      "Exception occurred: NameError\n"
     ]
    }
   ],
   "source": [
    "a=10\n",
    "b=[1,2,3]\n",
    "try:\n",
    "    a=c\n",
    "    print(\"%d\"%(b[3]))\n",
    "except NameError:\n",
    "    print(\"Exception occurred: NameError\")\n",
    "except IndexError:\n",
    "    print(\"Exception occurred: IndexError\")\n",
    "except ZeroDivisionError:\n",
    "    print(\"Exception occurred: ZeroDivisionError\")\n",
    "except:\n",
    "    print(\"Exception occurred: Generic\")\n",
    "    "
   ]
  },
  {
   "cell_type": "code",
   "execution_count": 31,
   "id": "e48f39d0",
   "metadata": {},
   "outputs": [
    {
     "name": "stdout",
     "output_type": "stream",
     "text": [
      "Finally block executed\n"
     ]
    }
   ],
   "source": [
    "try:\n",
    "    a=10/1\n",
    "except ZeroDivisionError:\n",
    "    print(\"ZeroDivisionError occurred\")\n",
    "else:\n",
    "    (\"exception did not occurred\")\n",
    "finally:\n",
    "    print(\"Finally block executed\")"
   ]
  },
  {
   "cell_type": "code",
   "execution_count": 5,
   "id": "a5363a53",
   "metadata": {},
   "outputs": [
    {
     "name": "stdout",
     "output_type": "stream",
     "text": [
      "python 3.11\n",
      "c programming\n",
      "java\n",
      "HTML\n",
      "Finally block executed\n"
     ]
    },
    {
     "ename": "UnsupportedOperation",
     "evalue": "not writable",
     "output_type": "error",
     "traceback": [
      "\u001b[1;31m---------------------------------------------------------------------------\u001b[0m",
      "\u001b[1;31mUnsupportedOperation\u001b[0m                      Traceback (most recent call last)",
      "Cell \u001b[1;32mIn[5], line 4\u001b[0m\n\u001b[0;32m      2\u001b[0m     fd\u001b[38;5;241m=\u001b[39m\u001b[38;5;28mopen\u001b[39m(\u001b[38;5;124m\"\u001b[39m\u001b[38;5;124mMyfile1234.txt\u001b[39m\u001b[38;5;124m\"\u001b[39m,\u001b[38;5;124m'\u001b[39m\u001b[38;5;124mr\u001b[39m\u001b[38;5;124m'\u001b[39m)\n\u001b[0;32m      3\u001b[0m     \u001b[38;5;28mprint\u001b[39m(fd\u001b[38;5;241m.\u001b[39mread())\n\u001b[1;32m----> 4\u001b[0m     \u001b[38;5;28mprint\u001b[39m(fd\u001b[38;5;241m.\u001b[39mwrite(\u001b[38;5;124m\"\u001b[39m\u001b[38;5;124mHello\u001b[39m\u001b[38;5;124m\"\u001b[39m))\n\u001b[0;32m      6\u001b[0m \u001b[38;5;28;01mexcept\u001b[39;00m \u001b[38;5;167;01mZeroDivisionError\u001b[39;00m:\n\u001b[0;32m      7\u001b[0m     \u001b[38;5;28mprint\u001b[39m(\u001b[38;5;124m\"\u001b[39m\u001b[38;5;124mZeroDivisionError occurred\u001b[39m\u001b[38;5;124m\"\u001b[39m)\n",
      "\u001b[1;31mUnsupportedOperation\u001b[0m: not writable"
     ]
    }
   ],
   "source": [
    "try:\n",
    "    fd=open(\"Myfile1234.txt\",'r')\n",
    "    print(fd.read())\n",
    "    print(fd.write(\"Hello\"))\n",
    "    \n",
    "except ZeroDivisionError:\n",
    "    print(\"ZeroDivisionError occurred\")\n",
    "else:\n",
    "    (\"exception did not occurred\")\n",
    "finally:\n",
    "    print(\"Finally block executed\")"
   ]
  },
  {
   "cell_type": "code",
   "execution_count": 11,
   "id": "d39561eb",
   "metadata": {},
   "outputs": [
    {
     "name": "stdout",
     "output_type": "stream",
     "text": [
      "execption occurred\n"
     ]
    },
    {
     "ename": "NameError",
     "evalue": "NameError raised from developer",
     "output_type": "error",
     "traceback": [
      "\u001b[1;31m---------------------------------------------------------------------------\u001b[0m",
      "\u001b[1;31mNameError\u001b[0m                                 Traceback (most recent call last)",
      "Cell \u001b[1;32mIn[11], line 2\u001b[0m\n\u001b[0;32m      1\u001b[0m \u001b[38;5;28;01mtry\u001b[39;00m:\n\u001b[1;32m----> 2\u001b[0m     \u001b[38;5;28;01mraise\u001b[39;00m \u001b[38;5;167;01mNameError\u001b[39;00m(\u001b[38;5;124m\"\u001b[39m\u001b[38;5;124mNameError raised from developer\u001b[39m\u001b[38;5;124m\"\u001b[39m)\n\u001b[0;32m      3\u001b[0m \u001b[38;5;28;01mexcept\u001b[39;00m \u001b[38;5;167;01mNameError\u001b[39;00m:\n\u001b[0;32m      4\u001b[0m     \u001b[38;5;28mprint\u001b[39m(\u001b[38;5;124m'\u001b[39m\u001b[38;5;124mexecption occurred\u001b[39m\u001b[38;5;124m'\u001b[39m)\n",
      "\u001b[1;31mNameError\u001b[0m: NameError raised from developer"
     ]
    }
   ],
   "source": [
    "try:\n",
    "    raise NameError(\"NameError raised from developer\")\n",
    "except NameError:\n",
    "    print('execption occurred')\n",
    "    raise"
   ]
  },
  {
   "cell_type": "code",
   "execution_count": 9,
   "id": "7873e738",
   "metadata": {},
   "outputs": [
    {
     "name": "stdout",
     "output_type": "stream",
     "text": [
      "Jane Smith\n"
     ]
    }
   ],
   "source": [
    "with open('student_data.txt', 'w') as file:\n",
    "    file.write(\"John Doe,123,10,A\\n\")\n",
    "    file.write(\"Jane Smith,456,11,B\\n\")\n",
    "    # Add more students as needed\n",
    "\n",
    "# Reading and displaying only names\n",
    "with open('student_data.txt', 'r') as file:\n",
    "    for line in file:\n",
    "        # Split the line into individual pieces of data\n",
    "        data = line.strip().split(',')\n",
    "        # Display only the name (assuming name is the first piece of data)\n",
    "print(data[0])"
   ]
  },
  {
   "cell_type": "code",
   "execution_count": 14,
   "id": "8a73fa06",
   "metadata": {},
   "outputs": [
    {
     "name": "stdout",
     "output_type": "stream",
     "text": [
      "Johny Doe 10\n",
      "Johny Doe 10\n"
     ]
    }
   ],
   "source": [
    "# Writing data to the file\n",
    "with open('student_data.txt12', 'a') as file:\n",
    "    file.write(\"Johny Doe,12,10,A\\n\")\n",
    "# Reading and displaying only names\n",
    "with open('student_data.txt12', 'r') as file:\n",
    "    for line in file:\n",
    "        data = line.split(',')\n",
    "        print(data[0],data[2])"
   ]
  },
  {
   "cell_type": "code",
   "execution_count": 13,
   "id": "01207ff2",
   "metadata": {},
   "outputs": [
    {
     "ename": "FileNotFoundError",
     "evalue": "[Errno 2] No such file or directory: 'C:/Users/dhanu/Desktop/Book1.csv'",
     "output_type": "error",
     "traceback": [
      "\u001b[1;31m---------------------------------------------------------------------------\u001b[0m",
      "\u001b[1;31mFileNotFoundError\u001b[0m                         Traceback (most recent call last)",
      "Cell \u001b[1;32mIn[13], line 2\u001b[0m\n\u001b[0;32m      1\u001b[0m \u001b[38;5;28;01mimport\u001b[39;00m \u001b[38;5;21;01mcsv\u001b[39;00m\n\u001b[1;32m----> 2\u001b[0m \u001b[38;5;28;01mwith\u001b[39;00m \u001b[38;5;28mopen\u001b[39m(\u001b[38;5;124m\"\u001b[39m\u001b[38;5;124mC:/Users/dhanu/Desktop/Book1.csv\u001b[39m\u001b[38;5;124m\"\u001b[39m ,\u001b[38;5;124m'\u001b[39m\u001b[38;5;124mr\u001b[39m\u001b[38;5;124m'\u001b[39m)\u001b[38;5;28;01mas\u001b[39;00m file_object:\n\u001b[0;32m      3\u001b[0m     \u001b[38;5;28mprint\u001b[39m(\u001b[38;5;124m\"\u001b[39m\u001b[38;5;124mSuccessfully opened csv\u001b[39m\u001b[38;5;124m\"\u001b[39m)\n\u001b[0;32m      4\u001b[0m     data\u001b[38;5;241m=\u001b[39mcsv\u001b[38;5;241m.\u001b[39mreader(file_object)\n",
      "File \u001b[1;32m~\\anaconda3\\Lib\\site-packages\\IPython\\core\\interactiveshell.py:286\u001b[0m, in \u001b[0;36m_modified_open\u001b[1;34m(file, *args, **kwargs)\u001b[0m\n\u001b[0;32m    279\u001b[0m \u001b[38;5;28;01mif\u001b[39;00m file \u001b[38;5;129;01min\u001b[39;00m {\u001b[38;5;241m0\u001b[39m, \u001b[38;5;241m1\u001b[39m, \u001b[38;5;241m2\u001b[39m}:\n\u001b[0;32m    280\u001b[0m     \u001b[38;5;28;01mraise\u001b[39;00m \u001b[38;5;167;01mValueError\u001b[39;00m(\n\u001b[0;32m    281\u001b[0m         \u001b[38;5;124mf\u001b[39m\u001b[38;5;124m\"\u001b[39m\u001b[38;5;124mIPython won\u001b[39m\u001b[38;5;124m'\u001b[39m\u001b[38;5;124mt let you open fd=\u001b[39m\u001b[38;5;132;01m{\u001b[39;00mfile\u001b[38;5;132;01m}\u001b[39;00m\u001b[38;5;124m by default \u001b[39m\u001b[38;5;124m\"\u001b[39m\n\u001b[0;32m    282\u001b[0m         \u001b[38;5;124m\"\u001b[39m\u001b[38;5;124mas it is likely to crash IPython. If you know what you are doing, \u001b[39m\u001b[38;5;124m\"\u001b[39m\n\u001b[0;32m    283\u001b[0m         \u001b[38;5;124m\"\u001b[39m\u001b[38;5;124myou can use builtins\u001b[39m\u001b[38;5;124m'\u001b[39m\u001b[38;5;124m open.\u001b[39m\u001b[38;5;124m\"\u001b[39m\n\u001b[0;32m    284\u001b[0m     )\n\u001b[1;32m--> 286\u001b[0m \u001b[38;5;28;01mreturn\u001b[39;00m io_open(file, \u001b[38;5;241m*\u001b[39margs, \u001b[38;5;241m*\u001b[39m\u001b[38;5;241m*\u001b[39mkwargs)\n",
      "\u001b[1;31mFileNotFoundError\u001b[0m: [Errno 2] No such file or directory: 'C:/Users/dhanu/Desktop/Book1.csv'"
     ]
    }
   ],
   "source": [
    "import csv\n",
    "with open(\"C:/Users/dhanu/Desktop/Book1.csv\" ,'r')as file_object:\n",
    "    print(\"Successfully opened csv\")\n",
    "    data=csv.reader(file_object)\n",
    "    for line in data:\n",
    "        print(line[2])"
   ]
  },
  {
   "cell_type": "code",
   "execution_count": 2,
   "id": "9fcfc893",
   "metadata": {},
   "outputs": [
    {
     "ename": "IndentationError",
     "evalue": "unindent does not match any outer indentation level (<tokenize>, line 6)",
     "output_type": "error",
     "traceback": [
      "\u001b[1;36m  File \u001b[1;32m<tokenize>:6\u001b[1;36m\u001b[0m\n\u001b[1;33m    for line in data:\u001b[0m\n\u001b[1;37m    ^\u001b[0m\n\u001b[1;31mIndentationError\u001b[0m\u001b[1;31m:\u001b[0m unindent does not match any outer indentation level\n"
     ]
    }
   ],
   "source": [
    "import csv\n",
    "c=0\n",
    "with open(\"C:/Users/dhanu/Desktop/Netflix.csv\",mode='r')\n",
    "     data=csv.reader(fd)\n",
    "     print(type(data))\n",
    "    for line in data:\n",
    "        c=c+1\n",
    "        if c>5:\n",
    "            break\n",
    "        if c==1:\n",
    "            continue\n",
    "        print(\"Netflix has released\" ,line[2], 'on', line[7],' & directed',c)"
   ]
  },
  {
   "cell_type": "code",
   "execution_count": 3,
   "id": "f1dc72fb",
   "metadata": {},
   "outputs": [
    {
     "name": "stdout",
     "output_type": "stream",
     "text": [
      "Data written to {filename}\n"
     ]
    }
   ],
   "source": [
    "import csv\n",
    "data = [{'Branch':'CS','CGPA':9.0,'Name':'Nikhil','Year':3},\n",
    "        {'Branch':'EC','CGPA':8.0,'Name':'Sam','Year':3},\n",
    "        {'Branch':'CS','CGPA':9.5,'Name':'Amit','Year':3}\n",
    "       ]\n",
    "fields = ['Name','Branch','CGPA','Year']\n",
    "filename = 'student_data.csv'\n",
    "with open(filename,'w',newline='') as fd:\n",
    "    WO = csv.DictWriter(fd,fieldnames = fields)\n",
    "    WO.writeheader()\n",
    "    WO.writerows(data)\n",
    "    print('Data written to {filename}')"
   ]
  },
  {
   "cell_type": "code",
   "execution_count": 16,
   "id": "0634fba0-d1d6-4d15-999d-d632c6fa57ea",
   "metadata": {},
   "outputs": [
    {
     "name": "stdout",
     "output_type": "stream",
     "text": [
      "John Doe\n"
     ]
    }
   ],
   "source": [
    "class Person:\n",
    "    def __init__(self, fname, lname):\n",
    "     self.firstname = fname\n",
    "     self.lastname = lname\n",
    "\n",
    "    def printname(self):\n",
    "     print(self.firstname, self.lastname)\n",
    "\n",
    "\n",
    "x = Person(\"John\", \"Doe\")\n",
    "x.printname()"
   ]
  },
  {
   "cell_type": "code",
   "execution_count": 31,
   "id": "e0a172b7-a3cd-4d42-8f34-1013e1bd1aef",
   "metadata": {},
   "outputs": [
    {
     "name": "stdout",
     "output_type": "stream",
     "text": [
      "My name is Sagar Bhat\n"
     ]
    }
   ],
   "source": [
    "class Person:\n",
    "    def __init__(self, fname, lname):\n",
    "        self.fname = fname\n",
    "        self.lname = lname\n",
    "\n",
    "    def printname(self):\n",
    "        print(f'My name is {self.fname} {self.lname}')\n",
    "\n",
    "class Student(Person):\n",
    "    pass\n",
    "\n",
    "obj1 = Student('Sagar', 'Bhat')\n",
    "obj1.printname()\n"
   ]
  },
  {
   "cell_type": "code",
   "execution_count": 44,
   "id": "f34195a6-fe9e-481d-9ea1-00f20c6b79b8",
   "metadata": {},
   "outputs": [
    {
     "name": "stdout",
     "output_type": "stream",
     "text": [
      "My name is Sagar Bhat\n",
      "Graduation Year: 2023\n"
     ]
    }
   ],
   "source": [
    "class Student(Person):\n",
    "    def __init__(self, fname, lname, year):\n",
    "        super().__init__(fname, lname)\n",
    "        self.year = year\n",
    "\n",
    "# Example usage\n",
    "obj1 = Student('Sagar', 'Bhat', 2023)\n",
    "obj1.printname()\n",
    "print(f'Graduation Year: {obj1.year}')\n"
   ]
  },
  {
   "cell_type": "code",
   "execution_count": 47,
   "id": "f638229a-adc6-4f04-a353-f3dc76b649ce",
   "metadata": {},
   "outputs": [
    {
     "name": "stdout",
     "output_type": "stream",
     "text": [
      "My name is Sagar Bhat, graduated in 2023\n"
     ]
    }
   ],
   "source": [
    "class Person:\n",
    "    def __init__(self, fname, lname):\n",
    "        self.fname = fname\n",
    "        self.lname = lname\n",
    "\n",
    "    def printname(self):\n",
    "        print(f'My name is {self.fname} {self.lname}')\n",
    "\n",
    "class Student(Person):\n",
    "    def __init__(self, fname, lname, graduationyear):\n",
    "        super().__init__(fname, lname)\n",
    "        self.graduationyear = graduationyear\n",
    "\n",
    "    def printname(self):\n",
    "        print(f'My name is {self.fname} {self.lname}, graduated in {self.graduationyear}')\n",
    "\n",
    "# Example usage\n",
    "obj1 = Student('Sagar', 'Bhat', 2023)\n",
    "obj1.printname()\n"
   ]
  },
  {
   "cell_type": "code",
   "execution_count": 49,
   "id": "a7c96aa9-d927-4147-b3cf-a0d7762ba35e",
   "metadata": {},
   "outputs": [],
   "source": [
    "class Engineer:\n",
    "    def __init__(self, name, age, experience):\n",
    "        self.name = name\n",
    "        self.age = age\n",
    "        self.experience = experience\n",
    "\n",
    "    def print_info(self):\n",
    "        print(f\"Name: {self.name}, Age: {self.age}, Experience: {self.experience} years\")\n",
    "\n",
    "class SoftwareEngineer(Engineer):\n",
    "    def __init__(self, name, age, experience, programming_languages):\n",
    "        super().__init__(name, age, experience)\n",
    "        self.programming_languages = programming_languages\n",
    "\n",
    "    def print_info(self):\n",
    "        super().print_info()\n",
    "        print(f\"Programming Languages: {', '.join(self.programming_languages)}\")\n",
    "        print(\"Job Description: Develop software applications and systems.\")\n",
    "\n",
    "class ElectricalEngineer(Engineer):\n",
    "    def __init__(self, name, age, experience, electrical_skills):\n",
    "        super().__init__(name, age, experience)\n",
    "        self.electrical_skills = electrical_skills\n",
    "\n",
    "    def print_info(self):\n",
    "        super().print_info()\n",
    "        print(f\"Electrical Skills: {', '.join(self.electrical_skills)}\")\n",
    "        print(\"Job Description: Design and maintain electrical systems.\")\n",
    "\n",
    "class CivilEngineer(Engineer):\n",
    "    def __init__(self, name, age, experience, structural_design_skills):\n",
    "        super().__init__(name, age, experience)\n",
    "        self.structural_design_skills = structural_design_skills\n",
    "\n",
    "    def print_info(self):\n",
    "        super().print_info()\n",
    "        print(f\"Structural Design Skills: {', '.join(self.structural_design_skills)}\")\n",
    "        print(\"Job Description: Plan, design, and oversee construction projects.\")\n",
    "\n",
    "class MechanicalEngineer(Engineer):\n",
    "    def __init__(self, name, age, experience, mechanical_skills):\n",
    "        super().__init__(name, age, experience)\n",
    "        self.mechanical_skills = mechanical_skills\n",
    "\n",
    "    def print_info(self):\n",
    "        super().print_info()\n",
    "        print(f\"Mechanical Skills: {', '.join(self.mechanical_skills)}\")\n",
    "        print(\"Job Description: Design and analyze mechanical systems and devices.\")\n"
   ]
  },
  {
   "cell_type": "code",
   "execution_count": 2,
   "id": "28e3d839-75d4-4a4b-87ae-2cfeed18ab41",
   "metadata": {},
   "outputs": [
    {
     "name": "stdout",
     "output_type": "stream",
     "text": [
      "Name: John Doe\n",
      "Role: Data Translator\n",
      "\n",
      "\n",
      "Name: Jane Smith\n",
      "Role: Data Scientist\n",
      "\n",
      "\n",
      "Name: Alice Johnson\n",
      "Role: Information Designer\n",
      "\n",
      "\n",
      "Name: Bob Wilson\n",
      "Role: Machine Learning Engineer\n",
      "\n",
      "\n",
      "Name: Chris Brown\n",
      "Role: Data Science Manager\n"
     ]
    }
   ],
   "source": [
    "class Engineer:\n",
    "    def __init__(self, name, role):\n",
    "        self.name = name\n",
    "        self.role = role\n",
    "\n",
    "    def display_info(self):\n",
    "        print(f\"Name: {self.name}\\nRole: {self.role}\")\n",
    "\n",
    "# Subclass for Data Translator\n",
    "class DataTranslator(Engineer):\n",
    "    pass\n",
    "\n",
    "# Subclass for Data Scientist\n",
    "class DataScientist(Engineer):\n",
    "    pass\n",
    "\n",
    "# Subclass for Information Designer\n",
    "class InformationDesigner(Engineer):\n",
    "    pass\n",
    "\n",
    "# Subclass for Machine Learning Engineer\n",
    "class MachineLearningEngineer(Engineer):\n",
    "    pass\n",
    "\n",
    "# Subclass for Data Science Manager\n",
    "class DataScienceManager(Engineer):\n",
    "    pass\n",
    "\n",
    "# Example Instances\n",
    "data_translator = DataTranslator(\"John Doe\", \"Data Translator\")\n",
    "data_scientist = DataScientist(\"Jane Smith\", \"Data Scientist\")\n",
    "information_designer = InformationDesigner(\"Alice Johnson\", \"Information Designer\")\n",
    "ml_engineer = MachineLearningEngineer(\"Bob Wilson\", \"Machine Learning Engineer\")\n",
    "data_science_manager = DataScienceManager(\"Chris Brown\", \"Data Science Manager\")\n",
    "\n",
    "# Display Information\n",
    "data_translator.display_info()\n",
    "print(\"\\n\")\n",
    "data_scientist.display_info()\n",
    "print(\"\\n\")\n",
    "information_designer.display_info()\n",
    "print(\"\\n\")\n",
    "ml_engineer.display_info()\n",
    "print(\"\\n\")\n",
    "data_science_manager.display_info()\n"
   ]
  },
  {
   "cell_type": "markdown",
   "id": "a613b8db-1a3f-4603-b637-ef37ac260361",
   "metadata": {},
   "source": [
    "# STATISTICS LEARNING"
   ]
  },
  {
   "cell_type": "code",
   "execution_count": 14,
   "id": "9c681f27-093f-415e-9ae6-259b87d37022",
   "metadata": {},
   "outputs": [
    {
     "name": "stdout",
     "output_type": "stream",
     "text": [
      "The average of list values is:2\n"
     ]
    }
   ],
   "source": [
    "# mean\n",
    "import statistics\n",
    "li=[1,2,3,3,2,2,2,1]\n",
    "   \n",
    "print(\"The average of list values is:\", end=\"\")\n",
    "print(statistics.mean(li))"
   ]
  },
  {
   "cell_type": "code",
   "execution_count": 13,
   "id": "d859bd2a-986b-4418-9252-303b5ddd2ef1",
   "metadata": {},
   "outputs": [
    {
     "name": "stdout",
     "output_type": "stream",
     "text": [
      "4\n"
     ]
    }
   ],
   "source": [
    "#mode\n",
    "values=[2,3,4,2,4,6,4,7,7,4,2,4]\n",
    "print(statistics.mode(values))"
   ]
  },
  {
   "cell_type": "code",
   "execution_count": 12,
   "id": "9c30a390-9ccb-4d00-b831-1fe3edff2a39",
   "metadata": {},
   "outputs": [
    {
     "name": "stdout",
     "output_type": "stream",
     "text": [
      "19.9\n"
     ]
    }
   ],
   "source": [
    "# median\n",
    "mileage=[21.3,20.8,19,15]\n",
    "print(statistics.median(mileage))"
   ]
  },
  {
   "cell_type": "code",
   "execution_count": 4,
   "id": "5d82ccb6-7681-4bd7-bc71-308b8d2b6187",
   "metadata": {},
   "outputs": [
    {
     "name": "stdin",
     "output_type": "stream",
     "text": [
      "a 4\n",
      "b 6\n"
     ]
    },
    {
     "name": "stdout",
     "output_type": "stream",
     "text": [
      "10\n"
     ]
    }
   ],
   "source": [
    "a=int(input(\"a\"))\n",
    "b=int(input(\"b\"))\n",
    "c=a+b\n",
    "print(c)"
   ]
  },
  {
   "cell_type": "code",
   "execution_count": 12,
   "id": "f7c228e5-85e2-49b8-b825-4779c84b6a08",
   "metadata": {},
   "outputs": [
    {
     "name": "stdout",
     "output_type": "stream",
     "text": [
      "[ 92.19178796 108.48211765  96.10228665  87.45525817 105.88922229\n",
      "  55.90986858  72.6034489   72.80585646  92.3707487   88.1562907\n",
      "  94.98513654 108.87991933 117.23794308 110.26474188  85.87553907\n",
      " 114.98476725  95.92659237 140.00536256 117.04068011 100.37200253\n",
      "  97.8055092   75.44705399 103.04226196  71.56406785 108.72506445\n",
      "  53.53717098  70.82045285 135.62242075 137.41413406 132.24830139\n",
      "  54.70636832  62.54231975  63.74641955  57.65232597 105.68160069\n",
      "  87.75663223  99.98678734  87.74368458  80.16976446 151.22246908\n",
      " 115.07963596  75.04494805 130.37603877  83.31208772  93.18735557\n",
      " 135.41936202  80.43477606  93.74198257  92.29213846 143.24220075\n",
      " 149.45680921 105.4922008  147.37049624  65.79751408  95.21736535\n",
      " 132.18143833  93.8279014  108.56377706 105.56792605 117.03984264\n",
      " 106.28622213  62.95377654  90.32945562  81.65798223 114.64945514\n",
      "  56.60528101  79.3326197  129.59585574 108.87615111 161.07124787\n",
      "  99.07686329  32.20714866 124.78724083 104.80606925  91.18018436\n",
      "  66.51192932  95.28318534 114.91466617 108.51136205 102.0856336\n",
      " 115.14980306 104.22343037  74.02771872 107.1309521  112.55978464\n",
      " 148.34687455 101.20812195  73.70578273 129.16455966 118.38667938\n",
      "  85.92175168  69.67479514 138.70320401  57.55311652  84.2051761\n",
      " 107.15916508  73.80069834  95.33874434 112.43887223  89.88744502\n",
      "  67.89738345  84.64357244  97.30326551 128.34058018  74.09384286\n",
      " 137.7839358   78.29315533 134.80576506 154.37732885 132.47553033\n",
      "  95.29796595 141.72558178 128.86435534 112.04505989  95.54907036\n",
      "  90.34542164  96.74814278 158.99058932 112.9249928  111.03386674\n",
      "  88.10688631 108.20957485  92.92986165  81.99452638 102.21147169\n",
      "  88.18710846 103.24929912  97.32915535  82.39242987 112.92943743\n",
      " 114.52115531  29.45519874  93.75956455  95.57265608  93.59160419\n",
      " 131.78786683 102.02446007  89.55148216  80.82626142 115.78915266\n",
      "  59.33883121  92.14936818  84.61319698  90.0253933   92.03590116\n",
      "  70.47923884  70.67890759  98.69198547  78.84540275 135.3622987\n",
      " 108.39633784  72.17848771 112.82765367  94.29203091 105.84468414\n",
      " 138.53984177 122.96685739  77.1607719  112.56120292  89.29839782\n",
      " 125.57530233  99.19448782  60.14245391  13.34350697  83.05348278\n",
      "  79.2932265   80.27145406 154.3407693  102.922837   121.73024693\n",
      "  76.20068871 116.39596557  86.14937884  60.70961411  91.87649956\n",
      "  98.64221006  72.85996776 135.74855939 101.2670849   61.33703557\n",
      "  38.63103471 119.03368284 119.77888939 115.96879491  76.93286545\n",
      "  77.45094879 114.68438833  89.71494569 100.12671847 117.00184588\n",
      " 128.07256991  80.81457043  96.21736343 106.72045219  84.85852151\n",
      " 124.53939886  74.06766392 111.8435628   89.51934568 132.26284681]\n",
      "200\n"
     ]
    },
    {
     "data": {
      "image/png": "[encoded data removed]",
      "text/plain": [
       "<Figure size 1000x800 with 1 Axes>"
      ]
     },
     "metadata": {},
     "output_type": "display_data"
    }
   ],
   "source": [
    "import matplotlib.pyplot as plt\n",
    "import numpy as np\n",
    "np.random.seed(15)\n"
   ]
  },
  {
   "cell_type": "code",
   "execution_count": null,
   "id": "85414fcd-9bbb-4805-9b47-632bcfa03f87",
   "metadata": {},
   "outputs": [],
   "source": []
  }
 ],
 "metadata": {
  "kernelspec": {
   "display_name": "Python 3 (ipykernel)",
   "language": "python",
   "name": "python3"
  },
  "language_info": {
   "codemirror_mode": {
    "name": "ipython",
    "version": 3
   },
   "file_extension": ".py",
   "mimetype": "text/x-python",
   "name": "python",
   "nbconvert_exporter": "python",
   "pygments_lexer": "ipython3",
   "version": "3.11.5"
  }
 },
 "nbformat": 4,
 "nbformat_minor": 5
}
