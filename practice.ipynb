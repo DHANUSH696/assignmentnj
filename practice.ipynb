{
 "cells": [
  {
   "cell_type": "code",
   "execution_count": 2,
   "id": "28d7d4a7",
   "metadata": {},
   "outputs": [
    {
     "name": "stdout",
     "output_type": "stream",
     "text": [
      "The maximum element of the list is: 14\n"
     ]
    }
   ],
   "source": [
    "from functools import reduce\n",
    "\n",
    "lis = [14, 3, 5, 6, 2]\n",
    "print(\"The maximum element of the list is:\", end=\" \")\n",
    "print(reduce(lambda a, b: a if a > b else b, lis))\n"
   ]
  },
  {
   "cell_type": "code",
   "execution_count": 5,
   "id": "dcf7dda1",
   "metadata": {},
   "outputs": [],
   "source": [
    "def check_odd_even(number):\n",
    "    if number % 2 == 0:\n",
    "        return \"Even\"\n",
    "    else:\n",
    "        return \"Odd\"\n"
   ]
  },
  {
   "cell_type": "code",
   "execution_count": 8,
   "id": "dadaea51",
   "metadata": {},
   "outputs": [
    {
     "name": "stdin",
     "output_type": "stream",
     "text": [
      "Enter a number:  11\n"
     ]
    },
    {
     "name": "stdout",
     "output_type": "stream",
     "text": [
      "Prime\n"
     ]
    }
   ],
   "source": [
    "def prime(n):\n",
    "    if n > 1:\n",
    "        for i in range(2, int(n/2) + 1):\n",
    "            if n % i == 0:\n",
    "                return 'Not prime'\n",
    "                break\n",
    "        else:\n",
    "            return 'Prime'\n",
    "    else:\n",
    "        return 'Not prime'\n",
    "\n",
    "n = int(input(\"Enter a number: \"))\n",
    "result = prime(n)\n",
    "print(result)\n",
    "\n",
    "                       "
   ]
  },
  {
   "cell_type": "code",
   "execution_count": 11,
   "id": "e07c942c",
   "metadata": {},
   "outputs": [
    {
     "name": "stdin",
     "output_type": "stream",
     "text": [
      "Enter numbers:  40\n"
     ]
    },
    {
     "name": "stdout",
     "output_type": "stream",
     "text": [
      "Product = 40\n"
     ]
    }
   ],
   "source": [
    "def cal_product(numbers):\n",
    "    prod = 1\n",
    "    for n in numbers:\n",
    "        prod *= n\n",
    "    return prod\n",
    "\n",
    "numbers = input(\"Enter numbers: \")\n",
    "numbers = list(map(int, numbers.split()))  \n",
    "res = cal_product(numbers)\n",
    "print(\"Product =\", res)\n"
   ]
  },
  {
   "cell_type": "code",
   "execution_count": 14,
   "id": "e0cad02f",
   "metadata": {},
   "outputs": [],
   "source": [
    "def prime(n):\n",
    "    if n > 1:\n",
    "        for i in range(2, int(n/2)):\n",
    "            \n",
    "            pass\n"
   ]
  },
  {
   "cell_type": "code",
   "execution_count": 16,
   "id": "f68fb670",
   "metadata": {},
   "outputs": [
    {
     "name": "stdout",
     "output_type": "stream",
     "text": [
      "Prime numbers between 11 and 30: [11, 13, 17, 19, 23, 29]\n"
     ]
    }
   ],
   "source": [
    "def is_prime(n):\n",
    "    if n < 2:\n",
    "        return False\n",
    "    for i in range(2, int(n**0.5) + 1):\n",
    "        if n % i == 0:\n",
    "            return False\n",
    "    return True\n",
    "\n",
    "start = 11\n",
    "end = 30\n",
    "prime = [num for num in range(start, end + 1) if is_prime(num)]\n",
    "print(\"Prime numbers between {} and {}: {}\".format(start, end, prime))\n"
   ]
  },
  {
   "cell_type": "code",
   "execution_count": null,
   "id": "0e5a487f",
   "metadata": {},
   "outputs": [],
   "source": [
    "num = range(11, 31) prime_numbers = list(filter(lambda x: all(x % i != 0 for i in range(2, int(x**0.5) + 1)), num)) print(\" Prime numbers from numbers 11 to 30 are\" ,prime_numbers)"
   ]
  },
  {
   "cell_type": "code",
   "execution_count": 3,
   "id": "00df326f",
   "metadata": {},
   "outputs": [
    {
     "ename": "SyntaxError",
     "evalue": "invalid non-printable character U+00A0 (83515156.py, line 11)",
     "output_type": "error",
     "traceback": [
      "\u001b[1;36m  Cell \u001b[1;32mIn[3], line 11\u001b[1;36m\u001b[0m\n\u001b[1;33m    print(\"Prime numbers between {} and {}: {}\".format(start, end, prime))\u001b[0m\n\u001b[1;37m                                                                  ^\u001b[0m\n\u001b[1;31mSyntaxError\u001b[0m\u001b[1;31m:\u001b[0m invalid non-printable character U+00A0\n"
     ]
    }
   ],
   "source": [
    "def is_prime(n):\n",
    "    if n < 2:\n",
    "        return False\n",
    "    for i in range(2, int(n**0.5) + 1):\n",
    "        if n % i == 0:\n",
    "            return False\n",
    "    return True\n",
    "start = 11\n",
    "end = 30\n",
    "prime=[num for num in range(start, end + 1) if is_prime(num)]\n",
    "print(\"Prime numbers between {} and {}: {}\".format(start, end, prime))"
   ]
  },
  {
   "cell_type": "code",
   "execution_count": 4,
   "id": "9321414d",
   "metadata": {},
   "outputs": [
    {
     "name": "stdout",
     "output_type": "stream",
     "text": [
      "[11, 13, 17, 19, 23, 29]\n"
     ]
    }
   ],
   "source": [
    "primes = [num for num in range(11, 31) if all(num % i != 0 for i in range(2, int(num**0.5) + 1)) and num > 1]\n",
    "\n",
    "print(primes)"
   ]
  },
  {
   "cell_type": "code",
   "execution_count": 19,
   "id": "dc558ee6",
   "metadata": {},
   "outputs": [
    {
     "ename": "IndentationError",
     "evalue": "unindent does not match any outer indentation level (<tokenize>, line 7)",
     "output_type": "error",
     "traceback": [
      "\u001b[1;36m  File \u001b[1;32m<tokenize>:7\u001b[1;36m\u001b[0m\n\u001b[1;33m    print(x)\u001b[0m\n\u001b[1;37m    ^\u001b[0m\n\u001b[1;31mIndentationError\u001b[0m\u001b[1;31m:\u001b[0m unindent does not match any outer indentation level\n"
     ]
    }
   ],
   "source": [
    "x = \"Global scope\"\n",
    "a=10\n",
    "def outer_func():\n",
    "    x=\"Enclosing scope\"\n",
    "    def inner_func():\n",
    "         x=\"Local scope\"\n",
    "        print(x)\n",
    "        \n",
    "        \n",
    "         a=10\n",
    "    inner_func()\n",
    "    print(a)\n",
    "outer_func()\n",
    "\n"
   ]
  },
  {
   "cell_type": "code",
   "execution_count": 21,
   "id": "70f4648d",
   "metadata": {},
   "outputs": [
    {
     "name": "stdout",
     "output_type": "stream",
     "text": [
      "alpha\n",
      "beta\n",
      "gamma\n"
     ]
    }
   ],
   "source": [
    "mytuple= (\"alpha\",\"beta\",\"gamma\")\n",
    "myit=iter(mytuple)\n",
    "\n",
    "print(next(myit))\n",
    "print(next(myit))\n",
    "print(next(myit))"
   ]
  },
  {
   "cell_type": "code",
   "execution_count": 22,
   "id": "45da6201",
   "metadata": {},
   "outputs": [
    {
     "name": "stdout",
     "output_type": "stream",
     "text": [
      "alpha\n",
      "beta\n",
      "gamma\n"
     ]
    }
   ],
   "source": [
    "tuple=(\"alpha\",\"beta\",\"gamma\")\n",
    "for x in mytuple:\n",
    "    print(x)"
   ]
  },
  {
   "cell_type": "code",
   "execution_count": null,
   "id": "d2d8750b",
   "metadata": {},
   "outputs": [],
   "source": [
    "mystr=\"banana\"\n",
    "\n",
    "for x in mystr:\n",
    "    print(x)"
   ]
  },
  {
   "cell_type": "code",
   "execution_count": null,
   "id": "3b30c6ee",
   "metadata": {},
   "outputs": [],
   "source": [
    "def gen():\n",
    "    yield \"ordered food\"\n",
    "    yield  \"order accepted\"\n",
    "    yield \"order prepraing\"\n",
    "    yield \"order has been picked\"\n",
    "    yield \"order is on the way\"\n",
    "    yield \"food has been delivred\"\n",
    "    \n",
    "    \n",
    "\n",
    "print(next(gen()))\n",
    "\n",
    "\n",
    "   "
   ]
  },
  {
   "cell_type": "code",
   "execution_count": 1,
   "id": "6f0c4685",
   "metadata": {},
   "outputs": [
    {
     "name": "stdout",
     "output_type": "stream",
     "text": [
      "1\n",
      "2\n",
      "3\n"
     ]
    }
   ],
   "source": [
    "def gen(): # Generators\n",
    "    yield 1\n",
    "    yield 2\n",
    "    yield 3\n",
    "    \n",
    "for i in gen():\n",
    "    print(i)"
   ]
  },
  {
   "cell_type": "code",
   "execution_count": 2,
   "id": "5266bd9c",
   "metadata": {},
   "outputs": [
    {
     "name": "stdout",
     "output_type": "stream",
     "text": [
      "True\n",
      "False\n",
      "True\n"
     ]
    }
   ],
   "source": [
    "def gen(): # Generators\n",
    "    yield True\n",
    "    yield False\n",
    "    yield True\n",
    "for t_val in gen():\n",
    "    print(t_val)"
   ]
  },
  {
   "cell_type": "code",
   "execution_count": 8,
   "id": "1c04f4f9",
   "metadata": {},
   "outputs": [
    {
     "ename": "NameError",
     "evalue": "name 'generator' is not defined",
     "output_type": "error",
     "traceback": [
      "\u001b[1;31m---------------------------------------------------------------------------\u001b[0m",
      "\u001b[1;31mNameError\u001b[0m                                 Traceback (most recent call last)",
      "Cell \u001b[1;32mIn[8], line 6\u001b[0m\n\u001b[0;32m      3\u001b[0m     \u001b[38;5;28;01myield\u001b[39;00m  \u001b[38;5;124m'\u001b[39m\u001b[38;5;124mSecond string\u001b[39m\u001b[38;5;124m'\u001b[39m\n\u001b[0;32m      4\u001b[0m     \u001b[38;5;28;01myield\u001b[39;00m  \u001b[38;5;124m'\u001b[39m\u001b[38;5;124mThird string\u001b[39m\u001b[38;5;124m'\u001b[39m\n\u001b[1;32m----> 6\u001b[0m obj  \u001b[38;5;241m=\u001b[39m  generator()\n\u001b[0;32m      7\u001b[0m \u001b[38;5;28mprint\u001b[39m(obj\u001b[38;5;241m.\u001b[39m\u001b[38;5;21m__next__\u001b[39m())\n\u001b[0;32m      8\u001b[0m \u001b[38;5;28mprint\u001b[39m(\u001b[38;5;124m'\u001b[39m\u001b[38;5;124mcalling next\u001b[39m\u001b[38;5;124m'\u001b[39m)\n",
      "\u001b[1;31mNameError\u001b[0m: name 'generator' is not defined"
     ]
    }
   ],
   "source": [
    "def gen(): # Generators\n",
    "    yield 'First string'\n",
    "    yield  'Second string'\n",
    "    yield  'Third string'\n",
    "    \n",
    "obj  =  generator()\n",
    "print(obj.__next__())\n",
    "print('calling next')\n",
    "print(obj.__next__())"
   ]
  },
  {
   "cell_type": "code",
   "execution_count": 10,
   "id": "4fe2522d",
   "metadata": {},
   "outputs": [],
   "source": [
    "def generator():\n",
    "    yield \"search for the product\"  \n",
    "    yield \"see rating and review of the product\"  \n",
    "    yield \"see delivery date and if there is any delivery charges\"  \n",
    "    yield \"next head for the order button\"   \n",
    "    yield \"check the delivery address\"  \n",
    "    yield \"head for payment option\"    \n",
    "    yield \"pay the order payment\"   \n",
    "    yield \"order has booked with estimated delivery date\"     \n",
    "    for label in generator():     print(\"ordered status:\",label)    "
   ]
  },
  {
   "cell_type": "code",
   "execution_count": 13,
   "id": "26813763",
   "metadata": {},
   "outputs": [
    {
     "name": "stdout",
     "output_type": "stream",
     "text": [
      "{('hemant', 1), (False, 3), ('sagar', 4)}\n"
     ]
    }
   ],
   "source": [
    "name = [\"sagar\",\"hemant\",\"yusuf\"<\"pushpa\"]\n",
    "roll_no = [4,1,3,2]\n",
    "#using zip() to map values\n",
    "mapped  =zip(name,roll_no)\n",
    "print(set(mapped))\n"
   ]
  },
  {
   "cell_type": "code",
   "execution_count": 35,
   "id": "986841c5",
   "metadata": {
    "scrolled": true
   },
   "outputs": [
    {
     "name": "stdout",
     "output_type": "stream",
     "text": [
      "<class 'list'>\n",
      "sagar has been assigned roll number: 4\n",
      "hemant has been assigned roll number: 1\n",
      "pushpa has been assigned roll number: 3\n",
      "pushpa has been assigned roll number: 10\n"
     ]
    }
   ],
   "source": [
    "name=['sagar', 'hemant', 'pushpa','pushpa']\n",
    "roll_no=[4,1,3,10]\n",
    "\n",
    "mapped=list(zip (roll_no,name))\n",
    "print(type(mapped))\\\n",
    "\n",
    "for item in mapped:\n",
    "    i=list(item)\n",
    "    print(\"{} has been assigned roll number: {}\".format(i[1],i[0]))\n",
    "    "
   ]
  },
  {
   "cell_type": "code",
   "execution_count": 10,
   "id": "96e683b0",
   "metadata": {},
   "outputs": [
    {
     "ename": "NameError",
     "evalue": "name 'l1' is not defined",
     "output_type": "error",
     "traceback": [
      "\u001b[1;31m---------------------------------------------------------------------------\u001b[0m",
      "\u001b[1;31mNameError\u001b[0m                                 Traceback (most recent call last)",
      "Cell \u001b[1;32mIn[10], line 4\u001b[0m\n\u001b[0;32m      1\u001b[0m L1\u001b[38;5;241m=\u001b[39m[\u001b[38;5;124m\"\u001b[39m\u001b[38;5;124meat\u001b[39m\u001b[38;5;124m\"\u001b[39m,\u001b[38;5;124m\"\u001b[39m\u001b[38;5;124msleep\u001b[39m\u001b[38;5;124m\"\u001b[39m,\u001b[38;5;124m\"\u001b[39m\u001b[38;5;124mrepeat\u001b[39m\u001b[38;5;124m\"\u001b[39m]\n\u001b[0;32m      2\u001b[0m s1\u001b[38;5;241m=\u001b[39m\u001b[38;5;124m\"\u001b[39m\u001b[38;5;124mpython\u001b[39m\u001b[38;5;124m\"\u001b[39m\n\u001b[1;32m----> 4\u001b[0m obj1\u001b[38;5;241m=\u001b[39m\u001b[38;5;28menumerate\u001b[39m(l1)\n\u001b[0;32m      5\u001b[0m obj\u001b[38;5;241m=\u001b[39m\u001b[38;5;28menumerate\u001b[39m(s1)\n",
      "\u001b[1;31mNameError\u001b[0m: name 'l1' is not defined"
     ]
    }
   ],
   "source": [
    "L1=[\"eat\",\"sleep\",\"repeat\"]\n",
    "s1=\"python\"\n",
    "\n",
    "obj1=enumerate(l1)\n",
    "obj=enumerate(s1)\n"
   ]
  },
  {
   "cell_type": "code",
   "execution_count": 39,
   "id": "611321c8",
   "metadata": {},
   "outputs": [
    {
     "name": "stdout",
     "output_type": "stream",
     "text": [
      "type of object:  <class 'enumerate'>\n",
      "[(0, 'A'), (1, 'B'), (2, 'C')]\n",
      "{0: 'p', 1: 'y', 2: 't', 3: 'h', 4: 'o', 5: 'n'}\n"
     ]
    }
   ],
   "source": [
    "L1=['A','B','C']\n",
    "\n",
    "obj1=enumerate(L1)\n",
    "print(\"type of object: \",type(obj1))\n",
    "print(list(obj1))\n",
    "\n",
    "s1=\"python\"\n",
    "\n",
    "obj2=enumerate(s1)\n",
    "print(dict(obj2))"
   ]
  },
  {
   "cell_type": "code",
   "execution_count": 7,
   "id": "d546016d",
   "metadata": {},
   "outputs": [
    {
     "ename": "SyntaxError",
     "evalue": "expected ':' (2576552135.py, line 2)",
     "output_type": "error",
     "traceback": [
      "\u001b[1;36m  Cell \u001b[1;32mIn[7], line 2\u001b[1;36m\u001b[0m\n\u001b[1;33m    if 'A'in 'Apple'\u001b[0m\n\u001b[1;37m                    ^\u001b[0m\n\u001b[1;31mSyntaxError\u001b[0m\u001b[1;31m:\u001b[0m expected ':'\n"
     ]
    }
   ],
   "source": [
    "s1=\"python\"\n",
    "if 'A'in 'Apple'"
   ]
  },
  {
   "cell_type": "code",
   "execution_count": 43,
   "id": "f8c536cb",
   "metadata": {},
   "outputs": [
    {
     "name": "stdout",
     "output_type": "stream",
     "text": [
      "a found in apple\n"
     ]
    }
   ],
   "source": [
    "if 'a' in 'apple':\n",
    "    print('a found in apple')"
   ]
  },
  {
   "cell_type": "code",
   "execution_count": 60,
   "id": "575e28f3",
   "metadata": {},
   "outputs": [
    {
     "ename": "IndentationError",
     "evalue": "unindent does not match any outer indentation level (<tokenize>, line 5)",
     "output_type": "error",
     "traceback": [
      "\u001b[1;36m  File \u001b[1;32m<tokenize>:5\u001b[1;36m\u001b[0m\n\u001b[1;33m    if 'a' in fruit :\u001b[0m\n\u001b[1;37m    ^\u001b[0m\n\u001b[1;31mIndentationError\u001b[0m\u001b[1;31m:\u001b[0m unindent does not match any outer indentation level\n"
     ]
    }
   ],
   "source": [
    "fruites=['banana','orange','apple','kiwi','lime']\n",
    "filtered=[]\n",
    "for fruit in fruits:\n",
    "         print(fruit)\n",
    "    if 'a' in fruit :\n",
    "            filtered.append(fruit)\n",
    "print(filtered)"
   ]
  },
  {
   "cell_type": "code",
   "execution_count": 61,
   "id": "57c0c8b0",
   "metadata": {},
   "outputs": [
    {
     "name": "stdout",
     "output_type": "stream",
     "text": [
      "Apple\n",
      "Mango\n",
      "Avocado\n"
     ]
    }
   ],
   "source": [
    "fruits = [ \"Apple\", \"Mango\", \"Avocado\",\"kiwi\"] \n",
    "filtered = [i for i in fruits if 'a' in i.lower()] \n",
    "for i in filtered:     \n",
    "    print(i)"
   ]
  },
  {
   "cell_type": "code",
   "execution_count": 62,
   "id": "acab7b7f",
   "metadata": {},
   "outputs": [
    {
     "name": "stdout",
     "output_type": "stream",
     "text": [
      "['Apple', 'Mango', 'Avocado', 'kiwi']\n"
     ]
    }
   ],
   "source": [
    "print(fruits)"
   ]
  },
  {
   "cell_type": "code",
   "execution_count": null,
   "id": "1dad783a",
   "metadata": {},
   "outputs": [],
   "source": [
    "     [ for fruit in fruits if 'a' in fruit ]   "
   ]
  },
  {
   "cell_type": "code",
   "execution_count": 4,
   "id": "0b139b1f",
   "metadata": {},
   "outputs": [],
   "source": [
    "fruits= ['banana','orange','apple','kiwi','lime']\n"
   ]
  },
  {
   "cell_type": "code",
   "execution_count": 75,
   "id": "7fb60a7f",
   "metadata": {},
   "outputs": [
    {
     "name": "stdout",
     "output_type": "stream",
     "text": [
      "[0, 2, 4, 6, 8]\n"
     ]
    }
   ],
   "source": [
    "l1=[i*2  for i in range(0,5)]  \n",
    "print(l1)"
   ]
  },
  {
   "cell_type": "code",
   "execution_count": 3,
   "id": "1d03bda2",
   "metadata": {},
   "outputs": [
    {
     "name": "stdout",
     "output_type": "stream",
     "text": [
      "<class 'list'>\n"
     ]
    }
   ],
   "source": [
    "fruits= ['banana','orange','apple','kiwi','lime'] \n",
    "\n",
    "filtered = [fruit    for fruit in fruits   if 'a' in fruit ]\n",
    "print(type(filtered))"
   ]
  },
  {
   "cell_type": "code",
   "execution_count": null,
   "id": "32ac9326",
   "metadata": {},
   "outputs": [],
   "source": []
  },
  {
   "cell_type": "code",
   "execution_count": 5,
   "id": "20358a5c",
   "metadata": {},
   "outputs": [
    {
     "ename": "FileNotFoundError",
     "evalue": "[Errno 2] No such file or directory: 'C:\\\\abcasdfghjkl/MyFile1.txt'",
     "output_type": "error",
     "traceback": [
      "\u001b[1;31m---------------------------------------------------------------------------\u001b[0m",
      "\u001b[1;31mFileNotFoundError\u001b[0m                         Traceback (most recent call last)",
      "Cell \u001b[1;32mIn[5], line 1\u001b[0m\n\u001b[1;32m----> 1\u001b[0m file1\u001b[38;5;241m=\u001b[39m\u001b[38;5;28mopen\u001b[39m(\u001b[38;5;124mr\u001b[39m\u001b[38;5;124m\"\u001b[39m\u001b[38;5;124mC:\u001b[39m\u001b[38;5;124m\\\u001b[39m\u001b[38;5;124mabcasdfghjkl/MyFile1.txt\u001b[39m\u001b[38;5;124m\"\u001b[39m,\u001b[38;5;124m\"\u001b[39m\u001b[38;5;124mw+\u001b[39m\u001b[38;5;124m\"\u001b[39m)\n",
      "File \u001b[1;32m~\\anaconda3\\Lib\\site-packages\\IPython\\core\\interactiveshell.py:286\u001b[0m, in \u001b[0;36m_modified_open\u001b[1;34m(file, *args, **kwargs)\u001b[0m\n\u001b[0;32m    279\u001b[0m \u001b[38;5;28;01mif\u001b[39;00m file \u001b[38;5;129;01min\u001b[39;00m {\u001b[38;5;241m0\u001b[39m, \u001b[38;5;241m1\u001b[39m, \u001b[38;5;241m2\u001b[39m}:\n\u001b[0;32m    280\u001b[0m     \u001b[38;5;28;01mraise\u001b[39;00m \u001b[38;5;167;01mValueError\u001b[39;00m(\n\u001b[0;32m    281\u001b[0m         \u001b[38;5;124mf\u001b[39m\u001b[38;5;124m\"\u001b[39m\u001b[38;5;124mIPython won\u001b[39m\u001b[38;5;124m'\u001b[39m\u001b[38;5;124mt let you open fd=\u001b[39m\u001b[38;5;132;01m{\u001b[39;00mfile\u001b[38;5;132;01m}\u001b[39;00m\u001b[38;5;124m by default \u001b[39m\u001b[38;5;124m\"\u001b[39m\n\u001b[0;32m    282\u001b[0m         \u001b[38;5;124m\"\u001b[39m\u001b[38;5;124mas it is likely to crash IPython. If you know what you are doing, \u001b[39m\u001b[38;5;124m\"\u001b[39m\n\u001b[0;32m    283\u001b[0m         \u001b[38;5;124m\"\u001b[39m\u001b[38;5;124myou can use builtins\u001b[39m\u001b[38;5;124m'\u001b[39m\u001b[38;5;124m open.\u001b[39m\u001b[38;5;124m\"\u001b[39m\n\u001b[0;32m    284\u001b[0m     )\n\u001b[1;32m--> 286\u001b[0m \u001b[38;5;28;01mreturn\u001b[39;00m io_open(file, \u001b[38;5;241m*\u001b[39margs, \u001b[38;5;241m*\u001b[39m\u001b[38;5;241m*\u001b[39mkwargs)\n",
      "\u001b[1;31mFileNotFoundError\u001b[0m: [Errno 2] No such file or directory: 'C:\\\\abcasdfghjkl/MyFile1.txt'"
     ]
    }
   ],
   "source": [
    "file1=open(r\"C:\\abcasdfghjkl/MyFile1.txt\",\"w+\")"
   ]
  },
  {
   "cell_type": "code",
   "execution_count": 11,
   "id": "57dac11b",
   "metadata": {},
   "outputs": [],
   "source": [
    "file1= open(r\"C:\\abcasdfghjkl;/MyFile1.txt\",\"w+\")"
   ]
  },
  {
   "cell_type": "code",
   "execution_count": 12,
   "id": "5e13559b",
   "metadata": {},
   "outputs": [
    {
     "data": {
      "text/plain": [
       "6"
      ]
     },
     "execution_count": 12,
     "metadata": {},
     "output_type": "execute_result"
    }
   ],
   "source": [
    "file1.write(\"myname\")"
   ]
  },
  {
   "cell_type": "code",
   "execution_count": 16,
   "id": "819443ab",
   "metadata": {},
   "outputs": [
    {
     "ename": "FileNotFoundError",
     "evalue": "[Errno 2] No such file or directory: '1/a myfile5.txt'",
     "output_type": "error",
     "traceback": [
      "\u001b[1;31m---------------------------------------------------------------------------\u001b[0m",
      "\u001b[1;31mFileNotFoundError\u001b[0m                         Traceback (most recent call last)",
      "Cell \u001b[1;32mIn[16], line 1\u001b[0m\n\u001b[1;32m----> 1\u001b[0m file1\u001b[38;5;241m=\u001b[39m\u001b[38;5;28mopen\u001b[39m(\u001b[38;5;124m'\u001b[39m\u001b[38;5;124m1/a myfile5.txt\u001b[39m\u001b[38;5;124m'\u001b[39m,\u001b[38;5;124m'\u001b[39m\u001b[38;5;124mw\u001b[39m\u001b[38;5;124m'\u001b[39m)\n\u001b[0;32m      2\u001b[0m file1\u001b[38;5;241m.\u001b[39mwrite(\u001b[38;5;124m\"\u001b[39m\u001b[38;5;124mnew file content written\u001b[39m\u001b[38;5;124m\"\u001b[39m)\n\u001b[0;32m      3\u001b[0m file1\u001b[38;5;241m.\u001b[39mclose()\n",
      "File \u001b[1;32m~\\anaconda3\\Lib\\site-packages\\IPython\\core\\interactiveshell.py:286\u001b[0m, in \u001b[0;36m_modified_open\u001b[1;34m(file, *args, **kwargs)\u001b[0m\n\u001b[0;32m    279\u001b[0m \u001b[38;5;28;01mif\u001b[39;00m file \u001b[38;5;129;01min\u001b[39;00m {\u001b[38;5;241m0\u001b[39m, \u001b[38;5;241m1\u001b[39m, \u001b[38;5;241m2\u001b[39m}:\n\u001b[0;32m    280\u001b[0m     \u001b[38;5;28;01mraise\u001b[39;00m \u001b[38;5;167;01mValueError\u001b[39;00m(\n\u001b[0;32m    281\u001b[0m         \u001b[38;5;124mf\u001b[39m\u001b[38;5;124m\"\u001b[39m\u001b[38;5;124mIPython won\u001b[39m\u001b[38;5;124m'\u001b[39m\u001b[38;5;124mt let you open fd=\u001b[39m\u001b[38;5;132;01m{\u001b[39;00mfile\u001b[38;5;132;01m}\u001b[39;00m\u001b[38;5;124m by default \u001b[39m\u001b[38;5;124m\"\u001b[39m\n\u001b[0;32m    282\u001b[0m         \u001b[38;5;124m\"\u001b[39m\u001b[38;5;124mas it is likely to crash IPython. If you know what you are doing, \u001b[39m\u001b[38;5;124m\"\u001b[39m\n\u001b[0;32m    283\u001b[0m         \u001b[38;5;124m\"\u001b[39m\u001b[38;5;124myou can use builtins\u001b[39m\u001b[38;5;124m'\u001b[39m\u001b[38;5;124m open.\u001b[39m\u001b[38;5;124m\"\u001b[39m\n\u001b[0;32m    284\u001b[0m     )\n\u001b[1;32m--> 286\u001b[0m \u001b[38;5;28;01mreturn\u001b[39;00m io_open(file, \u001b[38;5;241m*\u001b[39margs, \u001b[38;5;241m*\u001b[39m\u001b[38;5;241m*\u001b[39mkwargs)\n",
      "\u001b[1;31mFileNotFoundError\u001b[0m: [Errno 2] No such file or directory: '1/a myfile5.txt'"
     ]
    }
   ],
   "source": [
    "file1=open('1/a myfile5.txt','w')\n",
    "file1.write(\"new file content written\")\n",
    "file1.close()"
   ]
  },
  {
   "cell_type": "code",
   "execution_count": 1,
   "id": "7e01d453",
   "metadata": {},
   "outputs": [
    {
     "ename": "SyntaxError",
     "evalue": "invalid syntax. Perhaps you forgot a comma? (889763433.py, line 1)",
     "output_type": "error",
     "traceback": [
      "\u001b[1;36m  Cell \u001b[1;32mIn[1], line 1\u001b[1;36m\u001b[0m\n\u001b[1;33m    file1=open('1'/amyfile5.txt',''w')\u001b[0m\n\u001b[1;37m               ^\u001b[0m\n\u001b[1;31mSyntaxError\u001b[0m\u001b[1;31m:\u001b[0m invalid syntax. Perhaps you forgot a comma?\n"
     ]
    }
   ],
   "source": [
    "file1=open('1'/amyfile5.txt',''w')\n",
    "file1.write"
   ]
  },
  {
   "cell_type": "code",
   "execution_count": 2,
   "id": "dc05c668",
   "metadata": {},
   "outputs": [
    {
     "ename": "SyntaxError",
     "evalue": "unterminated string literal (detected at line 1) (1413664737.py, line 1)",
     "output_type": "error",
     "traceback": [
      "\u001b[1;36m  Cell \u001b[1;32mIn[2], line 1\u001b[1;36m\u001b[0m\n\u001b[1;33m    file3=open(r'c:/users/keonics/documments/abc.txt,'r')\u001b[0m\n\u001b[1;37m                                                      ^\u001b[0m\n\u001b[1;31mSyntaxError\u001b[0m\u001b[1;31m:\u001b[0m unterminated string literal (detected at line 1)\n"
     ]
    }
   ],
   "source": [
    "file3=open(r'c:/users/keonics/documments/abc.txt,'r')"
   ]
  },
  {
   "cell_type": "code",
   "execution_count": 7,
   "id": "9158ad00",
   "metadata": {},
   "outputs": [
    {
     "ename": "SyntaxError",
     "evalue": "unterminated string literal (detected at line 1) (2689226379.py, line 1)",
     "output_type": "error",
     "traceback": [
      "\u001b[1;36m  Cell \u001b[1;32mIn[7], line 1\u001b[1;36m\u001b[0m\n\u001b[1;33m    file2=open(r'D':/ myfile4.txt','w')\u001b[0m\n\u001b[1;37m                                     ^\u001b[0m\n\u001b[1;31mSyntaxError\u001b[0m\u001b[1;31m:\u001b[0m unterminated string literal (detected at line 1)\n"
     ]
    }
   ],
   "source": [
    "file2=open(r'D':/ myfile4.txt','w')\n",
    "file2.write(\"helloo python\")\n",
    "file2.close()\n",
    "\n",
    "\n",
    "file2=open(r'D:/myfile4.txt','w')\n",
    "str1=file2.read()\n",
    "print(str1)\n",
    "file2.close()"
   ]
  },
  {
   "cell_type": "code",
   "execution_count": 10,
   "id": "8fe1109e",
   "metadata": {},
   "outputs": [],
   "source": [
    "file4=open('myfile1234.txt', 'w')\n",
    "file4.write(\"python 3.11\")\n",
    "file4.close()"
   ]
  },
  {
   "cell_type": "code",
   "execution_count": 12,
   "id": "f9aed7f7",
   "metadata": {},
   "outputs": [
    {
     "name": "stdout",
     "output_type": "stream",
     "text": [
      "python\n"
     ]
    }
   ],
   "source": [
    "file4=open('myfile1234.txt','r')\n",
    "\n",
    "string_from_file=file4.read(6)\n",
    "print(string_from_file)\n",
    "\n",
    "file4.close()"
   ]
  },
  {
   "cell_type": "code",
   "execution_count": 14,
   "id": "bf0d506e",
   "metadata": {},
   "outputs": [
    {
     "name": "stdout",
     "output_type": "stream",
     "text": [
      "python 3.11\n"
     ]
    }
   ],
   "source": [
    "file4=open('myfile1234.txt','r')\n",
    "\n",
    "string_from_file=file4.readlines()\n",
    "print(string_from_file[0])\n",
    "\n",
    "file4.close()"
   ]
  },
  {
   "cell_type": "code",
   "execution_count": 18,
   "id": "c43d2e20",
   "metadata": {},
   "outputs": [
    {
     "name": "stdout",
     "output_type": "stream",
     "text": [
      "python 3.11\n"
     ]
    }
   ],
   "source": [
    "file4=open('myfile1234.txt','r')\n",
    "\n",
    "paragraph=file4.readlines()\n",
    "for  line in paragraph:\n",
    "    print(line)\n",
    "    \n",
    "\n",
    "file4.close()"
   ]
  },
  {
   "cell_type": "code",
   "execution_count": 24,
   "id": "0c20942c",
   "metadata": {},
   "outputs": [
    {
     "name": "stdout",
     "output_type": "stream",
     "text": [
      "python 3.11\n",
      "\n",
      "on 3.11\n",
      "\n"
     ]
    }
   ],
   "source": [
    "file1=open('myfile1234.txt','r')\n",
    "print(file1.readline())\n",
    "file1.seek(4)\n",
    "print(file1.readline())\n",
    "file1.close()"
   ]
  },
  {
   "cell_type": "code",
   "execution_count": 25,
   "id": "54e6dcdc",
   "metadata": {},
   "outputs": [
    {
     "name": "stdout",
     "output_type": "stream",
     "text": [
      "Value: 1, portal: 5.33\n"
     ]
    }
   ],
   "source": [
    "print(\"Value:%2d, portal:%5.2f\"%(1, 05.333))"
   ]
  },
  {
   "cell_type": "code",
   "execution_count": 29,
   "id": "22c887b5",
   "metadata": {},
   "outputs": [
    {
     "name": "stdout",
     "output_type": "stream",
     "text": [
      " Rs. 100 , pi value 3000.142\n"
     ]
    }
   ],
   "source": [
    "print(\" Rs. %d , pi value %5.3f\"%(100,3000.142))"
   ]
  },
  {
   "cell_type": "code",
   "execution_count": 34,
   "id": "77fa2342",
   "metadata": {
    "scrolled": true
   },
   "outputs": [
    {
     "name": "stdout",
     "output_type": "stream",
     "text": [
      "     31\n"
     ]
    }
   ],
   "source": [
    "print(\"%7.2o\"%(25))"
   ]
  },
  {
   "cell_type": "code",
   "execution_count": 35,
   "id": "c54a91de",
   "metadata": {},
   "outputs": [
    {
     "name": "stdout",
     "output_type": "stream",
     "text": [
      "     10\n"
     ]
    }
   ],
   "source": [
    "print(\"%7.2o\"%(8))"
   ]
  },
  {
   "cell_type": "code",
   "execution_count": 47,
   "id": "3c0eb0ca",
   "metadata": {},
   "outputs": [
    {
     "name": "stdout",
     "output_type": "stream",
     "text": [
      "  2E+03\n"
     ]
    }
   ],
   "source": [
    "print(\"%7.0E\"%2000)z"
   ]
  },
  {
   "cell_type": "code",
   "execution_count": 6,
   "id": "836c2cb6",
   "metadata": {},
   "outputs": [
    {
     "name": "stdout",
     "output_type": "stream",
     "text": [
      "second element=2\n",
      "an error\n"
     ]
    }
   ],
   "source": [
    "a=[1,2,3]\n",
    "try:\n",
    "    print(\"second element=%d\"%(a[1]))\n",
    "          \n",
    "    print(\"Fourth Element =%d\"%(a[3]))\n",
    "except:\n",
    "    print(\"an error\")\n",
    "          "
   ]
  },
  {
   "cell_type": "code",
   "execution_count": 8,
   "id": "c81b495f",
   "metadata": {},
   "outputs": [
    {
     "name": "stdout",
     "output_type": "stream",
     "text": [
      "second element=2\n",
      "error occured at index 3\n"
     ]
    }
   ],
   "source": [
    "a=[1,2,3]\n",
    "try:\n",
    "    print(\"second element=%d\"%(a[1]))\n",
    "          \n",
    "    print(\"Fourth Element =%d\"%(a[3]))\n",
    "except IndexError:\n",
    "    print(\"error occured at index 3\")\n",
    "except ValueError:\n",
    "    print(\"value error occured \")\n",
    "          "
   ]
  },
  {
   "cell_type": "code",
   "execution_count": 9,
   "id": "682d87f8",
   "metadata": {},
   "outputs": [
    {
     "name": "stdout",
     "output_type": "stream",
     "text": [
      "second element=2\n",
      "error occured at index 3\n"
     ]
    }
   ],
   "source": [
    "a=[1,2,3]\n",
    "try:\n",
    "    print(\"second element=%d\"%(a[1]))\n",
    "          \n",
    "    print(\"Fourth Element =%d\"%(a[3]))\n",
    "except IndexError:\n",
    "    print(\"error occured at index 3\")\n",
    "except ValueError:\n",
    "    print(\"value error occured \")\n",
    "except typeerror:\n",
    "    print(\"typeerror occured\")\n",
    "          \n",
    "   \n",
    "          "
   ]
  },
  {
   "cell_type": "code",
   "execution_count": 14,
   "id": "68719caf",
   "metadata": {},
   "outputs": [
    {
     "name": "stdout",
     "output_type": "stream",
     "text": [
      "Exception occurred\n"
     ]
    }
   ],
   "source": [
    "a=10\n",
    "b=[1,2,3]\n",
    "try:\n",
    "    a=c\n",
    "    print(\"%d\"%(b[3]))\n",
    "except NameError:\n",
    "    print(\"Exception occurred\")\n",
    "    "
   ]
  },
  {
   "cell_type": "code",
   "execution_count": 18,
   "id": "d6d7897a",
   "metadata": {},
   "outputs": [
    {
     "name": "stdout",
     "output_type": "stream",
     "text": [
      "Exception occured: IndexError\n"
     ]
    }
   ],
   "source": [
    "a=10\n",
    "b=[1,2,3]\n",
    "try:\n",
    "    a=c\n",
    "    print(\"%d\"%(b[3]))\n",
    "except NameError:\n",
    "    print(\"Exception occured: IndexError\")\n",
    "except:\n",
    "    print(\"Exception occurred: Generic\")\n",
    "    "
   ]
  },
  {
   "cell_type": "code",
   "execution_count": 21,
   "id": "77d4a5ff",
   "metadata": {},
   "outputs": [
    {
     "name": "stdout",
     "output_type": "stream",
     "text": [
      "Exception occurred: NameError\n"
     ]
    }
   ],
   "source": [
    "a=10\n",
    "b=[1,2,3]\n",
    "try:\n",
    "    a=c\n",
    "    print(\"%d\"%(b[3]))\n",
    "except NameError:\n",
    "    print(\"Exception occurred: NameError\")\n",
    "except IndexError:\n",
    "    print(\"Exception occurred: IndexError\")\n",
    "except ZeroDivisionError:\n",
    "    print(\"Exception occurred: ZeroDivisionError\")\n",
    "except:\n",
    "    print(\"Exception occurred: Generic\")\n",
    "    "
   ]
  },
  {
   "cell_type": "code",
   "execution_count": 31,
   "id": "e48f39d0",
   "metadata": {},
   "outputs": [
    {
     "name": "stdout",
     "output_type": "stream",
     "text": [
      "Finally block executed\n"
     ]
    }
   ],
   "source": [
    "try:\n",
    "    a=10/1\n",
    "except ZeroDivisionError:\n",
    "    print(\"ZeroDivisionError occurred\")\n",
    "else:\n",
    "    (\"exception did not occurred\")\n",
    "finally:\n",
    "    print(\"Finally block executed\")"
   ]
  },
  {
   "cell_type": "code",
   "execution_count": 5,
   "id": "a5363a53",
   "metadata": {},
   "outputs": [
    {
     "name": "stdout",
     "output_type": "stream",
     "text": [
      "python 3.11\n",
      "c programming\n",
      "java\n",
      "HTML\n",
      "Finally block executed\n"
     ]
    },
    {
     "ename": "UnsupportedOperation",
     "evalue": "not writable",
     "output_type": "error",
     "traceback": [
      "\u001b[1;31m---------------------------------------------------------------------------\u001b[0m",
      "\u001b[1;31mUnsupportedOperation\u001b[0m                      Traceback (most recent call last)",
      "Cell \u001b[1;32mIn[5], line 4\u001b[0m\n\u001b[0;32m      2\u001b[0m     fd\u001b[38;5;241m=\u001b[39m\u001b[38;5;28mopen\u001b[39m(\u001b[38;5;124m\"\u001b[39m\u001b[38;5;124mMyfile1234.txt\u001b[39m\u001b[38;5;124m\"\u001b[39m,\u001b[38;5;124m'\u001b[39m\u001b[38;5;124mr\u001b[39m\u001b[38;5;124m'\u001b[39m)\n\u001b[0;32m      3\u001b[0m     \u001b[38;5;28mprint\u001b[39m(fd\u001b[38;5;241m.\u001b[39mread())\n\u001b[1;32m----> 4\u001b[0m     \u001b[38;5;28mprint\u001b[39m(fd\u001b[38;5;241m.\u001b[39mwrite(\u001b[38;5;124m\"\u001b[39m\u001b[38;5;124mHello\u001b[39m\u001b[38;5;124m\"\u001b[39m))\n\u001b[0;32m      6\u001b[0m \u001b[38;5;28;01mexcept\u001b[39;00m \u001b[38;5;167;01mZeroDivisionError\u001b[39;00m:\n\u001b[0;32m      7\u001b[0m     \u001b[38;5;28mprint\u001b[39m(\u001b[38;5;124m\"\u001b[39m\u001b[38;5;124mZeroDivisionError occurred\u001b[39m\u001b[38;5;124m\"\u001b[39m)\n",
      "\u001b[1;31mUnsupportedOperation\u001b[0m: not writable"
     ]
    }
   ],
   "source": [
    "try:\n",
    "    fd=open(\"Myfile1234.txt\",'r')\n",
    "    print(fd.read())\n",
    "    print(fd.write(\"Hello\"))\n",
    "    \n",
    "except ZeroDivisionError:\n",
    "    print(\"ZeroDivisionError occurred\")\n",
    "else:\n",
    "    (\"exception did not occurred\")\n",
    "finally:\n",
    "    print(\"Finally block executed\")"
   ]
  },
  {
   "cell_type": "code",
   "execution_count": 11,
   "id": "d39561eb",
   "metadata": {},
   "outputs": [
    {
     "name": "stdout",
     "output_type": "stream",
     "text": [
      "execption occurred\n"
     ]
    },
    {
     "ename": "NameError",
     "evalue": "NameError raised from developer",
     "output_type": "error",
     "traceback": [
      "\u001b[1;31m---------------------------------------------------------------------------\u001b[0m",
      "\u001b[1;31mNameError\u001b[0m                                 Traceback (most recent call last)",
      "Cell \u001b[1;32mIn[11], line 2\u001b[0m\n\u001b[0;32m      1\u001b[0m \u001b[38;5;28;01mtry\u001b[39;00m:\n\u001b[1;32m----> 2\u001b[0m     \u001b[38;5;28;01mraise\u001b[39;00m \u001b[38;5;167;01mNameError\u001b[39;00m(\u001b[38;5;124m\"\u001b[39m\u001b[38;5;124mNameError raised from developer\u001b[39m\u001b[38;5;124m\"\u001b[39m)\n\u001b[0;32m      3\u001b[0m \u001b[38;5;28;01mexcept\u001b[39;00m \u001b[38;5;167;01mNameError\u001b[39;00m:\n\u001b[0;32m      4\u001b[0m     \u001b[38;5;28mprint\u001b[39m(\u001b[38;5;124m'\u001b[39m\u001b[38;5;124mexecption occurred\u001b[39m\u001b[38;5;124m'\u001b[39m)\n",
      "\u001b[1;31mNameError\u001b[0m: NameError raised from developer"
     ]
    }
   ],
   "source": [
    "try:\n",
    "    raise NameError(\"NameError raised from developer\")\n",
    "except NameError:\n",
    "    print('execption occurred')\n",
    "    raise"
   ]
  },
  {
   "cell_type": "code",
   "execution_count": 9,
   "id": "7873e738",
   "metadata": {},
   "outputs": [
    {
     "name": "stdout",
     "output_type": "stream",
     "text": [
      "Jane Smith\n"
     ]
    }
   ],
   "source": [
    "with open('student_data.txt', 'w') as file:\n",
    "    file.write(\"John Doe,123,10,A\\n\")\n",
    "    file.write(\"Jane Smith,456,11,B\\n\")\n",
    "    # Add more students as needed\n",
    "\n",
    "# Reading and displaying only names\n",
    "with open('student_data.txt', 'r') as file:\n",
    "    for line in file:\n",
    "        # Split the line into individual pieces of data\n",
    "        data = line.strip().split(',')\n",
    "        # Display only the name (assuming name is the first piece of data)\n",
    "print(data[0])"
   ]
  },
  {
   "cell_type": "code",
   "execution_count": 14,
   "id": "8a73fa06",
   "metadata": {},
   "outputs": [
    {
     "name": "stdout",
     "output_type": "stream",
     "text": [
      "Johny Doe 10\n",
      "Johny Doe 10\n"
     ]
    }
   ],
   "source": [
    "# Writing data to the file\n",
    "with open('student_data.txt12', 'a') as file:\n",
    "    file.write(\"Johny Doe,12,10,A\\n\")\n",
    "# Reading and displaying only names\n",
    "with open('student_data.txt12', 'r') as file:\n",
    "    for line in file:\n",
    "        data = line.split(',')\n",
    "        print(data[0],data[2])"
   ]
  },
  {
   "cell_type": "code",
   "execution_count": 13,
   "id": "01207ff2",
   "metadata": {},
   "outputs": [
    {
     "ename": "FileNotFoundError",
     "evalue": "[Errno 2] No such file or directory: 'C:/Users/dhanu/Desktop/Book1.csv'",
     "output_type": "error",
     "traceback": [
      "\u001b[1;31m---------------------------------------------------------------------------\u001b[0m",
      "\u001b[1;31mFileNotFoundError\u001b[0m                         Traceback (most recent call last)",
      "Cell \u001b[1;32mIn[13], line 2\u001b[0m\n\u001b[0;32m      1\u001b[0m \u001b[38;5;28;01mimport\u001b[39;00m \u001b[38;5;21;01mcsv\u001b[39;00m\n\u001b[1;32m----> 2\u001b[0m \u001b[38;5;28;01mwith\u001b[39;00m \u001b[38;5;28mopen\u001b[39m(\u001b[38;5;124m\"\u001b[39m\u001b[38;5;124mC:/Users/dhanu/Desktop/Book1.csv\u001b[39m\u001b[38;5;124m\"\u001b[39m ,\u001b[38;5;124m'\u001b[39m\u001b[38;5;124mr\u001b[39m\u001b[38;5;124m'\u001b[39m)\u001b[38;5;28;01mas\u001b[39;00m file_object:\n\u001b[0;32m      3\u001b[0m     \u001b[38;5;28mprint\u001b[39m(\u001b[38;5;124m\"\u001b[39m\u001b[38;5;124mSuccessfully opened csv\u001b[39m\u001b[38;5;124m\"\u001b[39m)\n\u001b[0;32m      4\u001b[0m     data\u001b[38;5;241m=\u001b[39mcsv\u001b[38;5;241m.\u001b[39mreader(file_object)\n",
      "File \u001b[1;32m~\\anaconda3\\Lib\\site-packages\\IPython\\core\\interactiveshell.py:286\u001b[0m, in \u001b[0;36m_modified_open\u001b[1;34m(file, *args, **kwargs)\u001b[0m\n\u001b[0;32m    279\u001b[0m \u001b[38;5;28;01mif\u001b[39;00m file \u001b[38;5;129;01min\u001b[39;00m {\u001b[38;5;241m0\u001b[39m, \u001b[38;5;241m1\u001b[39m, \u001b[38;5;241m2\u001b[39m}:\n\u001b[0;32m    280\u001b[0m     \u001b[38;5;28;01mraise\u001b[39;00m \u001b[38;5;167;01mValueError\u001b[39;00m(\n\u001b[0;32m    281\u001b[0m         \u001b[38;5;124mf\u001b[39m\u001b[38;5;124m\"\u001b[39m\u001b[38;5;124mIPython won\u001b[39m\u001b[38;5;124m'\u001b[39m\u001b[38;5;124mt let you open fd=\u001b[39m\u001b[38;5;132;01m{\u001b[39;00mfile\u001b[38;5;132;01m}\u001b[39;00m\u001b[38;5;124m by default \u001b[39m\u001b[38;5;124m\"\u001b[39m\n\u001b[0;32m    282\u001b[0m         \u001b[38;5;124m\"\u001b[39m\u001b[38;5;124mas it is likely to crash IPython. If you know what you are doing, \u001b[39m\u001b[38;5;124m\"\u001b[39m\n\u001b[0;32m    283\u001b[0m         \u001b[38;5;124m\"\u001b[39m\u001b[38;5;124myou can use builtins\u001b[39m\u001b[38;5;124m'\u001b[39m\u001b[38;5;124m open.\u001b[39m\u001b[38;5;124m\"\u001b[39m\n\u001b[0;32m    284\u001b[0m     )\n\u001b[1;32m--> 286\u001b[0m \u001b[38;5;28;01mreturn\u001b[39;00m io_open(file, \u001b[38;5;241m*\u001b[39margs, \u001b[38;5;241m*\u001b[39m\u001b[38;5;241m*\u001b[39mkwargs)\n",
      "\u001b[1;31mFileNotFoundError\u001b[0m: [Errno 2] No such file or directory: 'C:/Users/dhanu/Desktop/Book1.csv'"
     ]
    }
   ],
   "source": [
    "import csv\n",
    "with open(\"C:/Users/dhanu/Desktop/Book1.csv\" ,'r')as file_object:\n",
    "    print(\"Successfully opened csv\")\n",
    "    data=csv.reader(file_object)\n",
    "    for line in data:\n",
    "        print(line[2])"
   ]
  },
  {
   "cell_type": "code",
   "execution_count": 2,
   "id": "9fcfc893",
   "metadata": {},
   "outputs": [
    {
     "ename": "IndentationError",
     "evalue": "unindent does not match any outer indentation level (<tokenize>, line 6)",
     "output_type": "error",
     "traceback": [
      "\u001b[1;36m  File \u001b[1;32m<tokenize>:6\u001b[1;36m\u001b[0m\n\u001b[1;33m    for line in data:\u001b[0m\n\u001b[1;37m    ^\u001b[0m\n\u001b[1;31mIndentationError\u001b[0m\u001b[1;31m:\u001b[0m unindent does not match any outer indentation level\n"
     ]
    }
   ],
   "source": [
    "import csv\n",
    "c=0\n",
    "with open(\"C:/Users/dhanu/Desktop/Netflix.csv\",mode='r')\n",
    "     data=csv.reader(fd)\n",
    "     print(type(data))\n",
    "    for line in data:\n",
    "        c=c+1\n",
    "        if c>5:\n",
    "            break\n",
    "        if c==1:\n",
    "            continue\n",
    "        print(\"Netflix has released\" ,line[2], 'on', line[7],' & directed',c)"
   ]
  },
  {
   "cell_type": "code",
   "execution_count": 3,
   "id": "f1dc72fb",
   "metadata": {},
   "outputs": [
    {
     "name": "stdout",
     "output_type": "stream",
     "text": [
      "Data written to {filename}\n"
     ]
    }
   ],
   "source": [
    "import csv\n",
    "data = [{'Branch':'CS','CGPA':9.0,'Name':'Nikhil','Year':3},\n",
    "        {'Branch':'EC','CGPA':8.0,'Name':'Sam','Year':3},\n",
    "        {'Branch':'CS','CGPA':9.5,'Name':'Amit','Year':3}\n",
    "       ]\n",
    "fields = ['Name','Branch','CGPA','Year']\n",
    "filename = 'student_data.csv'\n",
    "with open(filename,'w',newline='') as fd:\n",
    "    WO = csv.DictWriter(fd,fieldnames = fields)\n",
    "    WO.writeheader()\n",
    "    WO.writerows(data)\n",
    "    print('Data written to {filename}')"
   ]
  },
  {
   "cell_type": "code",
   "execution_count": 16,
   "id": "0634fba0-d1d6-4d15-999d-d632c6fa57ea",
   "metadata": {},
   "outputs": [
    {
     "name": "stdout",
     "output_type": "stream",
     "text": [
      "John Doe\n"
     ]
    }
   ],
   "source": [
    "class Person:\n",
    "    def __init__(self, fname, lname):\n",
    "     self.firstname = fname\n",
    "     self.lastname = lname\n",
    "\n",
    "    def printname(self):\n",
    "     print(self.firstname, self.lastname)\n",
    "\n",
    "\n",
    "x = Person(\"John\", \"Doe\")\n",
    "x.printname()"
   ]
  },
  {
   "cell_type": "code",
   "execution_count": 31,
   "id": "e0a172b7-a3cd-4d42-8f34-1013e1bd1aef",
   "metadata": {},
   "outputs": [
    {
     "name": "stdout",
     "output_type": "stream",
     "text": [
      "My name is Sagar Bhat\n"
     ]
    }
   ],
   "source": [
    "class Person:\n",
    "    def __init__(self, fname, lname):\n",
    "        self.fname = fname\n",
    "        self.lname = lname\n",
    "\n",
    "    def printname(self):\n",
    "        print(f'My name is {self.fname} {self.lname}')\n",
    "\n",
    "class Student(Person):\n",
    "    pass\n",
    "\n",
    "obj1 = Student('Sagar', 'Bhat')\n",
    "obj1.printname()\n"
   ]
  },
  {
   "cell_type": "code",
   "execution_count": 44,
   "id": "f34195a6-fe9e-481d-9ea1-00f20c6b79b8",
   "metadata": {},
   "outputs": [
    {
     "name": "stdout",
     "output_type": "stream",
     "text": [
      "My name is Sagar Bhat\n",
      "Graduation Year: 2023\n"
     ]
    }
   ],
   "source": [
    "class Student(Person):\n",
    "    def __init__(self, fname, lname, year):\n",
    "        super().__init__(fname, lname)\n",
    "        self.year = year\n",
    "\n",
    "# Example usage\n",
    "obj1 = Student('Sagar', 'Bhat', 2023)\n",
    "obj1.printname()\n",
    "print(f'Graduation Year: {obj1.year}')\n"
   ]
  },
  {
   "cell_type": "code",
   "execution_count": 47,
   "id": "f638229a-adc6-4f04-a353-f3dc76b649ce",
   "metadata": {},
   "outputs": [
    {
     "name": "stdout",
     "output_type": "stream",
     "text": [
      "My name is Sagar Bhat, graduated in 2023\n"
     ]
    }
   ],
   "source": [
    "class Person:\n",
    "    def __init__(self, fname, lname):\n",
    "        self.fname = fname\n",
    "        self.lname = lname\n",
    "\n",
    "    def printname(self):\n",
    "        print(f'My name is {self.fname} {self.lname}')\n",
    "\n",
    "class Student(Person):\n",
    "    def __init__(self, fname, lname, graduationyear):\n",
    "        super().__init__(fname, lname)\n",
    "        self.graduationyear = graduationyear\n",
    "\n",
    "    def printname(self):\n",
    "        print(f'My name is {self.fname} {self.lname}, graduated in {self.graduationyear}')\n",
    "\n",
    "# Example usage\n",
    "obj1 = Student('Sagar', 'Bhat', 2023)\n",
    "obj1.printname()\n"
   ]
  },
  {
   "cell_type": "code",
   "execution_count": 49,
   "id": "a7c96aa9-d927-4147-b3cf-a0d7762ba35e",
   "metadata": {},
   "outputs": [],
   "source": [
    "class Engineer:\n",
    "    def __init__(self, name, age, experience):\n",
    "        self.name = name\n",
    "        self.age = age\n",
    "        self.experience = experience\n",
    "\n",
    "    def print_info(self):\n",
    "        print(f\"Name: {self.name}, Age: {self.age}, Experience: {self.experience} years\")\n",
    "\n",
    "class SoftwareEngineer(Engineer):\n",
    "    def __init__(self, name, age, experience, programming_languages):\n",
    "        super().__init__(name, age, experience)\n",
    "        self.programming_languages = programming_languages\n",
    "\n",
    "    def print_info(self):\n",
    "        super().print_info()\n",
    "        print(f\"Programming Languages: {', '.join(self.programming_languages)}\")\n",
    "        print(\"Job Description: Develop software applications and systems.\")\n",
    "\n",
    "class ElectricalEngineer(Engineer):\n",
    "    def __init__(self, name, age, experience, electrical_skills):\n",
    "        super().__init__(name, age, experience)\n",
    "        self.electrical_skills = electrical_skills\n",
    "\n",
    "    def print_info(self):\n",
    "        super().print_info()\n",
    "        print(f\"Electrical Skills: {', '.join(self.electrical_skills)}\")\n",
    "        print(\"Job Description: Design and maintain electrical systems.\")\n",
    "\n",
    "class CivilEngineer(Engineer):\n",
    "    def __init__(self, name, age, experience, structural_design_skills):\n",
    "        super().__init__(name, age, experience)\n",
    "        self.structural_design_skills = structural_design_skills\n",
    "\n",
    "    def print_info(self):\n",
    "        super().print_info()\n",
    "        print(f\"Structural Design Skills: {', '.join(self.structural_design_skills)}\")\n",
    "        print(\"Job Description: Plan, design, and oversee construction projects.\")\n",
    "\n",
    "class MechanicalEngineer(Engineer):\n",
    "    def __init__(self, name, age, experience, mechanical_skills):\n",
    "        super().__init__(name, age, experience)\n",
    "        self.mechanical_skills = mechanical_skills\n",
    "\n",
    "    def print_info(self):\n",
    "        super().print_info()\n",
    "        print(f\"Mechanical Skills: {', '.join(self.mechanical_skills)}\")\n",
    "        print(\"Job Description: Design and analyze mechanical systems and devices.\")\n"
   ]
  },
  {
   "cell_type": "code",
   "execution_count": 2,
   "id": "28e3d839-75d4-4a4b-87ae-2cfeed18ab41",
   "metadata": {},
   "outputs": [
    {
     "name": "stdout",
     "output_type": "stream",
     "text": [
      "Name: John Doe\n",
      "Role: Data Translator\n",
      "\n",
      "\n",
      "Name: Jane Smith\n",
      "Role: Data Scientist\n",
      "\n",
      "\n",
      "Name: Alice Johnson\n",
      "Role: Information Designer\n",
      "\n",
      "\n",
      "Name: Bob Wilson\n",
      "Role: Machine Learning Engineer\n",
      "\n",
      "\n",
      "Name: Chris Brown\n",
      "Role: Data Science Manager\n"
     ]
    }
   ],
   "source": [
    "class Engineer:\n",
    "    def __init__(self, name, role):\n",
    "        self.name = name\n",
    "        self.role = role\n",
    "\n",
    "    def display_info(self):\n",
    "        print(f\"Name: {self.name}\\nRole: {self.role}\")\n",
    "\n",
    "# Subclass for Data Translator\n",
    "class DataTranslator(Engineer):\n",
    "    pass\n",
    "\n",
    "# Subclass for Data Scientist\n",
    "class DataScientist(Engineer):\n",
    "    pass\n",
    "\n",
    "# Subclass for Information Designer\n",
    "class InformationDesigner(Engineer):\n",
    "    pass\n",
    "\n",
    "# Subclass for Machine Learning Engineer\n",
    "class MachineLearningEngineer(Engineer):\n",
    "    pass\n",
    "\n",
    "# Subclass for Data Science Manager\n",
    "class DataScienceManager(Engineer):\n",
    "    pass\n",
    "\n",
    "# Example Instances\n",
    "data_translator = DataTranslator(\"John Doe\", \"Data Translator\")\n",
    "data_scientist = DataScientist(\"Jane Smith\", \"Data Scientist\")\n",
    "information_designer = InformationDesigner(\"Alice Johnson\", \"Information Designer\")\n",
    "ml_engineer = MachineLearningEngineer(\"Bob Wilson\", \"Machine Learning Engineer\")\n",
    "data_science_manager = DataScienceManager(\"Chris Brown\", \"Data Science Manager\")\n",
    "\n",
    "# Display Information\n",
    "data_translator.display_info()\n",
    "print(\"\\n\")\n",
    "data_scientist.display_info()\n",
    "print(\"\\n\")\n",
    "information_designer.display_info()\n",
    "print(\"\\n\")\n",
    "ml_engineer.display_info()\n",
    "print(\"\\n\")\n",
    "data_science_manager.display_info()\n"
   ]
  },
  {
   "cell_type": "markdown",
   "id": "a613b8db-1a3f-4603-b637-ef37ac260361",
   "metadata": {},
   "source": [
    "# STATISTICS LEARNING"
   ]
  },
  {
   "cell_type": "code",
   "execution_count": 14,
   "id": "9c681f27-093f-415e-9ae6-259b87d37022",
   "metadata": {},
   "outputs": [
    {
     "name": "stdout",
     "output_type": "stream",
     "text": [
      "The average of list values is:2\n"
     ]
    }
   ],
   "source": [
    "# mean\n",
    "import statistics\n",
    "li=[1,2,3,3,2,2,2,1]\n",
    "   \n",
    "print(\"The average of list values is:\", end=\"\")\n",
    "print(statistics.mean(li))"
   ]
  },
  {
   "cell_type": "code",
   "execution_count": 13,
   "id": "d859bd2a-986b-4418-9252-303b5ddd2ef1",
   "metadata": {},
   "outputs": [
    {
     "name": "stdout",
     "output_type": "stream",
     "text": [
      "4\n"
     ]
    }
   ],
   "source": [
    "#mode\n",
    "values=[2,3,4,2,4,6,4,7,7,4,2,4]\n",
    "print(statistics.mode(values))"
   ]
  },
  {
   "cell_type": "code",
   "execution_count": 12,
   "id": "9c30a390-9ccb-4d00-b831-1fe3edff2a39",
   "metadata": {},
   "outputs": [
    {
     "name": "stdout",
     "output_type": "stream",
     "text": [
      "19.9\n"
     ]
    }
   ],
   "source": [
    "# median\n",
    "mileage=[21.3,20.8,19,15]\n",
    "print(statistics.median(mileage))"
   ]
  },
  {
   "cell_type": "code",
   "execution_count": 4,
   "id": "5d82ccb6-7681-4bd7-bc71-308b8d2b6187",
   "metadata": {},
   "outputs": [
    {
     "name": "stdin",
     "output_type": "stream",
     "text": [
      "a 4\n",
      "b 6\n"
     ]
    },
    {
     "name": "stdout",
     "output_type": "stream",
     "text": [
      "10\n"
     ]
    }
   ],
   "source": [
    "a=int(input(\"a\"))\n",
    "b=int(input(\"b\"))\n",
    "c=a+b\n",
    "print(c)"
   ]
  },
  {
   "cell_type": "code",
   "execution_count": 12,
   "id": "f7c228e5-85e2-49b8-b825-4779c84b6a08",
   "metadata": {},
   "outputs": [
    {
     "name": "stdout",
     "output_type": "stream",
     "text": [
      "[ 92.19178796 108.48211765  96.10228665  87.45525817 105.88922229\n",
      "  55.90986858  72.6034489   72.80585646  92.3707487   88.1562907\n",
      "  94.98513654 108.87991933 117.23794308 110.26474188  85.87553907\n",
      " 114.98476725  95.92659237 140.00536256 117.04068011 100.37200253\n",
      "  97.8055092   75.44705399 103.04226196  71.56406785 108.72506445\n",
      "  53.53717098  70.82045285 135.62242075 137.41413406 132.24830139\n",
      "  54.70636832  62.54231975  63.74641955  57.65232597 105.68160069\n",
      "  87.75663223  99.98678734  87.74368458  80.16976446 151.22246908\n",
      " 115.07963596  75.04494805 130.37603877  83.31208772  93.18735557\n",
      " 135.41936202  80.43477606  93.74198257  92.29213846 143.24220075\n",
      " 149.45680921 105.4922008  147.37049624  65.79751408  95.21736535\n",
      " 132.18143833  93.8279014  108.56377706 105.56792605 117.03984264\n",
      " 106.28622213  62.95377654  90.32945562  81.65798223 114.64945514\n",
      "  56.60528101  79.3326197  129.59585574 108.87615111 161.07124787\n",
      "  99.07686329  32.20714866 124.78724083 104.80606925  91.18018436\n",
      "  66.51192932  95.28318534 114.91466617 108.51136205 102.0856336\n",
      " 115.14980306 104.22343037  74.02771872 107.1309521  112.55978464\n",
      " 148.34687455 101.20812195  73.70578273 129.16455966 118.38667938\n",
      "  85.92175168  69.67479514 138.70320401  57.55311652  84.2051761\n",
      " 107.15916508  73.80069834  95.33874434 112.43887223  89.88744502\n",
      "  67.89738345  84.64357244  97.30326551 128.34058018  74.09384286\n",
      " 137.7839358   78.29315533 134.80576506 154.37732885 132.47553033\n",
      "  95.29796595 141.72558178 128.86435534 112.04505989  95.54907036\n",
      "  90.34542164  96.74814278 158.99058932 112.9249928  111.03386674\n",
      "  88.10688631 108.20957485  92.92986165  81.99452638 102.21147169\n",
      "  88.18710846 103.24929912  97.32915535  82.39242987 112.92943743\n",
      " 114.52115531  29.45519874  93.75956455  95.57265608  93.59160419\n",
      " 131.78786683 102.02446007  89.55148216  80.82626142 115.78915266\n",
      "  59.33883121  92.14936818  84.61319698  90.0253933   92.03590116\n",
      "  70.47923884  70.67890759  98.69198547  78.84540275 135.3622987\n",
      " 108.39633784  72.17848771 112.82765367  94.29203091 105.84468414\n",
      " 138.53984177 122.96685739  77.1607719  112.56120292  89.29839782\n",
      " 125.57530233  99.19448782  60.14245391  13.34350697  83.05348278\n",
      "  79.2932265   80.27145406 154.3407693  102.922837   121.73024693\n",
      "  76.20068871 116.39596557  86.14937884  60.70961411  91.87649956\n",
      "  98.64221006  72.85996776 135.74855939 101.2670849   61.33703557\n",
      "  38.63103471 119.03368284 119.77888939 115.96879491  76.93286545\n",
      "  77.45094879 114.68438833  89.71494569 100.12671847 117.00184588\n",
      " 128.07256991  80.81457043  96.21736343 106.72045219  84.85852151\n",
      " 124.53939886  74.06766392 111.8435628   89.51934568 132.26284681]\n",
      "200\n"
     ]
    },
    {
     "data": {
      "image/png": "[encoded data removed]",
      "text/plain": [
       "<Figure size 1000x800 with 1 Axes>"
      ]
     },
     "metadata": {},
     "output_type": "display_data"
    }
   ],
   "source": [
    "import matplotlib.pyplot as plt\n",
    "import numpy as np\n",
    "np.random.seed(15)\n"
   ]
  },
  {
   "cell_type": "code",
   "execution_count": 1,
   "id": "85414fcd-9bbb-4805-9b47-632bcfa03f87",
   "metadata": {},
   "outputs": [
    {
     "name": "stdout",
     "output_type": "stream",
     "text": [
      "[90.0, 91.53846153846153, 93.07692307692308, 94.61538461538461, 96.15384615384616, 97.6923076923077, 99.23076923076923, 100.76923076923077, 102.3076923076923, 103.84615384615384, 105.38461538461539, 106.92307692307692, 108.46153846153847, 110.0, 111.53846153846155, 113.07692307692308, 114.61538461538461, 116.15384615384616, 117.6923076923077, 119.23076923076923, 120.76923076923077, 122.3076923076923, 123.84615384615384, 125.38461538461539, 126.92307692307693, 128.46153846153845, 130.0, 131.53846153846155, 133.0769230769231, 134.6153846153846, 136.15384615384616, 137.69230769230768, 139.23076923076923, 140.76923076923077, 142.30769230769232, 143.84615384615384, 145.3846153846154, 146.92307692307693, 148.46153846153845, 150.0]\n"
     ]
    }
   ],
   "source": [
    "import numpy as np\n",
    "a = np.linspace(90,150,40)\n",
    "a_list = list(a)\n",
    "print(a_list)"
   ]
  },
  {
   "cell_type": "code",
   "execution_count": 2,
   "id": "31009887-98e4-4053-bb41-a47bb70f9590",
   "metadata": {},
   "outputs": [
    {
     "name": "stdout",
     "output_type": "stream",
     "text": [
      "[80.0, 82.82051282051282, 85.64102564102564, 88.46153846153847, 91.28205128205128, 94.1025641025641, 96.92307692307692, 99.74358974358975, 102.56410256410257, 105.38461538461539, 108.2051282051282, 111.02564102564102, 113.84615384615384, 116.66666666666667, 119.48717948717949, 122.30769230769232, 125.12820512820514, 127.94871794871796, 130.76923076923077, 133.5897435897436, 136.4102564102564, 139.23076923076923, 142.05128205128204, 144.87179487179486, 147.69230769230768, 150.5128205128205, 153.33333333333334, 156.15384615384616, 158.97435897435898, 161.7948717948718, 164.61538461538464, 167.43589743589746, 170.25641025641028, 173.0769230769231, 175.8974358974359, 178.71794871794873, 181.53846153846155, 184.35897435897436, 187.17948717948718, 190.0]\n"
     ]
    }
   ],
   "source": [
    "b = np.linspace(80,190,40)\n",
    "b_list = list(b)\n",
    "print(b_list)"
   ]
  },
  {
   "cell_type": "code",
   "execution_count": 3,
   "id": "e7fd4259-d1c7-416d-9975-84bc516217bf",
   "metadata": {},
   "outputs": [
    {
     "name": "stdout",
     "output_type": "stream",
     "text": [
      "1 2 3\n"
     ]
    }
   ],
   "source": [
    "x,y,z=1,2,3\n",
    "print(x,y,z)"
   ]
  },
  {
   "cell_type": "code",
   "execution_count": 5,
   "id": "dfc866cd-ee1d-4044-b450-1026c749177e",
   "metadata": {},
   "outputs": [
    {
     "name": "stdout",
     "output_type": "stream",
     "text": [
      "Statistics=-2.526, p=0.012\n",
      "Different distributions (reject H0)\n"
     ]
    }
   ],
   "source": [
    "from statsmodels.stats.weightstats import ztest\n",
    "stat,p= ztest(a_list, b_list) #output: z-stats and p-value\n",
    "\n",
    "print('Statistics=%.3f, p=%.3f' % (stat, p))\n",
    "\n",
    "# interpret\n",
    "alpha = 0.05\n",
    "if p > alpha:\n",
    "    print('Same distributions (fail to reject H0)')\n",
    "else:\n",
    "    print('Different distributions (reject H0)')"
   ]
  },
  {
   "cell_type": "code",
   "execution_count": 6,
   "id": "03bca6f3-1c39-40cc-aee2-8cfa12f1850f",
   "metadata": {},
   "outputs": [
    {
     "name": "stdout",
     "output_type": "stream",
     "text": [
      "data1: mean=50.303 stdv=4.426\n",
      "data2: mean=51.764 stdv=4.660\n"
     ]
    }
   ],
   "source": [
    "# generate gaussian data samples\n",
    "from numpy.random import seed\n",
    "from numpy.random import randn\n",
    "from numpy import mean\n",
    "from numpy import std\n",
    "# seed the random number generator\n",
    "seed(1)\n",
    "\n",
    "# generate two sets of univariate observations\n",
    "data1 = 5 * randn(100) + 50\n",
    "data2 = 5 * randn(100) + 51\n",
    "\n",
    "# summarize\n",
    "print('data1: mean=%.3f stdv=%.3f' % (mean(data1), std(data1)))\n",
    "print('data2: mean=%.3f stdv=%.3f' % (mean(data2), std(data2)))"
   ]
  },
  {
   "cell_type": "code",
   "execution_count": 7,
   "id": "d1ce7933-87a3-40c3-bf2e-a2080d73e2bc",
   "metadata": {},
   "outputs": [
    {
     "name": "stdout",
     "output_type": "stream",
     "text": [
      "Statistics=-2.262, p=0.025\n",
      "Different distributions (reject H0)\n"
     ]
    }
   ],
   "source": [
    "#Calculate the T-test for the means of two independent samples of scores.\n",
    "from scipy.stats import ttest_ind\n",
    "# compare samples\n",
    "stat, p = ttest_ind(data1, data2)\n",
    "print('Statistics=%.3f, p=%.3f' % (stat, p))\n",
    "# interpret\n",
    "alpha = 0.05\n",
    "if p > alpha:\n",
    "    print('Same distributions (fail to reject H0)')\n",
    "else:\n",
    "    print('Different distributions (reject H0)')"
   ]
  },
  {
   "cell_type": "code",
   "execution_count": 8,
   "id": "2881b4a6-d0dc-47b2-adb9-4e6ce3fec8c1",
   "metadata": {},
   "outputs": [
    {
     "name": "stdout",
     "output_type": "stream",
     "text": [
      "Statistics=-2.372, p=0.020\n",
      "Different distributions (reject H0)\n"
     ]
    }
   ],
   "source": [
    "\n",
    "# Paired Student's t-test\n",
    "from numpy.random import seed\n",
    "from numpy.random import randn\n",
    "from scipy.stats import ttest_rel\n",
    "# seed the random number generator\n",
    "seed(1)\n",
    "# generate two independent samples\n",
    "data1 = 5 * randn(100) + 50\n",
    "data2 = 5 * randn(100) + 51\n",
    "\n",
    "#Calculate the t-test on TWO RELATED samples of scores.\n",
    "\n",
    "#This is a two-sided test for the null hypothesis that 2 related or repeated samples have identical\n",
    "# average (expected) values.\n",
    "\n",
    "# compare samples\n",
    "stat, p = ttest_rel(data1, data2)\n",
    "print('Statistics=%.3f, p=%.3f' % (stat, p))\n",
    "# interpret\n",
    "alpha = 0.05\n",
    "if p > alpha:\n",
    "    print('Same distributions (fail to reject H0)')\n",
    "else:\n",
    "    print('Different distributions (reject H0)')"
   ]
  },
  {
   "cell_type": "code",
   "execution_count": 9,
   "id": "26b3b960-4607-4a29-99bf-f79d08c9b4f1",
   "metadata": {},
   "outputs": [
    {
     "name": "stdout",
     "output_type": "stream",
     "text": [
      "Statistics=3.655, p=0.027\n",
      "Different distributions (reject H0)\n"
     ]
    }
   ],
   "source": [
    "\n",
    "# Analysis of Variance test\n",
    "from numpy.random import seed\n",
    "from numpy.random import randn\n",
    "from scipy.stats import f_oneway\n",
    "# seed the random number generator\n",
    "seed(1)\n",
    "# generate three independent samples\n",
    "data1 = 5 * randn(100) + 50\n",
    "data2 = 5 * randn(100) + 50\n",
    "data3 = 5 * randn(100) + 52\n",
    "# compare samples\n",
    "stat, p = f_oneway(data1, data2, data3)\n",
    "print('Statistics=%.3f, p=%.3f' % (stat, p))\n",
    "# interpret\n",
    "alpha = 0.05\n",
    "if p > alpha:\n",
    "    print('Same distributions (fail to reject H0)')\n",
    "else:\n",
    "    print('Different distributions (reject H0)')"
   ]
  },
  {
   "cell_type": "code",
   "execution_count": 10,
   "id": "24ad6f76-a4f5-4f97-a380-57fc403ca46a",
   "metadata": {},
   "outputs": [
    {
     "data": {
      "text/plain": [
       "{'data': array([[5.1, 3.5, 1.4, 0.2],\n",
       "        [4.9, 3. , 1.4, 0.2],\n",
       "        [4.7, 3.2, 1.3, 0.2],\n",
       "        [4.6, 3.1, 1.5, 0.2],\n",
       "        [5. , 3.6, 1.4, 0.2],\n",
       "        [5.4, 3.9, 1.7, 0.4],\n",
       "        [4.6, 3.4, 1.4, 0.3],\n",
       "        [5. , 3.4, 1.5, 0.2],\n",
       "        [4.4, 2.9, 1.4, 0.2],\n",
       "        [4.9, 3.1, 1.5, 0.1],\n",
       "        [5.4, 3.7, 1.5, 0.2],\n",
       "        [4.8, 3.4, 1.6, 0.2],\n",
       "        [4.8, 3. , 1.4, 0.1],\n",
       "        [4.3, 3. , 1.1, 0.1],\n",
       "        [5.8, 4. , 1.2, 0.2],\n",
       "        [5.7, 4.4, 1.5, 0.4],\n",
       "        [5.4, 3.9, 1.3, 0.4],\n",
       "        [5.1, 3.5, 1.4, 0.3],\n",
       "        [5.7, 3.8, 1.7, 0.3],\n",
       "        [5.1, 3.8, 1.5, 0.3],\n",
       "        [5.4, 3.4, 1.7, 0.2],\n",
       "        [5.1, 3.7, 1.5, 0.4],\n",
       "        [4.6, 3.6, 1. , 0.2],\n",
       "        [5.1, 3.3, 1.7, 0.5],\n",
       "        [4.8, 3.4, 1.9, 0.2],\n",
       "        [5. , 3. , 1.6, 0.2],\n",
       "        [5. , 3.4, 1.6, 0.4],\n",
       "        [5.2, 3.5, 1.5, 0.2],\n",
       "        [5.2, 3.4, 1.4, 0.2],\n",
       "        [4.7, 3.2, 1.6, 0.2],\n",
       "        [4.8, 3.1, 1.6, 0.2],\n",
       "        [5.4, 3.4, 1.5, 0.4],\n",
       "        [5.2, 4.1, 1.5, 0.1],\n",
       "        [5.5, 4.2, 1.4, 0.2],\n",
       "        [4.9, 3.1, 1.5, 0.2],\n",
       "        [5. , 3.2, 1.2, 0.2],\n",
       "        [5.5, 3.5, 1.3, 0.2],\n",
       "        [4.9, 3.6, 1.4, 0.1],\n",
       "        [4.4, 3. , 1.3, 0.2],\n",
       "        [5.1, 3.4, 1.5, 0.2],\n",
       "        [5. , 3.5, 1.3, 0.3],\n",
       "        [4.5, 2.3, 1.3, 0.3],\n",
       "        [4.4, 3.2, 1.3, 0.2],\n",
       "        [5. , 3.5, 1.6, 0.6],\n",
       "        [5.1, 3.8, 1.9, 0.4],\n",
       "        [4.8, 3. , 1.4, 0.3],\n",
       "        [5.1, 3.8, 1.6, 0.2],\n",
       "        [4.6, 3.2, 1.4, 0.2],\n",
       "        [5.3, 3.7, 1.5, 0.2],\n",
       "        [5. , 3.3, 1.4, 0.2],\n",
       "        [7. , 3.2, 4.7, 1.4],\n",
       "        [6.4, 3.2, 4.5, 1.5],\n",
       "        [6.9, 3.1, 4.9, 1.5],\n",
       "        [5.5, 2.3, 4. , 1.3],\n",
       "        [6.5, 2.8, 4.6, 1.5],\n",
       "        [5.7, 2.8, 4.5, 1.3],\n",
       "        [6.3, 3.3, 4.7, 1.6],\n",
       "        [4.9, 2.4, 3.3, 1. ],\n",
       "        [6.6, 2.9, 4.6, 1.3],\n",
       "        [5.2, 2.7, 3.9, 1.4],\n",
       "        [5. , 2. , 3.5, 1. ],\n",
       "        [5.9, 3. , 4.2, 1.5],\n",
       "        [6. , 2.2, 4. , 1. ],\n",
       "        [6.1, 2.9, 4.7, 1.4],\n",
       "        [5.6, 2.9, 3.6, 1.3],\n",
       "        [6.7, 3.1, 4.4, 1.4],\n",
       "        [5.6, 3. , 4.5, 1.5],\n",
       "        [5.8, 2.7, 4.1, 1. ],\n",
       "        [6.2, 2.2, 4.5, 1.5],\n",
       "        [5.6, 2.5, 3.9, 1.1],\n",
       "        [5.9, 3.2, 4.8, 1.8],\n",
       "        [6.1, 2.8, 4. , 1.3],\n",
       "        [6.3, 2.5, 4.9, 1.5],\n",
       "        [6.1, 2.8, 4.7, 1.2],\n",
       "        [6.4, 2.9, 4.3, 1.3],\n",
       "        [6.6, 3. , 4.4, 1.4],\n",
       "        [6.8, 2.8, 4.8, 1.4],\n",
       "        [6.7, 3. , 5. , 1.7],\n",
       "        [6. , 2.9, 4.5, 1.5],\n",
       "        [5.7, 2.6, 3.5, 1. ],\n",
       "        [5.5, 2.4, 3.8, 1.1],\n",
       "        [5.5, 2.4, 3.7, 1. ],\n",
       "        [5.8, 2.7, 3.9, 1.2],\n",
       "        [6. , 2.7, 5.1, 1.6],\n",
       "        [5.4, 3. , 4.5, 1.5],\n",
       "        [6. , 3.4, 4.5, 1.6],\n",
       "        [6.7, 3.1, 4.7, 1.5],\n",
       "        [6.3, 2.3, 4.4, 1.3],\n",
       "        [5.6, 3. , 4.1, 1.3],\n",
       "        [5.5, 2.5, 4. , 1.3],\n",
       "        [5.5, 2.6, 4.4, 1.2],\n",
       "        [6.1, 3. , 4.6, 1.4],\n",
       "        [5.8, 2.6, 4. , 1.2],\n",
       "        [5. , 2.3, 3.3, 1. ],\n",
       "        [5.6, 2.7, 4.2, 1.3],\n",
       "        [5.7, 3. , 4.2, 1.2],\n",
       "        [5.7, 2.9, 4.2, 1.3],\n",
       "        [6.2, 2.9, 4.3, 1.3],\n",
       "        [5.1, 2.5, 3. , 1.1],\n",
       "        [5.7, 2.8, 4.1, 1.3],\n",
       "        [6.3, 3.3, 6. , 2.5],\n",
       "        [5.8, 2.7, 5.1, 1.9],\n",
       "        [7.1, 3. , 5.9, 2.1],\n",
       "        [6.3, 2.9, 5.6, 1.8],\n",
       "        [6.5, 3. , 5.8, 2.2],\n",
       "        [7.6, 3. , 6.6, 2.1],\n",
       "        [4.9, 2.5, 4.5, 1.7],\n",
       "        [7.3, 2.9, 6.3, 1.8],\n",
       "        [6.7, 2.5, 5.8, 1.8],\n",
       "        [7.2, 3.6, 6.1, 2.5],\n",
       "        [6.5, 3.2, 5.1, 2. ],\n",
       "        [6.4, 2.7, 5.3, 1.9],\n",
       "        [6.8, 3. , 5.5, 2.1],\n",
       "        [5.7, 2.5, 5. , 2. ],\n",
       "        [5.8, 2.8, 5.1, 2.4],\n",
       "        [6.4, 3.2, 5.3, 2.3],\n",
       "        [6.5, 3. , 5.5, 1.8],\n",
       "        [7.7, 3.8, 6.7, 2.2],\n",
       "        [7.7, 2.6, 6.9, 2.3],\n",
       "        [6. , 2.2, 5. , 1.5],\n",
       "        [6.9, 3.2, 5.7, 2.3],\n",
       "        [5.6, 2.8, 4.9, 2. ],\n",
       "        [7.7, 2.8, 6.7, 2. ],\n",
       "        [6.3, 2.7, 4.9, 1.8],\n",
       "        [6.7, 3.3, 5.7, 2.1],\n",
       "        [7.2, 3.2, 6. , 1.8],\n",
       "        [6.2, 2.8, 4.8, 1.8],\n",
       "        [6.1, 3. , 4.9, 1.8],\n",
       "        [6.4, 2.8, 5.6, 2.1],\n",
       "        [7.2, 3. , 5.8, 1.6],\n",
       "        [7.4, 2.8, 6.1, 1.9],\n",
       "        [7.9, 3.8, 6.4, 2. ],\n",
       "        [6.4, 2.8, 5.6, 2.2],\n",
       "        [6.3, 2.8, 5.1, 1.5],\n",
       "        [6.1, 2.6, 5.6, 1.4],\n",
       "        [7.7, 3. , 6.1, 2.3],\n",
       "        [6.3, 3.4, 5.6, 2.4],\n",
       "        [6.4, 3.1, 5.5, 1.8],\n",
       "        [6. , 3. , 4.8, 1.8],\n",
       "        [6.9, 3.1, 5.4, 2.1],\n",
       "        [6.7, 3.1, 5.6, 2.4],\n",
       "        [6.9, 3.1, 5.1, 2.3],\n",
       "        [5.8, 2.7, 5.1, 1.9],\n",
       "        [6.8, 3.2, 5.9, 2.3],\n",
       "        [6.7, 3.3, 5.7, 2.5],\n",
       "        [6.7, 3. , 5.2, 2.3],\n",
       "        [6.3, 2.5, 5. , 1.9],\n",
       "        [6.5, 3. , 5.2, 2. ],\n",
       "        [6.2, 3.4, 5.4, 2.3],\n",
       "        [5.9, 3. , 5.1, 1.8]]),\n",
       " 'target': array([0, 0, 0, 0, 0, 0, 0, 0, 0, 0, 0, 0, 0, 0, 0, 0, 0, 0, 0, 0, 0, 0,\n",
       "        0, 0, 0, 0, 0, 0, 0, 0, 0, 0, 0, 0, 0, 0, 0, 0, 0, 0, 0, 0, 0, 0,\n",
       "        0, 0, 0, 0, 0, 0, 1, 1, 1, 1, 1, 1, 1, 1, 1, 1, 1, 1, 1, 1, 1, 1,\n",
       "        1, 1, 1, 1, 1, 1, 1, 1, 1, 1, 1, 1, 1, 1, 1, 1, 1, 1, 1, 1, 1, 1,\n",
       "        1, 1, 1, 1, 1, 1, 1, 1, 1, 1, 1, 1, 2, 2, 2, 2, 2, 2, 2, 2, 2, 2,\n",
       "        2, 2, 2, 2, 2, 2, 2, 2, 2, 2, 2, 2, 2, 2, 2, 2, 2, 2, 2, 2, 2, 2,\n",
       "        2, 2, 2, 2, 2, 2, 2, 2, 2, 2, 2, 2, 2, 2, 2, 2, 2, 2]),\n",
       " 'frame': None,\n",
       " 'target_names': array(['setosa', 'versicolor', 'virginica'], dtype='<U10'),\n",
       " 'DESCR': '.. _iris_dataset:\\n\\nIris plants dataset\\n--------------------\\n\\n**Data Set Characteristics:**\\n\\n    :Number of Instances: 150 (50 in each of three classes)\\n    :Number of Attributes: 4 numeric, predictive attributes and the class\\n    :Attribute Information:\\n        - sepal length in cm\\n        - sepal width in cm\\n        - petal length in cm\\n        - petal width in cm\\n        - class:\\n                - Iris-Setosa\\n                - Iris-Versicolour\\n                - Iris-Virginica\\n                \\n    :Summary Statistics:\\n\\n    ============== ==== ==== ======= ===== ====================\\n                    Min  Max   Mean    SD   Class Correlation\\n    ============== ==== ==== ======= ===== ====================\\n    sepal length:   4.3  7.9   5.84   0.83    0.7826\\n    sepal width:    2.0  4.4   3.05   0.43   -0.4194\\n    petal length:   1.0  6.9   3.76   1.76    0.9490  (high!)\\n    petal width:    0.1  2.5   1.20   0.76    0.9565  (high!)\\n    ============== ==== ==== ======= ===== ====================\\n\\n    :Missing Attribute Values: None\\n    :Class Distribution: 33.3% for each of 3 classes.\\n    :Creator: R.A. Fisher\\n    :Donor: Michael Marshall (MARSHALL%PLU@io.arc.nasa.gov)\\n    :Date: July, 1988\\n\\nThe famous Iris database, first used by Sir R.A. Fisher. The dataset is taken\\nfrom Fisher\\'s paper. Note that it\\'s the same as in R, but not as in the UCI\\nMachine Learning Repository, which has two wrong data points.\\n\\nThis is perhaps the best known database to be found in the\\npattern recognition literature.  Fisher\\'s paper is a classic in the field and\\nis referenced frequently to this day.  (See Duda & Hart, for example.)  The\\ndata set contains 3 classes of 50 instances each, where each class refers to a\\ntype of iris plant.  One class is linearly separable from the other 2; the\\nlatter are NOT linearly separable from each other.\\n\\n.. topic:: References\\n\\n   - Fisher, R.A. \"The use of multiple measurements in taxonomic problems\"\\n     Annual Eugenics, 7, Part II, 179-188 (1936); also in \"Contributions to\\n     Mathematical Statistics\" (John Wiley, NY, 1950).\\n   - Duda, R.O., & Hart, P.E. (1973) Pattern Classification and Scene Analysis.\\n     (Q327.D83) John Wiley & Sons.  ISBN 0-471-22361-1.  See page 218.\\n   - Dasarathy, B.V. (1980) \"Nosing Around the Neighborhood: A New System\\n     Structure and Classification Rule for Recognition in Partially Exposed\\n     Environments\".  IEEE Transactions on Pattern Analysis and Machine\\n     Intelligence, Vol. PAMI-2, No. 1, 67-71.\\n   - Gates, G.W. (1972) \"The Reduced Nearest Neighbor Rule\".  IEEE Transactions\\n     on Information Theory, May 1972, 431-433.\\n   - See also: 1988 MLC Proceedings, 54-64.  Cheeseman et al\"s AUTOCLASS II\\n     conceptual clustering system finds 3 classes in the data.\\n   - Many, many more ...',\n",
       " 'feature_names': ['sepal length (cm)',\n",
       "  'sepal width (cm)',\n",
       "  'petal length (cm)',\n",
       "  'petal width (cm)'],\n",
       " 'filename': 'iris.csv',\n",
       " 'data_module': 'sklearn.datasets.data'}"
      ]
     },
     "execution_count": 10,
     "metadata": {},
     "output_type": "execute_result"
    }
   ],
   "source": [
    "# Load libraries\n",
    "from sklearn.datasets import load_iris\n",
    "import pandas as pd\n",
    "\n",
    "#Scikit-learn API provides SelectKBest function for extracting best features of given dataset.\n",
    "from sklearn.feature_selection import SelectKBest\n",
    "from sklearn.feature_selection import chi2\n",
    "\n",
    "# Load iris data\n",
    "iris_dataset = load_iris()\n",
    "iris_dataset"
   ]
  },
  {
   "cell_type": "code",
   "execution_count": 11,
   "id": "556d354c-6079-4785-a2ac-7d5bab635368",
   "metadata": {},
   "outputs": [
    {
     "data": {
      "text/plain": [
       "['sepal length (cm)',\n",
       " 'sepal width (cm)',\n",
       " 'petal length (cm)',\n",
       " 'petal width (cm)']"
      ]
     },
     "execution_count": 11,
     "metadata": {},
     "output_type": "execute_result"
    }
   ],
   "source": [
    "iris_dataset.feature_names"
   ]
  },
  {
   "cell_type": "code",
   "execution_count": 12,
   "id": "50480337-26a5-44f7-94fe-5faea2700b68",
   "metadata": {},
   "outputs": [
    {
     "data": {
      "text/html": [
       "<div>\n",
       "<style scoped>\n",
       "    .dataframe tbody tr th:only-of-type {\n",
       "        vertical-align: middle;\n",
       "    }\n",
       "\n",
       "    .dataframe tbody tr th {\n",
       "        vertical-align: top;\n",
       "    }\n",
       "\n",
       "    .dataframe thead th {\n",
       "        text-align: right;\n",
       "    }\n",
       "</style>\n",
       "<table border=\"1\" class=\"dataframe\">\n",
       "  <thead>\n",
       "    <tr style=\"text-align: right;\">\n",
       "      <th></th>\n",
       "      <th>sepal length (cm)</th>\n",
       "      <th>sepal width (cm)</th>\n",
       "      <th>petal length (cm)</th>\n",
       "      <th>petal width (cm)</th>\n",
       "    </tr>\n",
       "  </thead>\n",
       "  <tbody>\n",
       "    <tr>\n",
       "      <th>0</th>\n",
       "      <td>5.1</td>\n",
       "      <td>3.5</td>\n",
       "      <td>1.4</td>\n",
       "      <td>0.2</td>\n",
       "    </tr>\n",
       "    <tr>\n",
       "      <th>1</th>\n",
       "      <td>4.9</td>\n",
       "      <td>3.0</td>\n",
       "      <td>1.4</td>\n",
       "      <td>0.2</td>\n",
       "    </tr>\n",
       "    <tr>\n",
       "      <th>2</th>\n",
       "      <td>4.7</td>\n",
       "      <td>3.2</td>\n",
       "      <td>1.3</td>\n",
       "      <td>0.2</td>\n",
       "    </tr>\n",
       "    <tr>\n",
       "      <th>3</th>\n",
       "      <td>4.6</td>\n",
       "      <td>3.1</td>\n",
       "      <td>1.5</td>\n",
       "      <td>0.2</td>\n",
       "    </tr>\n",
       "    <tr>\n",
       "      <th>4</th>\n",
       "      <td>5.0</td>\n",
       "      <td>3.6</td>\n",
       "      <td>1.4</td>\n",
       "      <td>0.2</td>\n",
       "    </tr>\n",
       "    <tr>\n",
       "      <th>...</th>\n",
       "      <td>...</td>\n",
       "      <td>...</td>\n",
       "      <td>...</td>\n",
       "      <td>...</td>\n",
       "    </tr>\n",
       "    <tr>\n",
       "      <th>145</th>\n",
       "      <td>6.7</td>\n",
       "      <td>3.0</td>\n",
       "      <td>5.2</td>\n",
       "      <td>2.3</td>\n",
       "    </tr>\n",
       "    <tr>\n",
       "      <th>146</th>\n",
       "      <td>6.3</td>\n",
       "      <td>2.5</td>\n",
       "      <td>5.0</td>\n",
       "      <td>1.9</td>\n",
       "    </tr>\n",
       "    <tr>\n",
       "      <th>147</th>\n",
       "      <td>6.5</td>\n",
       "      <td>3.0</td>\n",
       "      <td>5.2</td>\n",
       "      <td>2.0</td>\n",
       "    </tr>\n",
       "    <tr>\n",
       "      <th>148</th>\n",
       "      <td>6.2</td>\n",
       "      <td>3.4</td>\n",
       "      <td>5.4</td>\n",
       "      <td>2.3</td>\n",
       "    </tr>\n",
       "    <tr>\n",
       "      <th>149</th>\n",
       "      <td>5.9</td>\n",
       "      <td>3.0</td>\n",
       "      <td>5.1</td>\n",
       "      <td>1.8</td>\n",
       "    </tr>\n",
       "  </tbody>\n",
       "</table>\n",
       "<p>150 rows × 4 columns</p>\n",
       "</div>"
      ],
      "text/plain": [
       "     sepal length (cm)  sepal width (cm)  petal length (cm)  petal width (cm)\n",
       "0                  5.1               3.5                1.4               0.2\n",
       "1                  4.9               3.0                1.4               0.2\n",
       "2                  4.7               3.2                1.3               0.2\n",
       "3                  4.6               3.1                1.5               0.2\n",
       "4                  5.0               3.6                1.4               0.2\n",
       "..                 ...               ...                ...               ...\n",
       "145                6.7               3.0                5.2               2.3\n",
       "146                6.3               2.5                5.0               1.9\n",
       "147                6.5               3.0                5.2               2.0\n",
       "148                6.2               3.4                5.4               2.3\n",
       "149                5.9               3.0                5.1               1.8\n",
       "\n",
       "[150 rows x 4 columns]"
      ]
     },
     "execution_count": 12,
     "metadata": {},
     "output_type": "execute_result"
    }
   ],
   "source": [
    "df = pd.DataFrame(data=iris_dataset.data, columns=iris_dataset.feature_names)\n",
    "df"
   ]
  },
  {
   "cell_type": "code",
   "execution_count": 13,
   "id": "6afd7a61-f60c-4502-ae05-dd434ce6e764",
   "metadata": {},
   "outputs": [
    {
     "name": "stdout",
     "output_type": "stream",
     "text": [
      "<class 'pandas.core.frame.DataFrame'>\n",
      "RangeIndex: 150 entries, 0 to 149\n",
      "Data columns (total 4 columns):\n",
      " #   Column             Non-Null Count  Dtype  \n",
      "---  ------             --------------  -----  \n",
      " 0   sepal length (cm)  150 non-null    float64\n",
      " 1   sepal width (cm)   150 non-null    float64\n",
      " 2   petal length (cm)  150 non-null    float64\n",
      " 3   petal width (cm)   150 non-null    float64\n",
      "dtypes: float64(4)\n",
      "memory usage: 4.8 KB\n"
     ]
    }
   ],
   "source": [
    "df.info()"
   ]
  },
  {
   "cell_type": "code",
   "execution_count": 14,
   "id": "ba0ad4b4-247e-4aee-b250-88b2d81b7f2d",
   "metadata": {},
   "outputs": [
    {
     "name": "stdout",
     "output_type": "stream",
     "text": [
      "Original feature number: 4\n",
      "Reduced feature number: 2\n"
     ]
    }
   ],
   "source": [
    "# Create features and target\n",
    "X = iris_dataset.data     # input / independent / predictor variables -\n",
    "y = iris_dataset.target   # output / target /dependent/ response variable - species\n",
    "\n",
    "# ML convert the categorical into numerical data : discrete\n",
    "\n",
    "# Convert to categorical data by converting data to integers\n",
    "X = X.astype(int) # discrete data 4 features\n",
    "\n",
    "# Two features with highest chi-squared statistics are selected\n",
    "chi = SelectKBest(chi2, k = 2) #Select features according to the k highest scores.\n",
    "\n",
    "X_kbest_features = chi.fit_transform(X, y)\n",
    "\n",
    "\n",
    "\n",
    "# Reduced features\n",
    "print('Original feature number:', X.shape[1])\n",
    "print('Reduced feature number:', X_kbest_features.shape[1])"
   ]
  },
  {
   "cell_type": "code",
   "execution_count": 15,
   "id": "71099513-b695-4b6d-9972-38324c298ee0",
   "metadata": {},
   "outputs": [
    {
     "data": {
      "text/plain": [
       "array([[1, 0],\n",
       "       [1, 0],\n",
       "       [1, 0],\n",
       "       [1, 0],\n",
       "       [1, 0],\n",
       "       [1, 0],\n",
       "       [1, 0],\n",
       "       [1, 0],\n",
       "       [1, 0],\n",
       "       [1, 0],\n",
       "       [1, 0],\n",
       "       [1, 0],\n",
       "       [1, 0],\n",
       "       [1, 0],\n",
       "       [1, 0],\n",
       "       [1, 0],\n",
       "       [1, 0],\n",
       "       [1, 0],\n",
       "       [1, 0],\n",
       "       [1, 0],\n",
       "       [1, 0],\n",
       "       [1, 0],\n",
       "       [1, 0],\n",
       "       [1, 0],\n",
       "       [1, 0],\n",
       "       [1, 0],\n",
       "       [1, 0],\n",
       "       [1, 0],\n",
       "       [1, 0],\n",
       "       [1, 0],\n",
       "       [1, 0],\n",
       "       [1, 0],\n",
       "       [1, 0],\n",
       "       [1, 0],\n",
       "       [1, 0],\n",
       "       [1, 0],\n",
       "       [1, 0],\n",
       "       [1, 0],\n",
       "       [1, 0],\n",
       "       [1, 0],\n",
       "       [1, 0],\n",
       "       [1, 0],\n",
       "       [1, 0],\n",
       "       [1, 0],\n",
       "       [1, 0],\n",
       "       [1, 0],\n",
       "       [1, 0],\n",
       "       [1, 0],\n",
       "       [1, 0],\n",
       "       [1, 0],\n",
       "       [4, 1],\n",
       "       [4, 1],\n",
       "       [4, 1],\n",
       "       [4, 1],\n",
       "       [4, 1],\n",
       "       [4, 1],\n",
       "       [4, 1],\n",
       "       [3, 1],\n",
       "       [4, 1],\n",
       "       [3, 1],\n",
       "       [3, 1],\n",
       "       [4, 1],\n",
       "       [4, 1],\n",
       "       [4, 1],\n",
       "       [3, 1],\n",
       "       [4, 1],\n",
       "       [4, 1],\n",
       "       [4, 1],\n",
       "       [4, 1],\n",
       "       [3, 1],\n",
       "       [4, 1],\n",
       "       [4, 1],\n",
       "       [4, 1],\n",
       "       [4, 1],\n",
       "       [4, 1],\n",
       "       [4, 1],\n",
       "       [4, 1],\n",
       "       [5, 1],\n",
       "       [4, 1],\n",
       "       [3, 1],\n",
       "       [3, 1],\n",
       "       [3, 1],\n",
       "       [3, 1],\n",
       "       [5, 1],\n",
       "       [4, 1],\n",
       "       [4, 1],\n",
       "       [4, 1],\n",
       "       [4, 1],\n",
       "       [4, 1],\n",
       "       [4, 1],\n",
       "       [4, 1],\n",
       "       [4, 1],\n",
       "       [4, 1],\n",
       "       [3, 1],\n",
       "       [4, 1],\n",
       "       [4, 1],\n",
       "       [4, 1],\n",
       "       [4, 1],\n",
       "       [3, 1],\n",
       "       [4, 1],\n",
       "       [6, 2],\n",
       "       [5, 1],\n",
       "       [5, 2],\n",
       "       [5, 1],\n",
       "       [5, 2],\n",
       "       [6, 2],\n",
       "       [4, 1],\n",
       "       [6, 1],\n",
       "       [5, 1],\n",
       "       [6, 2],\n",
       "       [5, 2],\n",
       "       [5, 1],\n",
       "       [5, 2],\n",
       "       [5, 2],\n",
       "       [5, 2],\n",
       "       [5, 2],\n",
       "       [5, 1],\n",
       "       [6, 2],\n",
       "       [6, 2],\n",
       "       [5, 1],\n",
       "       [5, 2],\n",
       "       [4, 2],\n",
       "       [6, 2],\n",
       "       [4, 1],\n",
       "       [5, 2],\n",
       "       [6, 1],\n",
       "       [4, 1],\n",
       "       [4, 1],\n",
       "       [5, 2],\n",
       "       [5, 1],\n",
       "       [6, 1],\n",
       "       [6, 2],\n",
       "       [5, 2],\n",
       "       [5, 1],\n",
       "       [5, 1],\n",
       "       [6, 2],\n",
       "       [5, 2],\n",
       "       [5, 1],\n",
       "       [4, 1],\n",
       "       [5, 2],\n",
       "       [5, 2],\n",
       "       [5, 2],\n",
       "       [5, 1],\n",
       "       [5, 2],\n",
       "       [5, 2],\n",
       "       [5, 2],\n",
       "       [5, 1],\n",
       "       [5, 2],\n",
       "       [5, 2],\n",
       "       [5, 1]])"
      ]
     },
     "execution_count": 15,
     "metadata": {},
     "output_type": "execute_result"
    }
   ],
   "source": [
    "X_kbest_features"
   ]
  },
  {
   "cell_type": "code",
   "execution_count": 16,
   "id": "76122e98-e136-428b-91e9-6de2ae0c4816",
   "metadata": {},
   "outputs": [
    {
     "data": {
      "text/plain": [
       "array([[5, 3, 1, 0],\n",
       "       [4, 3, 1, 0],\n",
       "       [4, 3, 1, 0],\n",
       "       [4, 3, 1, 0],\n",
       "       [5, 3, 1, 0],\n",
       "       [5, 3, 1, 0],\n",
       "       [4, 3, 1, 0],\n",
       "       [5, 3, 1, 0],\n",
       "       [4, 2, 1, 0],\n",
       "       [4, 3, 1, 0],\n",
       "       [5, 3, 1, 0],\n",
       "       [4, 3, 1, 0],\n",
       "       [4, 3, 1, 0],\n",
       "       [4, 3, 1, 0],\n",
       "       [5, 4, 1, 0],\n",
       "       [5, 4, 1, 0],\n",
       "       [5, 3, 1, 0],\n",
       "       [5, 3, 1, 0],\n",
       "       [5, 3, 1, 0],\n",
       "       [5, 3, 1, 0],\n",
       "       [5, 3, 1, 0],\n",
       "       [5, 3, 1, 0],\n",
       "       [4, 3, 1, 0],\n",
       "       [5, 3, 1, 0],\n",
       "       [4, 3, 1, 0],\n",
       "       [5, 3, 1, 0],\n",
       "       [5, 3, 1, 0],\n",
       "       [5, 3, 1, 0],\n",
       "       [5, 3, 1, 0],\n",
       "       [4, 3, 1, 0],\n",
       "       [4, 3, 1, 0],\n",
       "       [5, 3, 1, 0],\n",
       "       [5, 4, 1, 0],\n",
       "       [5, 4, 1, 0],\n",
       "       [4, 3, 1, 0],\n",
       "       [5, 3, 1, 0],\n",
       "       [5, 3, 1, 0],\n",
       "       [4, 3, 1, 0],\n",
       "       [4, 3, 1, 0],\n",
       "       [5, 3, 1, 0],\n",
       "       [5, 3, 1, 0],\n",
       "       [4, 2, 1, 0],\n",
       "       [4, 3, 1, 0],\n",
       "       [5, 3, 1, 0],\n",
       "       [5, 3, 1, 0],\n",
       "       [4, 3, 1, 0],\n",
       "       [5, 3, 1, 0],\n",
       "       [4, 3, 1, 0],\n",
       "       [5, 3, 1, 0],\n",
       "       [5, 3, 1, 0],\n",
       "       [7, 3, 4, 1],\n",
       "       [6, 3, 4, 1],\n",
       "       [6, 3, 4, 1],\n",
       "       [5, 2, 4, 1],\n",
       "       [6, 2, 4, 1],\n",
       "       [5, 2, 4, 1],\n",
       "       [6, 3, 4, 1],\n",
       "       [4, 2, 3, 1],\n",
       "       [6, 2, 4, 1],\n",
       "       [5, 2, 3, 1],\n",
       "       [5, 2, 3, 1],\n",
       "       [5, 3, 4, 1],\n",
       "       [6, 2, 4, 1],\n",
       "       [6, 2, 4, 1],\n",
       "       [5, 2, 3, 1],\n",
       "       [6, 3, 4, 1],\n",
       "       [5, 3, 4, 1],\n",
       "       [5, 2, 4, 1],\n",
       "       [6, 2, 4, 1],\n",
       "       [5, 2, 3, 1],\n",
       "       [5, 3, 4, 1],\n",
       "       [6, 2, 4, 1],\n",
       "       [6, 2, 4, 1],\n",
       "       [6, 2, 4, 1],\n",
       "       [6, 2, 4, 1],\n",
       "       [6, 3, 4, 1],\n",
       "       [6, 2, 4, 1],\n",
       "       [6, 3, 5, 1],\n",
       "       [6, 2, 4, 1],\n",
       "       [5, 2, 3, 1],\n",
       "       [5, 2, 3, 1],\n",
       "       [5, 2, 3, 1],\n",
       "       [5, 2, 3, 1],\n",
       "       [6, 2, 5, 1],\n",
       "       [5, 3, 4, 1],\n",
       "       [6, 3, 4, 1],\n",
       "       [6, 3, 4, 1],\n",
       "       [6, 2, 4, 1],\n",
       "       [5, 3, 4, 1],\n",
       "       [5, 2, 4, 1],\n",
       "       [5, 2, 4, 1],\n",
       "       [6, 3, 4, 1],\n",
       "       [5, 2, 4, 1],\n",
       "       [5, 2, 3, 1],\n",
       "       [5, 2, 4, 1],\n",
       "       [5, 3, 4, 1],\n",
       "       [5, 2, 4, 1],\n",
       "       [6, 2, 4, 1],\n",
       "       [5, 2, 3, 1],\n",
       "       [5, 2, 4, 1],\n",
       "       [6, 3, 6, 2],\n",
       "       [5, 2, 5, 1],\n",
       "       [7, 3, 5, 2],\n",
       "       [6, 2, 5, 1],\n",
       "       [6, 3, 5, 2],\n",
       "       [7, 3, 6, 2],\n",
       "       [4, 2, 4, 1],\n",
       "       [7, 2, 6, 1],\n",
       "       [6, 2, 5, 1],\n",
       "       [7, 3, 6, 2],\n",
       "       [6, 3, 5, 2],\n",
       "       [6, 2, 5, 1],\n",
       "       [6, 3, 5, 2],\n",
       "       [5, 2, 5, 2],\n",
       "       [5, 2, 5, 2],\n",
       "       [6, 3, 5, 2],\n",
       "       [6, 3, 5, 1],\n",
       "       [7, 3, 6, 2],\n",
       "       [7, 2, 6, 2],\n",
       "       [6, 2, 5, 1],\n",
       "       [6, 3, 5, 2],\n",
       "       [5, 2, 4, 2],\n",
       "       [7, 2, 6, 2],\n",
       "       [6, 2, 4, 1],\n",
       "       [6, 3, 5, 2],\n",
       "       [7, 3, 6, 1],\n",
       "       [6, 2, 4, 1],\n",
       "       [6, 3, 4, 1],\n",
       "       [6, 2, 5, 2],\n",
       "       [7, 3, 5, 1],\n",
       "       [7, 2, 6, 1],\n",
       "       [7, 3, 6, 2],\n",
       "       [6, 2, 5, 2],\n",
       "       [6, 2, 5, 1],\n",
       "       [6, 2, 5, 1],\n",
       "       [7, 3, 6, 2],\n",
       "       [6, 3, 5, 2],\n",
       "       [6, 3, 5, 1],\n",
       "       [6, 3, 4, 1],\n",
       "       [6, 3, 5, 2],\n",
       "       [6, 3, 5, 2],\n",
       "       [6, 3, 5, 2],\n",
       "       [5, 2, 5, 1],\n",
       "       [6, 3, 5, 2],\n",
       "       [6, 3, 5, 2],\n",
       "       [6, 3, 5, 2],\n",
       "       [6, 2, 5, 1],\n",
       "       [6, 3, 5, 2],\n",
       "       [6, 3, 5, 2],\n",
       "       [5, 3, 5, 1]])"
      ]
     },
     "execution_count": 16,
     "metadata": {},
     "output_type": "execute_result"
    }
   ],
   "source": [
    "X"
   ]
  },
  {
   "cell_type": "code",
   "execution_count": 9,
   "id": "b8896a94-d8c0-408a-8bf4-114550a2eb0d",
   "metadata": {},
   "outputs": [
    {
     "name": "stdout",
     "output_type": "stream",
     "text": [
      "1.26.2\n"
     ]
    }
   ],
   "source": [
    "import numpy as np\n",
    "print(np.__version__)"
   ]
  },
  {
   "cell_type": "code",
   "execution_count": 10,
   "id": "88f4e4b6-440a-4aef-be8e-27053d9b4f4b",
   "metadata": {},
   "outputs": [
    {
     "name": "stdout",
     "output_type": "stream",
     "text": [
      "<class 'module'>\n"
     ]
    }
   ],
   "source": [
    "print(type(np))"
   ]
  },
  {
   "cell_type": "code",
   "execution_count": 11,
   "id": "77bd0c49-e6f9-4913-a492-143ee07822eb",
   "metadata": {},
   "outputs": [
    {
     "name": "stdout",
     "output_type": "stream",
     "text": [
      "42\n"
     ]
    }
   ],
   "source": [
    "import numpy as np\n",
    "arr=np.array(42)\n",
    "print(arr)"
   ]
  },
  {
   "cell_type": "code",
   "execution_count": 12,
   "id": "09e5ab52-1fc1-433b-b96b-5968510892ac",
   "metadata": {},
   "outputs": [
    {
     "data": {
      "text/plain": [
       "array([], dtype=float64)"
      ]
     },
     "execution_count": 12,
     "metadata": {},
     "output_type": "execute_result"
    }
   ],
   "source": [
    "arr1 =np.array([])\n",
    "arr1"
   ]
  },
  {
   "cell_type": "code",
   "execution_count": 13,
   "id": "9477e28e-5e21-450d-a29f-c84c14604018",
   "metadata": {},
   "outputs": [
    {
     "name": "stdout",
     "output_type": "stream",
     "text": [
      "<class 'numpy.ndarray'>\n"
     ]
    }
   ],
   "source": [
    "print(type(arr1))"
   ]
  },
  {
   "cell_type": "code",
   "execution_count": 14,
   "id": "d05f2e7d-44b3-4b6a-838e-80fb7f95a6d7",
   "metadata": {},
   "outputs": [
    {
     "ename": "TypeError",
     "evalue": "array() missing required argument 'object' (pos 0)",
     "output_type": "error",
     "traceback": [
      "\u001b[1;31m---------------------------------------------------------------------------\u001b[0m",
      "\u001b[1;31mTypeError\u001b[0m                                 Traceback (most recent call last)",
      "Cell \u001b[1;32mIn[14], line 1\u001b[0m\n\u001b[1;32m----> 1\u001b[0m a\u001b[38;5;241m=\u001b[39mnp\u001b[38;5;241m.\u001b[39marray()\n\u001b[0;32m      2\u001b[0m a\u001b[38;5;241m.\u001b[39mshape\n",
      "\u001b[1;31mTypeError\u001b[0m: array() missing required argument 'object' (pos 0)"
     ]
    }
   ],
   "source": [
    "a=np.array()\n",
    "a.shape"
   ]
  },
  {
   "cell_type": "code",
   "execution_count": 15,
   "id": "09509dc1-2214-4366-b40d-8e781723a764",
   "metadata": {},
   "outputs": [
    {
     "data": {
      "text/plain": [
       "1"
      ]
     },
     "execution_count": 15,
     "metadata": {},
     "output_type": "execute_result"
    }
   ],
   "source": [
    "a=np.array([1,2,3])\n",
    "a[0]"
   ]
  },
  {
   "cell_type": "code",
   "execution_count": 16,
   "id": "08dc8fd5-a75d-42ba-9810-2ad9ef59f749",
   "metadata": {},
   "outputs": [
    {
     "data": {
      "text/plain": [
       "1"
      ]
     },
     "execution_count": 16,
     "metadata": {},
     "output_type": "execute_result"
    }
   ],
   "source": [
    "a=np.array([[1,2,3,],[5,6,7]])\n",
    "a[0][0]"
   ]
  },
  {
   "cell_type": "code",
   "execution_count": 17,
   "id": "83461ce5-9e94-4719-936d-39d58e2ae306",
   "metadata": {},
   "outputs": [
    {
     "data": {
      "text/plain": [
       "1"
      ]
     },
     "execution_count": 17,
     "metadata": {},
     "output_type": "execute_result"
    }
   ],
   "source": [
    "a=np.array([[1,2,3,],[5,6,7]])\n",
    "a[0][0]"
   ]
  },
  {
   "cell_type": "code",
   "execution_count": 18,
   "id": "aa64e2c5-647d-41f9-ac42-8feaa8ba5bf5",
   "metadata": {},
   "outputs": [
    {
     "name": "stdout",
     "output_type": "stream",
     "text": [
      "[1, 2, 3, 4, 5]\n"
     ]
    }
   ],
   "source": [
    "my_list = [1,2,3,4,5]\n",
    "print(my_list)"
   ]
  },
  {
   "cell_type": "code",
   "execution_count": 19,
   "id": "65572e79-935c-45c3-8557-342322168efa",
   "metadata": {},
   "outputs": [
    {
     "name": "stdout",
     "output_type": "stream",
     "text": [
      "(1, 3) [[1 2 3]]\n"
     ]
    },
    {
     "data": {
      "text/plain": [
       "1"
      ]
     },
     "execution_count": 19,
     "metadata": {},
     "output_type": "execute_result"
    }
   ],
   "source": [
    "a=np.array([[1,2,3,]])\n",
    "print(a.shape,a)\n",
    "a[0][0]"
   ]
  },
  {
   "cell_type": "code",
   "execution_count": 20,
   "id": "30ec0634-32a8-4edb-aa6c-b72309ee641d",
   "metadata": {},
   "outputs": [
    {
     "name": "stdout",
     "output_type": "stream",
     "text": [
      "(1, 1, 3) [[[1 2 3]]]\n"
     ]
    },
    {
     "data": {
      "text/plain": [
       "array([1, 2, 3])"
      ]
     },
     "execution_count": 20,
     "metadata": {},
     "output_type": "execute_result"
    }
   ],
   "source": [
    "a=np.array([[[1,2,3,]]])\n",
    "print(a.shape,a)\n",
    "a[0][0]"
   ]
  },
  {
   "cell_type": "code",
   "execution_count": 21,
   "id": "9b928af8-147c-4e33-b9dd-9d9ded27a52d",
   "metadata": {},
   "outputs": [
    {
     "name": "stdout",
     "output_type": "stream",
     "text": [
      "[[[[[1 2 3 4]]]]]\n"
     ]
    }
   ],
   "source": [
    "import numpy as np\n",
    "arr=np.array([1,2,3,4], ndmin=5)\n",
    "print(arr)"
   ]
  },
  {
   "cell_type": "code",
   "execution_count": 22,
   "id": "efcbd978-eb4a-4b3e-9770-bef0b7e2e233",
   "metadata": {},
   "outputs": [
    {
     "name": "stdout",
     "output_type": "stream",
     "text": [
      "[1, 2, 3, 4, 5]\n"
     ]
    }
   ],
   "source": [
    "my_list =[1,2,3,4,5]\n",
    "print(my_list)"
   ]
  },
  {
   "cell_type": "code",
   "execution_count": 23,
   "id": "a64963f4-dafb-4226-9594-7776d0bf341d",
   "metadata": {},
   "outputs": [
    {
     "name": "stdout",
     "output_type": "stream",
     "text": [
      "(1, 1, 3) [[[1 2 3]]]\n"
     ]
    }
   ],
   "source": [
    "arr=np.array([1,2,3,4], ndmin=5)\n",
    "print(a.shape,a)"
   ]
  },
  {
   "cell_type": "code",
   "execution_count": 24,
   "id": "06333362-b3ef-42c7-8b34-99b60fa37458",
   "metadata": {},
   "outputs": [
    {
     "name": "stdout",
     "output_type": "stream",
     "text": [
      "0\n",
      "1\n"
     ]
    }
   ],
   "source": [
    "a=np.array(42)\n",
    "b=np.array([1,2,3,4,5])\n",
    "print(a.ndim)\n",
    "print(b.ndim)"
   ]
  },
  {
   "cell_type": "code",
   "execution_count": 25,
   "id": "0fd69218-59ce-4d4c-9e8e-50265e74e518",
   "metadata": {},
   "outputs": [
    {
     "name": "stdout",
     "output_type": "stream",
     "text": [
      "(4,)\n"
     ]
    }
   ],
   "source": [
    "arr1=np.array([1,3,5,7])\n",
    "print(arr1.shape)"
   ]
  },
  {
   "cell_type": "code",
   "execution_count": null,
   "id": "d4eb058d-3597-443f-bb0d-fe14d302f114",
   "metadata": {},
   "outputs": [],
   "source": []
  },
  {
   "cell_type": "code",
   "execution_count": 26,
   "id": "a1d86cf0-d52c-4415-944a-f71745be214a",
   "metadata": {},
   "outputs": [
    {
     "data": {
      "text/plain": [
       "0"
      ]
     },
     "execution_count": 26,
     "metadata": {},
     "output_type": "execute_result"
    }
   ],
   "source": [
    "a.ndim"
   ]
  },
  {
   "cell_type": "code",
   "execution_count": 27,
   "id": "5f4800bb-45c6-4c63-8a93-04e198877e42",
   "metadata": {},
   "outputs": [
    {
     "data": {
      "text/plain": [
       "1"
      ]
     },
     "execution_count": 27,
     "metadata": {},
     "output_type": "execute_result"
    }
   ],
   "source": [
    "a.size"
   ]
  },
  {
   "cell_type": "code",
   "execution_count": 28,
   "id": "eedf3721-9006-4fc9-a719-e7f39bf9a949",
   "metadata": {},
   "outputs": [
    {
     "data": {
      "text/plain": [
       "()"
      ]
     },
     "execution_count": 28,
     "metadata": {},
     "output_type": "execute_result"
    }
   ],
   "source": [
    "a.shape"
   ]
  },
  {
   "cell_type": "code",
   "execution_count": 29,
   "id": "0d57370a-e14c-470b-8cc5-25e1465a4f9d",
   "metadata": {},
   "outputs": [
    {
     "data": {
      "text/plain": [
       "[[1, 2, 3], [4, 5, 6], [7, 8, 9]]"
      ]
     },
     "execution_count": 29,
     "metadata": {},
     "output_type": "execute_result"
    }
   ],
   "source": [
    "my_matrix=[  [1,2,3], [4,5,6], [7,8,9]]\n",
    "my_matrix"
   ]
  },
  {
   "cell_type": "code",
   "execution_count": 30,
   "id": "f1312a86-ca3c-48bf-b7ff-b1e62c35dc31",
   "metadata": {},
   "outputs": [
    {
     "data": {
      "text/plain": [
       "0"
      ]
     },
     "execution_count": 30,
     "metadata": {},
     "output_type": "execute_result"
    }
   ],
   "source": [
    "a.ndim"
   ]
  },
  {
   "cell_type": "code",
   "execution_count": 31,
   "id": "5cb42507-e351-451e-abee-fea7c11cc1a5",
   "metadata": {},
   "outputs": [
    {
     "data": {
      "text/plain": [
       "()"
      ]
     },
     "execution_count": 31,
     "metadata": {},
     "output_type": "execute_result"
    }
   ],
   "source": [
    "a.shape"
   ]
  },
  {
   "cell_type": "code",
   "execution_count": 32,
   "id": "dad2f073-60ce-409d-a57a-78aa3ed2c4f5",
   "metadata": {},
   "outputs": [
    {
     "data": {
      "text/plain": [
       "1"
      ]
     },
     "execution_count": 32,
     "metadata": {},
     "output_type": "execute_result"
    }
   ],
   "source": [
    "a.size"
   ]
  },
  {
   "cell_type": "code",
   "execution_count": 33,
   "id": "f4352890-79ae-42eb-a908-f8561fe9a6f5",
   "metadata": {},
   "outputs": [
    {
     "data": {
      "text/plain": [
       "1"
      ]
     },
     "execution_count": 33,
     "metadata": {},
     "output_type": "execute_result"
    }
   ],
   "source": [
    "arr1=np.array([ [ [1,2,3] , [4,5,6] ] , [ [7,8,9] , [10,11,12] ] ])\n",
    "arr1[0][0][0]"
   ]
  },
  {
   "cell_type": "code",
   "execution_count": 34,
   "id": "f71f6c33-39ce-4f92-88b5-ece3f933d588",
   "metadata": {},
   "outputs": [
    {
     "data": {
      "text/plain": [
       "3"
      ]
     },
     "execution_count": 34,
     "metadata": {},
     "output_type": "execute_result"
    }
   ],
   "source": [
    "arr1.ndim"
   ]
  },
  {
   "cell_type": "code",
   "execution_count": 35,
   "id": "51ada140-beca-4a9c-a286-296cd20f192b",
   "metadata": {},
   "outputs": [
    {
     "data": {
      "text/plain": [
       "()"
      ]
     },
     "execution_count": 35,
     "metadata": {},
     "output_type": "execute_result"
    }
   ],
   "source": [
    "a.shape"
   ]
  },
  {
   "cell_type": "code",
   "execution_count": 36,
   "id": "a244b804-65c5-4416-ba53-90d3fe4d5f30",
   "metadata": {},
   "outputs": [
    {
     "data": {
      "text/plain": [
       "1"
      ]
     },
     "execution_count": 36,
     "metadata": {},
     "output_type": "execute_result"
    }
   ],
   "source": [
    "a.size"
   ]
  },
  {
   "cell_type": "code",
   "execution_count": 37,
   "id": "e8bcd123-a6b9-476c-b4cc-da0b9ffc886a",
   "metadata": {},
   "outputs": [
    {
     "data": {
      "text/plain": [
       "array([[[ 1,  2],\n",
       "        [ 3,  4]],\n",
       "\n",
       "       [[ 5,  6],\n",
       "        [ 7,  8]],\n",
       "\n",
       "       [[ 9, 10],\n",
       "        [11, 12]]])"
      ]
     },
     "execution_count": 37,
     "metadata": {},
     "output_type": "execute_result"
    }
   ],
   "source": [
    "arr2=arr1.reshape((3,2,2))\n",
    "arr2"
   ]
  },
  {
   "cell_type": "code",
   "execution_count": 38,
   "id": "5560b32c-06c2-4ca4-a12a-c72fe8adadea",
   "metadata": {},
   "outputs": [
    {
     "data": {
      "text/plain": [
       "(3, 2, 2)"
      ]
     },
     "execution_count": 38,
     "metadata": {},
     "output_type": "execute_result"
    }
   ],
   "source": [
    "arr2.shape"
   ]
  },
  {
   "cell_type": "markdown",
   "id": "de770b81-c7d7-47cc-8f42-1b8ff8137f58",
   "metadata": {},
   "source": [
    "\n",
    "# arange"
   ]
  },
  {
   "cell_type": "code",
   "execution_count": 39,
   "id": "90f3a44e-2453-44ec-93e2-23075c489abe",
   "metadata": {},
   "outputs": [
    {
     "data": {
      "text/plain": [
       "array([ 0,  1,  2,  3,  4,  5,  6,  7,  8,  9, 10, 11, 12, 13, 14])"
      ]
     },
     "execution_count": 39,
     "metadata": {},
     "output_type": "execute_result"
    }
   ],
   "source": [
    "import numpy as np\n",
    "np.arange(15)\n"
   ]
  },
  {
   "cell_type": "code",
   "execution_count": 40,
   "id": "ae1e26d0-115d-4c21-aefe-e0e087c2ff6c",
   "metadata": {},
   "outputs": [
    {
     "data": {
      "text/plain": [
       "array([100,  96,  92,  88,  84,  80,  76,  72,  68,  64,  60,  56,  52,\n",
       "        48,  44,  40,  36,  32,  28,  24,  20,  16,  12,   8,   4])"
      ]
     },
     "execution_count": 40,
     "metadata": {},
     "output_type": "execute_result"
    }
   ],
   "source": [
    "np.arange(100,2,-4)"
   ]
  },
  {
   "cell_type": "code",
   "execution_count": 41,
   "id": "0b032b62-264d-4591-b264-d7373072953c",
   "metadata": {},
   "outputs": [
    {
     "data": {
      "text/plain": [
       "array([ 0. ,  1.2,  2.4,  3.6,  4.8,  6. ,  7.2,  8.4,  9.6, 10.8])"
      ]
     },
     "execution_count": 41,
     "metadata": {},
     "output_type": "execute_result"
    }
   ],
   "source": [
    "np.arange(0,11,1.2)"
   ]
  },
  {
   "cell_type": "markdown",
   "id": "3542b4d8-111d-475d-8e4a-d200e238fbaa",
   "metadata": {},
   "source": [
    "# zeros and ones"
   ]
  },
  {
   "cell_type": "code",
   "execution_count": 4,
   "id": "71225020-5993-4188-a82f-73e52d9c9036",
   "metadata": {},
   "outputs": [
    {
     "name": "stdout",
     "output_type": "stream",
     "text": [
      "float64\n"
     ]
    },
    {
     "data": {
      "text/plain": [
       "array([0., 0., 0.])"
      ]
     },
     "execution_count": 4,
     "metadata": {},
     "output_type": "execute_result"
    }
   ],
   "source": [
    "import numpy as np\n",
    "a=np.zeros(3)\n",
    "print(a.dtype)\n",
    "a"
   ]
  },
  {
   "cell_type": "code",
   "execution_count": 5,
   "id": "0401b1ad-8c40-464d-a7f0-68868dc77abc",
   "metadata": {},
   "outputs": [
    {
     "name": "stdout",
     "output_type": "stream",
     "text": [
      "int32\n"
     ]
    },
    {
     "data": {
      "text/plain": [
       "array([[0, 0, 0, 0, 0],\n",
       "       [0, 0, 0, 0, 0],\n",
       "       [0, 0, 0, 0, 0],\n",
       "       [0, 0, 0, 0, 0],\n",
       "       [0, 0, 0, 0, 0]])"
      ]
     },
     "execution_count": 5,
     "metadata": {},
     "output_type": "execute_result"
    }
   ],
   "source": [
    "a=np.zeros((5,5), dtype=int)\n",
    "print(a.dtype)\n",
    "a"
   ]
  },
  {
   "cell_type": "code",
   "execution_count": 6,
   "id": "edaf8a5b-7283-486b-a60d-12a73fbec4b4",
   "metadata": {},
   "outputs": [
    {
     "data": {
      "text/plain": [
       "array([1, 1, 1])"
      ]
     },
     "execution_count": 6,
     "metadata": {},
     "output_type": "execute_result"
    }
   ],
   "source": [
    "np.ones(3,dtype=int)"
   ]
  },
  {
   "cell_type": "code",
   "execution_count": 7,
   "id": "8a4c7446-abbb-475c-99a9-e5278ec6a266",
   "metadata": {},
   "outputs": [
    {
     "data": {
      "text/plain": [
       "array([[[1, 1, 1, 1, 1, 1],\n",
       "        [1, 1, 1, 1, 1, 1],\n",
       "        [1, 1, 1, 1, 1, 1],\n",
       "        [1, 1, 1, 1, 1, 1],\n",
       "        [1, 1, 1, 1, 1, 1]],\n",
       "\n",
       "       [[1, 1, 1, 1, 1, 1],\n",
       "        [1, 1, 1, 1, 1, 1],\n",
       "        [1, 1, 1, 1, 1, 1],\n",
       "        [1, 1, 1, 1, 1, 1],\n",
       "        [1, 1, 1, 1, 1, 1]],\n",
       "\n",
       "       [[1, 1, 1, 1, 1, 1],\n",
       "        [1, 1, 1, 1, 1, 1],\n",
       "        [1, 1, 1, 1, 1, 1],\n",
       "        [1, 1, 1, 1, 1, 1],\n",
       "        [1, 1, 1, 1, 1, 1]],\n",
       "\n",
       "       [[1, 1, 1, 1, 1, 1],\n",
       "        [1, 1, 1, 1, 1, 1],\n",
       "        [1, 1, 1, 1, 1, 1],\n",
       "        [1, 1, 1, 1, 1, 1],\n",
       "        [1, 1, 1, 1, 1, 1]]])"
      ]
     },
     "execution_count": 7,
     "metadata": {},
     "output_type": "execute_result"
    }
   ],
   "source": [
    "np.ones((4,5,6),dtype=int)"
   ]
  },
  {
   "cell_type": "code",
   "execution_count": 8,
   "id": "bd9b7df7-4aba-42ac-91d7-b5de70568dc0",
   "metadata": {},
   "outputs": [
    {
     "data": {
      "text/plain": [
       "array([ 1.        ,  1.28571429,  1.57142857,  1.85714286,  2.14285714,\n",
       "        2.42857143,  2.71428571,  3.        ,  3.28571429,  3.57142857,\n",
       "        3.85714286,  4.14285714,  4.42857143,  4.71428571,  5.        ,\n",
       "        5.28571429,  5.57142857,  5.85714286,  6.14285714,  6.42857143,\n",
       "        6.71428571,  7.        ,  7.28571429,  7.57142857,  7.85714286,\n",
       "        8.14285714,  8.42857143,  8.71428571,  9.        ,  9.28571429,\n",
       "        9.57142857,  9.85714286, 10.14285714, 10.42857143, 10.71428571,\n",
       "       11.        , 11.28571429, 11.57142857, 11.85714286, 12.14285714,\n",
       "       12.42857143, 12.71428571, 13.        , 13.28571429, 13.57142857,\n",
       "       13.85714286, 14.14285714, 14.42857143, 14.71428571, 15.        ])"
      ]
     },
     "execution_count": 8,
     "metadata": {},
     "output_type": "execute_result"
    }
   ],
   "source": [
    "np.linspace(1,15)"
   ]
  },
  {
   "cell_type": "code",
   "execution_count": 9,
   "id": "ec90c9f1-1f6e-4652-8935-d0aef33e27ec",
   "metadata": {},
   "outputs": [
    {
     "data": {
      "text/plain": [
       "(array([ 1,  1,  1,  2,  2,  3,  3,  4,  4,  5,  5,  6,  6,  7,  7,  8,  8,\n",
       "         9,  9, 10]),\n",
       " 0.47368421052631576)"
      ]
     },
     "execution_count": 9,
     "metadata": {},
     "output_type": "execute_result"
    }
   ],
   "source": [
    "np.linspace(1,10,20,retstep=True,dtype=int)"
   ]
  },
  {
   "cell_type": "code",
   "execution_count": 10,
   "id": "7091e825-c69e-419d-9a1e-cccff7ccb95d",
   "metadata": {},
   "outputs": [
    {
     "data": {
      "text/plain": [
       "(array([ 0.        ,  0.51020408,  1.02040816,  1.53061224,  2.04081633,\n",
       "         2.55102041,  3.06122449,  3.57142857,  4.08163265,  4.59183673,\n",
       "         5.10204082,  5.6122449 ,  6.12244898,  6.63265306,  7.14285714,\n",
       "         7.65306122,  8.16326531,  8.67346939,  9.18367347,  9.69387755,\n",
       "        10.20408163, 10.71428571, 11.2244898 , 11.73469388, 12.24489796,\n",
       "        12.75510204, 13.26530612, 13.7755102 , 14.28571429, 14.79591837,\n",
       "        15.30612245, 15.81632653, 16.32653061, 16.83673469, 17.34693878,\n",
       "        17.85714286, 18.36734694, 18.87755102, 19.3877551 , 19.89795918,\n",
       "        20.40816327, 20.91836735, 21.42857143, 21.93877551, 22.44897959,\n",
       "        22.95918367, 23.46938776, 23.97959184, 24.48979592, 25.        ]),\n",
       " 0.5102040816326531)"
      ]
     },
     "execution_count": 10,
     "metadata": {},
     "output_type": "execute_result"
    }
   ],
   "source": [
    "np.linspace(0,25, retstep=True)"
   ]
  },
  {
   "cell_type": "code",
   "execution_count": 11,
   "id": "ebe68573-beb8-466f-8eb0-fbbbc66fbf35",
   "metadata": {},
   "outputs": [
    {
     "data": {
      "text/plain": [
       "(array([  1.        ,  11.47368421,  21.94736842,  32.42105263,\n",
       "         42.89473684,  53.36842105,  63.84210526,  74.31578947,\n",
       "         84.78947368,  95.26315789, 105.73684211, 116.21052632,\n",
       "        126.68421053, 137.15789474, 147.63157895, 158.10526316,\n",
       "        168.57894737, 179.05263158, 189.52631579, 200.        ]),\n",
       " 10.473684210526315)"
      ]
     },
     "execution_count": 11,
     "metadata": {},
     "output_type": "execute_result"
    }
   ],
   "source": [
    "np.linspace(1,200,20,retstep=True)"
   ]
  },
  {
   "cell_type": "code",
   "execution_count": 12,
   "id": "00e4db18-7b8c-46f4-8d9f-58950e55c577",
   "metadata": {},
   "outputs": [
    {
     "name": "stdout",
     "output_type": "stream",
     "text": [
      "20\n"
     ]
    }
   ],
   "source": [
    "a=np.linspace(0,200,20,retstep=False)\n",
    "print(a.size)"
   ]
  },
  {
   "cell_type": "code",
   "execution_count": 13,
   "id": "fd0938bf-50ba-4823-99d9-6186262a80b7",
   "metadata": {},
   "outputs": [
    {
     "data": {
      "text/plain": [
       "(array([ 0.        ,  0.51020408,  1.02040816,  1.53061224,  2.04081633,\n",
       "         2.55102041,  3.06122449,  3.57142857,  4.08163265,  4.59183673,\n",
       "         5.10204082,  5.6122449 ,  6.12244898,  6.63265306,  7.14285714,\n",
       "         7.65306122,  8.16326531,  8.67346939,  9.18367347,  9.69387755,\n",
       "        10.20408163, 10.71428571, 11.2244898 , 11.73469388, 12.24489796,\n",
       "        12.75510204, 13.26530612, 13.7755102 , 14.28571429, 14.79591837,\n",
       "        15.30612245, 15.81632653, 16.32653061, 16.83673469, 17.34693878,\n",
       "        17.85714286, 18.36734694, 18.87755102, 19.3877551 , 19.89795918,\n",
       "        20.40816327, 20.91836735, 21.42857143, 21.93877551, 22.44897959,\n",
       "        22.95918367, 23.46938776, 23.97959184, 24.48979592, 25.        ]),\n",
       " 0.5102040816326531)"
      ]
     },
     "execution_count": 13,
     "metadata": {},
     "output_type": "execute_result"
    }
   ],
   "source": [
    "np.linspace(0,25, retstep=True)"
   ]
  },
  {
   "cell_type": "code",
   "execution_count": 14,
   "id": "2bb4f795-c55d-4782-9f93-0f7f275f8cf5",
   "metadata": {},
   "outputs": [
    {
     "data": {
      "text/plain": [
       "(array([  1.        ,  11.47368421,  21.94736842,  32.42105263,\n",
       "         42.89473684,  53.36842105,  63.84210526,  74.31578947,\n",
       "         84.78947368,  95.26315789, 105.73684211, 116.21052632,\n",
       "        126.68421053, 137.15789474, 147.63157895, 158.10526316,\n",
       "        168.57894737, 179.05263158, 189.52631579, 200.        ]),\n",
       " 10.473684210526315)"
      ]
     },
     "execution_count": 14,
     "metadata": {},
     "output_type": "execute_result"
    }
   ],
   "source": [
    "np.linspace(1,200,20, retstep=True)"
   ]
  },
  {
   "cell_type": "code",
   "execution_count": 15,
   "id": "7e3217fc-8175-4bc1-8640-74516f10db7f",
   "metadata": {},
   "outputs": [
    {
     "data": {
      "text/plain": [
       "array([[1., 0., 0., 0., 0.],\n",
       "       [0., 1., 0., 0., 0.],\n",
       "       [0., 0., 1., 0., 0.],\n",
       "       [0., 0., 0., 1., 0.],\n",
       "       [0., 0., 0., 0., 1.]])"
      ]
     },
     "execution_count": 15,
     "metadata": {},
     "output_type": "execute_result"
    }
   ],
   "source": [
    "np.eye(5)"
   ]
  },
  {
   "cell_type": "code",
   "execution_count": 16,
   "id": "f9243a7e-86cc-4b6a-bc90-9d76e033d392",
   "metadata": {},
   "outputs": [
    {
     "data": {
      "text/plain": [
       "array([[1, 0, 0],\n",
       "       [0, 1, 0],\n",
       "       [0, 0, 1]])"
      ]
     },
     "execution_count": 16,
     "metadata": {},
     "output_type": "execute_result"
    }
   ],
   "source": [
    "#Task: Create an identify matrix from a zeros array\n",
    "a=np.eye(3,3,  dtype=int)\n",
    "a"
   ]
  },
  {
   "cell_type": "code",
   "execution_count": 17,
   "id": "75abe03e-4c2a-424a-94b0-63b129401b5e",
   "metadata": {},
   "outputs": [
    {
     "data": {
      "text/plain": [
       "array([[0., 0.],\n",
       "       [0., 0.]])"
      ]
     },
     "execution_count": 17,
     "metadata": {},
     "output_type": "execute_result"
    }
   ],
   "source": [
    "matrix=np.zeros((2,2))\n",
    "matrix"
   ]
  },
  {
   "cell_type": "code",
   "execution_count": 18,
   "id": "14bff3ce-4233-4035-aa2c-46249e0b2b93",
   "metadata": {},
   "outputs": [
    {
     "data": {
      "text/plain": [
       "array([[1., 0., 0., 0., 0.],\n",
       "       [0., 1., 0., 0., 0.],\n",
       "       [0., 0., 1., 0., 0.],\n",
       "       [0., 0., 0., 1., 0.],\n",
       "       [0., 0., 0., 0., 1.]])"
      ]
     },
     "execution_count": 18,
     "metadata": {},
     "output_type": "execute_result"
    }
   ],
   "source": [
    "np.eye(5)"
   ]
  },
  {
   "cell_type": "code",
   "execution_count": 19,
   "id": "66688c50-9a86-4975-914c-89644198b50f",
   "metadata": {},
   "outputs": [
    {
     "data": {
      "text/plain": [
       "array([[0., 0., 0.],\n",
       "       [0., 0., 0.],\n",
       "       [0., 0., 0.]])"
      ]
     },
     "execution_count": 19,
     "metadata": {},
     "output_type": "execute_result"
    }
   ],
   "source": [
    "matrix=np.zeros((3,3))\n",
    "matrix"
   ]
  },
  {
   "cell_type": "code",
   "execution_count": 20,
   "id": "6d9b1bbc-6040-4c07-83ca-212f58908aa6",
   "metadata": {},
   "outputs": [
    {
     "name": "stdout",
     "output_type": "stream",
     "text": [
      "[[1 0 0 0]\n",
      " [0 1 0 0]\n",
      " [0 0 0 0]\n",
      " [0 0 0 0]]\n"
     ]
    }
   ],
   "source": [
    "import numpy as np\n",
    "b=np.zeros((4,4), dtype=int)\n",
    "# print(b)\n",
    "for i in range(b.ndim):\n",
    "    b[i][i]=1\n",
    "print(b)"
   ]
  },
  {
   "cell_type": "code",
   "execution_count": 21,
   "id": "a8a7fbfe-e306-4e24-bbdf-84404d1e9a65",
   "metadata": {},
   "outputs": [
    {
     "name": "stdout",
     "output_type": "stream",
     "text": [
      "[[1 1 1 1]\n",
      " [1 1 1 1]\n",
      " [1 1 1 1]]\n"
     ]
    }
   ],
   "source": [
    "big_one=np.ones((3,4),dtype=int)\n",
    "print(big_one)"
   ]
  },
  {
   "cell_type": "code",
   "execution_count": 22,
   "id": "e7aa7e2a-e62d-41a8-8562-f35c2ef72cc5",
   "metadata": {},
   "outputs": [
    {
     "data": {
      "text/plain": [
       "array([[3, 3, 3, 3],\n",
       "       [3, 3, 3, 3],\n",
       "       [3, 3, 3, 3]])"
      ]
     },
     "execution_count": 22,
     "metadata": {},
     "output_type": "execute_result"
    }
   ],
   "source": [
    "big_one * 3"
   ]
  },
  {
   "cell_type": "code",
   "execution_count": 23,
   "id": "ae7e4b38-2ae9-48a9-baaa-f7cd5140a65c",
   "metadata": {},
   "outputs": [
    {
     "data": {
      "text/plain": [
       "array([[4, 4, 4, 4],\n",
       "       [4, 4, 4, 4],\n",
       "       [4, 4, 4, 4]])"
      ]
     },
     "execution_count": 23,
     "metadata": {},
     "output_type": "execute_result"
    }
   ],
   "source": [
    "bigger_one=big_one*6-2\n",
    "bigger_one"
   ]
  },
  {
   "cell_type": "code",
   "execution_count": 24,
   "id": "f0ed0f0d-eca1-4d90-be3d-55c59b5ee8d9",
   "metadata": {},
   "outputs": [
    {
     "data": {
      "text/plain": [
       "array([[4, 4, 4, 4],\n",
       "       [4, 4, 4, 4],\n",
       "       [4, 4, 4, 4]])"
      ]
     },
     "execution_count": 24,
     "metadata": {},
     "output_type": "execute_result"
    }
   ],
   "source": [
    "bigger=np.array(big_one*6-1.5,dtype='int')\n",
    "bigger"
   ]
  },
  {
   "cell_type": "code",
   "execution_count": 25,
   "id": "43160c59-b49a-4579-9812-d69ef1949de2",
   "metadata": {},
   "outputs": [
    {
     "data": {
      "text/plain": [
       "dtype('int32')"
      ]
     },
     "execution_count": 25,
     "metadata": {},
     "output_type": "execute_result"
    }
   ],
   "source": [
    "bigger.dtype"
   ]
  },
  {
   "cell_type": "code",
   "execution_count": 26,
   "id": "89aa9216-8445-4d91-95c7-7dd5aab98c48",
   "metadata": {},
   "outputs": [
    {
     "data": {
      "text/plain": [
       "numpy.ndarray"
      ]
     },
     "execution_count": 26,
     "metadata": {},
     "output_type": "execute_result"
    }
   ],
   "source": [
    "type(bigger)"
   ]
  },
  {
   "cell_type": "code",
   "execution_count": 27,
   "id": "4699d9ec-840a-42af-be15-0b2d99090c3d",
   "metadata": {},
   "outputs": [
    {
     "data": {
      "text/plain": [
       "array([[4, 4, 4, 4],\n",
       "       [4, 4, 4, 4],\n",
       "       [4, 4, 4, 4]])"
      ]
     },
     "execution_count": 27,
     "metadata": {},
     "output_type": "execute_result"
    }
   ],
   "source": [
    "bigger"
   ]
  },
  {
   "cell_type": "code",
   "execution_count": 28,
   "id": "01458f10-ae74-4fdc-b870-46fa1904b6a0",
   "metadata": {},
   "outputs": [
    {
     "name": "stdout",
     "output_type": "stream",
     "text": [
      "[[1 1 1 1]\n",
      " [1 1 1 1]\n",
      " [1 1 1 1]]\n"
     ]
    }
   ],
   "source": [
    "a=np.array(bigger/bigger,dtype=int)\n",
    "print(a)"
   ]
  },
  {
   "cell_type": "code",
   "execution_count": 30,
   "id": "c7abcf72-4b06-45bd-a85a-fb9666af50d9",
   "metadata": {},
   "outputs": [
    {
     "data": {
      "text/plain": [
       "array([ 1,  2,  3,  4,  5,  6,  7,  8,  9, 10, 11, 12, 13, 14, 15, 16, 17,\n",
       "       18, 19])"
      ]
     },
     "execution_count": 30,
     "metadata": {},
     "output_type": "execute_result"
    }
   ],
   "source": [
    "arr1=np.arange(1,20)\n",
    "arr1"
   ]
  },
  {
   "cell_type": "code",
   "execution_count": 31,
   "id": "1e59e07e-3922-4a28-86f1-0b2cc9d89a1f",
   "metadata": {},
   "outputs": [
    {
     "data": {
      "text/plain": [
       "array([0.5, 1. , 1.5, 2. , 2.5, 3. , 3.5, 4. , 4.5, 5. , 5.5, 6. , 6.5,\n",
       "       7. , 7.5, 8. , 8.5, 9. , 9.5])"
      ]
     },
     "execution_count": 31,
     "metadata": {},
     "output_type": "execute_result"
    }
   ],
   "source": [
    "arr1/2"
   ]
  },
  {
   "cell_type": "code",
   "execution_count": 32,
   "id": "0c2fdb9a-7217-4296-b8cb-242c721b7648",
   "metadata": {},
   "outputs": [
    {
     "data": {
      "text/plain": [
       "array([ 2,  4,  6,  8, 10, 12, 14, 16, 18, 20, 22, 24, 26, 28, 30, 32, 34,\n",
       "       36, 38])"
      ]
     },
     "execution_count": 32,
     "metadata": {},
     "output_type": "execute_result"
    }
   ],
   "source": [
    "arr1+arr1"
   ]
  },
  {
   "cell_type": "code",
   "execution_count": 33,
   "id": "acb38697-bfbb-4c2d-ad32-1e4d4e03b20a",
   "metadata": {},
   "outputs": [
    {
     "data": {
      "text/plain": [
       "array([0, 1, 1, 2, 2, 3, 3, 4, 4, 5, 5, 6, 6, 7, 7, 8, 8, 9, 9])"
      ]
     },
     "execution_count": 33,
     "metadata": {},
     "output_type": "execute_result"
    }
   ],
   "source": [
    "a=np.array(arr1/2,dtype=int)\n",
    "a"
   ]
  },
  {
   "cell_type": "code",
   "execution_count": 35,
   "id": "173a9e5b-dc9a-484a-847d-13b12e0cfe10",
   "metadata": {},
   "outputs": [
    {
     "data": {
      "text/plain": [
       "array([ 2,  4,  6,  8, 10, 12, 14, 16, 18, 20, 22, 24, 26, 28, 30, 32, 34,\n",
       "       36, 38])"
      ]
     },
     "execution_count": 35,
     "metadata": {},
     "output_type": "execute_result"
    }
   ],
   "source": [
    "arr1+arr1"
   ]
  },
  {
   "cell_type": "code",
   "execution_count": 36,
   "id": "badaa4a4-ea30-4b0b-87f6-80a7ab2c3bae",
   "metadata": {},
   "outputs": [
    {
     "data": {
      "text/plain": [
       "array([          1,           4,          27,         256,        3125,\n",
       "             46656,      823543,    16777216,   387420489,  1410065408,\n",
       "        1843829075,  -251658240, -1692154371, -1282129920,  1500973039,\n",
       "                 0,  1681328401,   457441280,  -306639989])"
      ]
     },
     "execution_count": 36,
     "metadata": {},
     "output_type": "execute_result"
    }
   ],
   "source": [
    "arr1**arr1"
   ]
  },
  {
   "cell_type": "code",
   "execution_count": 37,
   "id": "73e4858b-57c9-40d5-9d26-b0a7344df41c",
   "metadata": {},
   "outputs": [
    {
     "data": {
      "text/plain": [
       "1978419655660313589123979"
      ]
     },
     "execution_count": 37,
     "metadata": {},
     "output_type": "execute_result"
    }
   ],
   "source": [
    "19**19"
   ]
  },
  {
   "cell_type": "code",
   "execution_count": 38,
   "id": "d8360cd7-a286-481f-9d3f-b310a96a154f",
   "metadata": {},
   "outputs": [
    {
     "name": "stdout",
     "output_type": "stream",
     "text": [
      "[ 1  2  3  4  5  6  7  8  9 10 11 12 13 14 15 16 17 18 19]\n",
      "1942637795472 1942637795472\n"
     ]
    }
   ],
   "source": [
    "arr2=arr1\n",
    "print(arr2)\n",
    "print(id(arr2), id(arr1))"
   ]
  },
  {
   "cell_type": "code",
   "execution_count": 39,
   "id": "cf782fcc-6c82-46ba-8ee7-544e18537905",
   "metadata": {},
   "outputs": [
    {
     "data": {
      "text/plain": [
       "array([1, 2, 3])"
      ]
     },
     "execution_count": 39,
     "metadata": {},
     "output_type": "execute_result"
    }
   ],
   "source": [
    "arr2[:3]"
   ]
  },
  {
   "cell_type": "code",
   "execution_count": 40,
   "id": "27447147-0bef-477b-9e22-7069e4e4234d",
   "metadata": {},
   "outputs": [
    {
     "data": {
      "text/plain": [
       "array([0.09136644, 0.10799948, 0.52746761, 0.44422793, 0.34308069,\n",
       "       0.30728454, 0.03433589, 0.57974624, 0.2330234 ])"
      ]
     },
     "execution_count": 40,
     "metadata": {},
     "output_type": "execute_result"
    }
   ],
   "source": [
    "np.random.rand(9)"
   ]
  },
  {
   "cell_type": "code",
   "execution_count": 44,
   "id": "fb7ecdb7-79ad-4e31-acd1-87661133b526",
   "metadata": {},
   "outputs": [
    {
     "data": {
      "text/plain": [
       "array([[0.01047383, 0.64087267, 0.0805414 ],\n",
       "       [0.97821734, 0.90702927, 0.09047073],\n",
       "       [0.88499724, 0.42943973, 0.05342662]])"
      ]
     },
     "execution_count": 44,
     "metadata": {},
     "output_type": "execute_result"
    }
   ],
   "source": [
    "new_arr=np.random.rand(3,3)\n",
    "new_arr"
   ]
  },
  {
   "cell_type": "code",
   "execution_count": 46,
   "id": "af66c477-f7b5-4184-be4d-e176f18702d4",
   "metadata": {},
   "outputs": [
    {
     "data": {
      "text/plain": [
       "array([7.46836306e-01, 8.40800258e-01, 5.85796949e-02, 4.45972271e-01,\n",
       "       2.22643152e-02, 5.49658877e-01, 8.85349730e-01, 4.67639800e-01,\n",
       "       8.24121444e-01, 4.34016345e-01, 1.38561303e-01, 4.54525491e-01,\n",
       "       4.69266765e-01, 7.22009198e-01, 5.46715952e-01, 1.96437228e-01,\n",
       "       6.53110870e-01, 5.70085551e-02, 4.28896418e-01, 3.31477058e-01,\n",
       "       3.21569177e-01, 2.78998519e-01, 2.11291932e-01, 3.41598679e-01,\n",
       "       3.39729707e-02, 3.87588662e-01, 1.59866440e-01, 5.04039493e-01,\n",
       "       6.64272945e-01, 7.72967715e-01, 8.11740831e-01, 7.82463453e-04,\n",
       "       7.57429818e-01, 4.19572470e-02, 2.51460347e-01, 2.95694248e-01,\n",
       "       6.40067410e-01, 1.86963273e-01, 1.86630652e-01, 2.98954909e-01,\n",
       "       3.54015130e-01, 9.24684433e-01, 9.76227156e-01, 9.81405614e-01,\n",
       "       6.95112704e-01, 4.58936995e-01, 1.33877955e-01, 5.80523409e-01,\n",
       "       1.08684509e-01, 9.66591260e-01])"
      ]
     },
     "execution_count": 46,
     "metadata": {},
     "output_type": "execute_result"
    }
   ],
   "source": [
    "arr1=np.random.rand(50)\n",
    "arr1"
   ]
  },
  {
   "cell_type": "code",
   "execution_count": 48,
   "id": "a25821d7-1a28-4805-9578-460ffa9451a5",
   "metadata": {},
   "outputs": [
    {
     "data": {
      "text/plain": [
       "array([ 0.40136707, -1.63122794, -0.38216815, -0.85863246, -0.26838377,\n",
       "       -0.06519903, -0.19986878, -0.85153728,  0.16891041, -0.01039586])"
      ]
     },
     "execution_count": 48,
     "metadata": {},
     "output_type": "execute_result"
    }
   ],
   "source": [
    "arr1=np.random.randn(10)\n",
    "arr1"
   ]
  },
  {
   "cell_type": "code",
   "execution_count": 49,
   "id": "0a559fb3-53e9-487c-869d-6891a5f57476",
   "metadata": {},
   "outputs": [
    {
     "data": {
      "text/plain": [
       "0.4013670713818092"
      ]
     },
     "execution_count": 49,
     "metadata": {},
     "output_type": "execute_result"
    }
   ],
   "source": [
    "max(arr1)"
   ]
  },
  {
   "cell_type": "code",
   "execution_count": 50,
   "id": "54d8cf79-b915-4fda-87a4-d41036bc92be",
   "metadata": {},
   "outputs": [
    {
     "data": {
      "text/plain": [
       "-1.6312279413470754"
      ]
     },
     "execution_count": 50,
     "metadata": {},
     "output_type": "execute_result"
    }
   ],
   "source": [
    "min(arr1)"
   ]
  },
  {
   "cell_type": "markdown",
   "id": "3e58e2d7-fcb2-40a6-a3c7-fadf6b5ba520",
   "metadata": {},
   "source": [
    "# randint"
   ]
  },
  {
   "cell_type": "code",
   "execution_count": 51,
   "id": "44a80183-4df5-464d-8913-9233d90508bc",
   "metadata": {},
   "outputs": [
    {
     "data": {
      "text/plain": [
       "array([27, 72, 85, 68, 98,  2, 83, 19, 99, 18, 38, 46, 17, 77, 30, 85, 50,\n",
       "       48, 90, 22, 96, 48,  3, 83, 87, 34, 22, 36,  8, 70, 52, 36, 54,  7,\n",
       "       10, 66, 25, 58, 15, 76])"
      ]
     },
     "execution_count": 51,
     "metadata": {},
     "output_type": "execute_result"
    }
   ],
   "source": [
    "np.random.randint(1,100,40)"
   ]
  },
  {
   "cell_type": "code",
   "execution_count": 53,
   "id": "999ab49c-be51-4782-8c51-9e92936c55ef",
   "metadata": {},
   "outputs": [
    {
     "data": {
      "text/plain": [
       "array([40, 50, 57, 44, 43, 57, 57, 45, 51, 57, 42, 43, 45, 58, 53, 42, 44,\n",
       "       48, 57, 49, 57, 48, 55, 45, 59, 52, 61, 55, 60, 42, 53, 42, 52, 49,\n",
       "       45, 49, 43, 57, 45, 57, 57, 57, 49, 43, 63, 59, 60, 54, 63, 46])"
      ]
     },
     "execution_count": 53,
     "metadata": {},
     "output_type": "execute_result"
    }
   ],
   "source": [
    "np.random.randint(40,65,50)"
   ]
  },
  {
   "cell_type": "markdown",
   "id": "261bfff3-27d8-4d03-a76f-b5f5d967e805",
   "metadata": {},
   "source": [
    "# Array Attributes and methods\n"
   ]
  },
  {
   "cell_type": "code",
   "execution_count": 57,
   "id": "fc68afa8-8ead-4733-8772-dc001825d507",
   "metadata": {},
   "outputs": [
    {
     "data": {
      "text/plain": [
       "array([51, 92, 14, 71, 60, 20, 82, 86, 74, 74])"
      ]
     },
     "execution_count": 57,
     "metadata": {},
     "output_type": "execute_result"
    }
   ],
   "source": [
    "np.random.seed(42)\n",
    "ranarr = np.random.randint(0,100,10)\n",
    "ranarr"
   ]
  },
  {
   "cell_type": "code",
   "execution_count": 94,
   "id": "6d2bc130-1025-47f2-8a0b-002cfa4d880a",
   "metadata": {},
   "outputs": [
    {
     "data": {
      "text/plain": [
       "array([97, 20, 29, 96, 27, 63, 96, 68, 60, 47])"
      ]
     },
     "execution_count": 94,
     "metadata": {},
     "output_type": "execute_result"
    }
   ],
   "source": [
    "ranarr=np.random.randint(0,100,10)\n",
    "ranarr\n"
   ]
  },
  {
   "cell_type": "markdown",
   "id": "9a10bc98-6fbf-4f68-88cd-55dc3da6546e",
   "metadata": {},
   "source": [
    "# max,min,argmax,argmin"
   ]
  },
  {
   "cell_type": "code",
   "execution_count": 95,
   "id": "2b8ad332-6508-431a-990d-f9080cd7f3f4",
   "metadata": {},
   "outputs": [
    {
     "data": {
      "text/plain": [
       "97"
      ]
     },
     "execution_count": 95,
     "metadata": {},
     "output_type": "execute_result"
    }
   ],
   "source": [
    "ranarr.max()"
   ]
  },
  {
   "cell_type": "code",
   "execution_count": 96,
   "id": "beadebca-00a1-489a-b838-78d0c61ab86b",
   "metadata": {},
   "outputs": [
    {
     "data": {
      "text/plain": [
       "0"
      ]
     },
     "execution_count": 96,
     "metadata": {},
     "output_type": "execute_result"
    }
   ],
   "source": [
    "ranarr.argmax()"
   ]
  },
  {
   "cell_type": "code",
   "execution_count": 97,
   "id": "b2d803aa-8fc2-4785-8602-a4f3b0a0e8bb",
   "metadata": {},
   "outputs": [
    {
     "name": "stdout",
     "output_type": "stream",
     "text": [
      "(array([3, 5, 6], dtype=int64),)\n"
     ]
    }
   ],
   "source": [
    "import numpy as np\n",
    "arr=np.array([1,2,3,40,5,40,40])\n",
    "x=np.where(arr==40)\n",
    "print(x)"
   ]
  },
  {
   "cell_type": "code",
   "execution_count": 98,
   "id": "64e50229-583f-4738-9066-5c79d8e291d2",
   "metadata": {},
   "outputs": [
    {
     "name": "stdout",
     "output_type": "stream",
     "text": [
      "(array([0, 1, 2, 4, 5, 6], dtype=int64),)\n"
     ]
    }
   ],
   "source": [
    "import numpy as np\n",
    "arr=np.array([1,2,3,4,5,6,7,8])\n",
    "x=np.where(arr%4)\n",
    "print(x)  "
   ]
  },
  {
   "cell_type": "code",
   "execution_count": 19,
   "id": "25727e9f-35fe-445b-8f24-87522ae3e749",
   "metadata": {},
   "outputs": [
    {
     "name": "stdout",
     "output_type": "stream",
     "text": [
      "Requirement already satisfied: pandas in c:\\users\\dhanu\\anaconda3\\lib\\site-packages (2.1.1)\n",
      "Requirement already satisfied: numpy>=1.23.2 in c:\\users\\dhanu\\anaconda3\\lib\\site-packages (from pandas) (1.26.2)\n",
      "Requirement already satisfied: python-dateutil>=2.8.2 in c:\\users\\dhanu\\anaconda3\\lib\\site-packages (from pandas) (2.8.2)\n",
      "Requirement already satisfied: pytz>=2020.1 in c:\\users\\dhanu\\anaconda3\\lib\\site-packages (from pandas) (2023.3.post1)\n",
      "Requirement already satisfied: tzdata>=2022.1 in c:\\users\\dhanu\\anaconda3\\lib\\site-packages (from pandas) (2023.3)\n",
      "Requirement already satisfied: six>=1.5 in c:\\users\\dhanu\\anaconda3\\lib\\site-packages (from python-dateutil>=2.8.2->pandas) (1.16.0)\n"
     ]
    }
   ],
   "source": [
    "!pip install pandas"
   ]
  }
 ],
 "metadata": {
  "kernelspec": {
   "display_name": "Python 3 (ipykernel)",
   "language": "python",
   "name": "python3"
  },
  "language_info": {
   "codemirror_mode": {
    "name": "ipython",
    "version": 3
   },
   "file_extension": ".py",
   "mimetype": "text/x-python",
   "name": "python",
   "nbconvert_exporter": "python",
   "pygments_lexer": "ipython3",
   "version": "3.11.5"
  }
 },
 "nbformat": 4,
 "nbformat_minor": 5
}
