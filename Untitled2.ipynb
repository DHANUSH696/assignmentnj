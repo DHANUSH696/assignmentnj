{
 "cells": [
  {
   "cell_type": "markdown",
   "id": "c48f6890-6cf5-4aba-ba4d-c2b65362a6ce",
   "metadata": {},
   "source": [
    "## create a 5 diff class of real world object with 4 properties in each class and call a function from each class to print the atrributes of that specific class"
   ]
  },
  {
   "cell_type": "code",
   "execution_count": 14,
   "id": "2b29445b-6ec9-4240-8488-2a06d7a68423",
   "metadata": {},
   "outputs": [
    {
     "name": "stdout",
     "output_type": "stream",
     "text": [
      "Car Info: 2022 Toyota Camry in Silver\n"
     ]
    }
   ],
   "source": [
    "class Car:\n",
    "    def __init__(self, brand, model, year, color):\n",
    "        self.brand = brand\n",
    "        self.model = model\n",
    "        self.year = year\n",
    "        self.color = color\n",
    "    \n",
    "    def print_info(self):\n",
    "        print(f'Car Info: {self.year} {self.brand} {self.model} in {self.color}')\n",
    "\n",
    "\n",
    "   \n",
    "# Creating instances and calling print_info method for each class\n",
    "car = Car('Toyota', 'Camry', 2022, 'Silver')\n",
    "car.print_info()"
   ]
  },
  {
   "cell_type": "code",
   "execution_count": 10,
   "id": "18b84a0d-711c-4a7e-a987-5c134eacd67d",
   "metadata": {},
   "outputs": [
    {
     "name": "stdout",
     "output_type": "stream",
     "text": [
      "Smartphone Info: Samsung Galaxy S21 - 128GB, 6.2\" screen\n"
     ]
    }
   ],
   "source": [
    "class Smartphone:\n",
    "    def __init__(self, brand, model, storage, screen_size):\n",
    "        self.brand = brand\n",
    "        self.model = model\n",
    "        self.storage = storage\n",
    "        self.screen_size = screen_size\n",
    "    \n",
    "    def print_info(self):\n",
    "        print(f'Smartphone Info: {self.brand} {self.model} - {self.storage}GB, {self.screen_size}\" screen')\n",
    "\n",
    "phone = Smartphone('Samsung', 'Galaxy S21', 128, 6.2)\n",
    "phone.print_info()"
   ]
  },
  {
   "cell_type": "code",
   "execution_count": 11,
   "id": "32abcab0-103b-4fc0-bc33-3b0eee21459f",
   "metadata": {},
   "outputs": [
    {
     "name": "stdout",
     "output_type": "stream",
     "text": [
      "Book Info: \"The Great Gatsby\" by F. Scott Fitzgerald, 180 pages, Classic\n"
     ]
    }
   ],
   "source": [
    "class Book:\n",
    "    def __init__(self, title, author, genre, pages):\n",
    "        self.title = title\n",
    "        self.author = author\n",
    "        self.genre = genre\n",
    "        self.pages = pages\n",
    "    \n",
    "    def print_info(self):\n",
    "        print(f'Book Info: \"{self.title}\" by {self.author}, {self.pages} pages, {self.genre}')\n",
    "\n",
    "book = Book('The Great Gatsby', 'F. Scott Fitzgerald', 'Classic', 180)\n",
    "book.print_info()"
   ]
  },
  {
   "cell_type": "code",
   "execution_count": 12,
   "id": "1ac9cbc5-e835-4912-91d5-83f4f30cd902",
   "metadata": {},
   "outputs": [
    {
     "name": "stdout",
     "output_type": "stream",
     "text": [
      "Coffee Shop Info: Starbucks in Downtown - Rating: 4.5, with WiFi\n"
     ]
    }
   ],
   "source": [
    "class CoffeeShop:\n",
    "    def __init__(self, name, location, rating, wifi_available):\n",
    "        self.name = name\n",
    "        self.location = location\n",
    "        self.rating = rating\n",
    "        self.wifi_available = wifi_available\n",
    "    \n",
    "    def print_info(self):\n",
    "        wifi_status = 'with WiFi' if self.wifi_available else 'without WiFi'\n",
    "        print(f'Coffee Shop Info: {self.name} in {self.location} - Rating: {self.rating}, {wifi_status}')\n",
    "\n",
    "\n",
    "coffee_shop = CoffeeShop('Starbucks', 'Downtown', 4.5, True)\n",
    "coffee_shop.print_info()"
   ]
  },
  {
   "cell_type": "code",
   "execution_count": 13,
   "id": "e26f839e-a21d-4127-91d7-0f0fc6613148",
   "metadata": {},
   "outputs": [
    {
     "name": "stdout",
     "output_type": "stream",
     "text": [
      "Dog Info: Buddy - 3 years old Golden Golden Retriever dog\n"
     ]
    }
   ],
   "source": [
    "class Dog:\n",
    "    def __init__(self, name, breed, age, color):\n",
    "        self.name = name\n",
    "        self.breed = breed\n",
    "        self.age = age\n",
    "        self.color = color\n",
    "    \n",
    "    def print_info(self):\n",
    "        print(f'Dog Info: {self.name} - {self.age} years old {self.color} {self.breed} dog')\n",
    "\n",
    "dog = Dog('Buddy', 'Golden Retriever', 3, 'Golden')\n",
    "dog.print_info()"
   ]
  },
  {
   "cell_type": "code",
   "execution_count": null,
   "id": "fc664569-5776-414d-aaa8-eedf72522eb3",
   "metadata": {},
   "outputs": [],
   "source": []
  }
 ],
 "metadata": {
  "kernelspec": {
   "display_name": "Python 3 (ipykernel)",
   "language": "python",
   "name": "python3"
  },
  "language_info": {
   "codemirror_mode": {
    "name": "ipython",
    "version": 3
   },
   "file_extension": ".py",
   "mimetype": "text/x-python",
   "name": "python",
   "nbconvert_exporter": "python",
   "pygments_lexer": "ipython3",
   "version": "3.11.5"
  }
 },
 "nbformat": 4,
 "nbformat_minor": 5
}
