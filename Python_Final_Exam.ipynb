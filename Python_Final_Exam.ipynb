{
  "nbformat": 4,
  "nbformat_minor": 0,
  "metadata": {
    "colab": {
      "provenance": [],
      "authorship_tag": "ABX9TyOw3kwP/QfPKZa+Cg4OB5cv",
      "include_colab_link": true
    },
    "kernelspec": {
      "name": "python3",
      "display_name": "Python 3"
    },
    "language_info": {
      "name": "python"
    }
  },
  "cells": [
    {
      "cell_type": "markdown",
      "metadata": {
        "id": "view-in-github",
        "colab_type": "text"
      },
      "source": [
        "<a href=\"https://colab.research.google.com/github/DHANUSH696/assignmentnj/blob/main/Python_Final_Exam.ipynb\" target=\"_parent\"><img src=\"https://colab.research.google.com/assets/colab-badge.svg\" alt=\"Open In Colab\"/></a>"
      ]
    },
    {
      "cell_type": "markdown",
      "source": [],
      "metadata": {
        "id": "_I1h9Oaek7oS"
      }
    },
    {
      "cell_type": "markdown",
      "source": [
        "program 1"
      ],
      "metadata": {
        "id": "ePz7athplChg"
      }
    },
    {
      "cell_type": "code",
      "execution_count": 20,
      "metadata": {
        "colab": {
          "base_uri": "https://localhost:8080/"
        },
        "id": "B8UC3EvzGgvL",
        "outputId": "ab98bf77-4520-46a2-fd28-4b369abe9c50"
      },
      "outputs": [
        {
          "output_type": "stream",
          "name": "stdout",
          "text": [
            "The 4x4 matrix is:\n",
            "1 2 3 4\n",
            "5 6 7 8\n",
            "9 10 11 12\n",
            "13 14 15 16\n"
          ]
        }
      ],
      "source": [
        "# Function to print a 4x4 matrix\n",
        "def print_matrix(matrix):\n",
        "    for row in matrix:\n",
        "        print(' '.join(map(str, row)))\n",
        "\n",
        "# Creating a 4x4 matrix using a list of lists\n",
        "matrix = [\n",
        "    [1, 2, 3, 4],\n",
        "    [5, 6, 7, 8],\n",
        "    [9, 10, 11, 12],\n",
        "    [13, 14, 15, 16]\n",
        "]\n",
        "\n",
        "# Printing the matrix\n",
        "print(\"The 4x4 matrix is:\")\n",
        "print_matrix(matrix)\n"
      ]
    },
    {
      "cell_type": "markdown",
      "source": [
        "Program 2"
      ],
      "metadata": {
        "id": "Qf0viWyIlGtF"
      }
    },
    {
      "cell_type": "code",
      "source": [
        "# Function to find odd numbers in a list\n",
        "def find_odd_numbers(numbers):\n",
        "    odd_numbers = [num for num in numbers if num % 2 != 0]\n",
        "    return odd_numbers\n",
        "\n",
        "# Input: Taking a list of numbers from the user\n",
        "user_input = input(\"Enter a list of numbers separated by spaces: \")\n",
        "numbers = list(map(int, user_input.split()))\n",
        "\n",
        "# Finding odd numbers\n",
        "odd_numbers = find_odd_numbers(numbers)\n",
        "\n",
        "# Printing the odd numbers\n",
        "print(\"Odd numbers in the list are:\", odd_numbers)\n"
      ],
      "metadata": {
        "colab": {
          "base_uri": "https://localhost:8080/"
        },
        "id": "ifcrwMohG2gn",
        "outputId": "6f6aa473-ca67-4681-b262-4a6d89231090"
      },
      "execution_count": 21,
      "outputs": [
        {
          "output_type": "stream",
          "name": "stdout",
          "text": [
            "Enter a list of numbers separated by spaces: 1 2 3 4 5 6 7 8 9\n",
            "Odd numbers in the list are: [1, 3, 5, 7, 9]\n"
          ]
        }
      ]
    },
    {
      "cell_type": "markdown",
      "source": [
        "program 3"
      ],
      "metadata": {
        "id": "Plq8XE5glI6-"
      }
    },
    {
      "cell_type": "code",
      "source": [
        "class Employee:\n",
        "    def __init__(self, name, role, salary):\n",
        "        self.name = name\n",
        "        self.role = role\n",
        "        self.salary = salary\n",
        "\n",
        "    def calculate_annual_salary(self):\n",
        "        return self.salary * 12\n",
        "\n",
        "# Example usage:\n",
        "if __name__ == \"__main__\":\n",
        "    # Creating an instance of Employee\n",
        "    employee = Employee(\"John Doe\", \"Software Engineer\", 5000)\n",
        "\n",
        "    # Calculating the annual salary\n",
        "    annual_salary = employee.calculate_annual_salary()\n",
        "\n",
        "    # Printing the details\n",
        "    print(f\"Employee Name: {employee.name}\")\n",
        "    print(f\"Role: {employee.role}\")\n",
        "    print(f\"Monthly Salary: ${employee.salary}\")\n",
        "    print(f\"Annual Salary: ${annual_salary}\")\n"
      ],
      "metadata": {
        "colab": {
          "base_uri": "https://localhost:8080/"
        },
        "id": "mgK0eBvCHPXJ",
        "outputId": "b28dd5e1-d617-4fb5-eaed-64671a637708"
      },
      "execution_count": 25,
      "outputs": [
        {
          "output_type": "stream",
          "name": "stdout",
          "text": [
            "Employee Name: John Doe\n",
            "Role: Software Engineer\n",
            "Monthly Salary: $5000\n",
            "Annual Salary: $60000\n"
          ]
        }
      ]
    },
    {
      "cell_type": "code",
      "source": [],
      "metadata": {
        "id": "2rhZIAETmfJk"
      },
      "execution_count": null,
      "outputs": []
    }
  ]
}